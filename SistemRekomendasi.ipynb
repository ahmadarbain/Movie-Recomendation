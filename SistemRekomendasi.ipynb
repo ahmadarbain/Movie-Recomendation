{
  "nbformat": 4,
  "nbformat_minor": 0,
  "metadata": {
    "colab": {
      "name": "SistemRekomendasi.ipynb",
      "provenance": [],
      "collapsed_sections": [],
      "toc_visible": true
    },
    "kernelspec": {
      "display_name": "Python 3",
      "name": "python3"
    },
    "language_info": {
      "name": "python"
    },
    "accelerator": "GPU"
  },
  "cells": [
    {
      "cell_type": "markdown",
      "metadata": {
        "id": "SNyGZrCW9F9E"
      },
      "source": [
        "# **Data Preparation**"
      ]
    },
    {
      "cell_type": "markdown",
      "metadata": {
        "id": "qcyGefK49LxF"
      },
      "source": [
        "## Load Data"
      ]
    },
    {
      "cell_type": "markdown",
      "metadata": {
        "id": "AkvBsfKw9Pl0"
      },
      "source": [
        "### Menghubungkan ke Google Drive"
      ]
    },
    {
      "cell_type": "code",
      "metadata": {
        "colab": {
          "base_uri": "https://localhost:8080/"
        },
        "id": "d7Bse-6f9EzF",
        "outputId": "975cc555-0096-400d-8193-052c0c0e1c16"
      },
      "source": [
        "from google.colab import drive\n",
        "\n",
        "drive.mount('/content/drive')"
      ],
      "execution_count": 1,
      "outputs": [
        {
          "output_type": "stream",
          "name": "stdout",
          "text": [
            "Go to this URL in a browser: https://accounts.google.com/o/oauth2/auth?client_id=947318989803-6bn6qk8qdgf4n4g3pfee6491hc0brc4i.apps.googleusercontent.com&redirect_uri=urn%3aietf%3awg%3aoauth%3a2.0%3aoob&scope=email%20https%3a%2f%2fwww.googleapis.com%2fauth%2fdocs.test%20https%3a%2f%2fwww.googleapis.com%2fauth%2fdrive%20https%3a%2f%2fwww.googleapis.com%2fauth%2fdrive.photos.readonly%20https%3a%2f%2fwww.googleapis.com%2fauth%2fpeopleapi.readonly%20https%3a%2f%2fwww.googleapis.com%2fauth%2fdrive.activity.readonly%20https%3a%2f%2fwww.googleapis.com%2fauth%2fexperimentsandconfigs%20https%3a%2f%2fwww.googleapis.com%2fauth%2fphotos.native&response_type=code\n",
            "\n",
            "Enter your authorization code:\n",
            "4/1AX4XfWjEn7UXwiFNf55BhSslfeomE6MKmBopDP_7KbyPw901cMq2VKqAZN4\n",
            "Mounted at /content/drive\n"
          ]
        }
      ]
    },
    {
      "cell_type": "markdown",
      "metadata": {
        "id": "C29k6caE9rdh"
      },
      "source": [
        "## Download Dataset Kaggle"
      ]
    },
    {
      "cell_type": "markdown",
      "metadata": {
        "id": "5uYIxSUR91Jj"
      },
      "source": [
        "### Memasang(*Install*) Kaggle"
      ]
    },
    {
      "cell_type": "code",
      "metadata": {
        "id": "g0H6bYfP9xn3"
      },
      "source": [
        "! pip install -q kaggle"
      ],
      "execution_count": 2,
      "outputs": []
    },
    {
      "cell_type": "markdown",
      "metadata": {
        "id": "PGpIR9CF94zl"
      },
      "source": [
        "### Change Directory"
      ]
    },
    {
      "cell_type": "code",
      "metadata": {
        "colab": {
          "base_uri": "https://localhost:8080/"
        },
        "id": "rDbGkfFf9816",
        "outputId": "808bd7cd-ee6e-4993-c974-333d848f4dfa"
      },
      "source": [
        "%cd /content/drive/MyDrive/Dataset/Kaggle"
      ],
      "execution_count": 3,
      "outputs": [
        {
          "output_type": "stream",
          "name": "stdout",
          "text": [
            "/content/drive/MyDrive/Dataset/Kaggle\n"
          ]
        }
      ]
    },
    {
      "cell_type": "markdown",
      "metadata": {
        "id": "1LgBdu-R-MwW"
      },
      "source": [
        "### Membuat Folder Film Rekomendasi"
      ]
    },
    {
      "cell_type": "code",
      "metadata": {
        "id": "vmlUlG33-LP2",
        "colab": {
          "base_uri": "https://localhost:8080/"
        },
        "outputId": "dee035da-bdf1-47fa-cda5-1a12dd16df82"
      },
      "source": [
        "!mkdir '/content/drive/MyDrive/Dataset/Kaggle/Film Rekomendation'"
      ],
      "execution_count": 4,
      "outputs": [
        {
          "output_type": "stream",
          "name": "stdout",
          "text": [
            "mkdir: cannot create directory ‘/content/drive/MyDrive/Dataset/Kaggle/Film Rekomendation’: File exists\n"
          ]
        }
      ]
    },
    {
      "cell_type": "markdown",
      "metadata": {
        "id": "Ymdj2Mjv_Eaf"
      },
      "source": [
        "### Masuk ke folder kerja Film Recomendation"
      ]
    },
    {
      "cell_type": "code",
      "metadata": {
        "colab": {
          "base_uri": "https://localhost:8080/"
        },
        "id": "if-JQs6X_BaG",
        "outputId": "c3eb84a7-3b26-4393-8ccf-365f8d5f4363"
      },
      "source": [
        "%cd /content/drive/MyDrive/Dataset/Kaggle/Film Rekomendation"
      ],
      "execution_count": 5,
      "outputs": [
        {
          "output_type": "stream",
          "name": "stdout",
          "text": [
            "/content/drive/MyDrive/Dataset/Kaggle/Film Rekomendation\n"
          ]
        }
      ]
    },
    {
      "cell_type": "markdown",
      "metadata": {
        "id": "pwXMdtZt_NR3"
      },
      "source": [
        "### Mengunggah API Kaggle ke folder kerja"
      ]
    },
    {
      "cell_type": "code",
      "metadata": {
        "colab": {
          "resources": {
            "http://localhost:8080/nbextensions/google.colab/files.js": {
              "data": "Ly8gQ29weXJpZ2h0IDIwMTcgR29vZ2xlIExMQwovLwovLyBMaWNlbnNlZCB1bmRlciB0aGUgQXBhY2hlIExpY2Vuc2UsIFZlcnNpb24gMi4wICh0aGUgIkxpY2Vuc2UiKTsKLy8geW91IG1heSBub3QgdXNlIHRoaXMgZmlsZSBleGNlcHQgaW4gY29tcGxpYW5jZSB3aXRoIHRoZSBMaWNlbnNlLgovLyBZb3UgbWF5IG9idGFpbiBhIGNvcHkgb2YgdGhlIExpY2Vuc2UgYXQKLy8KLy8gICAgICBodHRwOi8vd3d3LmFwYWNoZS5vcmcvbGljZW5zZXMvTElDRU5TRS0yLjAKLy8KLy8gVW5sZXNzIHJlcXVpcmVkIGJ5IGFwcGxpY2FibGUgbGF3IG9yIGFncmVlZCB0byBpbiB3cml0aW5nLCBzb2Z0d2FyZQovLyBkaXN0cmlidXRlZCB1bmRlciB0aGUgTGljZW5zZSBpcyBkaXN0cmlidXRlZCBvbiBhbiAiQVMgSVMiIEJBU0lTLAovLyBXSVRIT1VUIFdBUlJBTlRJRVMgT1IgQ09ORElUSU9OUyBPRiBBTlkgS0lORCwgZWl0aGVyIGV4cHJlc3Mgb3IgaW1wbGllZC4KLy8gU2VlIHRoZSBMaWNlbnNlIGZvciB0aGUgc3BlY2lmaWMgbGFuZ3VhZ2UgZ292ZXJuaW5nIHBlcm1pc3Npb25zIGFuZAovLyBsaW1pdGF0aW9ucyB1bmRlciB0aGUgTGljZW5zZS4KCi8qKgogKiBAZmlsZW92ZXJ2aWV3IEhlbHBlcnMgZm9yIGdvb2dsZS5jb2xhYiBQeXRob24gbW9kdWxlLgogKi8KKGZ1bmN0aW9uKHNjb3BlKSB7CmZ1bmN0aW9uIHNwYW4odGV4dCwgc3R5bGVBdHRyaWJ1dGVzID0ge30pIHsKICBjb25zdCBlbGVtZW50ID0gZG9jdW1lbnQuY3JlYXRlRWxlbWVudCgnc3BhbicpOwogIGVsZW1lbnQudGV4dENvbnRlbnQgPSB0ZXh0OwogIGZvciAoY29uc3Qga2V5IG9mIE9iamVjdC5rZXlzKHN0eWxlQXR0cmlidXRlcykpIHsKICAgIGVsZW1lbnQuc3R5bGVba2V5XSA9IHN0eWxlQXR0cmlidXRlc1trZXldOwogIH0KICByZXR1cm4gZWxlbWVudDsKfQoKLy8gTWF4IG51bWJlciBvZiBieXRlcyB3aGljaCB3aWxsIGJlIHVwbG9hZGVkIGF0IGEgdGltZS4KY29uc3QgTUFYX1BBWUxPQURfU0laRSA9IDEwMCAqIDEwMjQ7CgpmdW5jdGlvbiBfdXBsb2FkRmlsZXMoaW5wdXRJZCwgb3V0cHV0SWQpIHsKICBjb25zdCBzdGVwcyA9IHVwbG9hZEZpbGVzU3RlcChpbnB1dElkLCBvdXRwdXRJZCk7CiAgY29uc3Qgb3V0cHV0RWxlbWVudCA9IGRvY3VtZW50LmdldEVsZW1lbnRCeUlkKG91dHB1dElkKTsKICAvLyBDYWNoZSBzdGVwcyBvbiB0aGUgb3V0cHV0RWxlbWVudCB0byBtYWtlIGl0IGF2YWlsYWJsZSBmb3IgdGhlIG5leHQgY2FsbAogIC8vIHRvIHVwbG9hZEZpbGVzQ29udGludWUgZnJvbSBQeXRob24uCiAgb3V0cHV0RWxlbWVudC5zdGVwcyA9IHN0ZXBzOwoKICByZXR1cm4gX3VwbG9hZEZpbGVzQ29udGludWUob3V0cHV0SWQpOwp9CgovLyBUaGlzIGlzIHJvdWdobHkgYW4gYXN5bmMgZ2VuZXJhdG9yIChub3Qgc3VwcG9ydGVkIGluIHRoZSBicm93c2VyIHlldCksCi8vIHdoZXJlIHRoZXJlIGFyZSBtdWx0aXBsZSBhc3luY2hyb25vdXMgc3RlcHMgYW5kIHRoZSBQeXRob24gc2lkZSBpcyBnb2luZwovLyB0byBwb2xsIGZvciBjb21wbGV0aW9uIG9mIGVhY2ggc3RlcC4KLy8gVGhpcyB1c2VzIGEgUHJvbWlzZSB0byBibG9jayB0aGUgcHl0aG9uIHNpZGUgb24gY29tcGxldGlvbiBvZiBlYWNoIHN0ZXAsCi8vIHRoZW4gcGFzc2VzIHRoZSByZXN1bHQgb2YgdGhlIHByZXZpb3VzIHN0ZXAgYXMgdGhlIGlucHV0IHRvIHRoZSBuZXh0IHN0ZXAuCmZ1bmN0aW9uIF91cGxvYWRGaWxlc0NvbnRpbnVlKG91dHB1dElkKSB7CiAgY29uc3Qgb3V0cHV0RWxlbWVudCA9IGRvY3VtZW50LmdldEVsZW1lbnRCeUlkKG91dHB1dElkKTsKICBjb25zdCBzdGVwcyA9IG91dHB1dEVsZW1lbnQuc3RlcHM7CgogIGNvbnN0IG5leHQgPSBzdGVwcy5uZXh0KG91dHB1dEVsZW1lbnQubGFzdFByb21pc2VWYWx1ZSk7CiAgcmV0dXJuIFByb21pc2UucmVzb2x2ZShuZXh0LnZhbHVlLnByb21pc2UpLnRoZW4oKHZhbHVlKSA9PiB7CiAgICAvLyBDYWNoZSB0aGUgbGFzdCBwcm9taXNlIHZhbHVlIHRvIG1ha2UgaXQgYXZhaWxhYmxlIHRvIHRoZSBuZXh0CiAgICAvLyBzdGVwIG9mIHRoZSBnZW5lcmF0b3IuCiAgICBvdXRwdXRFbGVtZW50Lmxhc3RQcm9taXNlVmFsdWUgPSB2YWx1ZTsKICAgIHJldHVybiBuZXh0LnZhbHVlLnJlc3BvbnNlOwogIH0pOwp9CgovKioKICogR2VuZXJhdG9yIGZ1bmN0aW9uIHdoaWNoIGlzIGNhbGxlZCBiZXR3ZWVuIGVhY2ggYXN5bmMgc3RlcCBvZiB0aGUgdXBsb2FkCiAqIHByb2Nlc3MuCiAqIEBwYXJhbSB7c3RyaW5nfSBpbnB1dElkIEVsZW1lbnQgSUQgb2YgdGhlIGlucHV0IGZpbGUgcGlja2VyIGVsZW1lbnQuCiAqIEBwYXJhbSB7c3RyaW5nfSBvdXRwdXRJZCBFbGVtZW50IElEIG9mIHRoZSBvdXRwdXQgZGlzcGxheS4KICogQHJldHVybiB7IUl0ZXJhYmxlPCFPYmplY3Q+fSBJdGVyYWJsZSBvZiBuZXh0IHN0ZXBzLgogKi8KZnVuY3Rpb24qIHVwbG9hZEZpbGVzU3RlcChpbnB1dElkLCBvdXRwdXRJZCkgewogIGNvbnN0IGlucHV0RWxlbWVudCA9IGRvY3VtZW50LmdldEVsZW1lbnRCeUlkKGlucHV0SWQpOwogIGlucHV0RWxlbWVudC5kaXNhYmxlZCA9IGZhbHNlOwoKICBjb25zdCBvdXRwdXRFbGVtZW50ID0gZG9jdW1lbnQuZ2V0RWxlbWVudEJ5SWQob3V0cHV0SWQpOwogIG91dHB1dEVsZW1lbnQuaW5uZXJIVE1MID0gJyc7CgogIGNvbnN0IHBpY2tlZFByb21pc2UgPSBuZXcgUHJvbWlzZSgocmVzb2x2ZSkgPT4gewogICAgaW5wdXRFbGVtZW50LmFkZEV2ZW50TGlzdGVuZXIoJ2NoYW5nZScsIChlKSA9PiB7CiAgICAgIHJlc29sdmUoZS50YXJnZXQuZmlsZXMpOwogICAgfSk7CiAgfSk7CgogIGNvbnN0IGNhbmNlbCA9IGRvY3VtZW50LmNyZWF0ZUVsZW1lbnQoJ2J1dHRvbicpOwogIGlucHV0RWxlbWVudC5wYXJlbnRFbGVtZW50LmFwcGVuZENoaWxkKGNhbmNlbCk7CiAgY2FuY2VsLnRleHRDb250ZW50ID0gJ0NhbmNlbCB1cGxvYWQnOwogIGNvbnN0IGNhbmNlbFByb21pc2UgPSBuZXcgUHJvbWlzZSgocmVzb2x2ZSkgPT4gewogICAgY2FuY2VsLm9uY2xpY2sgPSAoKSA9PiB7CiAgICAgIHJlc29sdmUobnVsbCk7CiAgICB9OwogIH0pOwoKICAvLyBXYWl0IGZvciB0aGUgdXNlciB0byBwaWNrIHRoZSBmaWxlcy4KICBjb25zdCBmaWxlcyA9IHlpZWxkIHsKICAgIHByb21pc2U6IFByb21pc2UucmFjZShbcGlja2VkUHJvbWlzZSwgY2FuY2VsUHJvbWlzZV0pLAogICAgcmVzcG9uc2U6IHsKICAgICAgYWN0aW9uOiAnc3RhcnRpbmcnLAogICAgfQogIH07CgogIGNhbmNlbC5yZW1vdmUoKTsKCiAgLy8gRGlzYWJsZSB0aGUgaW5wdXQgZWxlbWVudCBzaW5jZSBmdXJ0aGVyIHBpY2tzIGFyZSBub3QgYWxsb3dlZC4KICBpbnB1dEVsZW1lbnQuZGlzYWJsZWQgPSB0cnVlOwoKICBpZiAoIWZpbGVzKSB7CiAgICByZXR1cm4gewogICAgICByZXNwb25zZTogewogICAgICAgIGFjdGlvbjogJ2NvbXBsZXRlJywKICAgICAgfQogICAgfTsKICB9CgogIGZvciAoY29uc3QgZmlsZSBvZiBmaWxlcykgewogICAgY29uc3QgbGkgPSBkb2N1bWVudC5jcmVhdGVFbGVtZW50KCdsaScpOwogICAgbGkuYXBwZW5kKHNwYW4oZmlsZS5uYW1lLCB7Zm9udFdlaWdodDogJ2JvbGQnfSkpOwogICAgbGkuYXBwZW5kKHNwYW4oCiAgICAgICAgYCgke2ZpbGUudHlwZSB8fCAnbi9hJ30pIC0gJHtmaWxlLnNpemV9IGJ5dGVzLCBgICsKICAgICAgICBgbGFzdCBtb2RpZmllZDogJHsKICAgICAgICAgICAgZmlsZS5sYXN0TW9kaWZpZWREYXRlID8gZmlsZS5sYXN0TW9kaWZpZWREYXRlLnRvTG9jYWxlRGF0ZVN0cmluZygpIDoKICAgICAgICAgICAgICAgICAgICAgICAgICAgICAgICAgICAgJ24vYSd9IC0gYCkpOwogICAgY29uc3QgcGVyY2VudCA9IHNwYW4oJzAlIGRvbmUnKTsKICAgIGxpLmFwcGVuZENoaWxkKHBlcmNlbnQpOwoKICAgIG91dHB1dEVsZW1lbnQuYXBwZW5kQ2hpbGQobGkpOwoKICAgIGNvbnN0IGZpbGVEYXRhUHJvbWlzZSA9IG5ldyBQcm9taXNlKChyZXNvbHZlKSA9PiB7CiAgICAgIGNvbnN0IHJlYWRlciA9IG5ldyBGaWxlUmVhZGVyKCk7CiAgICAgIHJlYWRlci5vbmxvYWQgPSAoZSkgPT4gewogICAgICAgIHJlc29sdmUoZS50YXJnZXQucmVzdWx0KTsKICAgICAgfTsKICAgICAgcmVhZGVyLnJlYWRBc0FycmF5QnVmZmVyKGZpbGUpOwogICAgfSk7CiAgICAvLyBXYWl0IGZvciB0aGUgZGF0YSB0byBiZSByZWFkeS4KICAgIGxldCBmaWxlRGF0YSA9IHlpZWxkIHsKICAgICAgcHJvbWlzZTogZmlsZURhdGFQcm9taXNlLAogICAgICByZXNwb25zZTogewogICAgICAgIGFjdGlvbjogJ2NvbnRpbnVlJywKICAgICAgfQogICAgfTsKCiAgICAvLyBVc2UgYSBjaHVua2VkIHNlbmRpbmcgdG8gYXZvaWQgbWVzc2FnZSBzaXplIGxpbWl0cy4gU2VlIGIvNjIxMTU2NjAuCiAgICBsZXQgcG9zaXRpb24gPSAwOwogICAgZG8gewogICAgICBjb25zdCBsZW5ndGggPSBNYXRoLm1pbihmaWxlRGF0YS5ieXRlTGVuZ3RoIC0gcG9zaXRpb24sIE1BWF9QQVlMT0FEX1NJWkUpOwogICAgICBjb25zdCBjaHVuayA9IG5ldyBVaW50OEFycmF5KGZpbGVEYXRhLCBwb3NpdGlvbiwgbGVuZ3RoKTsKICAgICAgcG9zaXRpb24gKz0gbGVuZ3RoOwoKICAgICAgY29uc3QgYmFzZTY0ID0gYnRvYShTdHJpbmcuZnJvbUNoYXJDb2RlLmFwcGx5KG51bGwsIGNodW5rKSk7CiAgICAgIHlpZWxkIHsKICAgICAgICByZXNwb25zZTogewogICAgICAgICAgYWN0aW9uOiAnYXBwZW5kJywKICAgICAgICAgIGZpbGU6IGZpbGUubmFtZSwKICAgICAgICAgIGRhdGE6IGJhc2U2NCwKICAgICAgICB9LAogICAgICB9OwoKICAgICAgbGV0IHBlcmNlbnREb25lID0gZmlsZURhdGEuYnl0ZUxlbmd0aCA9PT0gMCA/CiAgICAgICAgICAxMDAgOgogICAgICAgICAgTWF0aC5yb3VuZCgocG9zaXRpb24gLyBmaWxlRGF0YS5ieXRlTGVuZ3RoKSAqIDEwMCk7CiAgICAgIHBlcmNlbnQudGV4dENvbnRlbnQgPSBgJHtwZXJjZW50RG9uZX0lIGRvbmVgOwoKICAgIH0gd2hpbGUgKHBvc2l0aW9uIDwgZmlsZURhdGEuYnl0ZUxlbmd0aCk7CiAgfQoKICAvLyBBbGwgZG9uZS4KICB5aWVsZCB7CiAgICByZXNwb25zZTogewogICAgICBhY3Rpb246ICdjb21wbGV0ZScsCiAgICB9CiAgfTsKfQoKc2NvcGUuZ29vZ2xlID0gc2NvcGUuZ29vZ2xlIHx8IHt9OwpzY29wZS5nb29nbGUuY29sYWIgPSBzY29wZS5nb29nbGUuY29sYWIgfHwge307CnNjb3BlLmdvb2dsZS5jb2xhYi5fZmlsZXMgPSB7CiAgX3VwbG9hZEZpbGVzLAogIF91cGxvYWRGaWxlc0NvbnRpbnVlLAp9Owp9KShzZWxmKTsK",
              "ok": true,
              "headers": [
                [
                  "content-type",
                  "application/javascript"
                ]
              ],
              "status": 200,
              "status_text": ""
            }
          },
          "base_uri": "https://localhost:8080/",
          "height": 55
        },
        "id": "9-jls8ki_ScV",
        "outputId": "effc4e03-89aa-47e3-960f-00848bdbce85"
      },
      "source": [
        "from google.colab import files\n",
        "\n",
        "files.upload()"
      ],
      "execution_count": 6,
      "outputs": [
        {
          "output_type": "display_data",
          "data": {
            "text/html": [
              "\n",
              "     <input type=\"file\" id=\"files-55bcf778-88c4-49c8-9e85-11e3c358dc91\" name=\"files[]\" multiple disabled\n",
              "        style=\"border:none\" />\n",
              "     <output id=\"result-55bcf778-88c4-49c8-9e85-11e3c358dc91\">\n",
              "      Upload widget is only available when the cell has been executed in the\n",
              "      current browser session. Please rerun this cell to enable.\n",
              "      </output>\n",
              "      <script src=\"/nbextensions/google.colab/files.js\"></script> "
            ],
            "text/plain": [
              "<IPython.core.display.HTML object>"
            ]
          },
          "metadata": {}
        },
        {
          "output_type": "execute_result",
          "data": {
            "text/plain": [
              "{}"
            ]
          },
          "metadata": {},
          "execution_count": 6
        }
      ]
    },
    {
      "cell_type": "markdown",
      "metadata": {
        "id": "OyWOrq9v_by4"
      },
      "source": [
        "### Konfigurasi ke path \"Kaggle.json\""
      ]
    },
    {
      "cell_type": "code",
      "metadata": {
        "id": "hWdHfSZN_izK"
      },
      "source": [
        "import os\n",
        "os.environ['KAGGLE_CONFIG_DIR'] = \"/content/drive/MyDrive/Dataset/Kaggle/Film Rekomendation\""
      ],
      "execution_count": 7,
      "outputs": []
    },
    {
      "cell_type": "markdown",
      "metadata": {
        "id": "oeHjJY_h_o4U"
      },
      "source": [
        "### Download Dataset dari Kaggle"
      ]
    },
    {
      "cell_type": "code",
      "metadata": {
        "colab": {
          "base_uri": "https://localhost:8080/"
        },
        "id": "z5jRNCHP_slm",
        "outputId": "6bb27dfe-bc5b-4871-9309-0d4065905b7a"
      },
      "source": [
        "!kaggle datasets download -d rounakbanik/the-movies-dataset"
      ],
      "execution_count": 8,
      "outputs": [
        {
          "output_type": "stream",
          "name": "stdout",
          "text": [
            "the-movies-dataset.zip: Skipping, found more recently modified local copy (use --force to force download)\n"
          ]
        }
      ]
    },
    {
      "cell_type": "markdown",
      "metadata": {
        "id": "crsl4xQNBR5f"
      },
      "source": [
        "### Unzip Dataset"
      ]
    },
    {
      "cell_type": "code",
      "metadata": {
        "colab": {
          "base_uri": "https://localhost:8080/"
        },
        "id": "oiezf3q_BKv-",
        "outputId": "32ad9954-1b69-41d8-e777-c0bdae1575c8"
      },
      "source": [
        "!unzip '/content/drive/MyDrive/Dataset/Kaggle/Film Rekomendation/the-movies-dataset.zip' -d '/content/drive/MyDrive/Dataset/Kaggle/Film Rekomendation'"
      ],
      "execution_count": 9,
      "outputs": [
        {
          "output_type": "stream",
          "name": "stdout",
          "text": [
            "Archive:  /content/drive/MyDrive/Dataset/Kaggle/Film Rekomendation/the-movies-dataset.zip\n",
            "replace /content/drive/MyDrive/Dataset/Kaggle/Film Rekomendation/credits.csv? [y]es, [n]o, [A]ll, [N]one, [r]ename: A\n",
            "  inflating: /content/drive/MyDrive/Dataset/Kaggle/Film Rekomendation/credits.csv  \n",
            "  inflating: /content/drive/MyDrive/Dataset/Kaggle/Film Rekomendation/keywords.csv  \n",
            "  inflating: /content/drive/MyDrive/Dataset/Kaggle/Film Rekomendation/links.csv  \n",
            "  inflating: /content/drive/MyDrive/Dataset/Kaggle/Film Rekomendation/links_small.csv  \n",
            "  inflating: /content/drive/MyDrive/Dataset/Kaggle/Film Rekomendation/movies_metadata.csv  \n",
            "  inflating: /content/drive/MyDrive/Dataset/Kaggle/Film Rekomendation/ratings.csv  \n",
            "  inflating: /content/drive/MyDrive/Dataset/Kaggle/Film Rekomendation/ratings_small.csv  \n"
          ]
        }
      ]
    },
    {
      "cell_type": "markdown",
      "metadata": {
        "id": "1bXdrFrhBsqb"
      },
      "source": [
        "# **Univariate Exploratory Data Analysis**"
      ]
    },
    {
      "cell_type": "markdown",
      "metadata": {
        "id": "NzW979tUBvwt"
      },
      "source": [
        "## Import Library dan Read Dataset CSV"
      ]
    },
    {
      "cell_type": "code",
      "metadata": {
        "id": "DUUn_pJ3CxzL",
        "colab": {
          "base_uri": "https://localhost:8080/"
        },
        "outputId": "d0ca2ffe-2fa0-49af-d4fe-997f2d89f6c6"
      },
      "source": [
        "import numpy as np\n",
        "import pandas as pd\n",
        "import nltk\n",
        "import re\n",
        "re.compile('<title>(.*)</title>')\n",
        "import tensorflow as tf\n",
        "import matplotlib.pyplot as plt\n",
        "\n",
        "from sklearn.feature_extraction.text import TfidfVectorizer\n",
        "from sklearn.metrics.pairwise import linear_kernel\n",
        "from ast import literal_eval\n",
        "nltk.download('stopwords')\n",
        "from nltk.corpus import stopwords\n",
        "from nltk.stem import SnowballStemmer\n",
        "from zipfile import ZipFile\n",
        "from tensorflow import keras\n",
        "from tensorflow.keras import layers\n",
        "from pathlib import Path\n",
        "\n",
        "data1 = pd.read_csv('/content/drive/MyDrive/Dataset/Kaggle/Film Rekomendation/ratings_small.csv')\n",
        "data2 = pd.read_csv('/content/drive/MyDrive/Dataset/Kaggle/Film Rekomendation/movies_metadata.csv')"
      ],
      "execution_count": 10,
      "outputs": [
        {
          "output_type": "stream",
          "name": "stdout",
          "text": [
            "[nltk_data] Downloading package stopwords to /root/nltk_data...\n",
            "[nltk_data]   Unzipping corpora/stopwords.zip.\n"
          ]
        },
        {
          "output_type": "stream",
          "name": "stderr",
          "text": [
            "/usr/local/lib/python3.7/dist-packages/IPython/core/interactiveshell.py:2718: DtypeWarning: Columns (10) have mixed types.Specify dtype option on import or set low_memory=False.\n",
            "  interactivity=interactivity, compiler=compiler, result=result)\n"
          ]
        }
      ]
    },
    {
      "cell_type": "markdown",
      "metadata": {
        "id": "GFWq5wHOHa63"
      },
      "source": [
        "## Melihat Dataset"
      ]
    },
    {
      "cell_type": "markdown",
      "metadata": {
        "id": "0NE_llCpFp_G"
      },
      "source": [
        "### Melihat dataset \"data1\" bagian head  "
      ]
    },
    {
      "cell_type": "code",
      "metadata": {
        "id": "__b2_wVlDApg",
        "colab": {
          "base_uri": "https://localhost:8080/",
          "height": 204
        },
        "outputId": "e5bdbe33-d62a-468a-91a6-609544a7a34f"
      },
      "source": [
        "data1.head()"
      ],
      "execution_count": 11,
      "outputs": [
        {
          "output_type": "execute_result",
          "data": {
            "text/html": [
              "<div>\n",
              "<style scoped>\n",
              "    .dataframe tbody tr th:only-of-type {\n",
              "        vertical-align: middle;\n",
              "    }\n",
              "\n",
              "    .dataframe tbody tr th {\n",
              "        vertical-align: top;\n",
              "    }\n",
              "\n",
              "    .dataframe thead th {\n",
              "        text-align: right;\n",
              "    }\n",
              "</style>\n",
              "<table border=\"1\" class=\"dataframe\">\n",
              "  <thead>\n",
              "    <tr style=\"text-align: right;\">\n",
              "      <th></th>\n",
              "      <th>userId</th>\n",
              "      <th>movieId</th>\n",
              "      <th>rating</th>\n",
              "      <th>timestamp</th>\n",
              "    </tr>\n",
              "  </thead>\n",
              "  <tbody>\n",
              "    <tr>\n",
              "      <th>0</th>\n",
              "      <td>1</td>\n",
              "      <td>31</td>\n",
              "      <td>2.5</td>\n",
              "      <td>1260759144</td>\n",
              "    </tr>\n",
              "    <tr>\n",
              "      <th>1</th>\n",
              "      <td>1</td>\n",
              "      <td>1029</td>\n",
              "      <td>3.0</td>\n",
              "      <td>1260759179</td>\n",
              "    </tr>\n",
              "    <tr>\n",
              "      <th>2</th>\n",
              "      <td>1</td>\n",
              "      <td>1061</td>\n",
              "      <td>3.0</td>\n",
              "      <td>1260759182</td>\n",
              "    </tr>\n",
              "    <tr>\n",
              "      <th>3</th>\n",
              "      <td>1</td>\n",
              "      <td>1129</td>\n",
              "      <td>2.0</td>\n",
              "      <td>1260759185</td>\n",
              "    </tr>\n",
              "    <tr>\n",
              "      <th>4</th>\n",
              "      <td>1</td>\n",
              "      <td>1172</td>\n",
              "      <td>4.0</td>\n",
              "      <td>1260759205</td>\n",
              "    </tr>\n",
              "  </tbody>\n",
              "</table>\n",
              "</div>"
            ],
            "text/plain": [
              "   userId  movieId  rating   timestamp\n",
              "0       1       31     2.5  1260759144\n",
              "1       1     1029     3.0  1260759179\n",
              "2       1     1061     3.0  1260759182\n",
              "3       1     1129     2.0  1260759185\n",
              "4       1     1172     4.0  1260759205"
            ]
          },
          "metadata": {},
          "execution_count": 11
        }
      ]
    },
    {
      "cell_type": "markdown",
      "metadata": {
        "id": "Hu3jrHIHF9As"
      },
      "source": [
        "### Melihat dataset \"data2\" bagian head"
      ]
    },
    {
      "cell_type": "code",
      "metadata": {
        "id": "f_nyajUzRV8T",
        "colab": {
          "base_uri": "https://localhost:8080/",
          "height": 666
        },
        "outputId": "e691e615-5773-49ea-879f-d881a23920cb"
      },
      "source": [
        "data2.head()"
      ],
      "execution_count": 12,
      "outputs": [
        {
          "output_type": "execute_result",
          "data": {
            "text/html": [
              "<div>\n",
              "<style scoped>\n",
              "    .dataframe tbody tr th:only-of-type {\n",
              "        vertical-align: middle;\n",
              "    }\n",
              "\n",
              "    .dataframe tbody tr th {\n",
              "        vertical-align: top;\n",
              "    }\n",
              "\n",
              "    .dataframe thead th {\n",
              "        text-align: right;\n",
              "    }\n",
              "</style>\n",
              "<table border=\"1\" class=\"dataframe\">\n",
              "  <thead>\n",
              "    <tr style=\"text-align: right;\">\n",
              "      <th></th>\n",
              "      <th>adult</th>\n",
              "      <th>belongs_to_collection</th>\n",
              "      <th>budget</th>\n",
              "      <th>genres</th>\n",
              "      <th>homepage</th>\n",
              "      <th>id</th>\n",
              "      <th>imdb_id</th>\n",
              "      <th>original_language</th>\n",
              "      <th>original_title</th>\n",
              "      <th>overview</th>\n",
              "      <th>popularity</th>\n",
              "      <th>poster_path</th>\n",
              "      <th>production_companies</th>\n",
              "      <th>production_countries</th>\n",
              "      <th>release_date</th>\n",
              "      <th>revenue</th>\n",
              "      <th>runtime</th>\n",
              "      <th>spoken_languages</th>\n",
              "      <th>status</th>\n",
              "      <th>tagline</th>\n",
              "      <th>title</th>\n",
              "      <th>video</th>\n",
              "      <th>vote_average</th>\n",
              "      <th>vote_count</th>\n",
              "    </tr>\n",
              "  </thead>\n",
              "  <tbody>\n",
              "    <tr>\n",
              "      <th>0</th>\n",
              "      <td>False</td>\n",
              "      <td>{'id': 10194, 'name': 'Toy Story Collection', ...</td>\n",
              "      <td>30000000</td>\n",
              "      <td>[{'id': 16, 'name': 'Animation'}, {'id': 35, '...</td>\n",
              "      <td>http://toystory.disney.com/toy-story</td>\n",
              "      <td>862</td>\n",
              "      <td>tt0114709</td>\n",
              "      <td>en</td>\n",
              "      <td>Toy Story</td>\n",
              "      <td>Led by Woody, Andy's toys live happily in his ...</td>\n",
              "      <td>21.9469</td>\n",
              "      <td>/rhIRbceoE9lR4veEXuwCC2wARtG.jpg</td>\n",
              "      <td>[{'name': 'Pixar Animation Studios', 'id': 3}]</td>\n",
              "      <td>[{'iso_3166_1': 'US', 'name': 'United States o...</td>\n",
              "      <td>1995-10-30</td>\n",
              "      <td>373554033.0</td>\n",
              "      <td>81.0</td>\n",
              "      <td>[{'iso_639_1': 'en', 'name': 'English'}]</td>\n",
              "      <td>Released</td>\n",
              "      <td>NaN</td>\n",
              "      <td>Toy Story</td>\n",
              "      <td>False</td>\n",
              "      <td>7.7</td>\n",
              "      <td>5415.0</td>\n",
              "    </tr>\n",
              "    <tr>\n",
              "      <th>1</th>\n",
              "      <td>False</td>\n",
              "      <td>NaN</td>\n",
              "      <td>65000000</td>\n",
              "      <td>[{'id': 12, 'name': 'Adventure'}, {'id': 14, '...</td>\n",
              "      <td>NaN</td>\n",
              "      <td>8844</td>\n",
              "      <td>tt0113497</td>\n",
              "      <td>en</td>\n",
              "      <td>Jumanji</td>\n",
              "      <td>When siblings Judy and Peter discover an encha...</td>\n",
              "      <td>17.0155</td>\n",
              "      <td>/vzmL6fP7aPKNKPRTFnZmiUfciyV.jpg</td>\n",
              "      <td>[{'name': 'TriStar Pictures', 'id': 559}, {'na...</td>\n",
              "      <td>[{'iso_3166_1': 'US', 'name': 'United States o...</td>\n",
              "      <td>1995-12-15</td>\n",
              "      <td>262797249.0</td>\n",
              "      <td>104.0</td>\n",
              "      <td>[{'iso_639_1': 'en', 'name': 'English'}, {'iso...</td>\n",
              "      <td>Released</td>\n",
              "      <td>Roll the dice and unleash the excitement!</td>\n",
              "      <td>Jumanji</td>\n",
              "      <td>False</td>\n",
              "      <td>6.9</td>\n",
              "      <td>2413.0</td>\n",
              "    </tr>\n",
              "    <tr>\n",
              "      <th>2</th>\n",
              "      <td>False</td>\n",
              "      <td>{'id': 119050, 'name': 'Grumpy Old Men Collect...</td>\n",
              "      <td>0</td>\n",
              "      <td>[{'id': 10749, 'name': 'Romance'}, {'id': 35, ...</td>\n",
              "      <td>NaN</td>\n",
              "      <td>15602</td>\n",
              "      <td>tt0113228</td>\n",
              "      <td>en</td>\n",
              "      <td>Grumpier Old Men</td>\n",
              "      <td>A family wedding reignites the ancient feud be...</td>\n",
              "      <td>11.7129</td>\n",
              "      <td>/6ksm1sjKMFLbO7UY2i6G1ju9SML.jpg</td>\n",
              "      <td>[{'name': 'Warner Bros.', 'id': 6194}, {'name'...</td>\n",
              "      <td>[{'iso_3166_1': 'US', 'name': 'United States o...</td>\n",
              "      <td>1995-12-22</td>\n",
              "      <td>0.0</td>\n",
              "      <td>101.0</td>\n",
              "      <td>[{'iso_639_1': 'en', 'name': 'English'}]</td>\n",
              "      <td>Released</td>\n",
              "      <td>Still Yelling. Still Fighting. Still Ready for...</td>\n",
              "      <td>Grumpier Old Men</td>\n",
              "      <td>False</td>\n",
              "      <td>6.5</td>\n",
              "      <td>92.0</td>\n",
              "    </tr>\n",
              "    <tr>\n",
              "      <th>3</th>\n",
              "      <td>False</td>\n",
              "      <td>NaN</td>\n",
              "      <td>16000000</td>\n",
              "      <td>[{'id': 35, 'name': 'Comedy'}, {'id': 18, 'nam...</td>\n",
              "      <td>NaN</td>\n",
              "      <td>31357</td>\n",
              "      <td>tt0114885</td>\n",
              "      <td>en</td>\n",
              "      <td>Waiting to Exhale</td>\n",
              "      <td>Cheated on, mistreated and stepped on, the wom...</td>\n",
              "      <td>3.85949</td>\n",
              "      <td>/16XOMpEaLWkrcPqSQqhTmeJuqQl.jpg</td>\n",
              "      <td>[{'name': 'Twentieth Century Fox Film Corporat...</td>\n",
              "      <td>[{'iso_3166_1': 'US', 'name': 'United States o...</td>\n",
              "      <td>1995-12-22</td>\n",
              "      <td>81452156.0</td>\n",
              "      <td>127.0</td>\n",
              "      <td>[{'iso_639_1': 'en', 'name': 'English'}]</td>\n",
              "      <td>Released</td>\n",
              "      <td>Friends are the people who let you be yourself...</td>\n",
              "      <td>Waiting to Exhale</td>\n",
              "      <td>False</td>\n",
              "      <td>6.1</td>\n",
              "      <td>34.0</td>\n",
              "    </tr>\n",
              "    <tr>\n",
              "      <th>4</th>\n",
              "      <td>False</td>\n",
              "      <td>{'id': 96871, 'name': 'Father of the Bride Col...</td>\n",
              "      <td>0</td>\n",
              "      <td>[{'id': 35, 'name': 'Comedy'}]</td>\n",
              "      <td>NaN</td>\n",
              "      <td>11862</td>\n",
              "      <td>tt0113041</td>\n",
              "      <td>en</td>\n",
              "      <td>Father of the Bride Part II</td>\n",
              "      <td>Just when George Banks has recovered from his ...</td>\n",
              "      <td>8.38752</td>\n",
              "      <td>/e64sOI48hQXyru7naBFyssKFxVd.jpg</td>\n",
              "      <td>[{'name': 'Sandollar Productions', 'id': 5842}...</td>\n",
              "      <td>[{'iso_3166_1': 'US', 'name': 'United States o...</td>\n",
              "      <td>1995-02-10</td>\n",
              "      <td>76578911.0</td>\n",
              "      <td>106.0</td>\n",
              "      <td>[{'iso_639_1': 'en', 'name': 'English'}]</td>\n",
              "      <td>Released</td>\n",
              "      <td>Just When His World Is Back To Normal... He's ...</td>\n",
              "      <td>Father of the Bride Part II</td>\n",
              "      <td>False</td>\n",
              "      <td>5.7</td>\n",
              "      <td>173.0</td>\n",
              "    </tr>\n",
              "  </tbody>\n",
              "</table>\n",
              "</div>"
            ],
            "text/plain": [
              "   adult  ... vote_count\n",
              "0  False  ...     5415.0\n",
              "1  False  ...     2413.0\n",
              "2  False  ...       92.0\n",
              "3  False  ...       34.0\n",
              "4  False  ...      173.0\n",
              "\n",
              "[5 rows x 24 columns]"
            ]
          },
          "metadata": {},
          "execution_count": 12
        }
      ]
    },
    {
      "cell_type": "markdown",
      "metadata": {
        "id": "WVXd8UT4GILR"
      },
      "source": [
        "## Melakukan konfigurasi pada kolom genres\n",
        "\n",
        "Mengambil bagian genres nya saja yaitu menghapus variabel id berserta nilainya dan juga menghapus variabel nama"
      ]
    },
    {
      "cell_type": "code",
      "metadata": {
        "id": "WRiB1JlyEUZ4"
      },
      "source": [
        "data2['genres'] = data2['genres'].fillna('[]').apply(literal_eval).apply(lambda x: [i['name'] for i in x]if isinstance(x,list) else [])"
      ],
      "execution_count": 13,
      "outputs": []
    },
    {
      "cell_type": "markdown",
      "metadata": {
        "id": "QyNL6vNbGopy"
      },
      "source": [
        "## Melihat dataset \"data2\" setelah dilakukan perubahan"
      ]
    },
    {
      "cell_type": "code",
      "metadata": {
        "id": "aBqed3clGyNz",
        "colab": {
          "base_uri": "https://localhost:8080/",
          "height": 666
        },
        "outputId": "f81d6379-c759-4afb-9fc9-cae38050a893"
      },
      "source": [
        "data2.head()"
      ],
      "execution_count": 14,
      "outputs": [
        {
          "output_type": "execute_result",
          "data": {
            "text/html": [
              "<div>\n",
              "<style scoped>\n",
              "    .dataframe tbody tr th:only-of-type {\n",
              "        vertical-align: middle;\n",
              "    }\n",
              "\n",
              "    .dataframe tbody tr th {\n",
              "        vertical-align: top;\n",
              "    }\n",
              "\n",
              "    .dataframe thead th {\n",
              "        text-align: right;\n",
              "    }\n",
              "</style>\n",
              "<table border=\"1\" class=\"dataframe\">\n",
              "  <thead>\n",
              "    <tr style=\"text-align: right;\">\n",
              "      <th></th>\n",
              "      <th>adult</th>\n",
              "      <th>belongs_to_collection</th>\n",
              "      <th>budget</th>\n",
              "      <th>genres</th>\n",
              "      <th>homepage</th>\n",
              "      <th>id</th>\n",
              "      <th>imdb_id</th>\n",
              "      <th>original_language</th>\n",
              "      <th>original_title</th>\n",
              "      <th>overview</th>\n",
              "      <th>popularity</th>\n",
              "      <th>poster_path</th>\n",
              "      <th>production_companies</th>\n",
              "      <th>production_countries</th>\n",
              "      <th>release_date</th>\n",
              "      <th>revenue</th>\n",
              "      <th>runtime</th>\n",
              "      <th>spoken_languages</th>\n",
              "      <th>status</th>\n",
              "      <th>tagline</th>\n",
              "      <th>title</th>\n",
              "      <th>video</th>\n",
              "      <th>vote_average</th>\n",
              "      <th>vote_count</th>\n",
              "    </tr>\n",
              "  </thead>\n",
              "  <tbody>\n",
              "    <tr>\n",
              "      <th>0</th>\n",
              "      <td>False</td>\n",
              "      <td>{'id': 10194, 'name': 'Toy Story Collection', ...</td>\n",
              "      <td>30000000</td>\n",
              "      <td>[Animation, Comedy, Family]</td>\n",
              "      <td>http://toystory.disney.com/toy-story</td>\n",
              "      <td>862</td>\n",
              "      <td>tt0114709</td>\n",
              "      <td>en</td>\n",
              "      <td>Toy Story</td>\n",
              "      <td>Led by Woody, Andy's toys live happily in his ...</td>\n",
              "      <td>21.9469</td>\n",
              "      <td>/rhIRbceoE9lR4veEXuwCC2wARtG.jpg</td>\n",
              "      <td>[{'name': 'Pixar Animation Studios', 'id': 3}]</td>\n",
              "      <td>[{'iso_3166_1': 'US', 'name': 'United States o...</td>\n",
              "      <td>1995-10-30</td>\n",
              "      <td>373554033.0</td>\n",
              "      <td>81.0</td>\n",
              "      <td>[{'iso_639_1': 'en', 'name': 'English'}]</td>\n",
              "      <td>Released</td>\n",
              "      <td>NaN</td>\n",
              "      <td>Toy Story</td>\n",
              "      <td>False</td>\n",
              "      <td>7.7</td>\n",
              "      <td>5415.0</td>\n",
              "    </tr>\n",
              "    <tr>\n",
              "      <th>1</th>\n",
              "      <td>False</td>\n",
              "      <td>NaN</td>\n",
              "      <td>65000000</td>\n",
              "      <td>[Adventure, Fantasy, Family]</td>\n",
              "      <td>NaN</td>\n",
              "      <td>8844</td>\n",
              "      <td>tt0113497</td>\n",
              "      <td>en</td>\n",
              "      <td>Jumanji</td>\n",
              "      <td>When siblings Judy and Peter discover an encha...</td>\n",
              "      <td>17.0155</td>\n",
              "      <td>/vzmL6fP7aPKNKPRTFnZmiUfciyV.jpg</td>\n",
              "      <td>[{'name': 'TriStar Pictures', 'id': 559}, {'na...</td>\n",
              "      <td>[{'iso_3166_1': 'US', 'name': 'United States o...</td>\n",
              "      <td>1995-12-15</td>\n",
              "      <td>262797249.0</td>\n",
              "      <td>104.0</td>\n",
              "      <td>[{'iso_639_1': 'en', 'name': 'English'}, {'iso...</td>\n",
              "      <td>Released</td>\n",
              "      <td>Roll the dice and unleash the excitement!</td>\n",
              "      <td>Jumanji</td>\n",
              "      <td>False</td>\n",
              "      <td>6.9</td>\n",
              "      <td>2413.0</td>\n",
              "    </tr>\n",
              "    <tr>\n",
              "      <th>2</th>\n",
              "      <td>False</td>\n",
              "      <td>{'id': 119050, 'name': 'Grumpy Old Men Collect...</td>\n",
              "      <td>0</td>\n",
              "      <td>[Romance, Comedy]</td>\n",
              "      <td>NaN</td>\n",
              "      <td>15602</td>\n",
              "      <td>tt0113228</td>\n",
              "      <td>en</td>\n",
              "      <td>Grumpier Old Men</td>\n",
              "      <td>A family wedding reignites the ancient feud be...</td>\n",
              "      <td>11.7129</td>\n",
              "      <td>/6ksm1sjKMFLbO7UY2i6G1ju9SML.jpg</td>\n",
              "      <td>[{'name': 'Warner Bros.', 'id': 6194}, {'name'...</td>\n",
              "      <td>[{'iso_3166_1': 'US', 'name': 'United States o...</td>\n",
              "      <td>1995-12-22</td>\n",
              "      <td>0.0</td>\n",
              "      <td>101.0</td>\n",
              "      <td>[{'iso_639_1': 'en', 'name': 'English'}]</td>\n",
              "      <td>Released</td>\n",
              "      <td>Still Yelling. Still Fighting. Still Ready for...</td>\n",
              "      <td>Grumpier Old Men</td>\n",
              "      <td>False</td>\n",
              "      <td>6.5</td>\n",
              "      <td>92.0</td>\n",
              "    </tr>\n",
              "    <tr>\n",
              "      <th>3</th>\n",
              "      <td>False</td>\n",
              "      <td>NaN</td>\n",
              "      <td>16000000</td>\n",
              "      <td>[Comedy, Drama, Romance]</td>\n",
              "      <td>NaN</td>\n",
              "      <td>31357</td>\n",
              "      <td>tt0114885</td>\n",
              "      <td>en</td>\n",
              "      <td>Waiting to Exhale</td>\n",
              "      <td>Cheated on, mistreated and stepped on, the wom...</td>\n",
              "      <td>3.85949</td>\n",
              "      <td>/16XOMpEaLWkrcPqSQqhTmeJuqQl.jpg</td>\n",
              "      <td>[{'name': 'Twentieth Century Fox Film Corporat...</td>\n",
              "      <td>[{'iso_3166_1': 'US', 'name': 'United States o...</td>\n",
              "      <td>1995-12-22</td>\n",
              "      <td>81452156.0</td>\n",
              "      <td>127.0</td>\n",
              "      <td>[{'iso_639_1': 'en', 'name': 'English'}]</td>\n",
              "      <td>Released</td>\n",
              "      <td>Friends are the people who let you be yourself...</td>\n",
              "      <td>Waiting to Exhale</td>\n",
              "      <td>False</td>\n",
              "      <td>6.1</td>\n",
              "      <td>34.0</td>\n",
              "    </tr>\n",
              "    <tr>\n",
              "      <th>4</th>\n",
              "      <td>False</td>\n",
              "      <td>{'id': 96871, 'name': 'Father of the Bride Col...</td>\n",
              "      <td>0</td>\n",
              "      <td>[Comedy]</td>\n",
              "      <td>NaN</td>\n",
              "      <td>11862</td>\n",
              "      <td>tt0113041</td>\n",
              "      <td>en</td>\n",
              "      <td>Father of the Bride Part II</td>\n",
              "      <td>Just when George Banks has recovered from his ...</td>\n",
              "      <td>8.38752</td>\n",
              "      <td>/e64sOI48hQXyru7naBFyssKFxVd.jpg</td>\n",
              "      <td>[{'name': 'Sandollar Productions', 'id': 5842}...</td>\n",
              "      <td>[{'iso_3166_1': 'US', 'name': 'United States o...</td>\n",
              "      <td>1995-02-10</td>\n",
              "      <td>76578911.0</td>\n",
              "      <td>106.0</td>\n",
              "      <td>[{'iso_639_1': 'en', 'name': 'English'}]</td>\n",
              "      <td>Released</td>\n",
              "      <td>Just When His World Is Back To Normal... He's ...</td>\n",
              "      <td>Father of the Bride Part II</td>\n",
              "      <td>False</td>\n",
              "      <td>5.7</td>\n",
              "      <td>173.0</td>\n",
              "    </tr>\n",
              "  </tbody>\n",
              "</table>\n",
              "</div>"
            ],
            "text/plain": [
              "   adult  ... vote_count\n",
              "0  False  ...     5415.0\n",
              "1  False  ...     2413.0\n",
              "2  False  ...       92.0\n",
              "3  False  ...       34.0\n",
              "4  False  ...      173.0\n",
              "\n",
              "[5 rows x 24 columns]"
            ]
          },
          "metadata": {},
          "execution_count": 14
        }
      ]
    },
    {
      "cell_type": "markdown",
      "metadata": {
        "id": "fypMnKDaG4ng"
      },
      "source": [
        "## Melihat Data Info"
      ]
    },
    {
      "cell_type": "markdown",
      "metadata": {
        "id": "oK6N_sYuHFp7"
      },
      "source": [
        "### Melihat data info pada data1"
      ]
    },
    {
      "cell_type": "code",
      "metadata": {
        "id": "pDk4BKS3DHnG",
        "colab": {
          "base_uri": "https://localhost:8080/"
        },
        "outputId": "c8345342-e4f4-4e5f-be81-636623e13612"
      },
      "source": [
        "data1.info()"
      ],
      "execution_count": 15,
      "outputs": [
        {
          "output_type": "stream",
          "name": "stdout",
          "text": [
            "<class 'pandas.core.frame.DataFrame'>\n",
            "RangeIndex: 100004 entries, 0 to 100003\n",
            "Data columns (total 4 columns):\n",
            " #   Column     Non-Null Count   Dtype  \n",
            "---  ------     --------------   -----  \n",
            " 0   userId     100004 non-null  int64  \n",
            " 1   movieId    100004 non-null  int64  \n",
            " 2   rating     100004 non-null  float64\n",
            " 3   timestamp  100004 non-null  int64  \n",
            "dtypes: float64(1), int64(3)\n",
            "memory usage: 3.1 MB\n"
          ]
        }
      ]
    },
    {
      "cell_type": "markdown",
      "metadata": {
        "id": "t5AIehSCHIyg"
      },
      "source": [
        "### Melihat data info pada data3"
      ]
    },
    {
      "cell_type": "code",
      "metadata": {
        "id": "WrRc8ROXReXm",
        "colab": {
          "base_uri": "https://localhost:8080/"
        },
        "outputId": "0e9c8015-ea6a-46bc-eaf9-e509915e46a4"
      },
      "source": [
        "data2.info()"
      ],
      "execution_count": 16,
      "outputs": [
        {
          "output_type": "stream",
          "name": "stdout",
          "text": [
            "<class 'pandas.core.frame.DataFrame'>\n",
            "RangeIndex: 45466 entries, 0 to 45465\n",
            "Data columns (total 24 columns):\n",
            " #   Column                 Non-Null Count  Dtype  \n",
            "---  ------                 --------------  -----  \n",
            " 0   adult                  45466 non-null  object \n",
            " 1   belongs_to_collection  4494 non-null   object \n",
            " 2   budget                 45466 non-null  object \n",
            " 3   genres                 45466 non-null  object \n",
            " 4   homepage               7782 non-null   object \n",
            " 5   id                     45466 non-null  object \n",
            " 6   imdb_id                45449 non-null  object \n",
            " 7   original_language      45455 non-null  object \n",
            " 8   original_title         45466 non-null  object \n",
            " 9   overview               44512 non-null  object \n",
            " 10  popularity             45461 non-null  object \n",
            " 11  poster_path            45080 non-null  object \n",
            " 12  production_companies   45463 non-null  object \n",
            " 13  production_countries   45463 non-null  object \n",
            " 14  release_date           45379 non-null  object \n",
            " 15  revenue                45460 non-null  float64\n",
            " 16  runtime                45203 non-null  float64\n",
            " 17  spoken_languages       45460 non-null  object \n",
            " 18  status                 45379 non-null  object \n",
            " 19  tagline                20412 non-null  object \n",
            " 20  title                  45460 non-null  object \n",
            " 21  video                  45460 non-null  object \n",
            " 22  vote_average           45460 non-null  float64\n",
            " 23  vote_count             45460 non-null  float64\n",
            "dtypes: float64(4), object(20)\n",
            "memory usage: 8.3+ MB\n"
          ]
        }
      ]
    },
    {
      "cell_type": "markdown",
      "metadata": {
        "id": "nOAnuts0HO60"
      },
      "source": [
        "## Melihat Jumalah Data Baris dan Kolom"
      ]
    },
    {
      "cell_type": "code",
      "metadata": {
        "id": "r8WhposoDaCg",
        "colab": {
          "base_uri": "https://localhost:8080/"
        },
        "outputId": "940fc845-a4a4-48a2-aefb-1e3a4007993c"
      },
      "source": [
        "print(\"Jumlah dataset pada data1 : \",data1.shape)\n",
        "print(\"============================\")\n",
        "print(\"Jumlah Dataset pada data2 : \",data2.shape)"
      ],
      "execution_count": 17,
      "outputs": [
        {
          "output_type": "stream",
          "name": "stdout",
          "text": [
            "Jumlah dataset pada data1 :  (100004, 4)\n",
            "============================\n",
            "Jumlah Dataset pada data2 :  (45466, 24)\n"
          ]
        }
      ]
    },
    {
      "cell_type": "markdown",
      "metadata": {
        "id": "Ks5g7E85HoVk"
      },
      "source": [
        "## Mengecek Missing Value Dataset "
      ]
    },
    {
      "cell_type": "code",
      "metadata": {
        "id": "6ihqZJn00fy9",
        "colab": {
          "base_uri": "https://localhost:8080/"
        },
        "outputId": "0908d7a3-97db-4826-f04e-21f1ccfa1811"
      },
      "source": [
        "print(\"Dataset 1\")\n",
        "print(data1.isnull().sum())\n",
        "print(\"======================================\")\n",
        "print(\"Dataset 2\")\n",
        "print(data2.isnull().sum())"
      ],
      "execution_count": 18,
      "outputs": [
        {
          "output_type": "stream",
          "name": "stdout",
          "text": [
            "Dataset 1\n",
            "userId       0\n",
            "movieId      0\n",
            "rating       0\n",
            "timestamp    0\n",
            "dtype: int64\n",
            "======================================\n",
            "Dataset 2\n",
            "adult                        0\n",
            "belongs_to_collection    40972\n",
            "budget                       0\n",
            "genres                       0\n",
            "homepage                 37684\n",
            "id                           0\n",
            "imdb_id                     17\n",
            "original_language           11\n",
            "original_title               0\n",
            "overview                   954\n",
            "popularity                   5\n",
            "poster_path                386\n",
            "production_companies         3\n",
            "production_countries         3\n",
            "release_date                87\n",
            "revenue                      6\n",
            "runtime                    263\n",
            "spoken_languages             6\n",
            "status                      87\n",
            "tagline                  25054\n",
            "title                        6\n",
            "video                        6\n",
            "vote_average                 6\n",
            "vote_count                   6\n",
            "dtype: int64\n"
          ]
        }
      ]
    },
    {
      "cell_type": "markdown",
      "metadata": {
        "id": "vthwjr1CCxYY"
      },
      "source": [
        "# **Data Preprocessing**"
      ]
    },
    {
      "cell_type": "markdown",
      "metadata": {
        "id": "WkWhgTqZH2UQ"
      },
      "source": [
        "## Mengubah data list menjadi string"
      ]
    },
    {
      "cell_type": "code",
      "metadata": {
        "id": "Rcaffb0wDoSx"
      },
      "source": [
        "data2[\"gen_list\"] = data2[\"genres\"]\n",
        "data2[\"gen_list\"] = data2[\"gen_list\"].apply(lambda x: \" \".join(x))"
      ],
      "execution_count": 19,
      "outputs": []
    },
    {
      "cell_type": "markdown",
      "metadata": {
        "id": "QhajoeiHKQpo"
      },
      "source": [
        "## Mengecek data2"
      ]
    },
    {
      "cell_type": "code",
      "metadata": {
        "colab": {
          "base_uri": "https://localhost:8080/",
          "height": 666
        },
        "id": "WyryA04tKa1j",
        "outputId": "96bb47e0-08e8-42fe-ef75-5d6247112eff"
      },
      "source": [
        "data2.head()"
      ],
      "execution_count": 20,
      "outputs": [
        {
          "output_type": "execute_result",
          "data": {
            "text/html": [
              "<div>\n",
              "<style scoped>\n",
              "    .dataframe tbody tr th:only-of-type {\n",
              "        vertical-align: middle;\n",
              "    }\n",
              "\n",
              "    .dataframe tbody tr th {\n",
              "        vertical-align: top;\n",
              "    }\n",
              "\n",
              "    .dataframe thead th {\n",
              "        text-align: right;\n",
              "    }\n",
              "</style>\n",
              "<table border=\"1\" class=\"dataframe\">\n",
              "  <thead>\n",
              "    <tr style=\"text-align: right;\">\n",
              "      <th></th>\n",
              "      <th>adult</th>\n",
              "      <th>belongs_to_collection</th>\n",
              "      <th>budget</th>\n",
              "      <th>genres</th>\n",
              "      <th>homepage</th>\n",
              "      <th>id</th>\n",
              "      <th>imdb_id</th>\n",
              "      <th>original_language</th>\n",
              "      <th>original_title</th>\n",
              "      <th>overview</th>\n",
              "      <th>popularity</th>\n",
              "      <th>poster_path</th>\n",
              "      <th>production_companies</th>\n",
              "      <th>production_countries</th>\n",
              "      <th>release_date</th>\n",
              "      <th>revenue</th>\n",
              "      <th>runtime</th>\n",
              "      <th>spoken_languages</th>\n",
              "      <th>status</th>\n",
              "      <th>tagline</th>\n",
              "      <th>title</th>\n",
              "      <th>video</th>\n",
              "      <th>vote_average</th>\n",
              "      <th>vote_count</th>\n",
              "      <th>gen_list</th>\n",
              "    </tr>\n",
              "  </thead>\n",
              "  <tbody>\n",
              "    <tr>\n",
              "      <th>0</th>\n",
              "      <td>False</td>\n",
              "      <td>{'id': 10194, 'name': 'Toy Story Collection', ...</td>\n",
              "      <td>30000000</td>\n",
              "      <td>[Animation, Comedy, Family]</td>\n",
              "      <td>http://toystory.disney.com/toy-story</td>\n",
              "      <td>862</td>\n",
              "      <td>tt0114709</td>\n",
              "      <td>en</td>\n",
              "      <td>Toy Story</td>\n",
              "      <td>Led by Woody, Andy's toys live happily in his ...</td>\n",
              "      <td>21.9469</td>\n",
              "      <td>/rhIRbceoE9lR4veEXuwCC2wARtG.jpg</td>\n",
              "      <td>[{'name': 'Pixar Animation Studios', 'id': 3}]</td>\n",
              "      <td>[{'iso_3166_1': 'US', 'name': 'United States o...</td>\n",
              "      <td>1995-10-30</td>\n",
              "      <td>373554033.0</td>\n",
              "      <td>81.0</td>\n",
              "      <td>[{'iso_639_1': 'en', 'name': 'English'}]</td>\n",
              "      <td>Released</td>\n",
              "      <td>NaN</td>\n",
              "      <td>Toy Story</td>\n",
              "      <td>False</td>\n",
              "      <td>7.7</td>\n",
              "      <td>5415.0</td>\n",
              "      <td>Animation Comedy Family</td>\n",
              "    </tr>\n",
              "    <tr>\n",
              "      <th>1</th>\n",
              "      <td>False</td>\n",
              "      <td>NaN</td>\n",
              "      <td>65000000</td>\n",
              "      <td>[Adventure, Fantasy, Family]</td>\n",
              "      <td>NaN</td>\n",
              "      <td>8844</td>\n",
              "      <td>tt0113497</td>\n",
              "      <td>en</td>\n",
              "      <td>Jumanji</td>\n",
              "      <td>When siblings Judy and Peter discover an encha...</td>\n",
              "      <td>17.0155</td>\n",
              "      <td>/vzmL6fP7aPKNKPRTFnZmiUfciyV.jpg</td>\n",
              "      <td>[{'name': 'TriStar Pictures', 'id': 559}, {'na...</td>\n",
              "      <td>[{'iso_3166_1': 'US', 'name': 'United States o...</td>\n",
              "      <td>1995-12-15</td>\n",
              "      <td>262797249.0</td>\n",
              "      <td>104.0</td>\n",
              "      <td>[{'iso_639_1': 'en', 'name': 'English'}, {'iso...</td>\n",
              "      <td>Released</td>\n",
              "      <td>Roll the dice and unleash the excitement!</td>\n",
              "      <td>Jumanji</td>\n",
              "      <td>False</td>\n",
              "      <td>6.9</td>\n",
              "      <td>2413.0</td>\n",
              "      <td>Adventure Fantasy Family</td>\n",
              "    </tr>\n",
              "    <tr>\n",
              "      <th>2</th>\n",
              "      <td>False</td>\n",
              "      <td>{'id': 119050, 'name': 'Grumpy Old Men Collect...</td>\n",
              "      <td>0</td>\n",
              "      <td>[Romance, Comedy]</td>\n",
              "      <td>NaN</td>\n",
              "      <td>15602</td>\n",
              "      <td>tt0113228</td>\n",
              "      <td>en</td>\n",
              "      <td>Grumpier Old Men</td>\n",
              "      <td>A family wedding reignites the ancient feud be...</td>\n",
              "      <td>11.7129</td>\n",
              "      <td>/6ksm1sjKMFLbO7UY2i6G1ju9SML.jpg</td>\n",
              "      <td>[{'name': 'Warner Bros.', 'id': 6194}, {'name'...</td>\n",
              "      <td>[{'iso_3166_1': 'US', 'name': 'United States o...</td>\n",
              "      <td>1995-12-22</td>\n",
              "      <td>0.0</td>\n",
              "      <td>101.0</td>\n",
              "      <td>[{'iso_639_1': 'en', 'name': 'English'}]</td>\n",
              "      <td>Released</td>\n",
              "      <td>Still Yelling. Still Fighting. Still Ready for...</td>\n",
              "      <td>Grumpier Old Men</td>\n",
              "      <td>False</td>\n",
              "      <td>6.5</td>\n",
              "      <td>92.0</td>\n",
              "      <td>Romance Comedy</td>\n",
              "    </tr>\n",
              "    <tr>\n",
              "      <th>3</th>\n",
              "      <td>False</td>\n",
              "      <td>NaN</td>\n",
              "      <td>16000000</td>\n",
              "      <td>[Comedy, Drama, Romance]</td>\n",
              "      <td>NaN</td>\n",
              "      <td>31357</td>\n",
              "      <td>tt0114885</td>\n",
              "      <td>en</td>\n",
              "      <td>Waiting to Exhale</td>\n",
              "      <td>Cheated on, mistreated and stepped on, the wom...</td>\n",
              "      <td>3.85949</td>\n",
              "      <td>/16XOMpEaLWkrcPqSQqhTmeJuqQl.jpg</td>\n",
              "      <td>[{'name': 'Twentieth Century Fox Film Corporat...</td>\n",
              "      <td>[{'iso_3166_1': 'US', 'name': 'United States o...</td>\n",
              "      <td>1995-12-22</td>\n",
              "      <td>81452156.0</td>\n",
              "      <td>127.0</td>\n",
              "      <td>[{'iso_639_1': 'en', 'name': 'English'}]</td>\n",
              "      <td>Released</td>\n",
              "      <td>Friends are the people who let you be yourself...</td>\n",
              "      <td>Waiting to Exhale</td>\n",
              "      <td>False</td>\n",
              "      <td>6.1</td>\n",
              "      <td>34.0</td>\n",
              "      <td>Comedy Drama Romance</td>\n",
              "    </tr>\n",
              "    <tr>\n",
              "      <th>4</th>\n",
              "      <td>False</td>\n",
              "      <td>{'id': 96871, 'name': 'Father of the Bride Col...</td>\n",
              "      <td>0</td>\n",
              "      <td>[Comedy]</td>\n",
              "      <td>NaN</td>\n",
              "      <td>11862</td>\n",
              "      <td>tt0113041</td>\n",
              "      <td>en</td>\n",
              "      <td>Father of the Bride Part II</td>\n",
              "      <td>Just when George Banks has recovered from his ...</td>\n",
              "      <td>8.38752</td>\n",
              "      <td>/e64sOI48hQXyru7naBFyssKFxVd.jpg</td>\n",
              "      <td>[{'name': 'Sandollar Productions', 'id': 5842}...</td>\n",
              "      <td>[{'iso_3166_1': 'US', 'name': 'United States o...</td>\n",
              "      <td>1995-02-10</td>\n",
              "      <td>76578911.0</td>\n",
              "      <td>106.0</td>\n",
              "      <td>[{'iso_639_1': 'en', 'name': 'English'}]</td>\n",
              "      <td>Released</td>\n",
              "      <td>Just When His World Is Back To Normal... He's ...</td>\n",
              "      <td>Father of the Bride Part II</td>\n",
              "      <td>False</td>\n",
              "      <td>5.7</td>\n",
              "      <td>173.0</td>\n",
              "      <td>Comedy</td>\n",
              "    </tr>\n",
              "  </tbody>\n",
              "</table>\n",
              "</div>"
            ],
            "text/plain": [
              "   adult  ...                  gen_list\n",
              "0  False  ...   Animation Comedy Family\n",
              "1  False  ...  Adventure Fantasy Family\n",
              "2  False  ...            Romance Comedy\n",
              "3  False  ...      Comedy Drama Romance\n",
              "4  False  ...                    Comedy\n",
              "\n",
              "[5 rows x 25 columns]"
            ]
          },
          "metadata": {},
          "execution_count": 20
        }
      ]
    },
    {
      "cell_type": "markdown",
      "metadata": {
        "id": "i_fWyPWbKs-g"
      },
      "source": [
        "## Menambahkan kolom genres ke dalam kolom overview"
      ]
    },
    {
      "cell_type": "code",
      "metadata": {
        "colab": {
          "base_uri": "https://localhost:8080/",
          "height": 666
        },
        "id": "jW0QHZd4DwvX",
        "outputId": "d226e9d2-a8b0-4aff-cd48-11279ceb202c"
      },
      "source": [
        "data2.overview = data2.gen_list + \" \" + data2.overview\n",
        "data2.head()"
      ],
      "execution_count": 21,
      "outputs": [
        {
          "output_type": "execute_result",
          "data": {
            "text/html": [
              "<div>\n",
              "<style scoped>\n",
              "    .dataframe tbody tr th:only-of-type {\n",
              "        vertical-align: middle;\n",
              "    }\n",
              "\n",
              "    .dataframe tbody tr th {\n",
              "        vertical-align: top;\n",
              "    }\n",
              "\n",
              "    .dataframe thead th {\n",
              "        text-align: right;\n",
              "    }\n",
              "</style>\n",
              "<table border=\"1\" class=\"dataframe\">\n",
              "  <thead>\n",
              "    <tr style=\"text-align: right;\">\n",
              "      <th></th>\n",
              "      <th>adult</th>\n",
              "      <th>belongs_to_collection</th>\n",
              "      <th>budget</th>\n",
              "      <th>genres</th>\n",
              "      <th>homepage</th>\n",
              "      <th>id</th>\n",
              "      <th>imdb_id</th>\n",
              "      <th>original_language</th>\n",
              "      <th>original_title</th>\n",
              "      <th>overview</th>\n",
              "      <th>popularity</th>\n",
              "      <th>poster_path</th>\n",
              "      <th>production_companies</th>\n",
              "      <th>production_countries</th>\n",
              "      <th>release_date</th>\n",
              "      <th>revenue</th>\n",
              "      <th>runtime</th>\n",
              "      <th>spoken_languages</th>\n",
              "      <th>status</th>\n",
              "      <th>tagline</th>\n",
              "      <th>title</th>\n",
              "      <th>video</th>\n",
              "      <th>vote_average</th>\n",
              "      <th>vote_count</th>\n",
              "      <th>gen_list</th>\n",
              "    </tr>\n",
              "  </thead>\n",
              "  <tbody>\n",
              "    <tr>\n",
              "      <th>0</th>\n",
              "      <td>False</td>\n",
              "      <td>{'id': 10194, 'name': 'Toy Story Collection', ...</td>\n",
              "      <td>30000000</td>\n",
              "      <td>[Animation, Comedy, Family]</td>\n",
              "      <td>http://toystory.disney.com/toy-story</td>\n",
              "      <td>862</td>\n",
              "      <td>tt0114709</td>\n",
              "      <td>en</td>\n",
              "      <td>Toy Story</td>\n",
              "      <td>Animation Comedy Family Led by Woody, Andy's t...</td>\n",
              "      <td>21.9469</td>\n",
              "      <td>/rhIRbceoE9lR4veEXuwCC2wARtG.jpg</td>\n",
              "      <td>[{'name': 'Pixar Animation Studios', 'id': 3}]</td>\n",
              "      <td>[{'iso_3166_1': 'US', 'name': 'United States o...</td>\n",
              "      <td>1995-10-30</td>\n",
              "      <td>373554033.0</td>\n",
              "      <td>81.0</td>\n",
              "      <td>[{'iso_639_1': 'en', 'name': 'English'}]</td>\n",
              "      <td>Released</td>\n",
              "      <td>NaN</td>\n",
              "      <td>Toy Story</td>\n",
              "      <td>False</td>\n",
              "      <td>7.7</td>\n",
              "      <td>5415.0</td>\n",
              "      <td>Animation Comedy Family</td>\n",
              "    </tr>\n",
              "    <tr>\n",
              "      <th>1</th>\n",
              "      <td>False</td>\n",
              "      <td>NaN</td>\n",
              "      <td>65000000</td>\n",
              "      <td>[Adventure, Fantasy, Family]</td>\n",
              "      <td>NaN</td>\n",
              "      <td>8844</td>\n",
              "      <td>tt0113497</td>\n",
              "      <td>en</td>\n",
              "      <td>Jumanji</td>\n",
              "      <td>Adventure Fantasy Family When siblings Judy an...</td>\n",
              "      <td>17.0155</td>\n",
              "      <td>/vzmL6fP7aPKNKPRTFnZmiUfciyV.jpg</td>\n",
              "      <td>[{'name': 'TriStar Pictures', 'id': 559}, {'na...</td>\n",
              "      <td>[{'iso_3166_1': 'US', 'name': 'United States o...</td>\n",
              "      <td>1995-12-15</td>\n",
              "      <td>262797249.0</td>\n",
              "      <td>104.0</td>\n",
              "      <td>[{'iso_639_1': 'en', 'name': 'English'}, {'iso...</td>\n",
              "      <td>Released</td>\n",
              "      <td>Roll the dice and unleash the excitement!</td>\n",
              "      <td>Jumanji</td>\n",
              "      <td>False</td>\n",
              "      <td>6.9</td>\n",
              "      <td>2413.0</td>\n",
              "      <td>Adventure Fantasy Family</td>\n",
              "    </tr>\n",
              "    <tr>\n",
              "      <th>2</th>\n",
              "      <td>False</td>\n",
              "      <td>{'id': 119050, 'name': 'Grumpy Old Men Collect...</td>\n",
              "      <td>0</td>\n",
              "      <td>[Romance, Comedy]</td>\n",
              "      <td>NaN</td>\n",
              "      <td>15602</td>\n",
              "      <td>tt0113228</td>\n",
              "      <td>en</td>\n",
              "      <td>Grumpier Old Men</td>\n",
              "      <td>Romance Comedy A family wedding reignites the ...</td>\n",
              "      <td>11.7129</td>\n",
              "      <td>/6ksm1sjKMFLbO7UY2i6G1ju9SML.jpg</td>\n",
              "      <td>[{'name': 'Warner Bros.', 'id': 6194}, {'name'...</td>\n",
              "      <td>[{'iso_3166_1': 'US', 'name': 'United States o...</td>\n",
              "      <td>1995-12-22</td>\n",
              "      <td>0.0</td>\n",
              "      <td>101.0</td>\n",
              "      <td>[{'iso_639_1': 'en', 'name': 'English'}]</td>\n",
              "      <td>Released</td>\n",
              "      <td>Still Yelling. Still Fighting. Still Ready for...</td>\n",
              "      <td>Grumpier Old Men</td>\n",
              "      <td>False</td>\n",
              "      <td>6.5</td>\n",
              "      <td>92.0</td>\n",
              "      <td>Romance Comedy</td>\n",
              "    </tr>\n",
              "    <tr>\n",
              "      <th>3</th>\n",
              "      <td>False</td>\n",
              "      <td>NaN</td>\n",
              "      <td>16000000</td>\n",
              "      <td>[Comedy, Drama, Romance]</td>\n",
              "      <td>NaN</td>\n",
              "      <td>31357</td>\n",
              "      <td>tt0114885</td>\n",
              "      <td>en</td>\n",
              "      <td>Waiting to Exhale</td>\n",
              "      <td>Comedy Drama Romance Cheated on, mistreated an...</td>\n",
              "      <td>3.85949</td>\n",
              "      <td>/16XOMpEaLWkrcPqSQqhTmeJuqQl.jpg</td>\n",
              "      <td>[{'name': 'Twentieth Century Fox Film Corporat...</td>\n",
              "      <td>[{'iso_3166_1': 'US', 'name': 'United States o...</td>\n",
              "      <td>1995-12-22</td>\n",
              "      <td>81452156.0</td>\n",
              "      <td>127.0</td>\n",
              "      <td>[{'iso_639_1': 'en', 'name': 'English'}]</td>\n",
              "      <td>Released</td>\n",
              "      <td>Friends are the people who let you be yourself...</td>\n",
              "      <td>Waiting to Exhale</td>\n",
              "      <td>False</td>\n",
              "      <td>6.1</td>\n",
              "      <td>34.0</td>\n",
              "      <td>Comedy Drama Romance</td>\n",
              "    </tr>\n",
              "    <tr>\n",
              "      <th>4</th>\n",
              "      <td>False</td>\n",
              "      <td>{'id': 96871, 'name': 'Father of the Bride Col...</td>\n",
              "      <td>0</td>\n",
              "      <td>[Comedy]</td>\n",
              "      <td>NaN</td>\n",
              "      <td>11862</td>\n",
              "      <td>tt0113041</td>\n",
              "      <td>en</td>\n",
              "      <td>Father of the Bride Part II</td>\n",
              "      <td>Comedy Just when George Banks has recovered fr...</td>\n",
              "      <td>8.38752</td>\n",
              "      <td>/e64sOI48hQXyru7naBFyssKFxVd.jpg</td>\n",
              "      <td>[{'name': 'Sandollar Productions', 'id': 5842}...</td>\n",
              "      <td>[{'iso_3166_1': 'US', 'name': 'United States o...</td>\n",
              "      <td>1995-02-10</td>\n",
              "      <td>76578911.0</td>\n",
              "      <td>106.0</td>\n",
              "      <td>[{'iso_639_1': 'en', 'name': 'English'}]</td>\n",
              "      <td>Released</td>\n",
              "      <td>Just When His World Is Back To Normal... He's ...</td>\n",
              "      <td>Father of the Bride Part II</td>\n",
              "      <td>False</td>\n",
              "      <td>5.7</td>\n",
              "      <td>173.0</td>\n",
              "      <td>Comedy</td>\n",
              "    </tr>\n",
              "  </tbody>\n",
              "</table>\n",
              "</div>"
            ],
            "text/plain": [
              "   adult  ...                  gen_list\n",
              "0  False  ...   Animation Comedy Family\n",
              "1  False  ...  Adventure Fantasy Family\n",
              "2  False  ...            Romance Comedy\n",
              "3  False  ...      Comedy Drama Romance\n",
              "4  False  ...                    Comedy\n",
              "\n",
              "[5 rows x 25 columns]"
            ]
          },
          "metadata": {},
          "execution_count": 21
        }
      ]
    },
    {
      "cell_type": "markdown",
      "metadata": {
        "id": "549dS56XK3qI"
      },
      "source": [
        "## Menghapus nilai null pada kolom overview"
      ]
    },
    {
      "cell_type": "code",
      "metadata": {
        "id": "NZ37QbwCD9Lg",
        "colab": {
          "base_uri": "https://localhost:8080/"
        },
        "outputId": "ba2ff0ea-c8d4-4645-bc2a-a97bb89972c9"
      },
      "source": [
        "data2[\"overview\"].dropna(inplace = True)\n",
        "data2[\"overview\"]"
      ],
      "execution_count": 22,
      "outputs": [
        {
          "output_type": "execute_result",
          "data": {
            "text/plain": [
              "0        Animation Comedy Family Led by Woody, Andy's t...\n",
              "1        Adventure Fantasy Family When siblings Judy an...\n",
              "2        Romance Comedy A family wedding reignites the ...\n",
              "3        Comedy Drama Romance Cheated on, mistreated an...\n",
              "4        Comedy Just when George Banks has recovered fr...\n",
              "                               ...                        \n",
              "45461    Drama Family Rising and falling between a man ...\n",
              "45462    Drama An artist struggles to finish his work w...\n",
              "45463    Action Drama Thriller When one of her hits goe...\n",
              "45464     In a small town live two brothers, one a mini...\n",
              "45465     50 years after decriminalisation of homosexua...\n",
              "Name: overview, Length: 45466, dtype: object"
            ]
          },
          "metadata": {},
          "execution_count": 22
        }
      ]
    },
    {
      "cell_type": "markdown",
      "metadata": {
        "id": "gQJbmB9hLDmA"
      },
      "source": [
        "# **Data Preparation**"
      ]
    },
    {
      "cell_type": "markdown",
      "metadata": {
        "id": "xL56YQj9LNUp"
      },
      "source": [
        "## Cleaning Data Overview"
      ]
    },
    {
      "cell_type": "markdown",
      "metadata": {
        "id": "F5qiCeqaMJ1Y"
      },
      "source": [
        "### Menghapus tag HTML dan Angka"
      ]
    },
    {
      "cell_type": "code",
      "metadata": {
        "id": "ECSfTj9TEDNI"
      },
      "source": [
        "stop_words = stopwords.words(\"english\")\n",
        "stemmer = SnowballStemmer(\"english\")\n",
        "\n",
        "cleaning = \"@\\S+|https?:\\S+|http?:\\S|[^A-Za-z]+\"\n",
        "\n",
        "def preprocess(text, stem=False):\n",
        "    # Remove link,user and special characters\n",
        "    text = re.sub(cleaning, ' ', str(text).lower()).strip()\n",
        "    tokens = []\n",
        "    for token in text.split():\n",
        "        if token not in stop_words:\n",
        "            if stem:\n",
        "                tokens.append(stemmer.stem(token))\n",
        "            else:\n",
        "                tokens.append(token)\n",
        "    return \" \".join(tokens)"
      ],
      "execution_count": 23,
      "outputs": []
    },
    {
      "cell_type": "markdown",
      "metadata": {
        "id": "Ngihm9fiMO4E"
      },
      "source": [
        "### Menerapkan hasil cleaning ke data overview"
      ]
    },
    {
      "cell_type": "code",
      "metadata": {
        "colab": {
          "base_uri": "https://localhost:8080/"
        },
        "id": "yuQNL9bmEok1",
        "outputId": "4be5a493-80c4-4be3-ea43-a18089c91539"
      },
      "source": [
        "data2.overview = data2.overview.apply(lambda x: preprocess(x, stem = False))\n",
        "data2.overview"
      ],
      "execution_count": 24,
      "outputs": [
        {
          "output_type": "execute_result",
          "data": {
            "text/plain": [
              "0        animation comedy family led woody andy toys li...\n",
              "1        adventure fantasy family siblings judy peter d...\n",
              "2        romance comedy family wedding reignites ancien...\n",
              "3        comedy drama romance cheated mistreated steppe...\n",
              "4        comedy george banks recovered daughter wedding...\n",
              "                               ...                        \n",
              "45461                drama family rising falling man woman\n",
              "45462    drama artist struggles finish work storyline c...\n",
              "45463    action drama thriller one hits goes wrong prof...\n",
              "45464    small town live two brothers one minister one ...\n",
              "45465    years decriminalisation homosexuality uk direc...\n",
              "Name: overview, Length: 45466, dtype: object"
            ]
          },
          "metadata": {},
          "execution_count": 24
        }
      ]
    },
    {
      "cell_type": "markdown",
      "metadata": {
        "id": "eN-rAqj8JSsZ"
      },
      "source": [
        "# **Model Development : Collaborative Filtering**\n"
      ]
    },
    {
      "cell_type": "markdown",
      "metadata": {
        "id": "9AkE6ykdRBGX"
      },
      "source": [
        "## **Data Understanding**"
      ]
    },
    {
      "cell_type": "markdown",
      "metadata": {
        "id": "wkg3ZGb3SSa8"
      },
      "source": [
        "### Membuat Dataset dengan Data Kurang Dari 2000"
      ]
    },
    {
      "cell_type": "code",
      "metadata": {
        "id": "mn2J8yyQJTBB"
      },
      "source": [
        "data1 = data1[data1[\"userId\"] < 2000]"
      ],
      "execution_count": 25,
      "outputs": []
    },
    {
      "cell_type": "markdown",
      "metadata": {
        "id": "bIwLGL_dRa8F"
      },
      "source": [
        "### Melihat Dataset "
      ]
    },
    {
      "cell_type": "code",
      "metadata": {
        "colab": {
          "base_uri": "https://localhost:8080/",
          "height": 419
        },
        "id": "aJchuPooJftV",
        "outputId": "e3a5b4aa-4c3c-46aa-b249-7f873d1c44b1"
      },
      "source": [
        "data1"
      ],
      "execution_count": 26,
      "outputs": [
        {
          "output_type": "execute_result",
          "data": {
            "text/html": [
              "<div>\n",
              "<style scoped>\n",
              "    .dataframe tbody tr th:only-of-type {\n",
              "        vertical-align: middle;\n",
              "    }\n",
              "\n",
              "    .dataframe tbody tr th {\n",
              "        vertical-align: top;\n",
              "    }\n",
              "\n",
              "    .dataframe thead th {\n",
              "        text-align: right;\n",
              "    }\n",
              "</style>\n",
              "<table border=\"1\" class=\"dataframe\">\n",
              "  <thead>\n",
              "    <tr style=\"text-align: right;\">\n",
              "      <th></th>\n",
              "      <th>userId</th>\n",
              "      <th>movieId</th>\n",
              "      <th>rating</th>\n",
              "      <th>timestamp</th>\n",
              "    </tr>\n",
              "  </thead>\n",
              "  <tbody>\n",
              "    <tr>\n",
              "      <th>0</th>\n",
              "      <td>1</td>\n",
              "      <td>31</td>\n",
              "      <td>2.5</td>\n",
              "      <td>1260759144</td>\n",
              "    </tr>\n",
              "    <tr>\n",
              "      <th>1</th>\n",
              "      <td>1</td>\n",
              "      <td>1029</td>\n",
              "      <td>3.0</td>\n",
              "      <td>1260759179</td>\n",
              "    </tr>\n",
              "    <tr>\n",
              "      <th>2</th>\n",
              "      <td>1</td>\n",
              "      <td>1061</td>\n",
              "      <td>3.0</td>\n",
              "      <td>1260759182</td>\n",
              "    </tr>\n",
              "    <tr>\n",
              "      <th>3</th>\n",
              "      <td>1</td>\n",
              "      <td>1129</td>\n",
              "      <td>2.0</td>\n",
              "      <td>1260759185</td>\n",
              "    </tr>\n",
              "    <tr>\n",
              "      <th>4</th>\n",
              "      <td>1</td>\n",
              "      <td>1172</td>\n",
              "      <td>4.0</td>\n",
              "      <td>1260759205</td>\n",
              "    </tr>\n",
              "    <tr>\n",
              "      <th>...</th>\n",
              "      <td>...</td>\n",
              "      <td>...</td>\n",
              "      <td>...</td>\n",
              "      <td>...</td>\n",
              "    </tr>\n",
              "    <tr>\n",
              "      <th>99999</th>\n",
              "      <td>671</td>\n",
              "      <td>6268</td>\n",
              "      <td>2.5</td>\n",
              "      <td>1065579370</td>\n",
              "    </tr>\n",
              "    <tr>\n",
              "      <th>100000</th>\n",
              "      <td>671</td>\n",
              "      <td>6269</td>\n",
              "      <td>4.0</td>\n",
              "      <td>1065149201</td>\n",
              "    </tr>\n",
              "    <tr>\n",
              "      <th>100001</th>\n",
              "      <td>671</td>\n",
              "      <td>6365</td>\n",
              "      <td>4.0</td>\n",
              "      <td>1070940363</td>\n",
              "    </tr>\n",
              "    <tr>\n",
              "      <th>100002</th>\n",
              "      <td>671</td>\n",
              "      <td>6385</td>\n",
              "      <td>2.5</td>\n",
              "      <td>1070979663</td>\n",
              "    </tr>\n",
              "    <tr>\n",
              "      <th>100003</th>\n",
              "      <td>671</td>\n",
              "      <td>6565</td>\n",
              "      <td>3.5</td>\n",
              "      <td>1074784724</td>\n",
              "    </tr>\n",
              "  </tbody>\n",
              "</table>\n",
              "<p>100004 rows × 4 columns</p>\n",
              "</div>"
            ],
            "text/plain": [
              "        userId  movieId  rating   timestamp\n",
              "0            1       31     2.5  1260759144\n",
              "1            1     1029     3.0  1260759179\n",
              "2            1     1061     3.0  1260759182\n",
              "3            1     1129     2.0  1260759185\n",
              "4            1     1172     4.0  1260759205\n",
              "...        ...      ...     ...         ...\n",
              "99999      671     6268     2.5  1065579370\n",
              "100000     671     6269     4.0  1065149201\n",
              "100001     671     6365     4.0  1070940363\n",
              "100002     671     6385     2.5  1070979663\n",
              "100003     671     6565     3.5  1074784724\n",
              "\n",
              "[100004 rows x 4 columns]"
            ]
          },
          "metadata": {},
          "execution_count": 26
        }
      ]
    },
    {
      "cell_type": "markdown",
      "metadata": {
        "id": "GIEvjPs3SEn5"
      },
      "source": [
        "### Menghapus kolom timestamp"
      ]
    },
    {
      "cell_type": "code",
      "metadata": {
        "id": "XfgU8uXTJiI3",
        "colab": {
          "base_uri": "https://localhost:8080/",
          "height": 419
        },
        "outputId": "54503ee0-85c1-4cd7-c766-0914c1b8ed9f"
      },
      "source": [
        "data1 = data1.drop(['timestamp'], axis=1)\n",
        "data1"
      ],
      "execution_count": 27,
      "outputs": [
        {
          "output_type": "execute_result",
          "data": {
            "text/html": [
              "<div>\n",
              "<style scoped>\n",
              "    .dataframe tbody tr th:only-of-type {\n",
              "        vertical-align: middle;\n",
              "    }\n",
              "\n",
              "    .dataframe tbody tr th {\n",
              "        vertical-align: top;\n",
              "    }\n",
              "\n",
              "    .dataframe thead th {\n",
              "        text-align: right;\n",
              "    }\n",
              "</style>\n",
              "<table border=\"1\" class=\"dataframe\">\n",
              "  <thead>\n",
              "    <tr style=\"text-align: right;\">\n",
              "      <th></th>\n",
              "      <th>userId</th>\n",
              "      <th>movieId</th>\n",
              "      <th>rating</th>\n",
              "    </tr>\n",
              "  </thead>\n",
              "  <tbody>\n",
              "    <tr>\n",
              "      <th>0</th>\n",
              "      <td>1</td>\n",
              "      <td>31</td>\n",
              "      <td>2.5</td>\n",
              "    </tr>\n",
              "    <tr>\n",
              "      <th>1</th>\n",
              "      <td>1</td>\n",
              "      <td>1029</td>\n",
              "      <td>3.0</td>\n",
              "    </tr>\n",
              "    <tr>\n",
              "      <th>2</th>\n",
              "      <td>1</td>\n",
              "      <td>1061</td>\n",
              "      <td>3.0</td>\n",
              "    </tr>\n",
              "    <tr>\n",
              "      <th>3</th>\n",
              "      <td>1</td>\n",
              "      <td>1129</td>\n",
              "      <td>2.0</td>\n",
              "    </tr>\n",
              "    <tr>\n",
              "      <th>4</th>\n",
              "      <td>1</td>\n",
              "      <td>1172</td>\n",
              "      <td>4.0</td>\n",
              "    </tr>\n",
              "    <tr>\n",
              "      <th>...</th>\n",
              "      <td>...</td>\n",
              "      <td>...</td>\n",
              "      <td>...</td>\n",
              "    </tr>\n",
              "    <tr>\n",
              "      <th>99999</th>\n",
              "      <td>671</td>\n",
              "      <td>6268</td>\n",
              "      <td>2.5</td>\n",
              "    </tr>\n",
              "    <tr>\n",
              "      <th>100000</th>\n",
              "      <td>671</td>\n",
              "      <td>6269</td>\n",
              "      <td>4.0</td>\n",
              "    </tr>\n",
              "    <tr>\n",
              "      <th>100001</th>\n",
              "      <td>671</td>\n",
              "      <td>6365</td>\n",
              "      <td>4.0</td>\n",
              "    </tr>\n",
              "    <tr>\n",
              "      <th>100002</th>\n",
              "      <td>671</td>\n",
              "      <td>6385</td>\n",
              "      <td>2.5</td>\n",
              "    </tr>\n",
              "    <tr>\n",
              "      <th>100003</th>\n",
              "      <td>671</td>\n",
              "      <td>6565</td>\n",
              "      <td>3.5</td>\n",
              "    </tr>\n",
              "  </tbody>\n",
              "</table>\n",
              "<p>100004 rows × 3 columns</p>\n",
              "</div>"
            ],
            "text/plain": [
              "        userId  movieId  rating\n",
              "0            1       31     2.5\n",
              "1            1     1029     3.0\n",
              "2            1     1061     3.0\n",
              "3            1     1129     2.0\n",
              "4            1     1172     4.0\n",
              "...        ...      ...     ...\n",
              "99999      671     6268     2.5\n",
              "100000     671     6269     4.0\n",
              "100001     671     6365     4.0\n",
              "100002     671     6385     2.5\n",
              "100003     671     6565     3.5\n",
              "\n",
              "[100004 rows x 3 columns]"
            ]
          },
          "metadata": {},
          "execution_count": 27
        }
      ]
    },
    {
      "cell_type": "markdown",
      "metadata": {
        "id": "Xp4PUZPyS-AW"
      },
      "source": [
        "## **Data Preprocessing**"
      ]
    },
    {
      "cell_type": "markdown",
      "metadata": {
        "id": "iFllBg-yTO87"
      },
      "source": [
        "### Menyimpan dataset data1 pada variabel "
      ]
    },
    {
      "cell_type": "code",
      "metadata": {
        "colab": {
          "base_uri": "https://localhost:8080/",
          "height": 204
        },
        "id": "nv6tbcOvqF3V",
        "outputId": "04e7dd13-0622-4810-874b-3de0bc4c60c4"
      },
      "source": [
        "rating_movie = data1\n",
        "rating_movie.head()"
      ],
      "execution_count": 28,
      "outputs": [
        {
          "output_type": "execute_result",
          "data": {
            "text/html": [
              "<div>\n",
              "<style scoped>\n",
              "    .dataframe tbody tr th:only-of-type {\n",
              "        vertical-align: middle;\n",
              "    }\n",
              "\n",
              "    .dataframe tbody tr th {\n",
              "        vertical-align: top;\n",
              "    }\n",
              "\n",
              "    .dataframe thead th {\n",
              "        text-align: right;\n",
              "    }\n",
              "</style>\n",
              "<table border=\"1\" class=\"dataframe\">\n",
              "  <thead>\n",
              "    <tr style=\"text-align: right;\">\n",
              "      <th></th>\n",
              "      <th>userId</th>\n",
              "      <th>movieId</th>\n",
              "      <th>rating</th>\n",
              "    </tr>\n",
              "  </thead>\n",
              "  <tbody>\n",
              "    <tr>\n",
              "      <th>0</th>\n",
              "      <td>1</td>\n",
              "      <td>31</td>\n",
              "      <td>2.5</td>\n",
              "    </tr>\n",
              "    <tr>\n",
              "      <th>1</th>\n",
              "      <td>1</td>\n",
              "      <td>1029</td>\n",
              "      <td>3.0</td>\n",
              "    </tr>\n",
              "    <tr>\n",
              "      <th>2</th>\n",
              "      <td>1</td>\n",
              "      <td>1061</td>\n",
              "      <td>3.0</td>\n",
              "    </tr>\n",
              "    <tr>\n",
              "      <th>3</th>\n",
              "      <td>1</td>\n",
              "      <td>1129</td>\n",
              "      <td>2.0</td>\n",
              "    </tr>\n",
              "    <tr>\n",
              "      <th>4</th>\n",
              "      <td>1</td>\n",
              "      <td>1172</td>\n",
              "      <td>4.0</td>\n",
              "    </tr>\n",
              "  </tbody>\n",
              "</table>\n",
              "</div>"
            ],
            "text/plain": [
              "   userId  movieId  rating\n",
              "0       1       31     2.5\n",
              "1       1     1029     3.0\n",
              "2       1     1061     3.0\n",
              "3       1     1129     2.0\n",
              "4       1     1172     4.0"
            ]
          },
          "metadata": {},
          "execution_count": 28
        }
      ]
    },
    {
      "cell_type": "markdown",
      "metadata": {
        "id": "O_47iDtJTXub"
      },
      "source": [
        "### Membuat data baru dari dataset 2\n",
        "\n",
        "* Membuat dataset baru berisi kolom title dan genre\n",
        "* Melakukan cek nilai teratas"
      ]
    },
    {
      "cell_type": "code",
      "metadata": {
        "colab": {
          "base_uri": "https://localhost:8080/",
          "height": 204
        },
        "id": "W5OAu_8knfZI",
        "outputId": "09470498-0376-418d-f390-a96bfcf34c62"
      },
      "source": [
        "movie_names = data2\n",
        "movie_names = movie_names[['title', 'genres']]\n",
        "movie_names.head()"
      ],
      "execution_count": 29,
      "outputs": [
        {
          "output_type": "execute_result",
          "data": {
            "text/html": [
              "<div>\n",
              "<style scoped>\n",
              "    .dataframe tbody tr th:only-of-type {\n",
              "        vertical-align: middle;\n",
              "    }\n",
              "\n",
              "    .dataframe tbody tr th {\n",
              "        vertical-align: top;\n",
              "    }\n",
              "\n",
              "    .dataframe thead th {\n",
              "        text-align: right;\n",
              "    }\n",
              "</style>\n",
              "<table border=\"1\" class=\"dataframe\">\n",
              "  <thead>\n",
              "    <tr style=\"text-align: right;\">\n",
              "      <th></th>\n",
              "      <th>title</th>\n",
              "      <th>genres</th>\n",
              "    </tr>\n",
              "  </thead>\n",
              "  <tbody>\n",
              "    <tr>\n",
              "      <th>0</th>\n",
              "      <td>Toy Story</td>\n",
              "      <td>[Animation, Comedy, Family]</td>\n",
              "    </tr>\n",
              "    <tr>\n",
              "      <th>1</th>\n",
              "      <td>Jumanji</td>\n",
              "      <td>[Adventure, Fantasy, Family]</td>\n",
              "    </tr>\n",
              "    <tr>\n",
              "      <th>2</th>\n",
              "      <td>Grumpier Old Men</td>\n",
              "      <td>[Romance, Comedy]</td>\n",
              "    </tr>\n",
              "    <tr>\n",
              "      <th>3</th>\n",
              "      <td>Waiting to Exhale</td>\n",
              "      <td>[Comedy, Drama, Romance]</td>\n",
              "    </tr>\n",
              "    <tr>\n",
              "      <th>4</th>\n",
              "      <td>Father of the Bride Part II</td>\n",
              "      <td>[Comedy]</td>\n",
              "    </tr>\n",
              "  </tbody>\n",
              "</table>\n",
              "</div>"
            ],
            "text/plain": [
              "                         title                        genres\n",
              "0                    Toy Story   [Animation, Comedy, Family]\n",
              "1                      Jumanji  [Adventure, Fantasy, Family]\n",
              "2             Grumpier Old Men             [Romance, Comedy]\n",
              "3            Waiting to Exhale      [Comedy, Drama, Romance]\n",
              "4  Father of the Bride Part II                      [Comedy]"
            ]
          },
          "metadata": {},
          "execution_count": 29
        }
      ]
    },
    {
      "cell_type": "markdown",
      "metadata": {
        "id": "pSK9IGqzTyrl"
      },
      "source": [
        "### Menggabungkan dataset dari data1 dan data2\n",
        "\n",
        "* data1 = data yang sudah dibersihkan dan di simpan pada variabel rating_movie\n",
        "* data2 = dataset baru yang diambil dari data title dan genre yang disimpan dalam variabel movie_names"
      ]
    },
    {
      "cell_type": "code",
      "metadata": {
        "colab": {
          "base_uri": "https://localhost:8080/",
          "height": 204
        },
        "id": "wbdH7KCmqRo8",
        "outputId": "5d0e66b9-ebe5-4340-b34c-e255adb14290"
      },
      "source": [
        "movie_data = pd.concat([rating_movie, movie_names], axis=1)\n",
        "movie_data.head()"
      ],
      "execution_count": 30,
      "outputs": [
        {
          "output_type": "execute_result",
          "data": {
            "text/html": [
              "<div>\n",
              "<style scoped>\n",
              "    .dataframe tbody tr th:only-of-type {\n",
              "        vertical-align: middle;\n",
              "    }\n",
              "\n",
              "    .dataframe tbody tr th {\n",
              "        vertical-align: top;\n",
              "    }\n",
              "\n",
              "    .dataframe thead th {\n",
              "        text-align: right;\n",
              "    }\n",
              "</style>\n",
              "<table border=\"1\" class=\"dataframe\">\n",
              "  <thead>\n",
              "    <tr style=\"text-align: right;\">\n",
              "      <th></th>\n",
              "      <th>userId</th>\n",
              "      <th>movieId</th>\n",
              "      <th>rating</th>\n",
              "      <th>title</th>\n",
              "      <th>genres</th>\n",
              "    </tr>\n",
              "  </thead>\n",
              "  <tbody>\n",
              "    <tr>\n",
              "      <th>0</th>\n",
              "      <td>1</td>\n",
              "      <td>31</td>\n",
              "      <td>2.5</td>\n",
              "      <td>Toy Story</td>\n",
              "      <td>[Animation, Comedy, Family]</td>\n",
              "    </tr>\n",
              "    <tr>\n",
              "      <th>1</th>\n",
              "      <td>1</td>\n",
              "      <td>1029</td>\n",
              "      <td>3.0</td>\n",
              "      <td>Jumanji</td>\n",
              "      <td>[Adventure, Fantasy, Family]</td>\n",
              "    </tr>\n",
              "    <tr>\n",
              "      <th>2</th>\n",
              "      <td>1</td>\n",
              "      <td>1061</td>\n",
              "      <td>3.0</td>\n",
              "      <td>Grumpier Old Men</td>\n",
              "      <td>[Romance, Comedy]</td>\n",
              "    </tr>\n",
              "    <tr>\n",
              "      <th>3</th>\n",
              "      <td>1</td>\n",
              "      <td>1129</td>\n",
              "      <td>2.0</td>\n",
              "      <td>Waiting to Exhale</td>\n",
              "      <td>[Comedy, Drama, Romance]</td>\n",
              "    </tr>\n",
              "    <tr>\n",
              "      <th>4</th>\n",
              "      <td>1</td>\n",
              "      <td>1172</td>\n",
              "      <td>4.0</td>\n",
              "      <td>Father of the Bride Part II</td>\n",
              "      <td>[Comedy]</td>\n",
              "    </tr>\n",
              "  </tbody>\n",
              "</table>\n",
              "</div>"
            ],
            "text/plain": [
              "   userId  movieId  ...                        title                        genres\n",
              "0       1       31  ...                    Toy Story   [Animation, Comedy, Family]\n",
              "1       1     1029  ...                      Jumanji  [Adventure, Fantasy, Family]\n",
              "2       1     1061  ...             Grumpier Old Men             [Romance, Comedy]\n",
              "3       1     1129  ...            Waiting to Exhale      [Comedy, Drama, Romance]\n",
              "4       1     1172  ...  Father of the Bride Part II                      [Comedy]\n",
              "\n",
              "[5 rows x 5 columns]"
            ]
          },
          "metadata": {},
          "execution_count": 30
        }
      ]
    },
    {
      "cell_type": "markdown",
      "metadata": {
        "id": "KAUX9cF_V3uV"
      },
      "source": [
        "## Data preparation \n",
        "\n",
        "* Mengurutkan nilai dari movieId"
      ]
    },
    {
      "cell_type": "code",
      "metadata": {
        "colab": {
          "base_uri": "https://localhost:8080/",
          "height": 419
        },
        "id": "RkeVhTgmqg0l",
        "outputId": "fed30d10-ea5e-49eb-a684-89dd4c3f48a6"
      },
      "source": [
        "preparation = movie_data\n",
        "preparation.sort_values('movieId')"
      ],
      "execution_count": 31,
      "outputs": [
        {
          "output_type": "execute_result",
          "data": {
            "text/html": [
              "<div>\n",
              "<style scoped>\n",
              "    .dataframe tbody tr th:only-of-type {\n",
              "        vertical-align: middle;\n",
              "    }\n",
              "\n",
              "    .dataframe tbody tr th {\n",
              "        vertical-align: top;\n",
              "    }\n",
              "\n",
              "    .dataframe thead th {\n",
              "        text-align: right;\n",
              "    }\n",
              "</style>\n",
              "<table border=\"1\" class=\"dataframe\">\n",
              "  <thead>\n",
              "    <tr style=\"text-align: right;\">\n",
              "      <th></th>\n",
              "      <th>userId</th>\n",
              "      <th>movieId</th>\n",
              "      <th>rating</th>\n",
              "      <th>title</th>\n",
              "      <th>genres</th>\n",
              "    </tr>\n",
              "  </thead>\n",
              "  <tbody>\n",
              "    <tr>\n",
              "      <th>9713</th>\n",
              "      <td>68</td>\n",
              "      <td>1</td>\n",
              "      <td>4.0</td>\n",
              "      <td>Beautiful Boxer</td>\n",
              "      <td>[Drama]</td>\n",
              "    </tr>\n",
              "    <tr>\n",
              "      <th>35933</th>\n",
              "      <td>261</td>\n",
              "      <td>1</td>\n",
              "      <td>1.5</td>\n",
              "      <td>Chair de poule</td>\n",
              "      <td>[Crime, Drama]</td>\n",
              "    </tr>\n",
              "    <tr>\n",
              "      <th>52631</th>\n",
              "      <td>383</td>\n",
              "      <td>1</td>\n",
              "      <td>5.0</td>\n",
              "      <td>NaN</td>\n",
              "      <td>NaN</td>\n",
              "    </tr>\n",
              "    <tr>\n",
              "      <th>35983</th>\n",
              "      <td>262</td>\n",
              "      <td>1</td>\n",
              "      <td>2.5</td>\n",
              "      <td>Batman: Bad Blood</td>\n",
              "      <td>[Action, Animation, Science Fiction]</td>\n",
              "    </tr>\n",
              "    <tr>\n",
              "      <th>12038</th>\n",
              "      <td>77</td>\n",
              "      <td>1</td>\n",
              "      <td>4.0</td>\n",
              "      <td>The Good Night</td>\n",
              "      <td>[Comedy, Drama, Romance, Fantasy, Music]</td>\n",
              "    </tr>\n",
              "    <tr>\n",
              "      <th>...</th>\n",
              "      <td>...</td>\n",
              "      <td>...</td>\n",
              "      <td>...</td>\n",
              "      <td>...</td>\n",
              "      <td>...</td>\n",
              "    </tr>\n",
              "    <tr>\n",
              "      <th>39546</th>\n",
              "      <td>287</td>\n",
              "      <td>161944</td>\n",
              "      <td>5.0</td>\n",
              "      <td>The Book of Daniel</td>\n",
              "      <td>[Fantasy]</td>\n",
              "    </tr>\n",
              "    <tr>\n",
              "      <th>11823</th>\n",
              "      <td>73</td>\n",
              "      <td>162376</td>\n",
              "      <td>4.5</td>\n",
              "      <td>Caught</td>\n",
              "      <td>[Drama, Thriller]</td>\n",
              "    </tr>\n",
              "    <tr>\n",
              "      <th>92339</th>\n",
              "      <td>611</td>\n",
              "      <td>162542</td>\n",
              "      <td>5.0</td>\n",
              "      <td>NaN</td>\n",
              "      <td>NaN</td>\n",
              "    </tr>\n",
              "    <tr>\n",
              "      <th>92340</th>\n",
              "      <td>611</td>\n",
              "      <td>162672</td>\n",
              "      <td>3.0</td>\n",
              "      <td>NaN</td>\n",
              "      <td>NaN</td>\n",
              "    </tr>\n",
              "    <tr>\n",
              "      <th>80823</th>\n",
              "      <td>547</td>\n",
              "      <td>163949</td>\n",
              "      <td>5.0</td>\n",
              "      <td>NaN</td>\n",
              "      <td>NaN</td>\n",
              "    </tr>\n",
              "  </tbody>\n",
              "</table>\n",
              "<p>100004 rows × 5 columns</p>\n",
              "</div>"
            ],
            "text/plain": [
              "       userId  ...                                    genres\n",
              "9713       68  ...                                   [Drama]\n",
              "35933     261  ...                            [Crime, Drama]\n",
              "52631     383  ...                                       NaN\n",
              "35983     262  ...      [Action, Animation, Science Fiction]\n",
              "12038      77  ...  [Comedy, Drama, Romance, Fantasy, Music]\n",
              "...       ...  ...                                       ...\n",
              "39546     287  ...                                 [Fantasy]\n",
              "11823      73  ...                         [Drama, Thriller]\n",
              "92339     611  ...                                       NaN\n",
              "92340     611  ...                                       NaN\n",
              "80823     547  ...                                       NaN\n",
              "\n",
              "[100004 rows x 5 columns]"
            ]
          },
          "metadata": {},
          "execution_count": 31
        }
      ]
    },
    {
      "cell_type": "markdown",
      "metadata": {
        "id": "sEM4sKSfWOJP"
      },
      "source": [
        "### Menghapus Nilai Duplikat movieId"
      ]
    },
    {
      "cell_type": "code",
      "metadata": {
        "colab": {
          "base_uri": "https://localhost:8080/",
          "height": 419
        },
        "id": "uLzuS9n9pBdT",
        "outputId": "ab1bbaf7-f586-4a9e-aead-3257d1c037a7"
      },
      "source": [
        "preparation = preparation.drop_duplicates('movieId')\n",
        "preparation"
      ],
      "execution_count": 32,
      "outputs": [
        {
          "output_type": "execute_result",
          "data": {
            "text/html": [
              "<div>\n",
              "<style scoped>\n",
              "    .dataframe tbody tr th:only-of-type {\n",
              "        vertical-align: middle;\n",
              "    }\n",
              "\n",
              "    .dataframe tbody tr th {\n",
              "        vertical-align: top;\n",
              "    }\n",
              "\n",
              "    .dataframe thead th {\n",
              "        text-align: right;\n",
              "    }\n",
              "</style>\n",
              "<table border=\"1\" class=\"dataframe\">\n",
              "  <thead>\n",
              "    <tr style=\"text-align: right;\">\n",
              "      <th></th>\n",
              "      <th>userId</th>\n",
              "      <th>movieId</th>\n",
              "      <th>rating</th>\n",
              "      <th>title</th>\n",
              "      <th>genres</th>\n",
              "    </tr>\n",
              "  </thead>\n",
              "  <tbody>\n",
              "    <tr>\n",
              "      <th>0</th>\n",
              "      <td>1</td>\n",
              "      <td>31</td>\n",
              "      <td>2.5</td>\n",
              "      <td>Toy Story</td>\n",
              "      <td>[Animation, Comedy, Family]</td>\n",
              "    </tr>\n",
              "    <tr>\n",
              "      <th>1</th>\n",
              "      <td>1</td>\n",
              "      <td>1029</td>\n",
              "      <td>3.0</td>\n",
              "      <td>Jumanji</td>\n",
              "      <td>[Adventure, Fantasy, Family]</td>\n",
              "    </tr>\n",
              "    <tr>\n",
              "      <th>2</th>\n",
              "      <td>1</td>\n",
              "      <td>1061</td>\n",
              "      <td>3.0</td>\n",
              "      <td>Grumpier Old Men</td>\n",
              "      <td>[Romance, Comedy]</td>\n",
              "    </tr>\n",
              "    <tr>\n",
              "      <th>3</th>\n",
              "      <td>1</td>\n",
              "      <td>1129</td>\n",
              "      <td>2.0</td>\n",
              "      <td>Waiting to Exhale</td>\n",
              "      <td>[Comedy, Drama, Romance]</td>\n",
              "    </tr>\n",
              "    <tr>\n",
              "      <th>4</th>\n",
              "      <td>1</td>\n",
              "      <td>1172</td>\n",
              "      <td>4.0</td>\n",
              "      <td>Father of the Bride Part II</td>\n",
              "      <td>[Comedy]</td>\n",
              "    </tr>\n",
              "    <tr>\n",
              "      <th>...</th>\n",
              "      <td>...</td>\n",
              "      <td>...</td>\n",
              "      <td>...</td>\n",
              "      <td>...</td>\n",
              "      <td>...</td>\n",
              "    </tr>\n",
              "    <tr>\n",
              "      <th>99131</th>\n",
              "      <td>664</td>\n",
              "      <td>64997</td>\n",
              "      <td>2.5</td>\n",
              "      <td>NaN</td>\n",
              "      <td>NaN</td>\n",
              "    </tr>\n",
              "    <tr>\n",
              "      <th>99159</th>\n",
              "      <td>664</td>\n",
              "      <td>72380</td>\n",
              "      <td>3.5</td>\n",
              "      <td>NaN</td>\n",
              "      <td>NaN</td>\n",
              "    </tr>\n",
              "    <tr>\n",
              "      <th>99274</th>\n",
              "      <td>665</td>\n",
              "      <td>129</td>\n",
              "      <td>3.0</td>\n",
              "      <td>NaN</td>\n",
              "      <td>NaN</td>\n",
              "    </tr>\n",
              "    <tr>\n",
              "      <th>99678</th>\n",
              "      <td>665</td>\n",
              "      <td>4736</td>\n",
              "      <td>1.0</td>\n",
              "      <td>NaN</td>\n",
              "      <td>NaN</td>\n",
              "    </tr>\n",
              "    <tr>\n",
              "      <th>99820</th>\n",
              "      <td>668</td>\n",
              "      <td>6425</td>\n",
              "      <td>1.0</td>\n",
              "      <td>NaN</td>\n",
              "      <td>NaN</td>\n",
              "    </tr>\n",
              "  </tbody>\n",
              "</table>\n",
              "<p>9066 rows × 5 columns</p>\n",
              "</div>"
            ],
            "text/plain": [
              "       userId  ...                        genres\n",
              "0           1  ...   [Animation, Comedy, Family]\n",
              "1           1  ...  [Adventure, Fantasy, Family]\n",
              "2           1  ...             [Romance, Comedy]\n",
              "3           1  ...      [Comedy, Drama, Romance]\n",
              "4           1  ...                      [Comedy]\n",
              "...       ...  ...                           ...\n",
              "99131     664  ...                           NaN\n",
              "99159     664  ...                           NaN\n",
              "99274     665  ...                           NaN\n",
              "99678     665  ...                           NaN\n",
              "99820     668  ...                           NaN\n",
              "\n",
              "[9066 rows x 5 columns]"
            ]
          },
          "metadata": {},
          "execution_count": 32
        }
      ]
    },
    {
      "cell_type": "markdown",
      "metadata": {
        "id": "77ccSR9NWeLT"
      },
      "source": [
        "### Menghapus Data Kosong (NaN)"
      ]
    },
    {
      "cell_type": "code",
      "metadata": {
        "id": "LEDxZgCdvn7b"
      },
      "source": [
        "data_preparation = preparation.dropna()"
      ],
      "execution_count": 33,
      "outputs": []
    },
    {
      "cell_type": "markdown",
      "metadata": {
        "id": "xCxti1yzWp8l"
      },
      "source": [
        "### Mengkonversi Data Menjadi List"
      ]
    },
    {
      "cell_type": "code",
      "metadata": {
        "colab": {
          "base_uri": "https://localhost:8080/"
        },
        "id": "_VbwrZRXrHVz",
        "outputId": "d10cc5de-834d-4067-a036-a89944e62c3b"
      },
      "source": [
        "movie_id = data_preparation['movieId'].tolist() \n",
        "movie_name = data_preparation['title'].tolist()\n",
        "movie_genres = data_preparation['genres'].tolist()\n",
        "\n",
        "print(len(movie_id))\n",
        "print(len(movie_name))\n",
        "print(len(movie_genres))"
      ],
      "execution_count": 34,
      "outputs": [
        {
          "output_type": "stream",
          "name": "stdout",
          "text": [
            "6475\n",
            "6475\n",
            "6475\n"
          ]
        }
      ]
    },
    {
      "cell_type": "markdown",
      "metadata": {
        "id": "aJMaXNMAW0IJ"
      },
      "source": [
        "### Membuat Directionary Data "
      ]
    },
    {
      "cell_type": "code",
      "metadata": {
        "colab": {
          "base_uri": "https://localhost:8080/",
          "height": 419
        },
        "id": "lipJM2_5rf53",
        "outputId": "1d5139de-b575-4678-c50d-b5123298a628"
      },
      "source": [
        "new_movie = pd.DataFrame({\n",
        "    'id': movie_id,\n",
        "    'title': movie_name,\n",
        "    'genres': movie_genres,\n",
        "})\n",
        "new_movie"
      ],
      "execution_count": 35,
      "outputs": [
        {
          "output_type": "execute_result",
          "data": {
            "text/html": [
              "<div>\n",
              "<style scoped>\n",
              "    .dataframe tbody tr th:only-of-type {\n",
              "        vertical-align: middle;\n",
              "    }\n",
              "\n",
              "    .dataframe tbody tr th {\n",
              "        vertical-align: top;\n",
              "    }\n",
              "\n",
              "    .dataframe thead th {\n",
              "        text-align: right;\n",
              "    }\n",
              "</style>\n",
              "<table border=\"1\" class=\"dataframe\">\n",
              "  <thead>\n",
              "    <tr style=\"text-align: right;\">\n",
              "      <th></th>\n",
              "      <th>id</th>\n",
              "      <th>title</th>\n",
              "      <th>genres</th>\n",
              "    </tr>\n",
              "  </thead>\n",
              "  <tbody>\n",
              "    <tr>\n",
              "      <th>0</th>\n",
              "      <td>31</td>\n",
              "      <td>Toy Story</td>\n",
              "      <td>[Animation, Comedy, Family]</td>\n",
              "    </tr>\n",
              "    <tr>\n",
              "      <th>1</th>\n",
              "      <td>1029</td>\n",
              "      <td>Jumanji</td>\n",
              "      <td>[Adventure, Fantasy, Family]</td>\n",
              "    </tr>\n",
              "    <tr>\n",
              "      <th>2</th>\n",
              "      <td>1061</td>\n",
              "      <td>Grumpier Old Men</td>\n",
              "      <td>[Romance, Comedy]</td>\n",
              "    </tr>\n",
              "    <tr>\n",
              "      <th>3</th>\n",
              "      <td>1129</td>\n",
              "      <td>Waiting to Exhale</td>\n",
              "      <td>[Comedy, Drama, Romance]</td>\n",
              "    </tr>\n",
              "    <tr>\n",
              "      <th>4</th>\n",
              "      <td>1172</td>\n",
              "      <td>Father of the Bride Part II</td>\n",
              "      <td>[Comedy]</td>\n",
              "    </tr>\n",
              "    <tr>\n",
              "      <th>...</th>\n",
              "      <td>...</td>\n",
              "      <td>...</td>\n",
              "      <td>...</td>\n",
              "    </tr>\n",
              "    <tr>\n",
              "      <th>6470</th>\n",
              "      <td>6013</td>\n",
              "      <td>Hickok</td>\n",
              "      <td>[Western]</td>\n",
              "    </tr>\n",
              "    <tr>\n",
              "      <th>6471</th>\n",
              "      <td>6014</td>\n",
              "      <td>Do You Take This Man</td>\n",
              "      <td>[Drama]</td>\n",
              "    </tr>\n",
              "    <tr>\n",
              "      <th>6472</th>\n",
              "      <td>6154</td>\n",
              "      <td>Bromance</td>\n",
              "      <td>[Comedy, Drama, Romance]</td>\n",
              "    </tr>\n",
              "    <tr>\n",
              "      <th>6473</th>\n",
              "      <td>129428</td>\n",
              "      <td>Hit Me</td>\n",
              "      <td>[Drama, Mystery, Thriller]</td>\n",
              "    </tr>\n",
              "    <tr>\n",
              "      <th>6474</th>\n",
              "      <td>1133</td>\n",
              "      <td>Je hais les enfants!</td>\n",
              "      <td>[Comedy]</td>\n",
              "    </tr>\n",
              "  </tbody>\n",
              "</table>\n",
              "<p>6475 rows × 3 columns</p>\n",
              "</div>"
            ],
            "text/plain": [
              "          id                        title                        genres\n",
              "0         31                    Toy Story   [Animation, Comedy, Family]\n",
              "1       1029                      Jumanji  [Adventure, Fantasy, Family]\n",
              "2       1061             Grumpier Old Men             [Romance, Comedy]\n",
              "3       1129            Waiting to Exhale      [Comedy, Drama, Romance]\n",
              "4       1172  Father of the Bride Part II                      [Comedy]\n",
              "...      ...                          ...                           ...\n",
              "6470    6013                       Hickok                     [Western]\n",
              "6471    6014         Do You Take This Man                       [Drama]\n",
              "6472    6154                     Bromance      [Comedy, Drama, Romance]\n",
              "6473  129428                       Hit Me    [Drama, Mystery, Thriller]\n",
              "6474    1133         Je hais les enfants!                      [Comedy]\n",
              "\n",
              "[6475 rows x 3 columns]"
            ]
          },
          "metadata": {},
          "execution_count": 35
        }
      ]
    },
    {
      "cell_type": "markdown",
      "metadata": {
        "id": "IUgUvbMrW7To"
      },
      "source": [
        "### Melihat Missing Value"
      ]
    },
    {
      "cell_type": "code",
      "metadata": {
        "colab": {
          "base_uri": "https://localhost:8080/"
        },
        "id": "qGerikplvAce",
        "outputId": "1c086c45-ce77-4d4a-e7d2-5a1e885ab207"
      },
      "source": [
        "new_movie.isnull().sum()"
      ],
      "execution_count": 36,
      "outputs": [
        {
          "output_type": "execute_result",
          "data": {
            "text/plain": [
              "id        0\n",
              "title     0\n",
              "genres    0\n",
              "dtype: int64"
            ]
          },
          "metadata": {},
          "execution_count": 36
        }
      ]
    },
    {
      "cell_type": "markdown",
      "metadata": {
        "id": "ub_Rk69uXMhe"
      },
      "source": [
        "### Melakukan Encoding userId\n",
        "\n",
        "---\n",
        "\n",
        "1.   Merubah data userId menjadi List dan Memiliki nilai yang unik (Tidak sama)\n",
        "2.   Melakukan Encoding Data userId\n",
        "3.   Melakukan encoding angka ke userId \n",
        "\n",
        "---\n",
        "\n",
        "\n",
        "\n"
      ]
    },
    {
      "cell_type": "code",
      "metadata": {
        "colab": {
          "base_uri": "https://localhost:8080/"
        },
        "id": "z6moyW5oNHbg",
        "outputId": "8d845cd3-dbe3-49d3-96f3-73dc7bd291fa"
      },
      "source": [
        "user_ids = data1['userId'].unique().tolist()\n",
        "print('list userId: ', user_ids)\n",
        " \n",
        "user_to_user_encoded = {x: i for i, x in enumerate(user_ids)}\n",
        "print('encoded userId : ', user_to_user_encoded)\n",
        " \n",
        "user_encoded_to_user = {i: x for i, x in enumerate(user_ids)}\n",
        "print('encoded angka ke userId: ', user_encoded_to_user)"
      ],
      "execution_count": 37,
      "outputs": [
        {
          "output_type": "stream",
          "name": "stdout",
          "text": [
            "list userId:  [1, 2, 3, 4, 5, 6, 7, 8, 9, 10, 11, 12, 13, 14, 15, 16, 17, 18, 19, 20, 21, 22, 23, 24, 25, 26, 27, 28, 29, 30, 31, 32, 33, 34, 35, 36, 37, 38, 39, 40, 41, 42, 43, 44, 45, 46, 47, 48, 49, 50, 51, 52, 53, 54, 55, 56, 57, 58, 59, 60, 61, 62, 63, 64, 65, 66, 67, 68, 69, 70, 71, 72, 73, 74, 75, 76, 77, 78, 79, 80, 81, 82, 83, 84, 85, 86, 87, 88, 89, 90, 91, 92, 93, 94, 95, 96, 97, 98, 99, 100, 101, 102, 103, 104, 105, 106, 107, 108, 109, 110, 111, 112, 113, 114, 115, 116, 117, 118, 119, 120, 121, 122, 123, 124, 125, 126, 127, 128, 129, 130, 131, 132, 133, 134, 135, 136, 137, 138, 139, 140, 141, 142, 143, 144, 145, 146, 147, 148, 149, 150, 151, 152, 153, 154, 155, 156, 157, 158, 159, 160, 161, 162, 163, 164, 165, 166, 167, 168, 169, 170, 171, 172, 173, 174, 175, 176, 177, 178, 179, 180, 181, 182, 183, 184, 185, 186, 187, 188, 189, 190, 191, 192, 193, 194, 195, 196, 197, 198, 199, 200, 201, 202, 203, 204, 205, 206, 207, 208, 209, 210, 211, 212, 213, 214, 215, 216, 217, 218, 219, 220, 221, 222, 223, 224, 225, 226, 227, 228, 229, 230, 231, 232, 233, 234, 235, 236, 237, 238, 239, 240, 241, 242, 243, 244, 245, 246, 247, 248, 249, 250, 251, 252, 253, 254, 255, 256, 257, 258, 259, 260, 261, 262, 263, 264, 265, 266, 267, 268, 269, 270, 271, 272, 273, 274, 275, 276, 277, 278, 279, 280, 281, 282, 283, 284, 285, 286, 287, 288, 289, 290, 291, 292, 293, 294, 295, 296, 297, 298, 299, 300, 301, 302, 303, 304, 305, 306, 307, 308, 309, 310, 311, 312, 313, 314, 315, 316, 317, 318, 319, 320, 321, 322, 323, 324, 325, 326, 327, 328, 329, 330, 331, 332, 333, 334, 335, 336, 337, 338, 339, 340, 341, 342, 343, 344, 345, 346, 347, 348, 349, 350, 351, 352, 353, 354, 355, 356, 357, 358, 359, 360, 361, 362, 363, 364, 365, 366, 367, 368, 369, 370, 371, 372, 373, 374, 375, 376, 377, 378, 379, 380, 381, 382, 383, 384, 385, 386, 387, 388, 389, 390, 391, 392, 393, 394, 395, 396, 397, 398, 399, 400, 401, 402, 403, 404, 405, 406, 407, 408, 409, 410, 411, 412, 413, 414, 415, 416, 417, 418, 419, 420, 421, 422, 423, 424, 425, 426, 427, 428, 429, 430, 431, 432, 433, 434, 435, 436, 437, 438, 439, 440, 441, 442, 443, 444, 445, 446, 447, 448, 449, 450, 451, 452, 453, 454, 455, 456, 457, 458, 459, 460, 461, 462, 463, 464, 465, 466, 467, 468, 469, 470, 471, 472, 473, 474, 475, 476, 477, 478, 479, 480, 481, 482, 483, 484, 485, 486, 487, 488, 489, 490, 491, 492, 493, 494, 495, 496, 497, 498, 499, 500, 501, 502, 503, 504, 505, 506, 507, 508, 509, 510, 511, 512, 513, 514, 515, 516, 517, 518, 519, 520, 521, 522, 523, 524, 525, 526, 527, 528, 529, 530, 531, 532, 533, 534, 535, 536, 537, 538, 539, 540, 541, 542, 543, 544, 545, 546, 547, 548, 549, 550, 551, 552, 553, 554, 555, 556, 557, 558, 559, 560, 561, 562, 563, 564, 565, 566, 567, 568, 569, 570, 571, 572, 573, 574, 575, 576, 577, 578, 579, 580, 581, 582, 583, 584, 585, 586, 587, 588, 589, 590, 591, 592, 593, 594, 595, 596, 597, 598, 599, 600, 601, 602, 603, 604, 605, 606, 607, 608, 609, 610, 611, 612, 613, 614, 615, 616, 617, 618, 619, 620, 621, 622, 623, 624, 625, 626, 627, 628, 629, 630, 631, 632, 633, 634, 635, 636, 637, 638, 639, 640, 641, 642, 643, 644, 645, 646, 647, 648, 649, 650, 651, 652, 653, 654, 655, 656, 657, 658, 659, 660, 661, 662, 663, 664, 665, 666, 667, 668, 669, 670, 671]\n",
            "encoded userId :  {1: 0, 2: 1, 3: 2, 4: 3, 5: 4, 6: 5, 7: 6, 8: 7, 9: 8, 10: 9, 11: 10, 12: 11, 13: 12, 14: 13, 15: 14, 16: 15, 17: 16, 18: 17, 19: 18, 20: 19, 21: 20, 22: 21, 23: 22, 24: 23, 25: 24, 26: 25, 27: 26, 28: 27, 29: 28, 30: 29, 31: 30, 32: 31, 33: 32, 34: 33, 35: 34, 36: 35, 37: 36, 38: 37, 39: 38, 40: 39, 41: 40, 42: 41, 43: 42, 44: 43, 45: 44, 46: 45, 47: 46, 48: 47, 49: 48, 50: 49, 51: 50, 52: 51, 53: 52, 54: 53, 55: 54, 56: 55, 57: 56, 58: 57, 59: 58, 60: 59, 61: 60, 62: 61, 63: 62, 64: 63, 65: 64, 66: 65, 67: 66, 68: 67, 69: 68, 70: 69, 71: 70, 72: 71, 73: 72, 74: 73, 75: 74, 76: 75, 77: 76, 78: 77, 79: 78, 80: 79, 81: 80, 82: 81, 83: 82, 84: 83, 85: 84, 86: 85, 87: 86, 88: 87, 89: 88, 90: 89, 91: 90, 92: 91, 93: 92, 94: 93, 95: 94, 96: 95, 97: 96, 98: 97, 99: 98, 100: 99, 101: 100, 102: 101, 103: 102, 104: 103, 105: 104, 106: 105, 107: 106, 108: 107, 109: 108, 110: 109, 111: 110, 112: 111, 113: 112, 114: 113, 115: 114, 116: 115, 117: 116, 118: 117, 119: 118, 120: 119, 121: 120, 122: 121, 123: 122, 124: 123, 125: 124, 126: 125, 127: 126, 128: 127, 129: 128, 130: 129, 131: 130, 132: 131, 133: 132, 134: 133, 135: 134, 136: 135, 137: 136, 138: 137, 139: 138, 140: 139, 141: 140, 142: 141, 143: 142, 144: 143, 145: 144, 146: 145, 147: 146, 148: 147, 149: 148, 150: 149, 151: 150, 152: 151, 153: 152, 154: 153, 155: 154, 156: 155, 157: 156, 158: 157, 159: 158, 160: 159, 161: 160, 162: 161, 163: 162, 164: 163, 165: 164, 166: 165, 167: 166, 168: 167, 169: 168, 170: 169, 171: 170, 172: 171, 173: 172, 174: 173, 175: 174, 176: 175, 177: 176, 178: 177, 179: 178, 180: 179, 181: 180, 182: 181, 183: 182, 184: 183, 185: 184, 186: 185, 187: 186, 188: 187, 189: 188, 190: 189, 191: 190, 192: 191, 193: 192, 194: 193, 195: 194, 196: 195, 197: 196, 198: 197, 199: 198, 200: 199, 201: 200, 202: 201, 203: 202, 204: 203, 205: 204, 206: 205, 207: 206, 208: 207, 209: 208, 210: 209, 211: 210, 212: 211, 213: 212, 214: 213, 215: 214, 216: 215, 217: 216, 218: 217, 219: 218, 220: 219, 221: 220, 222: 221, 223: 222, 224: 223, 225: 224, 226: 225, 227: 226, 228: 227, 229: 228, 230: 229, 231: 230, 232: 231, 233: 232, 234: 233, 235: 234, 236: 235, 237: 236, 238: 237, 239: 238, 240: 239, 241: 240, 242: 241, 243: 242, 244: 243, 245: 244, 246: 245, 247: 246, 248: 247, 249: 248, 250: 249, 251: 250, 252: 251, 253: 252, 254: 253, 255: 254, 256: 255, 257: 256, 258: 257, 259: 258, 260: 259, 261: 260, 262: 261, 263: 262, 264: 263, 265: 264, 266: 265, 267: 266, 268: 267, 269: 268, 270: 269, 271: 270, 272: 271, 273: 272, 274: 273, 275: 274, 276: 275, 277: 276, 278: 277, 279: 278, 280: 279, 281: 280, 282: 281, 283: 282, 284: 283, 285: 284, 286: 285, 287: 286, 288: 287, 289: 288, 290: 289, 291: 290, 292: 291, 293: 292, 294: 293, 295: 294, 296: 295, 297: 296, 298: 297, 299: 298, 300: 299, 301: 300, 302: 301, 303: 302, 304: 303, 305: 304, 306: 305, 307: 306, 308: 307, 309: 308, 310: 309, 311: 310, 312: 311, 313: 312, 314: 313, 315: 314, 316: 315, 317: 316, 318: 317, 319: 318, 320: 319, 321: 320, 322: 321, 323: 322, 324: 323, 325: 324, 326: 325, 327: 326, 328: 327, 329: 328, 330: 329, 331: 330, 332: 331, 333: 332, 334: 333, 335: 334, 336: 335, 337: 336, 338: 337, 339: 338, 340: 339, 341: 340, 342: 341, 343: 342, 344: 343, 345: 344, 346: 345, 347: 346, 348: 347, 349: 348, 350: 349, 351: 350, 352: 351, 353: 352, 354: 353, 355: 354, 356: 355, 357: 356, 358: 357, 359: 358, 360: 359, 361: 360, 362: 361, 363: 362, 364: 363, 365: 364, 366: 365, 367: 366, 368: 367, 369: 368, 370: 369, 371: 370, 372: 371, 373: 372, 374: 373, 375: 374, 376: 375, 377: 376, 378: 377, 379: 378, 380: 379, 381: 380, 382: 381, 383: 382, 384: 383, 385: 384, 386: 385, 387: 386, 388: 387, 389: 388, 390: 389, 391: 390, 392: 391, 393: 392, 394: 393, 395: 394, 396: 395, 397: 396, 398: 397, 399: 398, 400: 399, 401: 400, 402: 401, 403: 402, 404: 403, 405: 404, 406: 405, 407: 406, 408: 407, 409: 408, 410: 409, 411: 410, 412: 411, 413: 412, 414: 413, 415: 414, 416: 415, 417: 416, 418: 417, 419: 418, 420: 419, 421: 420, 422: 421, 423: 422, 424: 423, 425: 424, 426: 425, 427: 426, 428: 427, 429: 428, 430: 429, 431: 430, 432: 431, 433: 432, 434: 433, 435: 434, 436: 435, 437: 436, 438: 437, 439: 438, 440: 439, 441: 440, 442: 441, 443: 442, 444: 443, 445: 444, 446: 445, 447: 446, 448: 447, 449: 448, 450: 449, 451: 450, 452: 451, 453: 452, 454: 453, 455: 454, 456: 455, 457: 456, 458: 457, 459: 458, 460: 459, 461: 460, 462: 461, 463: 462, 464: 463, 465: 464, 466: 465, 467: 466, 468: 467, 469: 468, 470: 469, 471: 470, 472: 471, 473: 472, 474: 473, 475: 474, 476: 475, 477: 476, 478: 477, 479: 478, 480: 479, 481: 480, 482: 481, 483: 482, 484: 483, 485: 484, 486: 485, 487: 486, 488: 487, 489: 488, 490: 489, 491: 490, 492: 491, 493: 492, 494: 493, 495: 494, 496: 495, 497: 496, 498: 497, 499: 498, 500: 499, 501: 500, 502: 501, 503: 502, 504: 503, 505: 504, 506: 505, 507: 506, 508: 507, 509: 508, 510: 509, 511: 510, 512: 511, 513: 512, 514: 513, 515: 514, 516: 515, 517: 516, 518: 517, 519: 518, 520: 519, 521: 520, 522: 521, 523: 522, 524: 523, 525: 524, 526: 525, 527: 526, 528: 527, 529: 528, 530: 529, 531: 530, 532: 531, 533: 532, 534: 533, 535: 534, 536: 535, 537: 536, 538: 537, 539: 538, 540: 539, 541: 540, 542: 541, 543: 542, 544: 543, 545: 544, 546: 545, 547: 546, 548: 547, 549: 548, 550: 549, 551: 550, 552: 551, 553: 552, 554: 553, 555: 554, 556: 555, 557: 556, 558: 557, 559: 558, 560: 559, 561: 560, 562: 561, 563: 562, 564: 563, 565: 564, 566: 565, 567: 566, 568: 567, 569: 568, 570: 569, 571: 570, 572: 571, 573: 572, 574: 573, 575: 574, 576: 575, 577: 576, 578: 577, 579: 578, 580: 579, 581: 580, 582: 581, 583: 582, 584: 583, 585: 584, 586: 585, 587: 586, 588: 587, 589: 588, 590: 589, 591: 590, 592: 591, 593: 592, 594: 593, 595: 594, 596: 595, 597: 596, 598: 597, 599: 598, 600: 599, 601: 600, 602: 601, 603: 602, 604: 603, 605: 604, 606: 605, 607: 606, 608: 607, 609: 608, 610: 609, 611: 610, 612: 611, 613: 612, 614: 613, 615: 614, 616: 615, 617: 616, 618: 617, 619: 618, 620: 619, 621: 620, 622: 621, 623: 622, 624: 623, 625: 624, 626: 625, 627: 626, 628: 627, 629: 628, 630: 629, 631: 630, 632: 631, 633: 632, 634: 633, 635: 634, 636: 635, 637: 636, 638: 637, 639: 638, 640: 639, 641: 640, 642: 641, 643: 642, 644: 643, 645: 644, 646: 645, 647: 646, 648: 647, 649: 648, 650: 649, 651: 650, 652: 651, 653: 652, 654: 653, 655: 654, 656: 655, 657: 656, 658: 657, 659: 658, 660: 659, 661: 660, 662: 661, 663: 662, 664: 663, 665: 664, 666: 665, 667: 666, 668: 667, 669: 668, 670: 669, 671: 670}\n",
            "encoded angka ke userId:  {0: 1, 1: 2, 2: 3, 3: 4, 4: 5, 5: 6, 6: 7, 7: 8, 8: 9, 9: 10, 10: 11, 11: 12, 12: 13, 13: 14, 14: 15, 15: 16, 16: 17, 17: 18, 18: 19, 19: 20, 20: 21, 21: 22, 22: 23, 23: 24, 24: 25, 25: 26, 26: 27, 27: 28, 28: 29, 29: 30, 30: 31, 31: 32, 32: 33, 33: 34, 34: 35, 35: 36, 36: 37, 37: 38, 38: 39, 39: 40, 40: 41, 41: 42, 42: 43, 43: 44, 44: 45, 45: 46, 46: 47, 47: 48, 48: 49, 49: 50, 50: 51, 51: 52, 52: 53, 53: 54, 54: 55, 55: 56, 56: 57, 57: 58, 58: 59, 59: 60, 60: 61, 61: 62, 62: 63, 63: 64, 64: 65, 65: 66, 66: 67, 67: 68, 68: 69, 69: 70, 70: 71, 71: 72, 72: 73, 73: 74, 74: 75, 75: 76, 76: 77, 77: 78, 78: 79, 79: 80, 80: 81, 81: 82, 82: 83, 83: 84, 84: 85, 85: 86, 86: 87, 87: 88, 88: 89, 89: 90, 90: 91, 91: 92, 92: 93, 93: 94, 94: 95, 95: 96, 96: 97, 97: 98, 98: 99, 99: 100, 100: 101, 101: 102, 102: 103, 103: 104, 104: 105, 105: 106, 106: 107, 107: 108, 108: 109, 109: 110, 110: 111, 111: 112, 112: 113, 113: 114, 114: 115, 115: 116, 116: 117, 117: 118, 118: 119, 119: 120, 120: 121, 121: 122, 122: 123, 123: 124, 124: 125, 125: 126, 126: 127, 127: 128, 128: 129, 129: 130, 130: 131, 131: 132, 132: 133, 133: 134, 134: 135, 135: 136, 136: 137, 137: 138, 138: 139, 139: 140, 140: 141, 141: 142, 142: 143, 143: 144, 144: 145, 145: 146, 146: 147, 147: 148, 148: 149, 149: 150, 150: 151, 151: 152, 152: 153, 153: 154, 154: 155, 155: 156, 156: 157, 157: 158, 158: 159, 159: 160, 160: 161, 161: 162, 162: 163, 163: 164, 164: 165, 165: 166, 166: 167, 167: 168, 168: 169, 169: 170, 170: 171, 171: 172, 172: 173, 173: 174, 174: 175, 175: 176, 176: 177, 177: 178, 178: 179, 179: 180, 180: 181, 181: 182, 182: 183, 183: 184, 184: 185, 185: 186, 186: 187, 187: 188, 188: 189, 189: 190, 190: 191, 191: 192, 192: 193, 193: 194, 194: 195, 195: 196, 196: 197, 197: 198, 198: 199, 199: 200, 200: 201, 201: 202, 202: 203, 203: 204, 204: 205, 205: 206, 206: 207, 207: 208, 208: 209, 209: 210, 210: 211, 211: 212, 212: 213, 213: 214, 214: 215, 215: 216, 216: 217, 217: 218, 218: 219, 219: 220, 220: 221, 221: 222, 222: 223, 223: 224, 224: 225, 225: 226, 226: 227, 227: 228, 228: 229, 229: 230, 230: 231, 231: 232, 232: 233, 233: 234, 234: 235, 235: 236, 236: 237, 237: 238, 238: 239, 239: 240, 240: 241, 241: 242, 242: 243, 243: 244, 244: 245, 245: 246, 246: 247, 247: 248, 248: 249, 249: 250, 250: 251, 251: 252, 252: 253, 253: 254, 254: 255, 255: 256, 256: 257, 257: 258, 258: 259, 259: 260, 260: 261, 261: 262, 262: 263, 263: 264, 264: 265, 265: 266, 266: 267, 267: 268, 268: 269, 269: 270, 270: 271, 271: 272, 272: 273, 273: 274, 274: 275, 275: 276, 276: 277, 277: 278, 278: 279, 279: 280, 280: 281, 281: 282, 282: 283, 283: 284, 284: 285, 285: 286, 286: 287, 287: 288, 288: 289, 289: 290, 290: 291, 291: 292, 292: 293, 293: 294, 294: 295, 295: 296, 296: 297, 297: 298, 298: 299, 299: 300, 300: 301, 301: 302, 302: 303, 303: 304, 304: 305, 305: 306, 306: 307, 307: 308, 308: 309, 309: 310, 310: 311, 311: 312, 312: 313, 313: 314, 314: 315, 315: 316, 316: 317, 317: 318, 318: 319, 319: 320, 320: 321, 321: 322, 322: 323, 323: 324, 324: 325, 325: 326, 326: 327, 327: 328, 328: 329, 329: 330, 330: 331, 331: 332, 332: 333, 333: 334, 334: 335, 335: 336, 336: 337, 337: 338, 338: 339, 339: 340, 340: 341, 341: 342, 342: 343, 343: 344, 344: 345, 345: 346, 346: 347, 347: 348, 348: 349, 349: 350, 350: 351, 351: 352, 352: 353, 353: 354, 354: 355, 355: 356, 356: 357, 357: 358, 358: 359, 359: 360, 360: 361, 361: 362, 362: 363, 363: 364, 364: 365, 365: 366, 366: 367, 367: 368, 368: 369, 369: 370, 370: 371, 371: 372, 372: 373, 373: 374, 374: 375, 375: 376, 376: 377, 377: 378, 378: 379, 379: 380, 380: 381, 381: 382, 382: 383, 383: 384, 384: 385, 385: 386, 386: 387, 387: 388, 388: 389, 389: 390, 390: 391, 391: 392, 392: 393, 393: 394, 394: 395, 395: 396, 396: 397, 397: 398, 398: 399, 399: 400, 400: 401, 401: 402, 402: 403, 403: 404, 404: 405, 405: 406, 406: 407, 407: 408, 408: 409, 409: 410, 410: 411, 411: 412, 412: 413, 413: 414, 414: 415, 415: 416, 416: 417, 417: 418, 418: 419, 419: 420, 420: 421, 421: 422, 422: 423, 423: 424, 424: 425, 425: 426, 426: 427, 427: 428, 428: 429, 429: 430, 430: 431, 431: 432, 432: 433, 433: 434, 434: 435, 435: 436, 436: 437, 437: 438, 438: 439, 439: 440, 440: 441, 441: 442, 442: 443, 443: 444, 444: 445, 445: 446, 446: 447, 447: 448, 448: 449, 449: 450, 450: 451, 451: 452, 452: 453, 453: 454, 454: 455, 455: 456, 456: 457, 457: 458, 458: 459, 459: 460, 460: 461, 461: 462, 462: 463, 463: 464, 464: 465, 465: 466, 466: 467, 467: 468, 468: 469, 469: 470, 470: 471, 471: 472, 472: 473, 473: 474, 474: 475, 475: 476, 476: 477, 477: 478, 478: 479, 479: 480, 480: 481, 481: 482, 482: 483, 483: 484, 484: 485, 485: 486, 486: 487, 487: 488, 488: 489, 489: 490, 490: 491, 491: 492, 492: 493, 493: 494, 494: 495, 495: 496, 496: 497, 497: 498, 498: 499, 499: 500, 500: 501, 501: 502, 502: 503, 503: 504, 504: 505, 505: 506, 506: 507, 507: 508, 508: 509, 509: 510, 510: 511, 511: 512, 512: 513, 513: 514, 514: 515, 515: 516, 516: 517, 517: 518, 518: 519, 519: 520, 520: 521, 521: 522, 522: 523, 523: 524, 524: 525, 525: 526, 526: 527, 527: 528, 528: 529, 529: 530, 530: 531, 531: 532, 532: 533, 533: 534, 534: 535, 535: 536, 536: 537, 537: 538, 538: 539, 539: 540, 540: 541, 541: 542, 542: 543, 543: 544, 544: 545, 545: 546, 546: 547, 547: 548, 548: 549, 549: 550, 550: 551, 551: 552, 552: 553, 553: 554, 554: 555, 555: 556, 556: 557, 557: 558, 558: 559, 559: 560, 560: 561, 561: 562, 562: 563, 563: 564, 564: 565, 565: 566, 566: 567, 567: 568, 568: 569, 569: 570, 570: 571, 571: 572, 572: 573, 573: 574, 574: 575, 575: 576, 576: 577, 577: 578, 578: 579, 579: 580, 580: 581, 581: 582, 582: 583, 583: 584, 584: 585, 585: 586, 586: 587, 587: 588, 588: 589, 589: 590, 590: 591, 591: 592, 592: 593, 593: 594, 594: 595, 595: 596, 596: 597, 597: 598, 598: 599, 599: 600, 600: 601, 601: 602, 602: 603, 603: 604, 604: 605, 605: 606, 606: 607, 607: 608, 608: 609, 609: 610, 610: 611, 611: 612, 612: 613, 613: 614, 614: 615, 615: 616, 616: 617, 617: 618, 618: 619, 619: 620, 620: 621, 621: 622, 622: 623, 623: 624, 624: 625, 625: 626, 626: 627, 627: 628, 628: 629, 629: 630, 630: 631, 631: 632, 632: 633, 633: 634, 634: 635, 635: 636, 636: 637, 637: 638, 638: 639, 639: 640, 640: 641, 641: 642, 642: 643, 643: 644, 644: 645, 645: 646, 646: 647, 647: 648, 648: 649, 649: 650, 650: 651, 651: 652, 652: 653, 653: 654, 654: 655, 655: 656, 656: 657, 657: 658, 658: 659, 659: 660, 660: 661, 661: 662, 662: 663, 663: 664, 664: 665, 665: 666, 666: 667, 667: 668, 668: 669, 669: 670, 670: 671}\n"
          ]
        }
      ]
    },
    {
      "cell_type": "markdown",
      "metadata": {
        "id": "Im-l2JmbYEuo"
      },
      "source": [
        "### Melakukan Encoding movieId\n",
        "\n",
        "---\n",
        "\n",
        "1.   Merubah data movieId menjadi List dan Memiliki nilai yang unik (Tidak sama)\n",
        "2.   Melakukan Encoding Data movieId\n",
        "3.   Melakukan encoding angka ke movieId \n",
        "\n",
        "---"
      ]
    },
    {
      "cell_type": "code",
      "metadata": {
        "colab": {
          "base_uri": "https://localhost:8080/"
        },
        "id": "ePx7pk8OX8J7",
        "outputId": "1f9548a8-f3d7-4a1d-9389-df710fb72fc2"
      },
      "source": [
        "movie_ids = data1['movieId'].unique().tolist()\n",
        "print('list movieId: ', movie_ids) \n",
        "\n",
        "movie_to_movie_encoded = {x: i for i, x in enumerate(movie_ids)}\n",
        "print('encoded movieId : ', movie_to_movie_encoded) \n",
        "\n",
        "movie_encoded_to_movie = {i: x for i, x in enumerate(movie_ids)}\n",
        "print('encoded angka ke movieId: ', movie_encoded_to_movie)"
      ],
      "execution_count": 38,
      "outputs": [
        {
          "output_type": "stream",
          "name": "stdout",
          "text": [
            "list movieId:  [31, 1029, 1061, 1129, 1172, 1263, 1287, 1293, 1339, 1343, 1371, 1405, 1953, 2105, 2150, 2193, 2294, 2455, 2968, 3671, 10, 17, 39, 47, 50, 52, 62, 110, 144, 150, 153, 161, 165, 168, 185, 186, 208, 222, 223, 225, 235, 248, 253, 261, 265, 266, 272, 273, 292, 296, 300, 314, 317, 319, 339, 349, 350, 356, 357, 364, 367, 370, 371, 372, 377, 382, 405, 410, 454, 457, 468, 474, 480, 485, 497, 500, 508, 509, 515, 527, 537, 539, 550, 551, 552, 585, 586, 587, 588, 589, 590, 592, 593, 616, 661, 720, 60, 247, 267, 318, 355, 595, 736, 778, 866, 1197, 1210, 1235, 1271, 1378, 1580, 1721, 1884, 2028, 2318, 2513, 2694, 2702, 2716, 2762, 2841, 2858, 2959, 3243, 3510, 3949, 5349, 5669, 6377, 7153, 7361, 8622, 8636, 27369, 44191, 48783, 50068, 58559, 84236, 34, 112, 141, 173, 260, 289, 329, 380, 431, 434, 435, 440, 442, 464, 541, 594, 596, 610, 858, 903, 910, 913, 919, 1011, 1016, 1022, 1028, 1030, 1031, 1032, 1033, 1036, 1073, 1079, 1089, 1097, 1125, 1127, 1136, 1194, 1196, 1198, 1200, 1206, 1208, 1213, 1214, 1219, 1220, 1222, 1225, 1230, 1240, 1243, 1257, 1258, 1259, 1265, 1270, 1278, 1282, 1285, 1288, 1291, 1298, 1307, 1332, 1334, 1344, 1356, 1372, 1374, 1376, 1377, 1380, 1387, 1388, 1396, 1544, 1663, 1674, 1805, 1858, 1917, 1918, 1954, 1961, 1967, 1968, 1994, 2000, 2002, 2003, 2005, 2014, 2018, 2020, 2021, 2033, 2034, 2046, 2054, 2064, 2078, 2080, 2081, 2085, 2086, 2087, 2091, 2094, 2096, 2100, 2102, 2109, 2110, 2114, 2115, 2124, 2140, 2141, 2143, 2144, 2161, 2174, 2194, 2248, 2263, 2268, 2289, 2348, 2371, 2403, 2406, 2409, 2454, 2467, 2551, 2616, 2628, 2640, 2659, 2683, 2699, 2723, 2734, 2770, 2788, 2791, 2795, 2797, 2804, 2822, 2867, 2872, 2877, 2902, 2903, 2916, 2918, 2986, 2987, 2991, 3016, 3034, 3039, 3040, 3060, 3071, 3101, 3104, 3108, 3169, 3208, 3210, 3251, 3255, 3263, 3265, 4006, 3, 104, 231, 277, 344, 597, 788, 1035, 1193, 1221, 1247, 1393, 1485, 1682, 1777, 1784, 1923, 1997, 2023, 2273, 2355, 2424, 2502, 2706, 2997, 3114, 3176, 3408, 3753, 3897, 3948, 4014, 4018, 4022, 4025, 4306, 4308, 4447, 4718, 4963, 4995, 5266, 5299, 5464, 5679, 5816, 5995, 6218, 6373, 6502, 6711, 6942, 8376, 8464, 8644, 30707, 30749, 30793, 33166, 33679, 34162, 35836, 40819, 41566, 41569, 48385, 111, 158, 293, 1204, 1250, 1276, 1358, 1639, 1687, 1747, 1876, 1909, 2001, 2019, 2072, 2528, 2529, 2571, 2657, 2692, 2761, 2890, 3052, 3300, 3751, 4641, 4975, 5952, 7090, 8368, 8784, 8874, 1, 21, 40, 151, 198, 207, 316, 333, 345, 534, 671, 708, 724, 737, 745, 780, 786, 924, 1080, 1148, 1223, 1231, 1242, 1275, 1302, 1353, 1373, 1375, 1394, 1408, 32, 45, 282, 520, 524, 543, 628, 805, 1500, 1552, 1617, 1625, 1704, 1754, 2139, 2302, 2324, 2329, 2353, 2423, 3147, 3578, 3916, 3996, 4011, 4019, 4034, 4226, 4262, 4448, 4886, 4896, 4973, 4993, 5064, 5378, 5445, 5630, 5650, 5989, 6378, 6870, 6874, 6879, 7143, 7438, 8533, 8873, 32587, 33493, 33794, 40583, 42007, 43556, 43871, 44004, 26, 36, 608, 733, 1059, 1177, 1357, 1411, 1541, 1584, 1680, 2125, 2249, 2278, 2291, 2391, 2396, 2427, 2490, 2501, 2539, 2857, 152, 735, 1101, 1423, 1459, 1499, 1611, 1690, 1719, 1887, 2108, 2344, 2410, 2826, 2827, 2840, 2881, 2907, 2926, 2995, 3005, 3019, 70, 126, 169, 785, 923, 1027, 1201, 2042, 2596, 3424, 6598, 26614, 48516, 51084, 58295, 71211, 77455, 79132, 80489, 80906, 81158, 81562, 88129, 91500, 91529, 91548, 96079, 96861, 97938, 104841, 106487, 529, 538, 673, 1077, 1215, 1295, 1732, 2259, 2460, 2668, 3146, 3148, 3179, 3298, 3324, 3474, 3770, 3773, 3780, 3791, 3793, 3794, 3798, 3799, 3801, 3809, 3825, 3827, 3829, 3831, 3841, 3844, 3861, 3863, 3864, 3865, 3869, 3871, 3873, 3879, 3885, 3886, 6184, 362, 531, 914, 2572, 2908, 3396, 3624, 4310, 4321, 4878, 7502, 54286, 64614, 69757, 78499, 81834, 88125, 93363, 2038, 2394, 2720, 2724, 2861, 3157, 3175, 3354, 3623, 3986, 3988, 2, 5, 6, 11, 14, 16, 19, 22, 25, 44, 82, 94, 95, 101, 107, 123, 125, 145, 149, 157, 160, 162, 163, 164, 170, 172, 175, 176, 180, 193, 196, 214, 215, 216, 230, 232, 233, 237, 246, 252, 288, 306, 307, 308, 322, 335, 342, 353, 373, 429, 441, 466, 471, 481, 483, 494, 535, 540, 549, 555, 556, 562, 574, 647, 648, 663, 665, 674, 680, 748, 750, 762, 784, 799, 800, 802, 803, 804, 832, 836, 851, 899, 904, 908, 909, 911, 912, 916, 920, 922, 926, 931, 953, 994, 1020, 1041, 1047, 1060, 1084, 1088, 1092, 1093, 1094, 1095, 1100, 1120, 1131, 1147, 1171, 1173, 1176, 1178, 1179, 1183, 1186, 1189, 1199, 1203, 1207, 1209, 1211, 1212, 1217, 1218, 1228, 1233, 1234, 1244, 1246, 1248, 1249, 1251, 1252, 1254, 1260, 1262, 1264, 1266, 1267, 1272, 1280, 1281, 1283, 1284, 1289, 1290, 1297, 1303, 1304, 1320, 1333, 1342, 1361, 1370, 1385, 1391, 1407, 1449, 1464, 1466, 1476, 1479, 1483, 1484, 1502, 1503, 1513, 1517, 1527, 1529, 1546, 1556, 1562, 1569, 1573, 1589, 1597, 1608, 1610, 1615, 1616, 1635, 1644, 1645, 1649, 1653, 1673, 1676, 1689, 1694, 1717, 1722, 1729, 1735, 1748, 1752, 1753, 1779, 1792, 1807, 1810, 1816, 1827, 1831, 1834, 1836, 1845, 1859, 1860, 1862, 1882, 1883, 1889, 1895, 1897, 1904, 1912, 1914, 1921, 1945, 1950, 1952, 1955, 1956, 1962, 1964, 2006, 2010, 2011, 2012, 2025, 2041, 2058, 2060, 2076, 2126, 2133, 2134, 2145, 2160, 2167, 2186, 2231, 2232, 2243, 2269, 2282, 2288, 2303, 2311, 2313, 2321, 2333, 2334, 2336, 2340, 2351, 2357, 2360, 2366, 2369, 2378, 2387, 2395, 2405, 2407, 2413, 2428, 2439, 2447, 2478, 2505, 2541, 2542, 2560, 2568, 2574, 2575, 2579, 2580, 2581, 2585, 2594, 2598, 2599, 2600, 2605, 2617, 2624, 2648, 2671, 2678, 2686, 2700, 2701, 2707, 2709, 2710, 2712, 2713, 2717, 2718, 2722, 2726, 2729, 2759, 2763, 2769, 2803, 2819, 2871, 2905, 2912, 2915, 2925, 2947, 2949, 2952, 2973, 2976, 2983, 2985, 2990, 2993, 3000, 3004, 3006, 3007, 3008, 3010, 3020, 3030, 3033, 3044, 3077, 3081, 3082, 3083, 3089, 3107, 3113, 3128, 3129, 3134, 3150, 3152, 3160, 3168, 3173, 3174, 3181, 3182, 3185, 3219, 3225, 3246, 3250, 3253, 3256, 3261, 3262, 3266, 3267, 3272, 3273, 3275, 3285, 3286, 3301, 3307, 3316, 3317, 3318, 3320, 3328, 3358, 3361, 3362, 3386, 3390, 3409, 3418, 3421, 3429, 3435, 3448, 3461, 3462, 3471, 3476, 3477, 3481, 3484, 3489, 3499, 3504, 3505, 3512, 3527, 3534, 3535, 3536, 3538, 3543, 3552, 3555, 3556, 3566, 3569, 3571, 3577, 3598, 3617, 3618, 3626, 3633, 3634, 3635, 3638, 3639, 3683, 3707, 3717, 3728, 3730, 3735, 3742, 3745, 3747, 3752, 3755, 3763, 3783, 3785, 3786, 3787, 3788, 3800, 3823, 3826, 3852, 3854, 3868, 3882, 3892, 3893, 3896, 3910, 3911, 3915, 3943, 3952, 3956, 3967, 3968, 3969, 3977, 3979, 3981, 3983, 3984, 3987, 3989, 3990, 3993, 3994, 3998, 3999, 4005, 4007, 4010, 4015, 4017, 4020, 4021, 4023, 4027, 4029, 4030, 4033, 4036, 4037, 4052, 4055, 4056, 4066, 4079, 4082, 4085, 4121, 4144, 4148, 4149, 4158, 4161, 4167, 4168, 4210, 4223, 4225, 4232, 4235, 4238, 4239, 4246, 4247, 4270, 4271, 4299, 4302, 4322, 4343, 4344, 4351, 4361, 4367, 4369, 4370, 4372, 4378, 4380, 4381, 4383, 4386, 4388, 4410, 4446, 4450, 4451, 4489, 4546, 4571, 4621, 4623, 4638, 4639, 4642, 4643, 4654, 4658, 4666, 4675, 4678, 4679, 4700, 4701, 4713, 4719, 4720, 4723, 4727, 4728, 4731, 4734, 4738, 4744, 4776, 4816, 4823, 4844, 4848, 4873, 4881, 4888, 4890, 4901, 4902, 4903, 4914, 4958, 4974, 4979, 4992, 5000, 5008, 5010, 5013, 5015, 5026, 5060, 5066, 5071, 5074, 5075, 5110, 5120, 5128, 5135, 5170, 5171, 5218, 5219, 5220, 5222, 5225, 5254, 5269, 5279, 5283, 5291, 5293, 5296, 5298, 5308, 5313, 5319, 5339, 5346, 5363, 5364, 5377, 5388, 5391, 5400, 5410, 5416, 5418, 5419, 5444, 5449, 5458, 5459, 5463, 5477, 5478, 5481, 5500, 5502, 5504, 5507, 5508, 5515, 5524, 5528, 5541, 5553, 5568, 5577, 5617, 5618, 5620, 5662, 5673, 5791, 5792, 5809, 5872, 5878, 5893, 5902, 5903, 5909, 5945, 5954, 5956, 5957, 5959, 5968, 5991, 6003, 6016, 6025, 6037, 6059, 6155, 6157, 6180, 6188, 6203, 6271, 6281, 6283, 6287, 6296, 6299, 6303, 6327, 6331, 6333, 6365, 6380, 6385, 6433, 6440, 6442, 6464, 6503, 6534, 6537, 6539, 6547, 6552, 6586, 6593, 6620, 6641, 6650, 6708, 6754, 6773, 6783, 6787, 6816, 6820, 6863, 6867, 6873, 6875, 6885, 6932, 6934, 6936, 6944, 6947, 6953, 6957, 6961, 6975, 6978, 6979, 6989, 7003, 7004, 7008, 7010, 7028, 7034, 7123, 7132, 7147, 7156, 7162, 7173, 7199, 7254, 7265, 7293, 7317, 7323, 7325, 7327, 7346, 7348, 7371, 7373, 7444, 7445, 7451, 7458, 7484, 7487, 7560, 7569, 7573, 7698, 7792, 7925, 8011, 8264, 8360, 8361, 8366, 8528, 8529, 8531, 8581, 8582, 8623, 8638, 8641, 8645, 8665, 8781, 8798, 8807, 8865, 8910, 8914, 8917, 8930, 8948, 8949, 8950, 8957, 8958, 8961, 8970, 8972, 8974, 8984, 26131, 26152, 26587, 26729, 26810, 27020, 27478, 27660, 27773, 27821, 27846, 27904, 30810, 30812, 30825, 31685, 31696, 33004, 33154, 34048, 34072, 34150, 34319, 34334, 34405, 34542, 35957, 36517, 36529, 37386, 37729, 37741, 38061, 38886, 39292, 40815, 41997, 42718, 44195, 44199, 44555, 44597, 44665, 44761, 44788, 45186, 45447, 45499, 45517, 45666, 45672, 45720, 45722, 45728, 45950, 46530, 46578, 46723, 46970, 46972, 46976, 47610, 47999, 48043, 48082, 48394, 48774, 48780, 49272, 49278, 49286, 50851, 50872, 51080, 51255, 51540, 51662, 52245, 52328, 52604, 52722, 52973, 53322, 53464, 53894, 53972, 53996, 54001, 54272, 54372, 54503, 54881, 55247, 55269, 55276, 55442, 55765, 55820, 55830, 56174, 56367, 56563, 56775, 56782, 57368, 57640, 57669, 58025, 58998, 59126, 59315, 59369, 59519, 59615, 59784, 59900, 60037, 60040, 60069, 60072, 60074, 60126, 60295, 60684, 60766, 61024, 61132, 61323, 61394, 62374, 62434, 62511, 63082, 63113, 63131, 63859, 64620, 64839, 64957, 65642, 65802, 66097, 66130, 66203, 66596, 66665, 66934, 67087, 67193, 67665, 67734, 67997, 68157, 68159, 68237, 68319, 68324, 68358, 68791, 68793, 68954, 69122, 69306, 69406, 69436, 69481, 69524, 69526, 70286, 70293, 70336, 70697, 70862, 71264, 71282, 71462, 71464, 71535, 71838, 72011, 72226, 72378, 72998, 73017, 73344, 74458, 74649, 74795, 74851, 76077, 76093, 76251, 76293, 76738, 77364, 77561, 78209, 78469, 78574, 79057, 79185, 79242, 79293, 79428, 79695, 79702, 80126, 80185, 80463, 80862, 81191, 81229, 81591, 81782, 81845, 81847, 81932, 82461, 82854, 83270, 83293, 83349, 83613, 83827, 84152, 84374, 84392, 84954, 85414, 85774, 86190, 86332, 86644, 86781, 86833, 86882, 86898, 86911, 87222, 87232, 87304, 87306, 87430, 87485, 87520, 87869, 87930, 88140, 88163, 88356, 88744, 88950, 89090, 89337, 89470, 89492, 89745, 89840, 90249, 90266, 90428, 90439, 90531, 90600, 90603, 90647, 90746, 90866, 90870, 91505, 91535, 91542, 91630, 91653, 91658, 91842, 91869, 92420, 92507, 93326, 93510, 93721, 93831, 93840, 94015, 94018, 94478, 94677, 94777, 94780, 94833, 94864, 94959, 95105, 95167, 95199, 95311, 95443, 95510, 95558, 95875, 96150, 96488, 96610, 96667, 96737, 97304, 97393, 97866, 97913, 97923, 98122, 98154, 98809, 98961, 99007, 99112, 99114, 99149, 99468, 99811, 100032, 100083, 100365, 100383, 100517, 100556, 100581, 100714, 100745, 101076, 101112, 101362, 101864, 101895, 102123, 102125, 102445, 102800, 102880, 102903, 103042, 103228, 103249, 103253, 103372, 103810, 104211, 104241, 104272, 104726, 104879, 105504, 106072, 106111, 106332, 106489, 106782, 106916, 106920, 107348, 107406, 107910, 108188, 108190, 108689, 108729, 108932, 108945, 109187, 109374, 109487, 109673, 109687, 109848, 110102, 110127, 110553, 110730, 110771, 111228, 111360, 111362, 111364, 111443, 111622, 111759, 111781, 112138, 112171, 112183, 112370, 112552, 112556, 112623, 112788, 112852, 112940, 113345, 113348, 113378, 113741, 114180, 114635, 115149, 115502, 115569, 115617, 115713, 116161, 116797, 116799, 116823, 116897, 117176, 117529, 117533, 118696, 119141, 119145, 120466, 120799, 121171, 121231, 122882, 122886, 122890, 122892, 122900, 122902, 122904, 122920, 122924, 127136, 128360, 129937, 130452, 130490, 130576, 130634, 131013, 132046, 132480, 132796, 132961, 134130, 134368, 134393, 134853, 135133, 135436, 135567, 135569, 136020, 136562, 136864, 137337, 137857, 138036, 139385, 139644, 139757, 139855, 140110, 140174, 140267, 140711, 140928, 142488, 142507, 143385, 145839, 145935, 146656, 148626, 149352, 149354, 149406, 152057, 152077, 152079, 152081, 155820, 156607, 156609, 157200, 157296, 157667, 158238, 158528, 159093, 159690, 159755, 159858, 159972, 160080, 160271, 160563, 160565, 160567, 161155, 337, 4231, 4772, 29, 194, 348, 482, 492, 714, 928, 930, 942, 965, 1104, 1175, 1232, 1237, 1241, 1245, 1255, 1348, 1570, 1627, 1809, 2066, 2067, 2117, 2118, 2159, 2204, 2606, 2672, 2677, 2892, 3018, 3503, 3676, 4404, 4437, 4552, 4645, 4725, 5017, 5054, 5062, 5072, 5105, 5137, 5316, 5574, 5608, 5686, 5782, 5853, 5867, 5881, 5949, 6140, 6197, 6214, 6242, 6294, 6322, 6323, 6383, 6530, 6538, 6584, 6643, 6666, 6757, 6774, 6777, 6790, 6858, 6971, 6987, 6993, 7013, 7022, 7044, 7068, 7069, 7084, 7115, 7116, 7135, 7163, 7223, 7587, 7700, 7728, 7771, 7827, 7981, 7982, 7991, 8195, 8228, 8370, 8477, 8600, 8620, 8690, 8783, 8928, 8973, 8983, 27266, 27317, 27604, 27721, 27788, 27834, 31410, 31878, 31952, 33615, 33683, 34437, 7, 9, 18, 74, 76, 79, 81, 85, 86, 92, 100, 140, 376, 640, 653, 707, 719, 743, 765, 818, 849, 852, 880, 4, 23, 35, 42, 48, 57, 58, 63, 64, 89, 97, 105, 122, 154, 159, 166, 177, 179, 202, 206, 209, 229, 249, 262, 269, 276, 281, 283, 326, 328, 332, 334, 340, 346, 354, 361, 365, 366, 369, 379, 383, 407, 412, 423, 428, 445, 448, 450, 451, 456, 465, 475, 479, 491, 493, 501, 504, 507, 513, 517, 519, 522, 547, 580, 599, 612, 662, 703, 891, 898, 902, 915, 917, 929, 933, 940, 950, 951, 954, 955, 966, 968, 969, 982, 1013, 1019, 1023, 1042, 1082, 1086, 1090, 1091, 1103, 1124, 1126, 1128, 1130, 1161, 1185, 1216, 1227, 1238, 1253, 1261, 1268, 1269, 1274, 1286, 1292, 1299, 1306, 1321, 1327, 1336, 1345, 1347, 1350, 1354, 1381, 1382, 1389, 1441, 4970, 905, 1907, 1960, 2013, 2690, 3196, 3406, 5380, 5747, 6201, 6516, 6753, 7212, 7841, 8191, 8493, 8611, 26111, 31116, 32469, 38038, 47721, 51471, 54259, 58047, 58299, 64285, 181, 393, 553, 918, 921, 945, 948, 952, 1012, 1135, 1224, 1256, 1296, 1301, 1346, 1395, 1427, 315, 1641, 1693, 1769, 1799, 2301, 2402, 2431, 2459, 2953, 3213, 3355, 3438, 3697, 4105, 6286, 6541, 6893, 7360, 7454, 7482, 8947, 31184, 20, 24, 224, 236, 425, 532, 605, 668, 670, 841, 900, 949, 971, 1078, 1096, 1188, 1202, 1277, 1305, 1438, 1515, 1797, 1835, 1873, 1900, 1927, 1931, 1932, 1935, 1941, 1944, 1946, 1947, 1949, 1951, 1957, 1958, 1959, 2022, 2027, 2068, 2132, 2176, 2178, 2181, 2183, 2203, 2205, 2361, 2474, 2644, 2721, 2728, 2730, 2731, 2739, 2746, 2805, 2932, 2970, 3053, 3067, 3088, 3095, 3100, 3155, 3159, 3201, 3245, 3248, 3252, 3310, 3365, 3371, 3405, 3415, 3468, 3475, 3498, 3546, 3559, 3629, 3668, 3681, 3736, 3741, 3992, 4008, 4103, 4267, 4278, 4282, 4297, 4312, 4359, 4432, 4458, 4564, 4857, 4865, 4967, 4976, 4978, 5014, 5073, 5096, 5114, 5147, 5177, 5304, 5348, 5367, 5373, 5385, 5446, 5470, 5489, 5599, 5633, 5682, 5810, 5882, 5940, 5971, 5992, 6001, 6008, 6162, 6235, 6404, 6415, 6591, 6599, 6611, 6669, 6709, 6796, 6807, 6881, 6890, 6918, 6954, 6981, 6982, 6985, 7038, 7042, 7063, 7070, 7072, 7088, 7104, 7136, 7139, 7160, 7161, 7234, 7347, 7419, 7713, 7748, 7759, 7766, 7942, 8019, 8042, 8125, 8154, 8239, 8338, 8507, 8656, 8955, 8966, 25753, 25769, 25805, 26052, 26242, 27803, 30820, 31101, 31658, 32892, 33162, 33903, 34143, 34326, 36535, 37733, 37736, 39183, 39231, 39869, 40278, 40629, 41285, 41571, 41863, 42004, 42418, 42734, 44204, 1034, 78, 842, 1409, 69, 3744, 27376, 27831, 37731, 49530, 52952, 53129, 55118, 55167, 55280, 59387, 62849, 65514, 70533, 73587, 82459, 92259, 73, 1892, 2356, 1300, 1366, 2202, 2300, 2470, 2583, 2662, 1681, 2065, 2367, 2384, 2942, 3720, 5065, 27822, 73268, 8, 118, 203, 227, 228, 254, 368, 413, 419, 424, 426, 432, 459, 463, 472, 477, 518, 523, 581, 767, 782, 806, 869, 947, 996, 1006, 1010, 1017, 1018, 1025, 1081, 1114, 1181, 1226, 1352, 1390, 1399, 1422, 1440, 1461, 1488, 1508, 1523, 1566, 1588, 1598, 1614, 1620, 1624, 1672, 1686, 1701, 1711, 1726, 1783, 1785, 1791, 1798, 1864, 1943, 1965, 1982, 2009, 2015, 2024, 2070, 2082, 2083, 2088, 2112, 2116, 2120, 2121, 2122, 2136, 2146, 2148, 2166, 2184, 2188, 2236, 2240, 2245, 2247, 2252, 2253, 2255, 2264, 2267, 2286, 2296, 2307, 2320, 2346, 2347, 2352, 2374, 2376, 2389, 2398, 2411, 2412, 2417, 2418, 2420, 2432, 2433, 2435, 2457, 2463, 2468, 2517, 2518, 2520, 2521, 2523, 2524, 2530, 2531, 2532, 2533, 2535, 2561, 2577, 2611, 2639, 2641, 2642, 2664, 2687, 2688, 2738, 2741, 2749, 2750, 2757, 2782, 2787, 2790, 2793, 2794, 2802, 2829, 2851, 2852, 2856, 2875, 2883, 2917, 2929, 2944, 2950, 2956, 2966, 2967, 2971, 2977, 2989, 3015, 3032, 3035, 3038, 3063, 3068, 3072, 3074, 3087, 3098, 3102, 3105, 3111, 3120, 3130, 3138, 3141, 3144, 3156, 3167, 3197, 3198, 3204, 3206, 3218, 3244, 3247, 3249, 3257, 3258, 3269, 3274, 3296, 3308, 3334, 3359, 3360, 3363, 3370, 3385, 3391, 3394, 3395, 3420, 3426, 3428, 3441, 3445, 3451, 3478, 3483, 3494, 3500, 3506, 3507, 3513, 3524, 3526, 3528, 3529, 3537, 3545, 3548, 3549, 3551, 3557, 3608, 3613, 3614, 3649, 3684, 3685, 3686, 3688, 3701, 3702, 3704, 3712, 3713, 3724, 3734, 3804, 3812, 3834, 3859, 3927, 3957, 4002, 4009, 4012, 4039, 4041, 4060, 4062, 4063, 4086, 4088, 4090, 4102, 4111, 4122, 4126, 4128, 4132, 4146, 4190, 4211, 4214, 4228, 4263, 4276, 4280, 4291, 4292, 4316, 4318, 4326, 4333, 4345, 4352, 4354, 4396, 4406, 4409, 4464, 4465, 4474, 4482, 4486, 4487, 4488, 4491, 4495, 4496, 4498, 4499, 4503, 4522, 4524, 4526, 4528, 4557, 4570, 4573, 4608, 4615, 4617, 4627, 4628, 4629, 4661, 4681, 4709, 4710, 4714, 4733, 4751, 4787, 4803, 4815, 4830, 4832, 4835, 4889, 4898, 4929, 4932, 4941, 4951, 4954, 4960, 4971, 5027, 5043, 5049, 5061, 5111, 5122, 5125, 5127, 5152, 5161, 5172, 5187, 5193, 5198, 5208, 5214, 5237, 5247, 5250, 5276, 5277, 5297, 5303, 5307, 5309, 5334, 5335, 5344, 5359, 5366, 5382, 5452, 5471, 5506, 5534, 5544, 5548, 5561, 5564, 5581, 5655, 5670, 5680, 5689, 5694, 5696, 5699, 5703, 5705, 5707, 5712, 5723, 5729, 5732, 5742, 5745, 5773, 5812, 5843, 5846, 5847, 5854, 5857, 5859, 5869, 5900, 5923, 5926, 5927, 5933, 5938, 5960, 5961, 5962, 6027, 6084, 6096, 6101, 6103, 6115, 6127, 6186, 6212, 6233, 6234, 6237, 6238, 6240, 6263, 6308, 6318, 6345, 6413, 6419, 6422, 6436, 6452, 6473, 6565, 1416, 3698, 74789, 204, 420, 88, 1359, 1760, 1974, 1983, 1984, 2107, 2170, 2507, 2689, 2888, 2891, 3568, 3858, 4016, 4248, 4251, 4340, 4452, 4483, 4502, 4509, 4558, 4622, 4649, 4652, 4662, 4809, 4956, 4988, 5106, 5282, 5483, 678, 1340, 2338, 2527, 2553, 2863, 2901, 2921, 2951, 3062, 3066, 3467, 3508, 3703, 3706, 3727, 3811, 3917, 838, 41, 55, 68, 147, 242, 256, 312, 321, 381, 469, 521, 1150, 1367, 3357, 3564, 4054, 4069, 2075, 2092, 2131, 3677, 4114, 4422, 4862, 4936, 6107, 7089, 7396, 7936, 7941, 8197, 48682, 59447, 69761, 71180, 76111, 89759, 96829, 97826, 98587, 100843, 101070, 102753, 103980, 105197, 105355, 105769, 107555, 110586, 188, 220, 285, 330, 338, 606, 611, 127202, 130, 327, 986, 1037, 1437, 1545, 1591, 1772, 1880, 2322, 2522, 2536, 2808, 3479, 3593, 3699, 3802, 3937, 4443, 4553, 4625, 4691, 4789, 4811, 4874, 5490, 5518, 5522, 5981, 6116, 6264, 6316, 6645, 6678, 6725, 6951, 7001, 7060, 7164, 7817, 8371, 8499, 8633, 8861, 69844, 837, 1457, 1612, 1806, 1821, 2004, 2390, 2496, 2622, 2836, 2879, 2978, 3189, 3254, 3450, 3515, 3525, 135, 637, 7064, 26151, 1707, 2153, 2379, 2381, 2383, 8387, 59018, 98124, 741, 5146, 5570, 5690, 6223, 6291, 6350, 6857, 7099, 7235, 7256, 7382, 8132, 8157, 8906, 8907, 8965, 26662, 26776, 27156, 27523, 27713, 27722, 27731, 27800, 27801, 27838, 27850, 27878, 30867, 31435, 32031, 32554, 32562, 34323, 36276, 37830, 41769, 42723, 44022, 44397, 44633, 44828, 44974, 45431, 46948, 47099, 47124, 47404, 48414, 48982, 48997, 50583, 50601, 52281, 52287, 52319, 52458, 53121, 53326, 53460, 53519, 53883, 54995, 55444, 55768, 55814, 55908, 55995, 56069, 56095, 56145, 56339, 56607, 56757, 56908, 57274, 57453, 57504, 57980, 58347, 58554, 59118, 59141, 59684, 60161, 60291, 60763, 61240, 62203, 62250, 62956, 62999, 63808, 64575, 64716, 64969, 64983, 64993, 65037, 65261, 66371, 67197, 67255, 67408, 68945, 69644, 69712, 70159, 70567, 71033, 71057, 71379, 71468, 71520, 71579, 71899, 72104, 72209, 72393, 72731, 72741, 73321, 73392, 73664, 73881, 74228, 74677, 76173, 77307, 77427, 77837, 79029, 79091, 79357, 79868, 80586, 80831, 81018, 81564, 82667, 83132, 83134, 83803, 84187, 84772, 84944, 84952, 85412, 85510, 85736, 85788, 85796, 86298, 86347, 86721, 89837, 90469, 91414, 92058, 93272, 93838, 95375, 95543, 95858, 96281, 96606, 96821, 97188, 97225, 97752, 97921, 97957, 98056, 98243, 99145, 101142, 103299, 103335, 103688, 106002, 106204, 106696, 107769, 107953, 109578, 109846, 109850, 110501, 110591, 110655, 111659, 112175, 112515, 114935, 115534, 115624, 258, 303, 421, 688, 897, 976, 1085, 2287, 2414, 2430, 2471, 2537, 2669, 2748, 2815, 2816, 2817, 2941, 3412, 3417, 3519, 3628, 3643, 3836, 3959, 4042, 4047, 1636, 1888, 1948, 2670, 461, 1969, 2408, 2806, 5525, 6058, 6370, 6776, 7615, 8918, 31408, 37727, 43744, 51094, 52545, 55451, 60950, 238, 392, 484, 1911, 1995, 2093, 2368, 3178, 3434, 3906, 4467, 26160, 26294, 44197, 48660, 56941, 58803, 69640, 77846, 91355, 96655, 65, 609, 761, 250, 2052, 3079, 3086, 3268, 3480, 3606, 3653, 3972, 4091, 4771, 5103, 5401, 5785, 5970, 6618, 6732, 7018, 7036, 7263, 26084, 26471, 27253, 32598, 33495, 33660, 33880, 34528, 48322, 48698, 50514, 52435, 53123, 53125, 54256, 55052, 55805, 56333, 57532, 60756, 65188, 70728, 71466, 72171, 72720, 73023, 74275, 74416, 74754, 74916, 79592, 79677, 80549, 81156, 83086, 83976, 84116, 85438, 86000, 86884, 87522, 88810, 88812, 90374, 90376, 90947, 91199, 93270, 93422, 93443, 93512, 94896, 95088, 95441, 96110, 96467, 96728, 96911, 97306, 97836, 99117, 99764, 99917, 100272, 101577, 102993, 103141, 103279, 103624, 104944, 105429, 105715, 105844, 106062, 106100, 106144, 106438, 107141, 107978, 108156, 110461, 111617, 112421, 113064, 113453, 113705, 113829, 113862, 114074, 114342, 127108, 127152, 127198, 127206, 128620, 131168, 133771, 134170, 139116, 140715, 141890, 142422, 148881, 155392, 160590, 635, 728, 1007, 1009, 1323, 1326, 1587, 1975, 1977, 1978, 1979, 1981, 1987, 1996, 2037, 2044, 2097, 2111, 2130, 2163, 415, 999, 1021, 2016, 2180, 2475, 2792, 2846, 3070, 3153, 3672, 3710, 7040, 26695, 34153, 3726, 7387, 8981, 801, 2123, 5693, 6743, 8544, 27706, 55566, 56030, 56171, 101947, 104374, 112290, 114662, 120637, 160438, 1015, 1105, 1474, 2393, 4846, 7318, 2456, 12, 28, 43, 279, 280, 294, 452, 613, 631, 650, 664, 694, 709, 711, 934, 2469, 2779, 4187, 6297, 26025, 26562, 31374, 45668, 374, 2059, 3821, 4254, 68554, 61, 667, 704, 810, 839, 3125, 3422, 3920, 3925, 3930, 3932, 3963, 3965, 3966, 53000, 54997, 15, 98, 239, 352, 409, 502, 510, 514, 575, 742, 1049, 1456, 1590, 1595, 1599, 1603, 1762, 1826, 1840, 1916, 1920, 1991, 2089, 2090, 2138, 2142, 2164, 2195, 2305, 2315, 2327, 2335, 2404, 2421, 2422, 2429, 2451, 2495, 2555, 2582, 2798, 2860, 2862, 2900, 2924, 2948, 2974, 3013, 3036, 3439, 3440, 3554, 3573, 3574, 3581, 3687, 3696, 3740, 3761, 3843, 3950, 3955, 3961, 3962, 3970, 4135, 4255, 4275, 4415, 4438, 4441, 4444, 4454, 4519, 4533, 4577, 4614, 4618, 4619, 4624, 4697, 4775, 4800, 4855, 4899, 4915, 4980, 4987, 4989, 5025, 5040, 5055, 5094, 5139, 5151, 5159, 5165, 5205, 5210, 5244, 5294, 5329, 5540, 5572, 5585, 5621, 5666, 5691, 5734, 5735, 5736, 5737, 5746, 5942, 5943, 5955, 6156, 6213, 6298, 6338, 6379, 6548, 6559, 6564, 6566, 6582, 6595, 6602, 6615, 6659, 6664, 6695, 6707, 6731, 6755, 6803, 6887, 6888, 6902, 6952, 6977, 7007, 7045, 7046, 7117, 7137, 7285, 7308, 7324, 7367, 7411, 7481, 7701, 7743, 7802, 7842, 7844, 7845, 7846, 7915, 7976, 7984, 7987, 8131, 8340, 8363, 8372, 8373, 8526, 8640, 8810, 8811, 8854, 8859, 25962, 26258, 26403, 26480, 26547, 26585, 26603, 26606, 26684, 26704, 26736, 26842, 27002, 27022, 27032, 27109, 27555, 27611, 27646, 27704, 27772, 27778, 27793, 27808, 31150, 31225, 31290, 31422, 31431, 32352, 32387, 32596, 33164, 33171, 33834, 34530, 36519, 36708, 39381, 39446, 40574, 40732, 42011, 42725, 43838, 43919, 43921, 43936, 44245, 44972, 45183, 45506, 45726, 46322, 46335, 46337, 46865, 46965, 47200, 47640, 47815, 47997, 48304, 48591, 48696, 48744, 48877, 49526, 49528, 49649, 49651, 49817, 50641, 50651, 50794, 50798, 50806, 51277, 51931, 51937, 52462, 53318, 53468, 53550, 54190, 54290, 54331, 54648, 54745, 55094, 55207, 55232, 55245, 55290, 55577, 55721, 56003, 56251, 56587, 56801, 57528, 58146, 58293, 58301, 58315, 58351, 58627, 58975, 59014, 59022, 59995, 60293, 60487, 60609, 60753, 61248, 61348, 62394, 62801, 62912, 63072, 63540, 63826, 63876, 63992, 64197, 64508, 64900, 65126, 65310, 65982, 66066, 66090, 66297, 66335, 67252, 67695, 67923, 68073, 68444, 68901, 68952, 68959, 68965, 69685, 69746, 70465, 70946, 71106, 71135, 71248, 71429, 71533, 71745, 72603, 72641, 72733, 73759, 74545, 74944, 74948, 75813, 76060, 76272, 77800, 77866, 78266, 78349, 78772, 79008, 79251, 79274, 79553, 79720, 79879, 80083, 80219, 80693, 80846, 81083, 81660, 81788, 82041, 82527, 85342, 85401, 85881, 86142, 87192, 87234, 87298, 88118, 89039, 89085, 89343, 89774, 89864, 90430, 91485, 91976, 92309, 93320, 93855, 94070, 95147, 95165, 95182, 95473, 95475, 95499, 95780, 95782, 95963, 95965, 96004, 96007, 96432, 96588, 96811, 97860, 98607, 98829, 99728, 100159, 101525, 102033, 102194, 102252, 102407, 102716, 103048, 103384, 103772, 104913, 105213, 106022, 106491, 106918, 107069, 107999, 108090, 108583, 108981, 109074, 109895, 110348, 110882, 111624, 111921, 112818, 113252, 113573, 114060, 114670, 115122, 115216, 115877, 115881, 116397, 117123, 118082, 126006, 130642, 130682, 135887, 139130, 141718, 141866, 152091, 152844, 156726, 159462, 161594, 162376, 2106, 2549, 4799, 8985, 42002, 44694, 2275, 2450, 3264, 3397, 3398, 4040, 4092, 6093, 6305, 6662, 6811, 7236, 7649, 7708, 7810, 7811, 7812, 8537, 26492, 26700, 27685, 31221, 37857, 47423, 47518, 1586, 2297, 3908, 5784, 6793, 7566, 26712, 38499, 43679, 50658, 50740, 50742, 51935, 52767, 65130, 70678, 97673, 42738, 45081, 46, 93, 156, 191, 783, 190, 495, 872, 1132, 1913, 2673, 3637, 3814, 4334, 4470, 4928, 5028, 5530, 5668, 6123, 6301, 6509, 7172, 7460, 7564, 7574, 7786, 7820, 7938, 7979, 8014, 8199, 8327, 8367, 8485, 26150, 26228, 26318, 26326, 26578, 31437, 31524, 31930, 40491, 43899, 45000, 47274, 48165, 52528, 52617, 52885, 53447, 58425, 61206, 64701, 68137, 68967, 69516, 71108, 71438, 78836, 81054, 81786, 205, 351, 2155, 2359, 3022, 3037, 4174, 4688, 5602, 3980, 33646, 234, 255, 275, 291, 437, 546, 548, 30, 72, 116, 121, 124, 171, 178, 213, 218, 263, 287, 290, 299, 302, 305, 324, 331, 427, 444, 446, 568, 633, 753, 756, 766, 828, 830, 844, 892, 1046, 1163, 2962, 51705, 52668, 62344, 63515, 66198, 67799, 1351, 1472, 1554, 747, 2380, 2382, 3387, 4084, 6482, 6550, 6763, 43836, 52694, 54732, 66798, 78041, 82852, 94466, 96616, 103341, 103883, 104218, 116977, 132157, 455, 27790, 54328, 84304, 40414, 48738, 58706, 63062, 64622, 174, 360, 879, 1322, 1330, 1655, 1970, 1971, 1972, 1973, 1985, 1988, 2026, 2069, 2113, 2119, 2149, 2279, 2443, 2445, 2461, 2462, 2465, 2485, 2789, 2868, 2928, 3017, 3024, 3051, 3203, 3660, 3693, 3709, 3764, 3840, 3877, 3918, 4081, 4124, 4140, 4205, 4213, 4222, 4266, 4480, 4490, 4501, 4516, 4520, 4560, 4561, 4636, 4670, 4682, 4949, 5080, 5203, 5292, 5342, 5343, 2208, 3739, 6254, 6273, 7056, 7831, 8094, 8128, 8629, 8765, 25850, 25868, 25947, 30712, 32525, 47202, 7081, 7154, 8522, 8969, 25801, 56949, 64034, 148888, 149830, 156025, 1014, 1083, 1619, 1670, 1937, 2099, 2135, 2436, 2442, 2565, 2801, 3186, 26701, 56921, 37, 117, 417, 506, 927, 973, 1057, 1192, 1273, 1279, 1341, 1384, 1420, 1516, 1535, 1594, 1648, 1734, 1788, 1841, 1856, 1924, 1929, 1939, 1966, 1999, 2043, 2137, 2219, 2227, 2290, 2312, 2345, 2362, 2397, 2453, 2548, 2725, 2747, 2764, 2784, 2820, 2844, 2859, 2866, 2919, 2920, 2922, 3011, 3061, 3093, 3145, 3163, 3223, 3224, 3327, 3329, 3342, 3350, 3469, 3511, 3521, 3544, 3547, 3550, 3565, 3588, 3590, 3591, 3609, 3655, 3675, 3678, 3679, 3680, 3700, 3708, 3729, 3733, 71, 4475, 5700, 6996, 8093, 5628, 65682, 84844, 129354, 458, 1187, 1392, 1480, 1727, 1801, 1846, 3127, 3271, 3584, 3682, 3946, 4203, 4218, 4234, 4407, 4479, 4572, 4673, 4837, 5003, 5180, 5302, 5447, 6104, 6125, 6344, 6898, 6997, 7005, 7017, 7149, 7193, 7272, 7836, 1992, 5422, 7773, 39408, 39416, 44731, 51086, 54281, 59306, 132, 257, 378, 489, 542, 932, 1460, 1593, 1658, 1688, 1804, 1863, 2330, 2558, 2563, 3270, 3835, 4130, 4219, 4221, 4304, 4357, 4545, 4600, 4677, 4757, 5255, 5438, 5505, 5829, 6183, 6375, 6480, 6638, 6744, 6850, 6974, 7101, 7255, 8709, 2719, 43396, 47148, 50685, 89804, 1683, 2349, 2613, 3200, 3615, 3725, 3732, 3738, 3760, 3769, 3789, 3806, 3810, 3816, 443, 870, 881, 943, 1063, 1112, 1317, 1379, 1429, 1518, 1564, 1606, 1613, 1646, 1678, 1702, 1713, 1824, 1833, 1848, 1852, 1866, 1885, 1894, 2053, 2071, 2101, 2104, 2306, 2337, 2365, 2373, 2375, 2425, 2440, 2498, 2587, 2590, 2660, 2828, 3099, 3194, 3330, 3379, 3388, 3414, 3457, 3490, 3563, 3654, 3889, 3895, 3926, 3928, 3929, 4106, 4139, 4179, 4186, 4195, 2416, 4220, 7616, 1976, 3857, 4492, 4493, 37475, 66659, 217, 313, 516, 558, 1064, 1487, 1667, 2017, 2162, 2316, 2385, 2540, 2620, 2906, 3299, 3400, 3553, 3594, 3743, 3824, 3953, 3978, 4155, 4699, 4745, 4756, 4814, 4821, 4867, 4977, 5108, 5164, 5312, 5387, 5415, 5612, 5677, 3616, 3691, 2151, 2745, 5016, 6768, 6782, 6791, 7247, 8169, 8580, 8879, 40959, 3991, 4031, 1111, 2843, 3456, 4964, 6211, 6571, 7349, 8012, 27178, 27255, 27727, 39768, 41527, 42935, 53189, 55555, 56274, 57243, 57792, 67267, 74486, 6724, 40870, 43376, 63853, 72395, 73290, 80969, 85612, 86880, 102792, 106441, 107559, 116939, 2492, 2504, 4427, 4833, 27751, 53953, 62049, 68135, 74324, 97757, 27, 102, 754, 1099, 6535, 6663, 6794, 34332, 1537, 77658, 89904, 4290, 4394, 4532, 5360, 97895, 103801, 106540, 2262, 4686, 4784, 4834, 39414, 59945, 66915, 71102, 71460, 1665, 5944, 6170, 6195, 6269, 6561, 4755, 7316, 7380, 56152, 61071, 65193, 86377, 90061, 92535, 100034, 103539, 104069, 117444, 544, 809, 829, 1005, 1668, 1746, 2567, 3452, 3466, 3509, 3975, 4153, 4229, 4265, 4616, 4866, 5081, 5093, 6250, 6265, 6764, 7381, 7439, 7570, 8010, 8614, 8968, 27338, 6300, 8117, 47491, 760, 1498, 2562, 5099, 5605, 5841, 2401, 1572, 2363, 2810, 30745, 31364, 32078, 32840, 42632, 47937, 55684, 58376, 59814, 61160, 71304, 73808, 76091, 80350, 81417, 82242, 85179, 86320, 86345, 86892, 2643, 4327, 6786, 490, 2736, 3430, 3690, 66544, 74688, 82202, 91077, 92751, 104337, 104925, 26974, 470, 834, 1430, 1447, 1490, 1532, 1632, 1661, 1739, 1886, 2449, 2799, 2845, 2979, 3046, 3437, 3774, 3914, 3973, 4217, 4630, 4732, 4749, 4750, 4765, 4875, 4968, 5053, 5095, 5323, 5443, 5448, 5501, 5531, 5556, 5562, 5569, 5597, 5609, 5615, 5625, 5765, 5880, 5883, 5901, 6057, 6063, 6204, 6284, 6587, 6827, 6872, 6909, 7189, 7315, 7343, 7899, 8130, 8225, 8534, 8667, 8720, 8832, 8835, 8836, 8839, 8860, 8864, 8870, 8908, 8911, 8937, 9010, 9018, 27869, 31445, 31724, 3404, 6596, 6686, 259, 358, 384, 391, 505, 569, 639, 274, 8643, 8808, 8982, 26198, 36525, 42732, 54736, 61729, 64249, 1003, 1542, 199, 2077, 2084, 4459, 5460, 5839, 5840, 6006, 3054, 3997, 27689, 27815, 30816, 36401, 40597, 43419, 44849, 45880, 52579, 54999, 59333, 60397, 63276, 66317, 66808, 69275, 70183, 72737, 73319, 77201, 80864, 82167, 82463, 86835, 89102, 89761, 90405, 93805, 94480, 99320, 66, 200, 240, 422, 512, 600, 691, 798, 861, 882, 1055, 1647, 1750, 7158, 7386, 700, 13, 146, 195, 201, 243, 270, 271, 343, 687, 835, 3646, 418, 2128, 4366, 4655, 7002, 705, 4389, 5379, 6040, 6187, 6207, 6493, 6930, 7541, 7624, 8129, 8857, 26116, 26133, 26422, 27674, 31114, 33669, 34164, 34532, 40826, 43177, 44709, 49280, 51174, 54004, 56169, 59418, 61075, 61401, 62437, 63479, 867, 1024, 1623, 2147, 2392, 2676, 2771, 2772, 2882, 3001, 3177, 3238, 3326, 3765, 3766, 3771, 3807, 2310, 2434, 2607, 2629, 2630, 2975, 3117, 957, 722, 944, 960, 1583, 1938, 2182, 2476, 2870, 2946, 2988, 3076, 3122, 3135, 3341, 3364, 3427, 3432, 3516, 3705, 3754, 2889, 3115, 3118, 3501, 3572, 3579, 3620, 3669, 3689, 295, 3470, 5876, 1165, 2913, 3576, 4735, 4887, 5046, 6826, 7048, 7282, 8403, 8654, 8790, 26554, 27005, 27410, 27728, 27922, 32825, 33558, 42197, 51357, 52606, 53207, 53956, 54771, 55363, 56788, 58432, 59590, 59810, 60943, 62792, 63436, 63481, 65133, 66509, 67867, 68194, 68205, 68932, 69278, 71156, 72129, 73211, 73929, 74452, 74532, 74685, 75985, 76210, 78034, 78160, 78218, 78544, 79006, 79134, 79796, 80363, 81535, 83506, 84395, 84601, 84615, 85020, 85022, 85025, 85131, 86290, 88405, 88785, 89753, 90345, 103235, 112112, 6889, 7155, 8369, 8604, 26686, 26999, 27193, 27482, 33499, 33836, 36289, 42015, 45732, 57353, 58103, 74946, 78637, 87975, 91978, 136592, 416, 8666, 8827, 27882, 1998, 3401, 3768, 4317, 4466, 4566, 4589, 4767, 4945, 5141, 5910, 48872, 4531, 8751, 8754, 8838, 8899, 27839, 32296, 39715, 40339, 43928, 45501, 45730, 51412, 53993, 55282, 62081, 98491, 114552, 117851, 130073, 133419, 779, 26564, 45969, 51372, 59834, 70121, 71876, 4770, 37240, 1993, 627, 630, 685, 781, 848, 991, 3891, 3936, 4207, 4212, 5047, 5134, 5357, 5389, 5421, 5479, 5611, 5941, 5947, 5994, 7009, 7150, 7179, 7303, 7579, 7669, 7714, 7753, 8530, 8661, 8833, 8935, 8943, 8998, 25788, 26680, 26870, 31193, 31694, 32174, 33621, 39234, 39435, 40148, 43908, 43930, 44193, 47254, 47382, 49772, 49822, 49957, 51077, 51834, 52975, 54775, 55110, 55267, 55872, 56715, 57326, 58105, 58154, 59103, 59501, 60471, 62113, 70599, 72407, 72605, 72696, 74508, 76054, 2807, 2835, 4506, 4676, 4876, 6958, 6959, 8607, 8814, 26375, 27837, 32017, 32029, 33681, 34534, 37380, 40851, 42721, 43560, 45062, 46062, 47384, 47952, 49274, 50162, 50802, 51575, 51698, 51925, 52456, 52712, 52950, 53466, 54276, 55259, 55999, 56176, 56915, 57401, 57526, 57951, 58972, 59421, 59594, 60514, 60516, 60937, 61350, 61705, 62376, 62733, 64030, 64116, 64497, 65552, 65567, 65577, 65585, 65685, 66171, 68848, 69253, 69606, 69805, 69951, 70282, 70305, 71252, 71254, 71318, 71530, 72165, 72701, 72919, 73015, 73042, 74154, 74530, 74580, 74698, 75805, 78105, 78264, 78893, 79139, 79224, 80615, 81512, 81784, 82095, 83480, 85056, 85261, 86059, 87876, 88380, 88879, 89087, 91660, 91974, 92264, 92681, 95207, 96417, 96590, 97742, 98296, 100163, 100487, 100498, 101025, 103339, 103655, 104074, 104243, 104312, 106642, 108979, 109864, 114795, 118997, 130520, 1525, 2735, 2984, 8830, 6628, 7027, 8008, 30822, 414, 1839, 824, 1056, 1601, 1643, 1795, 1844, 2482, 2487, 2569, 2696, 2704, 2893, 3045, 3192, 3240, 3539, 3721, 3795, 3919, 4166, 4740, 901, 935, 938, 946, 956, 1936, 1940, 1942, 2201, 2612, 2927, 3199, 3540, 3567, 3580, 3656, 3657, 3714, 3716, 3723, 113, 731, 103, 347, 698, 4994, 37853, 50804, 56156, 65465, 2328, 2339, 2354, 2386, 48560, 111529, 473, 715, 888, 936, 961, 970, 984, 1066, 1162, 1401, 1419, 1455, 1703, 1925, 2173, 2238, 2241, 2285, 2370, 2399, 2615, 2732, 2899, 2904, 2938, 3028, 3069, 3090, 3091, 3142, 3143, 3165, 3235, 3260, 3284, 3313, 3347, 3368, 3392, 3425, 3447, 3492, 3520, 6460, 1432, 6780, 7075, 7826, 45928, 56885, 3502, 4563, 4880, 2177, 2200, 2940, 3097, 3306, 3632, 3872, 4273, 4420, 4768, 5009, 5333, 5440, 5498, 5613, 6126, 6609, 6721, 6920, 7209, 7210, 7211, 7215, 7577, 7926, 7943, 8188, 8584, 8670, 25952, 33145, 67788, 90576, 95309, 105246, 109483, 148956, 387, 433, 476, 486, 656, 725, 1431, 1468, 1495, 2040, 2266, 2331, 2473, 2552, 2597, 2774, 2796, 3715, 4089, 4115, 4180, 4293, 4355, 2187, 2935, 6412, 6877, 7061, 7078, 7121, 7437, 7493, 554, 695, 1404, 1425, 2272, 2415, 2570, 3106, 3109, 3110, 3214, 3259, 3694, 4356, 5433, 6243, 6808, 7809, 8253, 8589, 8596, 219, 1008, 1684, 3183, 4371, 6474, 1881, 487, 533, 692, 833, 1453, 1744, 2050, 2372, 2458, 2714, 3444, 4338, 4339, 4353, 4473, 4802, 4842, 4923, 4990, 5107, 59725, 65230, 150548, 72356, 95654, 37739, 184, 846, 2497, 2897, 5076, 5092, 6252, 8254, 31956, 38798, 50954, 55253, 55274, 5300, 6713, 7919, 8484, 25771, 26082, 26840, 26903, 30803, 64695, 101962, 2652, 4224, 2488, 2557, 2783, 2853, 2964, 3075, 3205, 3216, 3294, 3344, 3621, 3658, 3777, 3847, 3875, 4368, 4390, 4403, 4417, 4752, 4754, 4893, 4996, 5034, 5153, 5588, 5600, 5715, 5778, 5891, 5980, 6000, 6256, 6257, 6290, 6367, 6395, 6748, 6940, 7024, 7029, 7065, 7110, 7492, 7650, 7882, 7920, 8194, 8848, 25774, 25807, 26003, 26125, 26171, 26176, 26231, 26241, 26303, 26320, 26631, 26693, 27329, 27648, 27784, 27798, 30783, 31270, 31502, 32211, 32686, 32728, 32898, 33592, 33817, 33896, 40412, 40833, 45662, 48231, 48972, 51207, 51304, 52666, 53435, 55652, 57910, 58964, 59727, 60333, 64153, 66310, 69134, 69720, 71518, 71700, 74370, 76030, 76303, 80736, 80844, 81138, 87205, 88272, 89118, 90357, 91488, 92206, 92494, 92496, 92498, 96490, 96563, 96634, 96815, 97593, 98083, 99296, 99470, 99669, 99912, 100306, 104457, 104662, 105763, 106870, 107057, 107771, 108192, 108447, 108506, 110748, 111486, 112277, 112655, 112689, 113565, 113640, 113780, 114044, 114766, 116503, 117121, 117434, 118260, 118334, 118880, 121113, 130448, 131451, 132146, 133824, 136602, 140523, 141956, 151639, 152173, 3207, 4535, 4972, 6428, 6450, 7376, 8337, 26394, 499, 1191, 4593, 1633, 2847, 2969, 2972, 3171, 37384, 906, 1934, 2654, 4184, 7073, 7706, 8167, 8492, 25750, 27373, 31156, 65135, 83374, 85316, 85367, 85397, 86014, 86293, 86852, 87529, 88267, 89300, 48501, 68659, 73266, 80241, 81132, 95307, 101285, 108548, 111113, 114707, 115680, 117871, 135532, 139620, 147006, 147010, 147426, 148168, 149572, 105593, 107083, 107516, 114028, 116660, 59273, 60128, 74152, 79318, 93324, 95135, 97057, 104283, 133195, 136016, 136598, 141688, 146309, 80, 401, 615, 759, 4117, 4178, 5899, 6986, 7062, 7086, 7087, 7091, 7840, 7944, 8989, 4095, 1087, 3746, 4151, 4384, 5607, 6869, 7177, 7456, 7459, 8951, 27783, 32170, 34198, 1445, 1581, 1626, 2325, 3442, 3463, 3695, 3758, 577, 1592, 2525, 4045, 2051, 3287, 3674, 4795, 5480, 6163, 7374, 9001, 26528, 42191, 59392, 60674, 67295, 74282, 77435, 82173, 88345, 93061, 93265, 95313, 95377, 105468, 106011, 117192, 117895, 142997, 152017, 161944, 941, 7757, 8158, 8341, 3078, 4587, 6765, 31433, 4143, 4584, 5069, 619, 907, 1167, 1363, 1489, 2031, 2039, 2045, 2048, 2057, 2168, 2206, 2491, 2500, 2691, 2874, 2876, 2886, 2961, 3166, 3399, 3599, 3604, 3611, 3612, 3673, 3759, 3775, 3901, 3921, 3922, 3924, 3964, 4024, 4061, 4068, 4133, 4141, 4142, 4169, 4177, 4188, 4294, 4387, 4402, 4508, 4511, 4663, 4743, 4774, 4818, 4912, 5012, 5021, 5038, 5048, 5109, 5168, 5305, 5337, 5354, 5361, 5372, 5375, 5538, 5539, 5629, 6060, 6124, 6182, 6245, 6260, 6266, 6355, 6357, 6358, 6387, 6390, 6414, 6423, 6454, 6533, 6536, 6568, 6646, 6665, 6703, 6723, 6785, 6970, 6999, 7000, 7080, 7082, 7102, 7122, 7142, 7151, 7165, 7186, 7228, 7294, 7320, 7362, 7369, 7375, 7584, 7614, 7720, 7790, 7822, 7888, 7916, 8015, 8196, 8263, 8385, 8460, 8482, 8502, 8525, 8574, 8712, 8796, 8916, 8986, 8988, 8999, 9000, 25937, 25971, 26386, 31026, 32381, 33639, 44613, 45028, 1324, 7449, 8884, 32302, 6216, 7843, 8275, 78321, 31660, 32460, 62115, 74727, 98615, 102666, 107412, 118468, 121126, 127052, 136449, 158956, 488, 1137, 1652, 2864, 3221, 3459, 4500, 4518, 4612, 4863, 5275, 5473, 5780, 6021, 6114, 6121, 6132, 6465, 6730, 7505, 7764, 7878, 7889, 8126, 8189, 8240, 8800, 8872, 8892, 8893, 8923, 8938, 25744, 26164, 26494, 26524, 26655, 26749, 26809, 27322, 27792, 31682, 32515, 32735, 32797, 33021, 33138, 39659, 40226, 42900, 45521, 46544, 47465, 49902, 49932, 50011, 50912, 51380, 52831, 54785, 56079, 56286, 58520, 59339, 60384, 62764, 63836, 67957, 70994, 71390, 71494, 72109, 72880, 73531, 75349, 75823, 77291, 79203, 79686, 80217, 80553, 82150, 83829, 87884, 88106, 92424, 95113, 95115, 95752, 31284, 42351, 65665, 69849, 84506, 7300, 30846, 45172, 58303, 59731, 67508, 93040, 2943, 278, 436, 453, 498, 1184, 1963, 2171, 2254, 2257, 2546, 2618, 2848, 2884, 3094, 3384, 3393, 3436, 3531, 3846, 4424, 5768, 7934, 26513, 27899, 31923, 83, 155, 408, 603, 937, 962, 964, 972, 992, 1004, 1026, 1113, 1397, 1398, 1417, 1600, 2079, 4080, 4277, 4329, 4360, 4462, 4478, 4537, 4585, 4603, 4704, 5267, 5420, 5601, 5644, 5718, 5836, 6092, 6225, 6227, 6231, 6232, 6239, 6276, 6314, 6315, 6356, 6386, 6424, 6429, 6431, 6432, 6446, 6448, 6458, 6466, 6468, 6470, 6477, 6484, 6498, 6521, 6522, 6525, 6527, 6562, 6585, 6613, 6630, 6636, 6658, 6718, 6735, 6788, 6797, 6810, 6813, 6822, 6829, 6832, 6852, 6856, 7059, 7085, 7107, 7178, 7198, 7207, 7250, 7283, 7305, 7311, 7357, 7394, 7702, 7782, 7787, 7791, 7980, 8009, 8039, 8057, 8183, 8187, 8190, 8268, 8451, 8463, 8487, 8524, 8535, 8612, 8616, 8617, 8618, 8657, 8672, 8695, 8718, 8745, 8772, 8819, 8820, 8821, 8850, 8880, 8920, 8921, 8929, 9004, 9005, 32139, 45208, 99, 187, 363, 896, 1123, 1875, 2499, 6617, 6927, 8576, 8831, 8963, 33437, 45210, 115210, 127098, 5788, 5879, 5958, 6012, 6013, 6014, 6154, 129428, 1133, 26649, 68099, 149532, 5085, 7395, 7697, 301, 389, 1428, 1575, 5918, 5985, 50703, 74787, 89045, 141668, 6818, 55417, 4191, 4539, 1328, 5888, 74510, 104441, 104590, 121618, 5527, 6883, 36527, 53, 268, 632, 850, 981, 7366, 8207, 876, 1755, 2625, 2780, 2880, 3627, 3905, 4440, 4442, 4565, 4567, 4687, 4696, 4717, 4952, 5243, 5833, 6095, 6722, 8795, 26865, 31804, 1050, 2438, 1444, 4534, 5325, 4003, 32456, 62336, 85780, 98604, 103659, 104419, 115927, 2516, 4159, 4721, 4826, 4895, 5558, 5672, 5678, 5815, 5819, 5874, 6806, 6880, 6995, 7108, 7257, 7789, 7894, 26555, 31162, 31420, 32019, 34271, 34523, 36397, 37477, 40723, 43904, 47044, 50923, 56336, 2550, 5663, 7586, 32743, 8133, 710, 1414, 1526, 1602, 1629, 1642, 1837, 1855, 2095, 2098, 2261, 2265, 2472, 2506, 3042, 3043, 3497, 3600, 3622, 1446, 4296, 5643, 5684, 2446, 2486, 2545, 2626, 2775, 2894, 2939, 34321, 109249, 27251, 55732, 3819, 4305, 4626, 4632, 4664, 4680, 4705, 4706, 7093, 8689, 36509, 37720, 40614, 41716, 1756, 4349, 7379, 55498, 56633, 91690, 104303, 105585, 110352, 115170, 122888, 138208, 142448, 1067, 1922, 2073, 2246, 2589, 2733, 4284, 5324, 5414, 44225, 49647, 53974, 6710, 82931, 86504, 95873, 96373, 101741, 104863, 110645, 112804, 114265, 129653, 130580, 134569, 438, 1604, 2681, 2809, 2996, 5523, 5803, 8871, 8931, 8946, 26812, 27912, 33826, 34129, 34338, 34536, 38992, 39398, 40946, 48319, 49284, 49396, 51088, 51091, 55031, 55116, 58156, 58297, 58839, 59037, 61352, 62155, 70565, 70597, 71205, 71668, 71732, 72308, 72489, 74668, 75440, 78467, 78703, 79299, 80166, 80727, 80917, 81516, 81537, 82534, 83910, 84154, 84160, 85213, 87660, 88672, 89047, 89072, 90719, 91094, 91483, 91622, 92234, 92694, 93498, 94799, 94953, 95720, 98369, 99437, 100450, 101612, 102819, 111743, 131724, 135518, 135861, 697, 2197, 2364, 2448, 4569, 988, 2036, 5102, 6706, 8575, 8866, 32289, 34336, 39307, 41573, 42958, 43917, 45221, 46919, 46967, 48791, 51884, 58889, 59258, 61123, 68269, 68838, 78101, 78316, 79824, 80551, 80839, 82169, 89194, 91886, 990, 1497, 4200, 4660, 5915, 6249, 6800, 6835, 6868, 7448, 7767, 8799, 27851, 30848, 33688, 34520, 36533, 37382, 39444, 43932, 48142, 48518, 48596, 49314, 50147, 50189, 50442, 52460, 52644, 52717, 53999, 54787, 55261, 55272, 939, 1926, 1933, 2212, 2936, 2981, 3096, 3217, 3423, 3446, 3496, 3522, 3737, 3792, 5866, 49, 467, 787, 1699, 2169, 2250, 2271, 2280, 2314, 2494, 2610, 2885, 2930, 3241, 3902, 4035, 4391, 4737, 4783, 4965, 5315, 5417, 5425, 5808, 6159, 6215, 6337, 6384, 6612, 6760, 7025, 8527, 32298, 47629, 49824, 49961, 54, 813, 1410, 1463, 96, 1180, 1190, 1596, 58107, 5820, 5917, 4350, 5637, 5752, 5850, 6077, 6600, 6644, 7058, 7762, 7833, 8491, 8711, 8777, 8964, 25737, 25826, 25874, 25901, 26009, 26188, 26268, 26342, 26366, 26425, 27351, 27857, 27879, 31921, 32280, 32464, 32844, 33760, 42783, 53038, 53737, 54910, 60137, 60990, 66019, 68884, 69974, 70846, 74327, 78122, 84312, 241, 70344, 3934, 33830, 40581, 48520, 69069, 70663, 92509, 94325, 99813, 100527, 102720, 112006, 112767, 112897, 115147, 115664, 119155, 128512, 130087, 135137, 144620, 148652, 1349, 4885, 2207, 2621, 3822, 4806, 4861, 4933, 4947, 4957, 5097, 5383, 5603, 5622, 5651, 5796, 5799, 5801, 5873, 6032, 6078, 6166, 6178, 6219, 6261, 6405, 6426, 6447, 6461, 6518, 7774, 7832, 7834, 7835, 8542, 8610, 8675, 5475, 8933, 41336, 49394, 78903, 98126, 103444, 388, 1504, 1730, 1870, 2029, 2304, 2388, 2837, 3158, 3161, 3790, 3903, 5632, 6062, 6268, 309, 1051, 1919, 264, 1043, 439, 1507, 4181, 4527, 4550, 4559, 4578, 5646, 5834, 5969, 511, 5428, 7152, 8730, 30883, 4347, 31427, 31903, 33085, 5826, 7924, 8142, 25777, 27397, 27592, 48817, 62378, 72781, 77907, 79136, 91947, 94024, 94939, 97744, 99795, 6990, 30894, 33587, 48159, 54270, 57223, 58306, 61167, 64032, 65601, 71490, 71573, 72043, 72405, 72479, 72762, 73106, 73168, 74115, 74156, 74868, 75341, 85572, 1794, 2165, 2839, 3188, 3289, 4236, 4237, 4252, 4375, 4722, 4766, 4897, 5685, 5875, 6244, 6329, 6592, 6772, 6935, 6945, 7932, 8813, 8979, 26599, 30898, 31689, 32025, 33838, 47950, 49132, 51418, 55069, 58191, 61236, 61357, 68347, 69458, 72386, 91673, 103137, 113275, 115174, 4822, 51127, 8915, 1757, 5828, 6864, 7818, 26509, 26915, 42013, 44840, 45442, 48522, 7079, 7572, 30850, 679, 816, 893, 1609, 755, 1669, 2573, 2776, 106766, 3848, 3900, 4043, 4046, 4048, 4529, 4544, 4849, 5675, 59, 1759, 4969, 5083, 5365, 6005, 6122, 27873, 43869, 46347, 48741, 64114, 4000, 3202, 5056, 5121, 64660, 79469, 80717, 99030, 107447, 107649, 129313, 141886, 148372, 153584, 1865, 2693, 4067, 119, 375, 460, 536, 726, 1054, 1169, 1442, 1605, 1767, 1896, 2007, 2237, 2276, 2419, 2682, 2752, 2812, 3103, 3449, 3784, 3813, 3951, 4077, 4109, 4116, 4136, 4162, 4171, 4215, 4216, 4274, 4279, 4300, 4644, 4690, 4703, 4769, 4810, 4836, 4851, 4921, 4925, 5023, 5051, 5186, 5238, 5241, 5246, 5248, 5341, 5353, 5398, 5462, 5619, 5642, 5667, 5787, 5832, 5963, 6335, 6449, 6639, 6751, 6770, 6779, 6840, 6892, 6896, 6950, 6963, 7076, 7095, 7096, 7217, 7334, 7450, 7478, 7619, 7705, 8147, 8332, 8362, 8753, 8987, 25891, 26085, 26178, 31035, 31700, 32369, 106471, 106473, 106762, 107081, 390, 886, 5002, 7012, 7026, 26726, 32914, 56805, 69784, 78039, 82035, 88954, 95740, 102684, 102686, 102905, 103813, 106236, 106330, 108727, 110110, 120392, 126106, 128520, 133295, 145307, 145775, 152025, 1621, 4792, 5754, 6476, 6983, 7171, 8722, 42728, 42730, 4543, 5265, 341, 1236, 2062, 2154, 620, 963, 1069, 1076, 2035, 2210, 2221, 2727, 3002, 3136, 3140, 3232, 3309, 3314, 3640, 4405, 4515, 4998, 5001, 5059, 5202, 5288, 5404, 5434, 5604, 5914, 5932, 6148, 6198, 6400, 6408, 6513, 6579, 6739, 7043, 7074, 7195, 7196, 7238, 7309, 7407, 7897, 7914, 7939, 7983, 8235, 8257, 8267, 8336, 8423, 8511, 8609, 8684, 8700, 8797, 8840, 8882, 25752, 25755, 25764, 25827, 25839, 25916, 25993, 26122, 26302, 26313, 26391, 26400, 26414, 26850, 27334, 27816, 30723, 30818, 30892, 31547, 31549, 31737, 31770, 32160, 32371, 32853, 32882, 33312, 33380, 34583, 36553, 37785, 38304, 41226, 42163, 42681, 44587, 44671, 45837, 46664, 46850, 46974, 47152, 47287, 47714, 48198, 48301, 49225, 50259, 51044, 52241, 52967, 54419, 54426, 55063, 55071, 55687, 57972, 58879, 59832, 59846, 62383, 65638, 67504, 69241, 69604, 70488, 70927, 71525, 71650, 72176, 72626, 72647, 73276, 73572, 77359, 78517, 78829, 80572, 80599, 81910, 82934, 83096, 83318, 83322, 83359, 83361, 83411, 83603, 72612, 7051, 25763, 26265, 2214, 2514, 3849, 5830, 8404, 26007, 26393, 27075, 39052, 43391, 44301, 44317, 66246, 211, 449, 659, 769, 1310, 1413, 1796, 1861, 2554, 2609, 2627, 2697, 2824, 3057, 3133, 3304, 3718, 3913, 3947, 4197, 4562, 4698, 4711, 5018, 5022, 5226, 5256, 5285, 5825, 5965, 5993, 6042, 6185, 6368, 26172, 32582, 32632, 45440, 86548, 90403, 90890, 1903, 27423, 33158, 51939, 58655, 76175, 77206, 78088, 89030, 90524, 92938, 93766, 96691, 96863, 102481, 105755, 108928, 112911, 118900, 27867, 33672, 44511, 50445, 62644, 65088, 65216, 74740, 90888, 702, 3560, 5179, 5560, 7071, 26094, 26574, 31973, 32444, 42677, 44717, 49299, 50842, 56869, 57038, 59805, 63179, 64278, 68872, 71433, 71755, 72683, 85394, 86626, 88682, 89000, 89356, 90863, 92163, 96020, 96832, 97230, 98963, 100106, 103210, 108873, 111235, 112062, 112070, 129191, 130980, 131830, 138696, 138698, 1337, 1355, 2633, 2634, 2635, 2636, 2637, 2638, 2647, 2649, 2650, 2651, 2653, 2781, 8823, 7206, 7947, 144976, 304, 27186, 2715, 2758, 77, 559, 573, 681, 690, 721, 793, 820, 854, 1174, 1365, 1369, 1406, 1415, 1654, 1733, 528, 496, 4748, 62718, 63239, 63393, 69945, 2483, 25911, 43267, 46559, 59143, 60649, 71131, 74624, 77798, 78729, 80026, 82037, 1454, 1878, 2190, 4798, 6228, 7050, 7055, 7216, 50160, 567, 864, 889, 987, 997, 1145, 1482, 1501, 1631, 1660, 1910, 2323, 2437, 2441, 2481, 2511, 2674, 3180, 3302, 3860, 3880, 4761, 4782, 4961, 5258, 5868, 6279, 6306, 6339, 8364, 8927, 84, 696, 845, 1040, 2753, 126548, 38, 320, 69280, 251, 87, 564, 840, 885, 998, 1331, 1433, 1473, 1812, 1854, 1874, 1902, 2244, 2292, 2464, 2559, 2566, 2751, 2786, 2898, 3029, 3048, 3112, 5101, 5772, 7302, 102217, 118890, 120805, 128846, 129514, 130970, 136445, 136447, 140265, 4073, 5710, 26322, 26732, 66744, 81831, 91628, 93287, 95449, 95949, 96448, 97168, 101531, 103984, 4568, 6506, 48061, 59721, 60857, 71810, 651, 2526, 2656, 4911, 39427, 8208, 808, 2074, 2493, 3719, 4194, 4298, 4801, 4920, 5142, 5986, 6031, 6247, 6416, 6467, 8016, 8785, 25792, 25825, 25898, 26208, 26324, 26325, 26472, 26788, 27741, 31522, 32234, 34552, 46855, 53024, 60382, 112460, 61361, 1475, 2377, 626, 1582, 3064, 875, 3945, 4241, 31413, 61013, 64321, 64499, 64501, 75983, 108709, 121491, 126430, 2239, 746, 1068, 1152, 1153, 1154, 2049, 2056, 2260, 2283, 2631, 2755, 2878, 2937, 3121, 3211, 3292, 3340, 3343, 3377, 3380, 3731, 3833, 4098, 4108, 4123, 4175, 4183, 4185, 4281, 4332, 4392, 4414, 4426, 4428, 4433, 4523, 4555, 4590, 4606, 4659, 4667, 4674, 4684, 4692, 4716, 4831, 4840, 4859, 4927, 4948, 4999, 5004, 5033, 5087, 5088, 5098, 5119, 5199, 5242, 5384, 5450, 5521, 5638, 5641, 5777, 5795, 5936, 5966, 6047, 6051, 6064, 6100, 6105, 6109, 6133, 6230, 6341, 6410, 6528, 6603, 6629, 6671, 6676, 6684, 6728, 6851, 6906, 6964, 6992, 7020, 7023, 7067, 7083, 7111, 7125, 7126, 7130, 7131, 7180, 7182, 7190, 7219, 7222, 7248, 7266, 7354, 7358, 7415, 7571, 7583, 7585, 7613, 7620, 7636, 7815, 7872, 7881, 7883, 7921, 7922, 7935, 7946, 7948, 7958, 7959, 7995, 8003, 8033, 8044, 8056, 8123, 8137, 8261, 8266, 8331, 8388, 8392, 8410, 8420, 8422, 8459, 8462, 8465, 8571, 8572, 8583, 8625, 8650, 8724, 8725, 8727, 8752, 8761, 8763, 8768, 8828, 8851, 8853, 8903, 9012, 25773, 25795, 25828, 25841, 25842, 25856, 25865, 25882, 25886, 25900, 25904, 25906, 25920, 25929, 25930, 25940, 25941, 25945, 25965, 25972, 25996, 25999, 26010, 26013, 26079, 26086, 26093, 26117, 26147, 26157, 26163, 26180, 26199, 26229, 26251, 26271, 26323, 26338, 26346, 26349, 26350, 26371, 26404, 26430, 26435, 26467, 26485, 26487, 26501, 26505, 26581, 26622, 26689, 26694, 26731, 26737, 26775, 26782, 26784, 26797, 26835, 26838, 27802, 27812, 31104, 31109, 31747, 31963, 32022, 32203, 32349, 32943, 33358, 33912, 33917, 34002, 34018, 34359, 34364, 34608, 36152, 37211, 37277, 37855, 38994, 39419, 39779, 39941, 40817, 41714, 42740, 43333, 43351, 43635, 43708, 43910, 44073, 44421, 44759, 44864, 44911, 45179, 45382, 45679, 45942, 45987, 46561, 47092, 47196, 47261, 47330, 47493, 47606, 47894, 47978, 48262, 48268, 49220, 49910, 50245, 51773, 52378, 52913, 53133, 53887, 54220, 54513, 55078, 55156, 55757, 55851, 55895, 57418, 57430, 58365, 58649, 58904, 59180, 59669, 60135, 60343, 61634, 63629, 64229, 64338, 64990, 65418, 66200, 66686, 67429, 68536, 68614, 69559, 69654, 69821, 69908, 70188, 70201, 70418, 70751, 71404, 71804, 72131, 72169, 72367, 73323, 73469, 73854, 74089, 74630, 75990, 76763, 77421, 77808, 78111, 78116, 78653, 78967, 80346, 81641, 81898, 82378, 83332, 84098, 84847, 85016, 86487, 86864, 86982, 87218, 87383, 87598, 88024, 88235, 89203, 89260, 89321, 89408, 89678, 89881, 90057, 90717, 91134, 91286, 91582, 91610, 91890, 92756, 93432, 93700, 94266, 94931, 95583, 96075, 96314, 96565, 96792, 96849, 96901, 97254, 97395, 97639, 97817, 97936, 97994, 98441, 98458, 98473, 98611, 98795, 98803, 99085, 99089, 99220, 99270, 99273, 99276, 99741, 99839, 101088, 101106, 101850, 101904, 102396, 102588, 103107, 103671, 104119, 104321, 104339, 104595, 104597, 104757, 105211, 105731, 106004, 106397, 106452, 107042, 107382, 108076, 109161, 109205, 109740, 110194, 110453, 110752, 110858, 111384, 111795, 112334, 112399, 112450, 112577, 112582, 112653, 112735, 112850, 112921, 113207, 113220, 113938, 114082, 114122, 114464, 114601, 115231, 116012, 116136, 117456, 118898, 118924, 118985, 120821, 127114, 127158, 127164, 127178, 128606, 129364, 130351, 132074, 132496, 132888, 133645, 134025, 134881, 135508, 136018, 138258, 140247, 140816, 141749, 142192, 142258, 143377, 143657, 146682, 147845, 148238, 150856, 151307, 156387, 160656, 160718, 161084, 163949, 336, 718, 118105, 4521, 114, 582, 2152, 6624, 59429, 80748, 2998, 3055, 3116, 3855, 4131, 4201, 49013, 62331, 88932, 92210, 92954, 106873, 107314, 109742, 110873, 108, 131, 137, 183, 189, 244, 325, 447, 526, 561, 565, 571, 614, 621, 775, 831, 980, 1053, 1151, 1168, 1312, 1325, 1329, 1335, 1458, 1465, 1493, 1531, 1543, 1549, 1550, 1640, 1657, 1696, 1715, 1728, 1731, 1771, 1822, 1891, 1980, 1986, 1989, 1990, 2047, 2055, 2189, 2215, 2256, 2295, 2350, 2479, 2515, 2519, 2534, 2586, 2655, 2754, 2766, 2767, 2800, 2850, 2855, 2945, 2982, 2992, 3021, 3041, 3190, 3239, 3281, 3282, 3325, 3331, 3339, 3351, 3402, 3431, 3465, 3491, 3495, 3518, 3587, 3605, 3619, 3659, 3661, 3662, 3663, 3664, 3665, 3692, 3757, 3805, 3820, 3832, 3837, 3838, 3839, 3851, 3923, 3938, 3939, 3940, 3941, 3942, 3960, 3971, 5649, 8977, 34435, 132952, 148, 1555, 1928, 2400, 3025, 3487, 3602, 3870, 3985, 4189, 4319, 4324, 4337, 4401, 4411, 4610, 4804, 4854, 5039, 5057, 5063, 5079, 5167, 5227, 5230, 5231, 5232, 5233, 5234, 5301, 4445, 4453, 4981, 5182, 7355, 89388, 55250, 91104, 4101, 4541, 5041, 5042, 6966, 6991, 7192, 7307, 7738, 7892, 7951, 8138, 25995, 26005, 26012, 26317, 26413, 26702, 26886, 27441, 32395, 42946, 43832, 46772, 47810, 50005, 51709, 59935, 60760, 61026, 61210, 66427, 68486, 72224, 72630, 73488, 73741, 74438, 1311, 2191, 3883, 4753, 5117, 5278, 5413, 5864, 7204, 7312, 32153, 46574, 54768, 61465, 6771, 27724, 27871, 32666, 36931, 51927, 59016, 74450, 3349, 2342, 2708, 3976, 4173, 6035, 6056, 6073, 6828, 7208, 7299, 8121, 8143, 8591, 8779, 8954, 25852, 26663, 27768, 32591, 38384, 47728, 2284, 1671, 4640, 7352, 8070, 8713, 27876, 33124, 2661, 2923, 5223, 5466, 5503, 5516, 5517, 5535, 5575, 3454, 6332, 7453, 8642, 33296, 47122, 54734, 55100, 59985, 61250, 70898, 77414, 79588, 80858, 80860, 82152, 82499, 86817, 88179, 95567, 111913, 764, 1044, 2032, 3460, 3890, 4001, 27664, 73860, 757, 865, 1901, 2832, 617, 1164, 1450, 1539, 1563, 1571, 1819, 2008, 2063, 2869, 3003, 3047, 3303, 3338, 4026, 4076, 4208, 4399, 4538, 4591, 4592, 4605, 4796, 4930, 4984, 5224, 5236, 5352, 5395, 5427, 6531, 98000, 108514, 149606, 162542, 162672, 2849, 4469, 92008, 95761, 104881, 105954, 111931, 54780, 72294, 78174, 84637, 4104, 6039, 7340, 100553, 27544, 2887, 3031, 3276, 3596, 3933, 4051, 4053, 4156, 4198, 4233, 4268, 4397, 4471, 4477, 4602, 4634, 4812, 5356, 5573, 5582, 5636, 5779, 6143, 6302, 6348, 6349, 6427, 6514, 6798, 6812, 6814, 6862, 7016, 7245, 7258, 7319, 7372, 7895, 8136, 8290, 8447, 8743, 26409, 26464, 26750, 31000, 32291, 43558, 49688, 50064, 50792, 52730, 55294, 61289, 66785, 67361, 69118, 70545, 70984, 71823, 72694, 73386, 75803, 75816, 77191, 79259, 79590, 79946, 80590, 81949, 82093, 83177, 84696, 84950, 85399, 86028, 86593, 87444, 87483, 87785, 89305, 89427, 90343, 90522, 90738, 91126, 91128, 91273, 91323, 91325, 91470, 91688, 91873, 91935, 92048, 92198, 92439, 92665, 93242, 93563, 93980, 93982, 94011, 94323, 94494, 94672, 94919, 95067, 95201, 95508, 95744, 96114, 96530, 96726, 97328, 97470, 97858, 97870, 98160, 98175, 98230, 98279, 98585, 98836, 98908, 99005, 99106, 99415, 99574, 99846, 99992, 100226, 100304, 100326, 100390, 101283, 101360, 101415, 101529, 101884, 102165, 102278, 102378, 103221, 103502, 103543, 103596, 103755, 103819, 103865, 104076, 104078, 104129, 104245, 104760, 104906, 105037, 105121, 105254, 105351, 106542, 106839, 106883, 107702, 107945, 108601, 108715, 108949, 109042, 109191, 109295, 109317, 109372, 109576, 109853, 110297, 110611, 110826, 111663, 111680, 112303, 112497, 112749, 113186, 113225, 113416, 113532, 114762, 114818, 114925, 115151, 116207, 116413, 116419, 116849, 116887, 116985, 117107, 117511, 117590, 118248, 118326, 118354, 118702, 118814, 119068, 119655, 120635, 120783, 122490, 122932, 123947, 124859, 125916, 126420, 127096, 127194, 127204, 127319, 128592, 129250, 129657, 129659, 129737, 130083, 130450, 131714, 132333, 132462, 132488, 132618, 133281, 133365, 133377, 133545, 133782, 133798, 134158, 134859, 135536, 136305, 136654, 136666, 136800, 136816, 138546, 139415, 139642, 139915, 140237, 140725, 141422, 142536, 143255, 143257, 143410, 143472, 144714, 145150, 146688, 149590, 149612, 150401, 157407, 160440, 161830, 161918, 69529, 26462, 638, 245, 4741, 5818, 5913, 6022, 6091, 6679, 6690, 6884, 7011, 7990, 8273, 8577, 26947, 27416, 27700, 27875, 33750, 41912, 48032, 48593, 48856, 49265, 57845, 58029, 61646, 65259, 71640, 73101, 77810, 81819, 92004, 93693, 98913, 99675, 102995, 128616, 140152, 155611, 3453, 3575, 4342, 4724, 5229, 5264, 5271, 6033, 6295, 6342, 6369, 6762, 6769, 7260, 7625, 7627, 8256, 8453, 8699, 26791, 26843, 26854, 27826, 53138, 54251, 59549, 60086, 68835, 69495, 70762, 72947, 79163, 80584, 82608, 84414, 89870, 92613, 92966, 98933, 99609, 99615, 100017, 103731, 106417, 108551, 108795, 109183, 109359, 110058, 110781, 116855, 127728, 129009, 130522, 130628, 130960, 135264, 135266, 135268, 137403, 140739, 140741, 140743, 140745, 140747, 140749, 140751, 140753, 140755, 140757, 140759, 140761, 140763, 140880, 141124, 142068, 142240, 146443, 146501, 146604, 147037, 2103, 8504, 26819, 42009, 143859, 158314, 1692, 3845, 3909, 167, 563, 127124, 134246, 134528, 134783, 137595, 138204, 60832, 64997, 72380, 129, 4736, 6425]\n",
            "encoded movieId :  {31: 0, 1029: 1, 1061: 2, 1129: 3, 1172: 4, 1263: 5, 1287: 6, 1293: 7, 1339: 8, 1343: 9, 1371: 10, 1405: 11, 1953: 12, 2105: 13, 2150: 14, 2193: 15, 2294: 16, 2455: 17, 2968: 18, 3671: 19, 10: 20, 17: 21, 39: 22, 47: 23, 50: 24, 52: 25, 62: 26, 110: 27, 144: 28, 150: 29, 153: 30, 161: 31, 165: 32, 168: 33, 185: 34, 186: 35, 208: 36, 222: 37, 223: 38, 225: 39, 235: 40, 248: 41, 253: 42, 261: 43, 265: 44, 266: 45, 272: 46, 273: 47, 292: 48, 296: 49, 300: 50, 314: 51, 317: 52, 319: 53, 339: 54, 349: 55, 350: 56, 356: 57, 357: 58, 364: 59, 367: 60, 370: 61, 371: 62, 372: 63, 377: 64, 382: 65, 405: 66, 410: 67, 454: 68, 457: 69, 468: 70, 474: 71, 480: 72, 485: 73, 497: 74, 500: 75, 508: 76, 509: 77, 515: 78, 527: 79, 537: 80, 539: 81, 550: 82, 551: 83, 552: 84, 585: 85, 586: 86, 587: 87, 588: 88, 589: 89, 590: 90, 592: 91, 593: 92, 616: 93, 661: 94, 720: 95, 60: 96, 247: 97, 267: 98, 318: 99, 355: 100, 595: 101, 736: 102, 778: 103, 866: 104, 1197: 105, 1210: 106, 1235: 107, 1271: 108, 1378: 109, 1580: 110, 1721: 111, 1884: 112, 2028: 113, 2318: 114, 2513: 115, 2694: 116, 2702: 117, 2716: 118, 2762: 119, 2841: 120, 2858: 121, 2959: 122, 3243: 123, 3510: 124, 3949: 125, 5349: 126, 5669: 127, 6377: 128, 7153: 129, 7361: 130, 8622: 131, 8636: 132, 27369: 133, 44191: 134, 48783: 135, 50068: 136, 58559: 137, 84236: 138, 34: 139, 112: 140, 141: 141, 173: 142, 260: 143, 289: 144, 329: 145, 380: 146, 431: 147, 434: 148, 435: 149, 440: 150, 442: 151, 464: 152, 541: 153, 594: 154, 596: 155, 610: 156, 858: 157, 903: 158, 910: 159, 913: 160, 919: 161, 1011: 162, 1016: 163, 1022: 164, 1028: 165, 1030: 166, 1031: 167, 1032: 168, 1033: 169, 1036: 170, 1073: 171, 1079: 172, 1089: 173, 1097: 174, 1125: 175, 1127: 176, 1136: 177, 1194: 178, 1196: 179, 1198: 180, 1200: 181, 1206: 182, 1208: 183, 1213: 184, 1214: 185, 1219: 186, 1220: 187, 1222: 188, 1225: 189, 1230: 190, 1240: 191, 1243: 192, 1257: 193, 1258: 194, 1259: 195, 1265: 196, 1270: 197, 1278: 198, 1282: 199, 1285: 200, 1288: 201, 1291: 202, 1298: 203, 1307: 204, 1332: 205, 1334: 206, 1344: 207, 1356: 208, 1372: 209, 1374: 210, 1376: 211, 1377: 212, 1380: 213, 1387: 214, 1388: 215, 1396: 216, 1544: 217, 1663: 218, 1674: 219, 1805: 220, 1858: 221, 1917: 222, 1918: 223, 1954: 224, 1961: 225, 1967: 226, 1968: 227, 1994: 228, 2000: 229, 2002: 230, 2003: 231, 2005: 232, 2014: 233, 2018: 234, 2020: 235, 2021: 236, 2033: 237, 2034: 238, 2046: 239, 2054: 240, 2064: 241, 2078: 242, 2080: 243, 2081: 244, 2085: 245, 2086: 246, 2087: 247, 2091: 248, 2094: 249, 2096: 250, 2100: 251, 2102: 252, 2109: 253, 2110: 254, 2114: 255, 2115: 256, 2124: 257, 2140: 258, 2141: 259, 2143: 260, 2144: 261, 2161: 262, 2174: 263, 2194: 264, 2248: 265, 2263: 266, 2268: 267, 2289: 268, 2348: 269, 2371: 270, 2403: 271, 2406: 272, 2409: 273, 2454: 274, 2467: 275, 2551: 276, 2616: 277, 2628: 278, 2640: 279, 2659: 280, 2683: 281, 2699: 282, 2723: 283, 2734: 284, 2770: 285, 2788: 286, 2791: 287, 2795: 288, 2797: 289, 2804: 290, 2822: 291, 2867: 292, 2872: 293, 2877: 294, 2902: 295, 2903: 296, 2916: 297, 2918: 298, 2986: 299, 2987: 300, 2991: 301, 3016: 302, 3034: 303, 3039: 304, 3040: 305, 3060: 306, 3071: 307, 3101: 308, 3104: 309, 3108: 310, 3169: 311, 3208: 312, 3210: 313, 3251: 314, 3255: 315, 3263: 316, 3265: 317, 4006: 318, 3: 319, 104: 320, 231: 321, 277: 322, 344: 323, 597: 324, 788: 325, 1035: 326, 1193: 327, 1221: 328, 1247: 329, 1393: 330, 1485: 331, 1682: 332, 1777: 333, 1784: 334, 1923: 335, 1997: 336, 2023: 337, 2273: 338, 2355: 339, 2424: 340, 2502: 341, 2706: 342, 2997: 343, 3114: 344, 3176: 345, 3408: 346, 3753: 347, 3897: 348, 3948: 349, 4014: 350, 4018: 351, 4022: 352, 4025: 353, 4306: 354, 4308: 355, 4447: 356, 4718: 357, 4963: 358, 4995: 359, 5266: 360, 5299: 361, 5464: 362, 5679: 363, 5816: 364, 5995: 365, 6218: 366, 6373: 367, 6502: 368, 6711: 369, 6942: 370, 8376: 371, 8464: 372, 8644: 373, 30707: 374, 30749: 375, 30793: 376, 33166: 377, 33679: 378, 34162: 379, 35836: 380, 40819: 381, 41566: 382, 41569: 383, 48385: 384, 111: 385, 158: 386, 293: 387, 1204: 388, 1250: 389, 1276: 390, 1358: 391, 1639: 392, 1687: 393, 1747: 394, 1876: 395, 1909: 396, 2001: 397, 2019: 398, 2072: 399, 2528: 400, 2529: 401, 2571: 402, 2657: 403, 2692: 404, 2761: 405, 2890: 406, 3052: 407, 3300: 408, 3751: 409, 4641: 410, 4975: 411, 5952: 412, 7090: 413, 8368: 414, 8784: 415, 8874: 416, 1: 417, 21: 418, 40: 419, 151: 420, 198: 421, 207: 422, 316: 423, 333: 424, 345: 425, 534: 426, 671: 427, 708: 428, 724: 429, 737: 430, 745: 431, 780: 432, 786: 433, 924: 434, 1080: 435, 1148: 436, 1223: 437, 1231: 438, 1242: 439, 1275: 440, 1302: 441, 1353: 442, 1373: 443, 1375: 444, 1394: 445, 1408: 446, 32: 447, 45: 448, 282: 449, 520: 450, 524: 451, 543: 452, 628: 453, 805: 454, 1500: 455, 1552: 456, 1617: 457, 1625: 458, 1704: 459, 1754: 460, 2139: 461, 2302: 462, 2324: 463, 2329: 464, 2353: 465, 2423: 466, 3147: 467, 3578: 468, 3916: 469, 3996: 470, 4011: 471, 4019: 472, 4034: 473, 4226: 474, 4262: 475, 4448: 476, 4886: 477, 4896: 478, 4973: 479, 4993: 480, 5064: 481, 5378: 482, 5445: 483, 5630: 484, 5650: 485, 5989: 486, 6378: 487, 6870: 488, 6874: 489, 6879: 490, 7143: 491, 7438: 492, 8533: 493, 8873: 494, 32587: 495, 33493: 496, 33794: 497, 40583: 498, 42007: 499, 43556: 500, 43871: 501, 44004: 502, 26: 503, 36: 504, 608: 505, 733: 506, 1059: 507, 1177: 508, 1357: 509, 1411: 510, 1541: 511, 1584: 512, 1680: 513, 2125: 514, 2249: 515, 2278: 516, 2291: 517, 2391: 518, 2396: 519, 2427: 520, 2490: 521, 2501: 522, 2539: 523, 2857: 524, 152: 525, 735: 526, 1101: 527, 1423: 528, 1459: 529, 1499: 530, 1611: 531, 1690: 532, 1719: 533, 1887: 534, 2108: 535, 2344: 536, 2410: 537, 2826: 538, 2827: 539, 2840: 540, 2881: 541, 2907: 542, 2926: 543, 2995: 544, 3005: 545, 3019: 546, 70: 547, 126: 548, 169: 549, 785: 550, 923: 551, 1027: 552, 1201: 553, 2042: 554, 2596: 555, 3424: 556, 6598: 557, 26614: 558, 48516: 559, 51084: 560, 58295: 561, 71211: 562, 77455: 563, 79132: 564, 80489: 565, 80906: 566, 81158: 567, 81562: 568, 88129: 569, 91500: 570, 91529: 571, 91548: 572, 96079: 573, 96861: 574, 97938: 575, 104841: 576, 106487: 577, 529: 578, 538: 579, 673: 580, 1077: 581, 1215: 582, 1295: 583, 1732: 584, 2259: 585, 2460: 586, 2668: 587, 3146: 588, 3148: 589, 3179: 590, 3298: 591, 3324: 592, 3474: 593, 3770: 594, 3773: 595, 3780: 596, 3791: 597, 3793: 598, 3794: 599, 3798: 600, 3799: 601, 3801: 602, 3809: 603, 3825: 604, 3827: 605, 3829: 606, 3831: 607, 3841: 608, 3844: 609, 3861: 610, 3863: 611, 3864: 612, 3865: 613, 3869: 614, 3871: 615, 3873: 616, 3879: 617, 3885: 618, 3886: 619, 6184: 620, 362: 621, 531: 622, 914: 623, 2572: 624, 2908: 625, 3396: 626, 3624: 627, 4310: 628, 4321: 629, 4878: 630, 7502: 631, 54286: 632, 64614: 633, 69757: 634, 78499: 635, 81834: 636, 88125: 637, 93363: 638, 2038: 639, 2394: 640, 2720: 641, 2724: 642, 2861: 643, 3157: 644, 3175: 645, 3354: 646, 3623: 647, 3986: 648, 3988: 649, 2: 650, 5: 651, 6: 652, 11: 653, 14: 654, 16: 655, 19: 656, 22: 657, 25: 658, 44: 659, 82: 660, 94: 661, 95: 662, 101: 663, 107: 664, 123: 665, 125: 666, 145: 667, 149: 668, 157: 669, 160: 670, 162: 671, 163: 672, 164: 673, 170: 674, 172: 675, 175: 676, 176: 677, 180: 678, 193: 679, 196: 680, 214: 681, 215: 682, 216: 683, 230: 684, 232: 685, 233: 686, 237: 687, 246: 688, 252: 689, 288: 690, 306: 691, 307: 692, 308: 693, 322: 694, 335: 695, 342: 696, 353: 697, 373: 698, 429: 699, 441: 700, 466: 701, 471: 702, 481: 703, 483: 704, 494: 705, 535: 706, 540: 707, 549: 708, 555: 709, 556: 710, 562: 711, 574: 712, 647: 713, 648: 714, 663: 715, 665: 716, 674: 717, 680: 718, 748: 719, 750: 720, 762: 721, 784: 722, 799: 723, 800: 724, 802: 725, 803: 726, 804: 727, 832: 728, 836: 729, 851: 730, 899: 731, 904: 732, 908: 733, 909: 734, 911: 735, 912: 736, 916: 737, 920: 738, 922: 739, 926: 740, 931: 741, 953: 742, 994: 743, 1020: 744, 1041: 745, 1047: 746, 1060: 747, 1084: 748, 1088: 749, 1092: 750, 1093: 751, 1094: 752, 1095: 753, 1100: 754, 1120: 755, 1131: 756, 1147: 757, 1171: 758, 1173: 759, 1176: 760, 1178: 761, 1179: 762, 1183: 763, 1186: 764, 1189: 765, 1199: 766, 1203: 767, 1207: 768, 1209: 769, 1211: 770, 1212: 771, 1217: 772, 1218: 773, 1228: 774, 1233: 775, 1234: 776, 1244: 777, 1246: 778, 1248: 779, 1249: 780, 1251: 781, 1252: 782, 1254: 783, 1260: 784, 1262: 785, 1264: 786, 1266: 787, 1267: 788, 1272: 789, 1280: 790, 1281: 791, 1283: 792, 1284: 793, 1289: 794, 1290: 795, 1297: 796, 1303: 797, 1304: 798, 1320: 799, 1333: 800, 1342: 801, 1361: 802, 1370: 803, 1385: 804, 1391: 805, 1407: 806, 1449: 807, 1464: 808, 1466: 809, 1476: 810, 1479: 811, 1483: 812, 1484: 813, 1502: 814, 1503: 815, 1513: 816, 1517: 817, 1527: 818, 1529: 819, 1546: 820, 1556: 821, 1562: 822, 1569: 823, 1573: 824, 1589: 825, 1597: 826, 1608: 827, 1610: 828, 1615: 829, 1616: 830, 1635: 831, 1644: 832, 1645: 833, 1649: 834, 1653: 835, 1673: 836, 1676: 837, 1689: 838, 1694: 839, 1717: 840, 1722: 841, 1729: 842, 1735: 843, 1748: 844, 1752: 845, 1753: 846, 1779: 847, 1792: 848, 1807: 849, 1810: 850, 1816: 851, 1827: 852, 1831: 853, 1834: 854, 1836: 855, 1845: 856, 1859: 857, 1860: 858, 1862: 859, 1882: 860, 1883: 861, 1889: 862, 1895: 863, 1897: 864, 1904: 865, 1912: 866, 1914: 867, 1921: 868, 1945: 869, 1950: 870, 1952: 871, 1955: 872, 1956: 873, 1962: 874, 1964: 875, 2006: 876, 2010: 877, 2011: 878, 2012: 879, 2025: 880, 2041: 881, 2058: 882, 2060: 883, 2076: 884, 2126: 885, 2133: 886, 2134: 887, 2145: 888, 2160: 889, 2167: 890, 2186: 891, 2231: 892, 2232: 893, 2243: 894, 2269: 895, 2282: 896, 2288: 897, 2303: 898, 2311: 899, 2313: 900, 2321: 901, 2333: 902, 2334: 903, 2336: 904, 2340: 905, 2351: 906, 2357: 907, 2360: 908, 2366: 909, 2369: 910, 2378: 911, 2387: 912, 2395: 913, 2405: 914, 2407: 915, 2413: 916, 2428: 917, 2439: 918, 2447: 919, 2478: 920, 2505: 921, 2541: 922, 2542: 923, 2560: 924, 2568: 925, 2574: 926, 2575: 927, 2579: 928, 2580: 929, 2581: 930, 2585: 931, 2594: 932, 2598: 933, 2599: 934, 2600: 935, 2605: 936, 2617: 937, 2624: 938, 2648: 939, 2671: 940, 2678: 941, 2686: 942, 2700: 943, 2701: 944, 2707: 945, 2709: 946, 2710: 947, 2712: 948, 2713: 949, 2717: 950, 2718: 951, 2722: 952, 2726: 953, 2729: 954, 2759: 955, 2763: 956, 2769: 957, 2803: 958, 2819: 959, 2871: 960, 2905: 961, 2912: 962, 2915: 963, 2925: 964, 2947: 965, 2949: 966, 2952: 967, 2973: 968, 2976: 969, 2983: 970, 2985: 971, 2990: 972, 2993: 973, 3000: 974, 3004: 975, 3006: 976, 3007: 977, 3008: 978, 3010: 979, 3020: 980, 3030: 981, 3033: 982, 3044: 983, 3077: 984, 3081: 985, 3082: 986, 3083: 987, 3089: 988, 3107: 989, 3113: 990, 3128: 991, 3129: 992, 3134: 993, 3150: 994, 3152: 995, 3160: 996, 3168: 997, 3173: 998, 3174: 999, 3181: 1000, 3182: 1001, 3185: 1002, 3219: 1003, 3225: 1004, 3246: 1005, 3250: 1006, 3253: 1007, 3256: 1008, 3261: 1009, 3262: 1010, 3266: 1011, 3267: 1012, 3272: 1013, 3273: 1014, 3275: 1015, 3285: 1016, 3286: 1017, 3301: 1018, 3307: 1019, 3316: 1020, 3317: 1021, 3318: 1022, 3320: 1023, 3328: 1024, 3358: 1025, 3361: 1026, 3362: 1027, 3386: 1028, 3390: 1029, 3409: 1030, 3418: 1031, 3421: 1032, 3429: 1033, 3435: 1034, 3448: 1035, 3461: 1036, 3462: 1037, 3471: 1038, 3476: 1039, 3477: 1040, 3481: 1041, 3484: 1042, 3489: 1043, 3499: 1044, 3504: 1045, 3505: 1046, 3512: 1047, 3527: 1048, 3534: 1049, 3535: 1050, 3536: 1051, 3538: 1052, 3543: 1053, 3552: 1054, 3555: 1055, 3556: 1056, 3566: 1057, 3569: 1058, 3571: 1059, 3577: 1060, 3598: 1061, 3617: 1062, 3618: 1063, 3626: 1064, 3633: 1065, 3634: 1066, 3635: 1067, 3638: 1068, 3639: 1069, 3683: 1070, 3707: 1071, 3717: 1072, 3728: 1073, 3730: 1074, 3735: 1075, 3742: 1076, 3745: 1077, 3747: 1078, 3752: 1079, 3755: 1080, 3763: 1081, 3783: 1082, 3785: 1083, 3786: 1084, 3787: 1085, 3788: 1086, 3800: 1087, 3823: 1088, 3826: 1089, 3852: 1090, 3854: 1091, 3868: 1092, 3882: 1093, 3892: 1094, 3893: 1095, 3896: 1096, 3910: 1097, 3911: 1098, 3915: 1099, 3943: 1100, 3952: 1101, 3956: 1102, 3967: 1103, 3968: 1104, 3969: 1105, 3977: 1106, 3979: 1107, 3981: 1108, 3983: 1109, 3984: 1110, 3987: 1111, 3989: 1112, 3990: 1113, 3993: 1114, 3994: 1115, 3998: 1116, 3999: 1117, 4005: 1118, 4007: 1119, 4010: 1120, 4015: 1121, 4017: 1122, 4020: 1123, 4021: 1124, 4023: 1125, 4027: 1126, 4029: 1127, 4030: 1128, 4033: 1129, 4036: 1130, 4037: 1131, 4052: 1132, 4055: 1133, 4056: 1134, 4066: 1135, 4079: 1136, 4082: 1137, 4085: 1138, 4121: 1139, 4144: 1140, 4148: 1141, 4149: 1142, 4158: 1143, 4161: 1144, 4167: 1145, 4168: 1146, 4210: 1147, 4223: 1148, 4225: 1149, 4232: 1150, 4235: 1151, 4238: 1152, 4239: 1153, 4246: 1154, 4247: 1155, 4270: 1156, 4271: 1157, 4299: 1158, 4302: 1159, 4322: 1160, 4343: 1161, 4344: 1162, 4351: 1163, 4361: 1164, 4367: 1165, 4369: 1166, 4370: 1167, 4372: 1168, 4378: 1169, 4380: 1170, 4381: 1171, 4383: 1172, 4386: 1173, 4388: 1174, 4410: 1175, 4446: 1176, 4450: 1177, 4451: 1178, 4489: 1179, 4546: 1180, 4571: 1181, 4621: 1182, 4623: 1183, 4638: 1184, 4639: 1185, 4642: 1186, 4643: 1187, 4654: 1188, 4658: 1189, 4666: 1190, 4675: 1191, 4678: 1192, 4679: 1193, 4700: 1194, 4701: 1195, 4713: 1196, 4719: 1197, 4720: 1198, 4723: 1199, 4727: 1200, 4728: 1201, 4731: 1202, 4734: 1203, 4738: 1204, 4744: 1205, 4776: 1206, 4816: 1207, 4823: 1208, 4844: 1209, 4848: 1210, 4873: 1211, 4881: 1212, 4888: 1213, 4890: 1214, 4901: 1215, 4902: 1216, 4903: 1217, 4914: 1218, 4958: 1219, 4974: 1220, 4979: 1221, 4992: 1222, 5000: 1223, 5008: 1224, 5010: 1225, 5013: 1226, 5015: 1227, 5026: 1228, 5060: 1229, 5066: 1230, 5071: 1231, 5074: 1232, 5075: 1233, 5110: 1234, 5120: 1235, 5128: 1236, 5135: 1237, 5170: 1238, 5171: 1239, 5218: 1240, 5219: 1241, 5220: 1242, 5222: 1243, 5225: 1244, 5254: 1245, 5269: 1246, 5279: 1247, 5283: 1248, 5291: 1249, 5293: 1250, 5296: 1251, 5298: 1252, 5308: 1253, 5313: 1254, 5319: 1255, 5339: 1256, 5346: 1257, 5363: 1258, 5364: 1259, 5377: 1260, 5388: 1261, 5391: 1262, 5400: 1263, 5410: 1264, 5416: 1265, 5418: 1266, 5419: 1267, 5444: 1268, 5449: 1269, 5458: 1270, 5459: 1271, 5463: 1272, 5477: 1273, 5478: 1274, 5481: 1275, 5500: 1276, 5502: 1277, 5504: 1278, 5507: 1279, 5508: 1280, 5515: 1281, 5524: 1282, 5528: 1283, 5541: 1284, 5553: 1285, 5568: 1286, 5577: 1287, 5617: 1288, 5618: 1289, 5620: 1290, 5662: 1291, 5673: 1292, 5791: 1293, 5792: 1294, 5809: 1295, 5872: 1296, 5878: 1297, 5893: 1298, 5902: 1299, 5903: 1300, 5909: 1301, 5945: 1302, 5954: 1303, 5956: 1304, 5957: 1305, 5959: 1306, 5968: 1307, 5991: 1308, 6003: 1309, 6016: 1310, 6025: 1311, 6037: 1312, 6059: 1313, 6155: 1314, 6157: 1315, 6180: 1316, 6188: 1317, 6203: 1318, 6271: 1319, 6281: 1320, 6283: 1321, 6287: 1322, 6296: 1323, 6299: 1324, 6303: 1325, 6327: 1326, 6331: 1327, 6333: 1328, 6365: 1329, 6380: 1330, 6385: 1331, 6433: 1332, 6440: 1333, 6442: 1334, 6464: 1335, 6503: 1336, 6534: 1337, 6537: 1338, 6539: 1339, 6547: 1340, 6552: 1341, 6586: 1342, 6593: 1343, 6620: 1344, 6641: 1345, 6650: 1346, 6708: 1347, 6754: 1348, 6773: 1349, 6783: 1350, 6787: 1351, 6816: 1352, 6820: 1353, 6863: 1354, 6867: 1355, 6873: 1356, 6875: 1357, 6885: 1358, 6932: 1359, 6934: 1360, 6936: 1361, 6944: 1362, 6947: 1363, 6953: 1364, 6957: 1365, 6961: 1366, 6975: 1367, 6978: 1368, 6979: 1369, 6989: 1370, 7003: 1371, 7004: 1372, 7008: 1373, 7010: 1374, 7028: 1375, 7034: 1376, 7123: 1377, 7132: 1378, 7147: 1379, 7156: 1380, 7162: 1381, 7173: 1382, 7199: 1383, 7254: 1384, 7265: 1385, 7293: 1386, 7317: 1387, 7323: 1388, 7325: 1389, 7327: 1390, 7346: 1391, 7348: 1392, 7371: 1393, 7373: 1394, 7444: 1395, 7445: 1396, 7451: 1397, 7458: 1398, 7484: 1399, 7487: 1400, 7560: 1401, 7569: 1402, 7573: 1403, 7698: 1404, 7792: 1405, 7925: 1406, 8011: 1407, 8264: 1408, 8360: 1409, 8361: 1410, 8366: 1411, 8528: 1412, 8529: 1413, 8531: 1414, 8581: 1415, 8582: 1416, 8623: 1417, 8638: 1418, 8641: 1419, 8645: 1420, 8665: 1421, 8781: 1422, 8798: 1423, 8807: 1424, 8865: 1425, 8910: 1426, 8914: 1427, 8917: 1428, 8930: 1429, 8948: 1430, 8949: 1431, 8950: 1432, 8957: 1433, 8958: 1434, 8961: 1435, 8970: 1436, 8972: 1437, 8974: 1438, 8984: 1439, 26131: 1440, 26152: 1441, 26587: 1442, 26729: 1443, 26810: 1444, 27020: 1445, 27478: 1446, 27660: 1447, 27773: 1448, 27821: 1449, 27846: 1450, 27904: 1451, 30810: 1452, 30812: 1453, 30825: 1454, 31685: 1455, 31696: 1456, 33004: 1457, 33154: 1458, 34048: 1459, 34072: 1460, 34150: 1461, 34319: 1462, 34334: 1463, 34405: 1464, 34542: 1465, 35957: 1466, 36517: 1467, 36529: 1468, 37386: 1469, 37729: 1470, 37741: 1471, 38061: 1472, 38886: 1473, 39292: 1474, 40815: 1475, 41997: 1476, 42718: 1477, 44195: 1478, 44199: 1479, 44555: 1480, 44597: 1481, 44665: 1482, 44761: 1483, 44788: 1484, 45186: 1485, 45447: 1486, 45499: 1487, 45517: 1488, 45666: 1489, 45672: 1490, 45720: 1491, 45722: 1492, 45728: 1493, 45950: 1494, 46530: 1495, 46578: 1496, 46723: 1497, 46970: 1498, 46972: 1499, 46976: 1500, 47610: 1501, 47999: 1502, 48043: 1503, 48082: 1504, 48394: 1505, 48774: 1506, 48780: 1507, 49272: 1508, 49278: 1509, 49286: 1510, 50851: 1511, 50872: 1512, 51080: 1513, 51255: 1514, 51540: 1515, 51662: 1516, 52245: 1517, 52328: 1518, 52604: 1519, 52722: 1520, 52973: 1521, 53322: 1522, 53464: 1523, 53894: 1524, 53972: 1525, 53996: 1526, 54001: 1527, 54272: 1528, 54372: 1529, 54503: 1530, 54881: 1531, 55247: 1532, 55269: 1533, 55276: 1534, 55442: 1535, 55765: 1536, 55820: 1537, 55830: 1538, 56174: 1539, 56367: 1540, 56563: 1541, 56775: 1542, 56782: 1543, 57368: 1544, 57640: 1545, 57669: 1546, 58025: 1547, 58998: 1548, 59126: 1549, 59315: 1550, 59369: 1551, 59519: 1552, 59615: 1553, 59784: 1554, 59900: 1555, 60037: 1556, 60040: 1557, 60069: 1558, 60072: 1559, 60074: 1560, 60126: 1561, 60295: 1562, 60684: 1563, 60766: 1564, 61024: 1565, 61132: 1566, 61323: 1567, 61394: 1568, 62374: 1569, 62434: 1570, 62511: 1571, 63082: 1572, 63113: 1573, 63131: 1574, 63859: 1575, 64620: 1576, 64839: 1577, 64957: 1578, 65642: 1579, 65802: 1580, 66097: 1581, 66130: 1582, 66203: 1583, 66596: 1584, 66665: 1585, 66934: 1586, 67087: 1587, 67193: 1588, 67665: 1589, 67734: 1590, 67997: 1591, 68157: 1592, 68159: 1593, 68237: 1594, 68319: 1595, 68324: 1596, 68358: 1597, 68791: 1598, 68793: 1599, 68954: 1600, 69122: 1601, 69306: 1602, 69406: 1603, 69436: 1604, 69481: 1605, 69524: 1606, 69526: 1607, 70286: 1608, 70293: 1609, 70336: 1610, 70697: 1611, 70862: 1612, 71264: 1613, 71282: 1614, 71462: 1615, 71464: 1616, 71535: 1617, 71838: 1618, 72011: 1619, 72226: 1620, 72378: 1621, 72998: 1622, 73017: 1623, 73344: 1624, 74458: 1625, 74649: 1626, 74795: 1627, 74851: 1628, 76077: 1629, 76093: 1630, 76251: 1631, 76293: 1632, 76738: 1633, 77364: 1634, 77561: 1635, 78209: 1636, 78469: 1637, 78574: 1638, 79057: 1639, 79185: 1640, 79242: 1641, 79293: 1642, 79428: 1643, 79695: 1644, 79702: 1645, 80126: 1646, 80185: 1647, 80463: 1648, 80862: 1649, 81191: 1650, 81229: 1651, 81591: 1652, 81782: 1653, 81845: 1654, 81847: 1655, 81932: 1656, 82461: 1657, 82854: 1658, 83270: 1659, 83293: 1660, 83349: 1661, 83613: 1662, 83827: 1663, 84152: 1664, 84374: 1665, 84392: 1666, 84954: 1667, 85414: 1668, 85774: 1669, 86190: 1670, 86332: 1671, 86644: 1672, 86781: 1673, 86833: 1674, 86882: 1675, 86898: 1676, 86911: 1677, 87222: 1678, 87232: 1679, 87304: 1680, 87306: 1681, 87430: 1682, 87485: 1683, 87520: 1684, 87869: 1685, 87930: 1686, 88140: 1687, 88163: 1688, 88356: 1689, 88744: 1690, 88950: 1691, 89090: 1692, 89337: 1693, 89470: 1694, 89492: 1695, 89745: 1696, 89840: 1697, 90249: 1698, 90266: 1699, 90428: 1700, 90439: 1701, 90531: 1702, 90600: 1703, 90603: 1704, 90647: 1705, 90746: 1706, 90866: 1707, 90870: 1708, 91505: 1709, 91535: 1710, 91542: 1711, 91630: 1712, 91653: 1713, 91658: 1714, 91842: 1715, 91869: 1716, 92420: 1717, 92507: 1718, 93326: 1719, 93510: 1720, 93721: 1721, 93831: 1722, 93840: 1723, 94015: 1724, 94018: 1725, 94478: 1726, 94677: 1727, 94777: 1728, 94780: 1729, 94833: 1730, 94864: 1731, 94959: 1732, 95105: 1733, 95167: 1734, 95199: 1735, 95311: 1736, 95443: 1737, 95510: 1738, 95558: 1739, 95875: 1740, 96150: 1741, 96488: 1742, 96610: 1743, 96667: 1744, 96737: 1745, 97304: 1746, 97393: 1747, 97866: 1748, 97913: 1749, 97923: 1750, 98122: 1751, 98154: 1752, 98809: 1753, 98961: 1754, 99007: 1755, 99112: 1756, 99114: 1757, 99149: 1758, 99468: 1759, 99811: 1760, 100032: 1761, 100083: 1762, 100365: 1763, 100383: 1764, 100517: 1765, 100556: 1766, 100581: 1767, 100714: 1768, 100745: 1769, 101076: 1770, 101112: 1771, 101362: 1772, 101864: 1773, 101895: 1774, 102123: 1775, 102125: 1776, 102445: 1777, 102800: 1778, 102880: 1779, 102903: 1780, 103042: 1781, 103228: 1782, 103249: 1783, 103253: 1784, 103372: 1785, 103810: 1786, 104211: 1787, 104241: 1788, 104272: 1789, 104726: 1790, 104879: 1791, 105504: 1792, 106072: 1793, 106111: 1794, 106332: 1795, 106489: 1796, 106782: 1797, 106916: 1798, 106920: 1799, 107348: 1800, 107406: 1801, 107910: 1802, 108188: 1803, 108190: 1804, 108689: 1805, 108729: 1806, 108932: 1807, 108945: 1808, 109187: 1809, 109374: 1810, 109487: 1811, 109673: 1812, 109687: 1813, 109848: 1814, 110102: 1815, 110127: 1816, 110553: 1817, 110730: 1818, 110771: 1819, 111228: 1820, 111360: 1821, 111362: 1822, 111364: 1823, 111443: 1824, 111622: 1825, 111759: 1826, 111781: 1827, 112138: 1828, 112171: 1829, 112183: 1830, 112370: 1831, 112552: 1832, 112556: 1833, 112623: 1834, 112788: 1835, 112852: 1836, 112940: 1837, 113345: 1838, 113348: 1839, 113378: 1840, 113741: 1841, 114180: 1842, 114635: 1843, 115149: 1844, 115502: 1845, 115569: 1846, 115617: 1847, 115713: 1848, 116161: 1849, 116797: 1850, 116799: 1851, 116823: 1852, 116897: 1853, 117176: 1854, 117529: 1855, 117533: 1856, 118696: 1857, 119141: 1858, 119145: 1859, 120466: 1860, 120799: 1861, 121171: 1862, 121231: 1863, 122882: 1864, 122886: 1865, 122890: 1866, 122892: 1867, 122900: 1868, 122902: 1869, 122904: 1870, 122920: 1871, 122924: 1872, 127136: 1873, 128360: 1874, 129937: 1875, 130452: 1876, 130490: 1877, 130576: 1878, 130634: 1879, 131013: 1880, 132046: 1881, 132480: 1882, 132796: 1883, 132961: 1884, 134130: 1885, 134368: 1886, 134393: 1887, 134853: 1888, 135133: 1889, 135436: 1890, 135567: 1891, 135569: 1892, 136020: 1893, 136562: 1894, 136864: 1895, 137337: 1896, 137857: 1897, 138036: 1898, 139385: 1899, 139644: 1900, 139757: 1901, 139855: 1902, 140110: 1903, 140174: 1904, 140267: 1905, 140711: 1906, 140928: 1907, 142488: 1908, 142507: 1909, 143385: 1910, 145839: 1911, 145935: 1912, 146656: 1913, 148626: 1914, 149352: 1915, 149354: 1916, 149406: 1917, 152057: 1918, 152077: 1919, 152079: 1920, 152081: 1921, 155820: 1922, 156607: 1923, 156609: 1924, 157200: 1925, 157296: 1926, 157667: 1927, 158238: 1928, 158528: 1929, 159093: 1930, 159690: 1931, 159755: 1932, 159858: 1933, 159972: 1934, 160080: 1935, 160271: 1936, 160563: 1937, 160565: 1938, 160567: 1939, 161155: 1940, 337: 1941, 4231: 1942, 4772: 1943, 29: 1944, 194: 1945, 348: 1946, 482: 1947, 492: 1948, 714: 1949, 928: 1950, 930: 1951, 942: 1952, 965: 1953, 1104: 1954, 1175: 1955, 1232: 1956, 1237: 1957, 1241: 1958, 1245: 1959, 1255: 1960, 1348: 1961, 1570: 1962, 1627: 1963, 1809: 1964, 2066: 1965, 2067: 1966, 2117: 1967, 2118: 1968, 2159: 1969, 2204: 1970, 2606: 1971, 2672: 1972, 2677: 1973, 2892: 1974, 3018: 1975, 3503: 1976, 3676: 1977, 4404: 1978, 4437: 1979, 4552: 1980, 4645: 1981, 4725: 1982, 5017: 1983, 5054: 1984, 5062: 1985, 5072: 1986, 5105: 1987, 5137: 1988, 5316: 1989, 5574: 1990, 5608: 1991, 5686: 1992, 5782: 1993, 5853: 1994, 5867: 1995, 5881: 1996, 5949: 1997, 6140: 1998, 6197: 1999, 6214: 2000, 6242: 2001, 6294: 2002, 6322: 2003, 6323: 2004, 6383: 2005, 6530: 2006, 6538: 2007, 6584: 2008, 6643: 2009, 6666: 2010, 6757: 2011, 6774: 2012, 6777: 2013, 6790: 2014, 6858: 2015, 6971: 2016, 6987: 2017, 6993: 2018, 7013: 2019, 7022: 2020, 7044: 2021, 7068: 2022, 7069: 2023, 7084: 2024, 7115: 2025, 7116: 2026, 7135: 2027, 7163: 2028, 7223: 2029, 7587: 2030, 7700: 2031, 7728: 2032, 7771: 2033, 7827: 2034, 7981: 2035, 7982: 2036, 7991: 2037, 8195: 2038, 8228: 2039, 8370: 2040, 8477: 2041, 8600: 2042, 8620: 2043, 8690: 2044, 8783: 2045, 8928: 2046, 8973: 2047, 8983: 2048, 27266: 2049, 27317: 2050, 27604: 2051, 27721: 2052, 27788: 2053, 27834: 2054, 31410: 2055, 31878: 2056, 31952: 2057, 33615: 2058, 33683: 2059, 34437: 2060, 7: 2061, 9: 2062, 18: 2063, 74: 2064, 76: 2065, 79: 2066, 81: 2067, 85: 2068, 86: 2069, 92: 2070, 100: 2071, 140: 2072, 376: 2073, 640: 2074, 653: 2075, 707: 2076, 719: 2077, 743: 2078, 765: 2079, 818: 2080, 849: 2081, 852: 2082, 880: 2083, 4: 2084, 23: 2085, 35: 2086, 42: 2087, 48: 2088, 57: 2089, 58: 2090, 63: 2091, 64: 2092, 89: 2093, 97: 2094, 105: 2095, 122: 2096, 154: 2097, 159: 2098, 166: 2099, 177: 2100, 179: 2101, 202: 2102, 206: 2103, 209: 2104, 229: 2105, 249: 2106, 262: 2107, 269: 2108, 276: 2109, 281: 2110, 283: 2111, 326: 2112, 328: 2113, 332: 2114, 334: 2115, 340: 2116, 346: 2117, 354: 2118, 361: 2119, 365: 2120, 366: 2121, 369: 2122, 379: 2123, 383: 2124, 407: 2125, 412: 2126, 423: 2127, 428: 2128, 445: 2129, 448: 2130, 450: 2131, 451: 2132, 456: 2133, 465: 2134, 475: 2135, 479: 2136, 491: 2137, 493: 2138, 501: 2139, 504: 2140, 507: 2141, 513: 2142, 517: 2143, 519: 2144, 522: 2145, 547: 2146, 580: 2147, 599: 2148, 612: 2149, 662: 2150, 703: 2151, 891: 2152, 898: 2153, 902: 2154, 915: 2155, 917: 2156, 929: 2157, 933: 2158, 940: 2159, 950: 2160, 951: 2161, 954: 2162, 955: 2163, 966: 2164, 968: 2165, 969: 2166, 982: 2167, 1013: 2168, 1019: 2169, 1023: 2170, 1042: 2171, 1082: 2172, 1086: 2173, 1090: 2174, 1091: 2175, 1103: 2176, 1124: 2177, 1126: 2178, 1128: 2179, 1130: 2180, 1161: 2181, 1185: 2182, 1216: 2183, 1227: 2184, 1238: 2185, 1253: 2186, 1261: 2187, 1268: 2188, 1269: 2189, 1274: 2190, 1286: 2191, 1292: 2192, 1299: 2193, 1306: 2194, 1321: 2195, 1327: 2196, 1336: 2197, 1345: 2198, 1347: 2199, 1350: 2200, 1354: 2201, 1381: 2202, 1382: 2203, 1389: 2204, 1441: 2205, 4970: 2206, 905: 2207, 1907: 2208, 1960: 2209, 2013: 2210, 2690: 2211, 3196: 2212, 3406: 2213, 5380: 2214, 5747: 2215, 6201: 2216, 6516: 2217, 6753: 2218, 7212: 2219, 7841: 2220, 8191: 2221, 8493: 2222, 8611: 2223, 26111: 2224, 31116: 2225, 32469: 2226, 38038: 2227, 47721: 2228, 51471: 2229, 54259: 2230, 58047: 2231, 58299: 2232, 64285: 2233, 181: 2234, 393: 2235, 553: 2236, 918: 2237, 921: 2238, 945: 2239, 948: 2240, 952: 2241, 1012: 2242, 1135: 2243, 1224: 2244, 1256: 2245, 1296: 2246, 1301: 2247, 1346: 2248, 1395: 2249, 1427: 2250, 315: 2251, 1641: 2252, 1693: 2253, 1769: 2254, 1799: 2255, 2301: 2256, 2402: 2257, 2431: 2258, 2459: 2259, 2953: 2260, 3213: 2261, 3355: 2262, 3438: 2263, 3697: 2264, 4105: 2265, 6286: 2266, 6541: 2267, 6893: 2268, 7360: 2269, 7454: 2270, 7482: 2271, 8947: 2272, 31184: 2273, 20: 2274, 24: 2275, 224: 2276, 236: 2277, 425: 2278, 532: 2279, 605: 2280, 668: 2281, 670: 2282, 841: 2283, 900: 2284, 949: 2285, 971: 2286, 1078: 2287, 1096: 2288, 1188: 2289, 1202: 2290, 1277: 2291, 1305: 2292, 1438: 2293, 1515: 2294, 1797: 2295, 1835: 2296, 1873: 2297, 1900: 2298, 1927: 2299, 1931: 2300, 1932: 2301, 1935: 2302, 1941: 2303, 1944: 2304, 1946: 2305, 1947: 2306, 1949: 2307, 1951: 2308, 1957: 2309, 1958: 2310, 1959: 2311, 2022: 2312, 2027: 2313, 2068: 2314, 2132: 2315, 2176: 2316, 2178: 2317, 2181: 2318, 2183: 2319, 2203: 2320, 2205: 2321, 2361: 2322, 2474: 2323, 2644: 2324, 2721: 2325, 2728: 2326, 2730: 2327, 2731: 2328, 2739: 2329, 2746: 2330, 2805: 2331, 2932: 2332, 2970: 2333, 3053: 2334, 3067: 2335, 3088: 2336, 3095: 2337, 3100: 2338, 3155: 2339, 3159: 2340, 3201: 2341, 3245: 2342, 3248: 2343, 3252: 2344, 3310: 2345, 3365: 2346, 3371: 2347, 3405: 2348, 3415: 2349, 3468: 2350, 3475: 2351, 3498: 2352, 3546: 2353, 3559: 2354, 3629: 2355, 3668: 2356, 3681: 2357, 3736: 2358, 3741: 2359, 3992: 2360, 4008: 2361, 4103: 2362, 4267: 2363, 4278: 2364, 4282: 2365, 4297: 2366, 4312: 2367, 4359: 2368, 4432: 2369, 4458: 2370, 4564: 2371, 4857: 2372, 4865: 2373, 4967: 2374, 4976: 2375, 4978: 2376, 5014: 2377, 5073: 2378, 5096: 2379, 5114: 2380, 5147: 2381, 5177: 2382, 5304: 2383, 5348: 2384, 5367: 2385, 5373: 2386, 5385: 2387, 5446: 2388, 5470: 2389, 5489: 2390, 5599: 2391, 5633: 2392, 5682: 2393, 5810: 2394, 5882: 2395, 5940: 2396, 5971: 2397, 5992: 2398, 6001: 2399, 6008: 2400, 6162: 2401, 6235: 2402, 6404: 2403, 6415: 2404, 6591: 2405, 6599: 2406, 6611: 2407, 6669: 2408, 6709: 2409, 6796: 2410, 6807: 2411, 6881: 2412, 6890: 2413, 6918: 2414, 6954: 2415, 6981: 2416, 6982: 2417, 6985: 2418, 7038: 2419, 7042: 2420, 7063: 2421, 7070: 2422, 7072: 2423, 7088: 2424, 7104: 2425, 7136: 2426, 7139: 2427, 7160: 2428, 7161: 2429, 7234: 2430, 7347: 2431, 7419: 2432, 7713: 2433, 7748: 2434, 7759: 2435, 7766: 2436, 7942: 2437, 8019: 2438, 8042: 2439, 8125: 2440, 8154: 2441, 8239: 2442, 8338: 2443, 8507: 2444, 8656: 2445, 8955: 2446, 8966: 2447, 25753: 2448, 25769: 2449, 25805: 2450, 26052: 2451, 26242: 2452, 27803: 2453, 30820: 2454, 31101: 2455, 31658: 2456, 32892: 2457, 33162: 2458, 33903: 2459, 34143: 2460, 34326: 2461, 36535: 2462, 37733: 2463, 37736: 2464, 39183: 2465, 39231: 2466, 39869: 2467, 40278: 2468, 40629: 2469, 41285: 2470, 41571: 2471, 41863: 2472, 42004: 2473, 42418: 2474, 42734: 2475, 44204: 2476, 1034: 2477, 78: 2478, 842: 2479, 1409: 2480, 69: 2481, 3744: 2482, 27376: 2483, 27831: 2484, 37731: 2485, 49530: 2486, 52952: 2487, 53129: 2488, 55118: 2489, 55167: 2490, 55280: 2491, 59387: 2492, 62849: 2493, 65514: 2494, 70533: 2495, 73587: 2496, 82459: 2497, 92259: 2498, 73: 2499, 1892: 2500, 2356: 2501, 1300: 2502, 1366: 2503, 2202: 2504, 2300: 2505, 2470: 2506, 2583: 2507, 2662: 2508, 1681: 2509, 2065: 2510, 2367: 2511, 2384: 2512, 2942: 2513, 3720: 2514, 5065: 2515, 27822: 2516, 73268: 2517, 8: 2518, 118: 2519, 203: 2520, 227: 2521, 228: 2522, 254: 2523, 368: 2524, 413: 2525, 419: 2526, 424: 2527, 426: 2528, 432: 2529, 459: 2530, 463: 2531, 472: 2532, 477: 2533, 518: 2534, 523: 2535, 581: 2536, 767: 2537, 782: 2538, 806: 2539, 869: 2540, 947: 2541, 996: 2542, 1006: 2543, 1010: 2544, 1017: 2545, 1018: 2546, 1025: 2547, 1081: 2548, 1114: 2549, 1181: 2550, 1226: 2551, 1352: 2552, 1390: 2553, 1399: 2554, 1422: 2555, 1440: 2556, 1461: 2557, 1488: 2558, 1508: 2559, 1523: 2560, 1566: 2561, 1588: 2562, 1598: 2563, 1614: 2564, 1620: 2565, 1624: 2566, 1672: 2567, 1686: 2568, 1701: 2569, 1711: 2570, 1726: 2571, 1783: 2572, 1785: 2573, 1791: 2574, 1798: 2575, 1864: 2576, 1943: 2577, 1965: 2578, 1982: 2579, 2009: 2580, 2015: 2581, 2024: 2582, 2070: 2583, 2082: 2584, 2083: 2585, 2088: 2586, 2112: 2587, 2116: 2588, 2120: 2589, 2121: 2590, 2122: 2591, 2136: 2592, 2146: 2593, 2148: 2594, 2166: 2595, 2184: 2596, 2188: 2597, 2236: 2598, 2240: 2599, 2245: 2600, 2247: 2601, 2252: 2602, 2253: 2603, 2255: 2604, 2264: 2605, 2267: 2606, 2286: 2607, 2296: 2608, 2307: 2609, 2320: 2610, 2346: 2611, 2347: 2612, 2352: 2613, 2374: 2614, 2376: 2615, 2389: 2616, 2398: 2617, 2411: 2618, 2412: 2619, 2417: 2620, 2418: 2621, 2420: 2622, 2432: 2623, 2433: 2624, 2435: 2625, 2457: 2626, 2463: 2627, 2468: 2628, 2517: 2629, 2518: 2630, 2520: 2631, 2521: 2632, 2523: 2633, 2524: 2634, 2530: 2635, 2531: 2636, 2532: 2637, 2533: 2638, 2535: 2639, 2561: 2640, 2577: 2641, 2611: 2642, 2639: 2643, 2641: 2644, 2642: 2645, 2664: 2646, 2687: 2647, 2688: 2648, 2738: 2649, 2741: 2650, 2749: 2651, 2750: 2652, 2757: 2653, 2782: 2654, 2787: 2655, 2790: 2656, 2793: 2657, 2794: 2658, 2802: 2659, 2829: 2660, 2851: 2661, 2852: 2662, 2856: 2663, 2875: 2664, 2883: 2665, 2917: 2666, 2929: 2667, 2944: 2668, 2950: 2669, 2956: 2670, 2966: 2671, 2967: 2672, 2971: 2673, 2977: 2674, 2989: 2675, 3015: 2676, 3032: 2677, 3035: 2678, 3038: 2679, 3063: 2680, 3068: 2681, 3072: 2682, 3074: 2683, 3087: 2684, 3098: 2685, 3102: 2686, 3105: 2687, 3111: 2688, 3120: 2689, 3130: 2690, 3138: 2691, 3141: 2692, 3144: 2693, 3156: 2694, 3167: 2695, 3197: 2696, 3198: 2697, 3204: 2698, 3206: 2699, 3218: 2700, 3244: 2701, 3247: 2702, 3249: 2703, 3257: 2704, 3258: 2705, 3269: 2706, 3274: 2707, 3296: 2708, 3308: 2709, 3334: 2710, 3359: 2711, 3360: 2712, 3363: 2713, 3370: 2714, 3385: 2715, 3391: 2716, 3394: 2717, 3395: 2718, 3420: 2719, 3426: 2720, 3428: 2721, 3441: 2722, 3445: 2723, 3451: 2724, 3478: 2725, 3483: 2726, 3494: 2727, 3500: 2728, 3506: 2729, 3507: 2730, 3513: 2731, 3524: 2732, 3526: 2733, 3528: 2734, 3529: 2735, 3537: 2736, 3545: 2737, 3548: 2738, 3549: 2739, 3551: 2740, 3557: 2741, 3608: 2742, 3613: 2743, 3614: 2744, 3649: 2745, 3684: 2746, 3685: 2747, 3686: 2748, 3688: 2749, 3701: 2750, 3702: 2751, 3704: 2752, 3712: 2753, 3713: 2754, 3724: 2755, 3734: 2756, 3804: 2757, 3812: 2758, 3834: 2759, 3859: 2760, 3927: 2761, 3957: 2762, 4002: 2763, 4009: 2764, 4012: 2765, 4039: 2766, 4041: 2767, 4060: 2768, 4062: 2769, 4063: 2770, 4086: 2771, 4088: 2772, 4090: 2773, 4102: 2774, 4111: 2775, 4122: 2776, 4126: 2777, 4128: 2778, 4132: 2779, 4146: 2780, 4190: 2781, 4211: 2782, 4214: 2783, 4228: 2784, 4263: 2785, 4276: 2786, 4280: 2787, 4291: 2788, 4292: 2789, 4316: 2790, 4318: 2791, 4326: 2792, 4333: 2793, 4345: 2794, 4352: 2795, 4354: 2796, 4396: 2797, 4406: 2798, 4409: 2799, 4464: 2800, 4465: 2801, 4474: 2802, 4482: 2803, 4486: 2804, 4487: 2805, 4488: 2806, 4491: 2807, 4495: 2808, 4496: 2809, 4498: 2810, 4499: 2811, 4503: 2812, 4522: 2813, 4524: 2814, 4526: 2815, 4528: 2816, 4557: 2817, 4570: 2818, 4573: 2819, 4608: 2820, 4615: 2821, 4617: 2822, 4627: 2823, 4628: 2824, 4629: 2825, 4661: 2826, 4681: 2827, 4709: 2828, 4710: 2829, 4714: 2830, 4733: 2831, 4751: 2832, 4787: 2833, 4803: 2834, 4815: 2835, 4830: 2836, 4832: 2837, 4835: 2838, 4889: 2839, 4898: 2840, 4929: 2841, 4932: 2842, 4941: 2843, 4951: 2844, 4954: 2845, 4960: 2846, 4971: 2847, 5027: 2848, 5043: 2849, 5049: 2850, 5061: 2851, 5111: 2852, 5122: 2853, 5125: 2854, 5127: 2855, 5152: 2856, 5161: 2857, 5172: 2858, 5187: 2859, 5193: 2860, 5198: 2861, 5208: 2862, 5214: 2863, 5237: 2864, 5247: 2865, 5250: 2866, 5276: 2867, 5277: 2868, 5297: 2869, 5303: 2870, 5307: 2871, 5309: 2872, 5334: 2873, 5335: 2874, 5344: 2875, 5359: 2876, 5366: 2877, 5382: 2878, 5452: 2879, 5471: 2880, 5506: 2881, 5534: 2882, 5544: 2883, 5548: 2884, 5561: 2885, 5564: 2886, 5581: 2887, 5655: 2888, 5670: 2889, 5680: 2890, 5689: 2891, 5694: 2892, 5696: 2893, 5699: 2894, 5703: 2895, 5705: 2896, 5707: 2897, 5712: 2898, 5723: 2899, 5729: 2900, 5732: 2901, 5742: 2902, 5745: 2903, 5773: 2904, 5812: 2905, 5843: 2906, 5846: 2907, 5847: 2908, 5854: 2909, 5857: 2910, 5859: 2911, 5869: 2912, 5900: 2913, 5923: 2914, 5926: 2915, 5927: 2916, 5933: 2917, 5938: 2918, 5960: 2919, 5961: 2920, 5962: 2921, 6027: 2922, 6084: 2923, 6096: 2924, 6101: 2925, 6103: 2926, 6115: 2927, 6127: 2928, 6186: 2929, 6212: 2930, 6233: 2931, 6234: 2932, 6237: 2933, 6238: 2934, 6240: 2935, 6263: 2936, 6308: 2937, 6318: 2938, 6345: 2939, 6413: 2940, 6419: 2941, 6422: 2942, 6436: 2943, 6452: 2944, 6473: 2945, 6565: 2946, 1416: 2947, 3698: 2948, 74789: 2949, 204: 2950, 420: 2951, 88: 2952, 1359: 2953, 1760: 2954, 1974: 2955, 1983: 2956, 1984: 2957, 2107: 2958, 2170: 2959, 2507: 2960, 2689: 2961, 2888: 2962, 2891: 2963, 3568: 2964, 3858: 2965, 4016: 2966, 4248: 2967, 4251: 2968, 4340: 2969, 4452: 2970, 4483: 2971, 4502: 2972, 4509: 2973, 4558: 2974, 4622: 2975, 4649: 2976, 4652: 2977, 4662: 2978, 4809: 2979, 4956: 2980, 4988: 2981, 5106: 2982, 5282: 2983, 5483: 2984, 678: 2985, 1340: 2986, 2338: 2987, 2527: 2988, 2553: 2989, 2863: 2990, 2901: 2991, 2921: 2992, 2951: 2993, 3062: 2994, 3066: 2995, 3467: 2996, 3508: 2997, 3703: 2998, 3706: 2999, 3727: 3000, 3811: 3001, 3917: 3002, 838: 3003, 41: 3004, 55: 3005, 68: 3006, 147: 3007, 242: 3008, 256: 3009, 312: 3010, 321: 3011, 381: 3012, 469: 3013, 521: 3014, 1150: 3015, 1367: 3016, 3357: 3017, 3564: 3018, 4054: 3019, 4069: 3020, 2075: 3021, 2092: 3022, 2131: 3023, 3677: 3024, 4114: 3025, 4422: 3026, 4862: 3027, 4936: 3028, 6107: 3029, 7089: 3030, 7396: 3031, 7936: 3032, 7941: 3033, 8197: 3034, 48682: 3035, 59447: 3036, 69761: 3037, 71180: 3038, 76111: 3039, 89759: 3040, 96829: 3041, 97826: 3042, 98587: 3043, 100843: 3044, 101070: 3045, 102753: 3046, 103980: 3047, 105197: 3048, 105355: 3049, 105769: 3050, 107555: 3051, 110586: 3052, 188: 3053, 220: 3054, 285: 3055, 330: 3056, 338: 3057, 606: 3058, 611: 3059, 127202: 3060, 130: 3061, 327: 3062, 986: 3063, 1037: 3064, 1437: 3065, 1545: 3066, 1591: 3067, 1772: 3068, 1880: 3069, 2322: 3070, 2522: 3071, 2536: 3072, 2808: 3073, 3479: 3074, 3593: 3075, 3699: 3076, 3802: 3077, 3937: 3078, 4443: 3079, 4553: 3080, 4625: 3081, 4691: 3082, 4789: 3083, 4811: 3084, 4874: 3085, 5490: 3086, 5518: 3087, 5522: 3088, 5981: 3089, 6116: 3090, 6264: 3091, 6316: 3092, 6645: 3093, 6678: 3094, 6725: 3095, 6951: 3096, 7001: 3097, 7060: 3098, 7164: 3099, 7817: 3100, 8371: 3101, 8499: 3102, 8633: 3103, 8861: 3104, 69844: 3105, 837: 3106, 1457: 3107, 1612: 3108, 1806: 3109, 1821: 3110, 2004: 3111, 2390: 3112, 2496: 3113, 2622: 3114, 2836: 3115, 2879: 3116, 2978: 3117, 3189: 3118, 3254: 3119, 3450: 3120, 3515: 3121, 3525: 3122, 135: 3123, 637: 3124, 7064: 3125, 26151: 3126, 1707: 3127, 2153: 3128, 2379: 3129, 2381: 3130, 2383: 3131, 8387: 3132, 59018: 3133, 98124: 3134, 741: 3135, 5146: 3136, 5570: 3137, 5690: 3138, 6223: 3139, 6291: 3140, 6350: 3141, 6857: 3142, 7099: 3143, 7235: 3144, 7256: 3145, 7382: 3146, 8132: 3147, 8157: 3148, 8906: 3149, 8907: 3150, 8965: 3151, 26662: 3152, 26776: 3153, 27156: 3154, 27523: 3155, 27713: 3156, 27722: 3157, 27731: 3158, 27800: 3159, 27801: 3160, 27838: 3161, 27850: 3162, 27878: 3163, 30867: 3164, 31435: 3165, 32031: 3166, 32554: 3167, 32562: 3168, 34323: 3169, 36276: 3170, 37830: 3171, 41769: 3172, 42723: 3173, 44022: 3174, 44397: 3175, 44633: 3176, 44828: 3177, 44974: 3178, 45431: 3179, 46948: 3180, 47099: 3181, 47124: 3182, 47404: 3183, 48414: 3184, 48982: 3185, 48997: 3186, 50583: 3187, 50601: 3188, 52281: 3189, 52287: 3190, 52319: 3191, 52458: 3192, 53121: 3193, 53326: 3194, 53460: 3195, 53519: 3196, 53883: 3197, 54995: 3198, 55444: 3199, 55768: 3200, 55814: 3201, 55908: 3202, 55995: 3203, 56069: 3204, 56095: 3205, 56145: 3206, 56339: 3207, 56607: 3208, 56757: 3209, 56908: 3210, 57274: 3211, 57453: 3212, 57504: 3213, 57980: 3214, 58347: 3215, 58554: 3216, 59118: 3217, 59141: 3218, 59684: 3219, 60161: 3220, 60291: 3221, 60763: 3222, 61240: 3223, 62203: 3224, 62250: 3225, 62956: 3226, 62999: 3227, 63808: 3228, 64575: 3229, 64716: 3230, 64969: 3231, 64983: 3232, 64993: 3233, 65037: 3234, 65261: 3235, 66371: 3236, 67197: 3237, 67255: 3238, 67408: 3239, 68945: 3240, 69644: 3241, 69712: 3242, 70159: 3243, 70567: 3244, 71033: 3245, 71057: 3246, 71379: 3247, 71468: 3248, 71520: 3249, 71579: 3250, 71899: 3251, 72104: 3252, 72209: 3253, 72393: 3254, 72731: 3255, 72741: 3256, 73321: 3257, 73392: 3258, 73664: 3259, 73881: 3260, 74228: 3261, 74677: 3262, 76173: 3263, 77307: 3264, 77427: 3265, 77837: 3266, 79029: 3267, 79091: 3268, 79357: 3269, 79868: 3270, 80586: 3271, 80831: 3272, 81018: 3273, 81564: 3274, 82667: 3275, 83132: 3276, 83134: 3277, 83803: 3278, 84187: 3279, 84772: 3280, 84944: 3281, 84952: 3282, 85412: 3283, 85510: 3284, 85736: 3285, 85788: 3286, 85796: 3287, 86298: 3288, 86347: 3289, 86721: 3290, 89837: 3291, 90469: 3292, 91414: 3293, 92058: 3294, 93272: 3295, 93838: 3296, 95375: 3297, 95543: 3298, 95858: 3299, 96281: 3300, 96606: 3301, 96821: 3302, 97188: 3303, 97225: 3304, 97752: 3305, 97921: 3306, 97957: 3307, 98056: 3308, 98243: 3309, 99145: 3310, 101142: 3311, 103299: 3312, 103335: 3313, 103688: 3314, 106002: 3315, 106204: 3316, 106696: 3317, 107769: 3318, 107953: 3319, 109578: 3320, 109846: 3321, 109850: 3322, 110501: 3323, 110591: 3324, 110655: 3325, 111659: 3326, 112175: 3327, 112515: 3328, 114935: 3329, 115534: 3330, 115624: 3331, 258: 3332, 303: 3333, 421: 3334, 688: 3335, 897: 3336, 976: 3337, 1085: 3338, 2287: 3339, 2414: 3340, 2430: 3341, 2471: 3342, 2537: 3343, 2669: 3344, 2748: 3345, 2815: 3346, 2816: 3347, 2817: 3348, 2941: 3349, 3412: 3350, 3417: 3351, 3519: 3352, 3628: 3353, 3643: 3354, 3836: 3355, 3959: 3356, 4042: 3357, 4047: 3358, 1636: 3359, 1888: 3360, 1948: 3361, 2670: 3362, 461: 3363, 1969: 3364, 2408: 3365, 2806: 3366, 5525: 3367, 6058: 3368, 6370: 3369, 6776: 3370, 7615: 3371, 8918: 3372, 31408: 3373, 37727: 3374, 43744: 3375, 51094: 3376, 52545: 3377, 55451: 3378, 60950: 3379, 238: 3380, 392: 3381, 484: 3382, 1911: 3383, 1995: 3384, 2093: 3385, 2368: 3386, 3178: 3387, 3434: 3388, 3906: 3389, 4467: 3390, 26160: 3391, 26294: 3392, 44197: 3393, 48660: 3394, 56941: 3395, 58803: 3396, 69640: 3397, 77846: 3398, 91355: 3399, 96655: 3400, 65: 3401, 609: 3402, 761: 3403, 250: 3404, 2052: 3405, 3079: 3406, 3086: 3407, 3268: 3408, 3480: 3409, 3606: 3410, 3653: 3411, 3972: 3412, 4091: 3413, 4771: 3414, 5103: 3415, 5401: 3416, 5785: 3417, 5970: 3418, 6618: 3419, 6732: 3420, 7018: 3421, 7036: 3422, 7263: 3423, 26084: 3424, 26471: 3425, 27253: 3426, 32598: 3427, 33495: 3428, 33660: 3429, 33880: 3430, 34528: 3431, 48322: 3432, 48698: 3433, 50514: 3434, 52435: 3435, 53123: 3436, 53125: 3437, 54256: 3438, 55052: 3439, 55805: 3440, 56333: 3441, 57532: 3442, 60756: 3443, 65188: 3444, 70728: 3445, 71466: 3446, 72171: 3447, 72720: 3448, 73023: 3449, 74275: 3450, 74416: 3451, 74754: 3452, 74916: 3453, 79592: 3454, 79677: 3455, 80549: 3456, 81156: 3457, 83086: 3458, 83976: 3459, 84116: 3460, 85438: 3461, 86000: 3462, 86884: 3463, 87522: 3464, 88810: 3465, 88812: 3466, 90374: 3467, 90376: 3468, 90947: 3469, 91199: 3470, 93270: 3471, 93422: 3472, 93443: 3473, 93512: 3474, 94896: 3475, 95088: 3476, 95441: 3477, 96110: 3478, 96467: 3479, 96728: 3480, 96911: 3481, 97306: 3482, 97836: 3483, 99117: 3484, 99764: 3485, 99917: 3486, 100272: 3487, 101577: 3488, 102993: 3489, 103141: 3490, 103279: 3491, 103624: 3492, 104944: 3493, 105429: 3494, 105715: 3495, 105844: 3496, 106062: 3497, 106100: 3498, 106144: 3499, 106438: 3500, 107141: 3501, 107978: 3502, 108156: 3503, 110461: 3504, 111617: 3505, 112421: 3506, 113064: 3507, 113453: 3508, 113705: 3509, 113829: 3510, 113862: 3511, 114074: 3512, 114342: 3513, 127108: 3514, 127152: 3515, 127198: 3516, 127206: 3517, 128620: 3518, 131168: 3519, 133771: 3520, 134170: 3521, 139116: 3522, 140715: 3523, 141890: 3524, 142422: 3525, 148881: 3526, 155392: 3527, 160590: 3528, 635: 3529, 728: 3530, 1007: 3531, 1009: 3532, 1323: 3533, 1326: 3534, 1587: 3535, 1975: 3536, 1977: 3537, 1978: 3538, 1979: 3539, 1981: 3540, 1987: 3541, 1996: 3542, 2037: 3543, 2044: 3544, 2097: 3545, 2111: 3546, 2130: 3547, 2163: 3548, 415: 3549, 999: 3550, 1021: 3551, 2016: 3552, 2180: 3553, 2475: 3554, 2792: 3555, 2846: 3556, 3070: 3557, 3153: 3558, 3672: 3559, 3710: 3560, 7040: 3561, 26695: 3562, 34153: 3563, 3726: 3564, 7387: 3565, 8981: 3566, 801: 3567, 2123: 3568, 5693: 3569, 6743: 3570, 8544: 3571, 27706: 3572, 55566: 3573, 56030: 3574, 56171: 3575, 101947: 3576, 104374: 3577, 112290: 3578, 114662: 3579, 120637: 3580, 160438: 3581, 1015: 3582, 1105: 3583, 1474: 3584, 2393: 3585, 4846: 3586, 7318: 3587, 2456: 3588, 12: 3589, 28: 3590, 43: 3591, 279: 3592, 280: 3593, 294: 3594, 452: 3595, 613: 3596, 631: 3597, 650: 3598, 664: 3599, 694: 3600, 709: 3601, 711: 3602, 934: 3603, 2469: 3604, 2779: 3605, 4187: 3606, 6297: 3607, 26025: 3608, 26562: 3609, 31374: 3610, 45668: 3611, 374: 3612, 2059: 3613, 3821: 3614, 4254: 3615, 68554: 3616, 61: 3617, 667: 3618, 704: 3619, 810: 3620, 839: 3621, 3125: 3622, 3422: 3623, 3920: 3624, 3925: 3625, 3930: 3626, 3932: 3627, 3963: 3628, 3965: 3629, 3966: 3630, 53000: 3631, 54997: 3632, 15: 3633, 98: 3634, 239: 3635, 352: 3636, 409: 3637, 502: 3638, 510: 3639, 514: 3640, 575: 3641, 742: 3642, 1049: 3643, 1456: 3644, 1590: 3645, 1595: 3646, 1599: 3647, 1603: 3648, 1762: 3649, 1826: 3650, 1840: 3651, 1916: 3652, 1920: 3653, 1991: 3654, 2089: 3655, 2090: 3656, 2138: 3657, 2142: 3658, 2164: 3659, 2195: 3660, 2305: 3661, 2315: 3662, 2327: 3663, 2335: 3664, 2404: 3665, 2421: 3666, 2422: 3667, 2429: 3668, 2451: 3669, 2495: 3670, 2555: 3671, 2582: 3672, 2798: 3673, 2860: 3674, 2862: 3675, 2900: 3676, 2924: 3677, 2948: 3678, 2974: 3679, 3013: 3680, 3036: 3681, 3439: 3682, 3440: 3683, 3554: 3684, 3573: 3685, 3574: 3686, 3581: 3687, 3687: 3688, 3696: 3689, 3740: 3690, 3761: 3691, 3843: 3692, 3950: 3693, 3955: 3694, 3961: 3695, 3962: 3696, 3970: 3697, 4135: 3698, 4255: 3699, 4275: 3700, 4415: 3701, 4438: 3702, 4441: 3703, 4444: 3704, 4454: 3705, 4519: 3706, 4533: 3707, 4577: 3708, 4614: 3709, 4618: 3710, 4619: 3711, 4624: 3712, 4697: 3713, 4775: 3714, 4800: 3715, 4855: 3716, 4899: 3717, 4915: 3718, 4980: 3719, 4987: 3720, 4989: 3721, 5025: 3722, 5040: 3723, 5055: 3724, 5094: 3725, 5139: 3726, 5151: 3727, 5159: 3728, 5165: 3729, 5205: 3730, 5210: 3731, 5244: 3732, 5294: 3733, 5329: 3734, 5540: 3735, 5572: 3736, 5585: 3737, 5621: 3738, 5666: 3739, 5691: 3740, 5734: 3741, 5735: 3742, 5736: 3743, 5737: 3744, 5746: 3745, 5942: 3746, 5943: 3747, 5955: 3748, 6156: 3749, 6213: 3750, 6298: 3751, 6338: 3752, 6379: 3753, 6548: 3754, 6559: 3755, 6564: 3756, 6566: 3757, 6582: 3758, 6595: 3759, 6602: 3760, 6615: 3761, 6659: 3762, 6664: 3763, 6695: 3764, 6707: 3765, 6731: 3766, 6755: 3767, 6803: 3768, 6887: 3769, 6888: 3770, 6902: 3771, 6952: 3772, 6977: 3773, 7007: 3774, 7045: 3775, 7046: 3776, 7117: 3777, 7137: 3778, 7285: 3779, 7308: 3780, 7324: 3781, 7367: 3782, 7411: 3783, 7481: 3784, 7701: 3785, 7743: 3786, 7802: 3787, 7842: 3788, 7844: 3789, 7845: 3790, 7846: 3791, 7915: 3792, 7976: 3793, 7984: 3794, 7987: 3795, 8131: 3796, 8340: 3797, 8363: 3798, 8372: 3799, 8373: 3800, 8526: 3801, 8640: 3802, 8810: 3803, 8811: 3804, 8854: 3805, 8859: 3806, 25962: 3807, 26258: 3808, 26403: 3809, 26480: 3810, 26547: 3811, 26585: 3812, 26603: 3813, 26606: 3814, 26684: 3815, 26704: 3816, 26736: 3817, 26842: 3818, 27002: 3819, 27022: 3820, 27032: 3821, 27109: 3822, 27555: 3823, 27611: 3824, 27646: 3825, 27704: 3826, 27772: 3827, 27778: 3828, 27793: 3829, 27808: 3830, 31150: 3831, 31225: 3832, 31290: 3833, 31422: 3834, 31431: 3835, 32352: 3836, 32387: 3837, 32596: 3838, 33164: 3839, 33171: 3840, 33834: 3841, 34530: 3842, 36519: 3843, 36708: 3844, 39381: 3845, 39446: 3846, 40574: 3847, 40732: 3848, 42011: 3849, 42725: 3850, 43838: 3851, 43919: 3852, 43921: 3853, 43936: 3854, 44245: 3855, 44972: 3856, 45183: 3857, 45506: 3858, 45726: 3859, 46322: 3860, 46335: 3861, 46337: 3862, 46865: 3863, 46965: 3864, 47200: 3865, 47640: 3866, 47815: 3867, 47997: 3868, 48304: 3869, 48591: 3870, 48696: 3871, 48744: 3872, 48877: 3873, 49526: 3874, 49528: 3875, 49649: 3876, 49651: 3877, 49817: 3878, 50641: 3879, 50651: 3880, 50794: 3881, 50798: 3882, 50806: 3883, 51277: 3884, 51931: 3885, 51937: 3886, 52462: 3887, 53318: 3888, 53468: 3889, 53550: 3890, 54190: 3891, 54290: 3892, 54331: 3893, 54648: 3894, 54745: 3895, 55094: 3896, 55207: 3897, 55232: 3898, 55245: 3899, 55290: 3900, 55577: 3901, 55721: 3902, 56003: 3903, 56251: 3904, 56587: 3905, 56801: 3906, 57528: 3907, 58146: 3908, 58293: 3909, 58301: 3910, 58315: 3911, 58351: 3912, 58627: 3913, 58975: 3914, 59014: 3915, 59022: 3916, 59995: 3917, 60293: 3918, 60487: 3919, 60609: 3920, 60753: 3921, 61248: 3922, 61348: 3923, 62394: 3924, 62801: 3925, 62912: 3926, 63072: 3927, 63540: 3928, 63826: 3929, 63876: 3930, 63992: 3931, 64197: 3932, 64508: 3933, 64900: 3934, 65126: 3935, 65310: 3936, 65982: 3937, 66066: 3938, 66090: 3939, 66297: 3940, 66335: 3941, 67252: 3942, 67695: 3943, 67923: 3944, 68073: 3945, 68444: 3946, 68901: 3947, 68952: 3948, 68959: 3949, 68965: 3950, 69685: 3951, 69746: 3952, 70465: 3953, 70946: 3954, 71106: 3955, 71135: 3956, 71248: 3957, 71429: 3958, 71533: 3959, 71745: 3960, 72603: 3961, 72641: 3962, 72733: 3963, 73759: 3964, 74545: 3965, 74944: 3966, 74948: 3967, 75813: 3968, 76060: 3969, 76272: 3970, 77800: 3971, 77866: 3972, 78266: 3973, 78349: 3974, 78772: 3975, 79008: 3976, 79251: 3977, 79274: 3978, 79553: 3979, 79720: 3980, 79879: 3981, 80083: 3982, 80219: 3983, 80693: 3984, 80846: 3985, 81083: 3986, 81660: 3987, 81788: 3988, 82041: 3989, 82527: 3990, 85342: 3991, 85401: 3992, 85881: 3993, 86142: 3994, 87192: 3995, 87234: 3996, 87298: 3997, 88118: 3998, 89039: 3999, 89085: 4000, 89343: 4001, 89774: 4002, 89864: 4003, 90430: 4004, 91485: 4005, 91976: 4006, 92309: 4007, 93320: 4008, 93855: 4009, 94070: 4010, 95147: 4011, 95165: 4012, 95182: 4013, 95473: 4014, 95475: 4015, 95499: 4016, 95780: 4017, 95782: 4018, 95963: 4019, 95965: 4020, 96004: 4021, 96007: 4022, 96432: 4023, 96588: 4024, 96811: 4025, 97860: 4026, 98607: 4027, 98829: 4028, 99728: 4029, 100159: 4030, 101525: 4031, 102033: 4032, 102194: 4033, 102252: 4034, 102407: 4035, 102716: 4036, 103048: 4037, 103384: 4038, 103772: 4039, 104913: 4040, 105213: 4041, 106022: 4042, 106491: 4043, 106918: 4044, 107069: 4045, 107999: 4046, 108090: 4047, 108583: 4048, 108981: 4049, 109074: 4050, 109895: 4051, 110348: 4052, 110882: 4053, 111624: 4054, 111921: 4055, 112818: 4056, 113252: 4057, 113573: 4058, 114060: 4059, 114670: 4060, 115122: 4061, 115216: 4062, 115877: 4063, 115881: 4064, 116397: 4065, 117123: 4066, 118082: 4067, 126006: 4068, 130642: 4069, 130682: 4070, 135887: 4071, 139130: 4072, 141718: 4073, 141866: 4074, 152091: 4075, 152844: 4076, 156726: 4077, 159462: 4078, 161594: 4079, 162376: 4080, 2106: 4081, 2549: 4082, 4799: 4083, 8985: 4084, 42002: 4085, 44694: 4086, 2275: 4087, 2450: 4088, 3264: 4089, 3397: 4090, 3398: 4091, 4040: 4092, 4092: 4093, 6093: 4094, 6305: 4095, 6662: 4096, 6811: 4097, 7236: 4098, 7649: 4099, 7708: 4100, 7810: 4101, 7811: 4102, 7812: 4103, 8537: 4104, 26492: 4105, 26700: 4106, 27685: 4107, 31221: 4108, 37857: 4109, 47423: 4110, 47518: 4111, 1586: 4112, 2297: 4113, 3908: 4114, 5784: 4115, 6793: 4116, 7566: 4117, 26712: 4118, 38499: 4119, 43679: 4120, 50658: 4121, 50740: 4122, 50742: 4123, 51935: 4124, 52767: 4125, 65130: 4126, 70678: 4127, 97673: 4128, 42738: 4129, 45081: 4130, 46: 4131, 93: 4132, 156: 4133, 191: 4134, 783: 4135, 190: 4136, 495: 4137, 872: 4138, 1132: 4139, 1913: 4140, 2673: 4141, 3637: 4142, 3814: 4143, 4334: 4144, 4470: 4145, 4928: 4146, 5028: 4147, 5530: 4148, 5668: 4149, 6123: 4150, 6301: 4151, 6509: 4152, 7172: 4153, 7460: 4154, 7564: 4155, 7574: 4156, 7786: 4157, 7820: 4158, 7938: 4159, 7979: 4160, 8014: 4161, 8199: 4162, 8327: 4163, 8367: 4164, 8485: 4165, 26150: 4166, 26228: 4167, 26318: 4168, 26326: 4169, 26578: 4170, 31437: 4171, 31524: 4172, 31930: 4173, 40491: 4174, 43899: 4175, 45000: 4176, 47274: 4177, 48165: 4178, 52528: 4179, 52617: 4180, 52885: 4181, 53447: 4182, 58425: 4183, 61206: 4184, 64701: 4185, 68137: 4186, 68967: 4187, 69516: 4188, 71108: 4189, 71438: 4190, 78836: 4191, 81054: 4192, 81786: 4193, 205: 4194, 351: 4195, 2155: 4196, 2359: 4197, 3022: 4198, 3037: 4199, 4174: 4200, 4688: 4201, 5602: 4202, 3980: 4203, 33646: 4204, 234: 4205, 255: 4206, 275: 4207, 291: 4208, 437: 4209, 546: 4210, 548: 4211, 30: 4212, 72: 4213, 116: 4214, 121: 4215, 124: 4216, 171: 4217, 178: 4218, 213: 4219, 218: 4220, 263: 4221, 287: 4222, 290: 4223, 299: 4224, 302: 4225, 305: 4226, 324: 4227, 331: 4228, 427: 4229, 444: 4230, 446: 4231, 568: 4232, 633: 4233, 753: 4234, 756: 4235, 766: 4236, 828: 4237, 830: 4238, 844: 4239, 892: 4240, 1046: 4241, 1163: 4242, 2962: 4243, 51705: 4244, 52668: 4245, 62344: 4246, 63515: 4247, 66198: 4248, 67799: 4249, 1351: 4250, 1472: 4251, 1554: 4252, 747: 4253, 2380: 4254, 2382: 4255, 3387: 4256, 4084: 4257, 6482: 4258, 6550: 4259, 6763: 4260, 43836: 4261, 52694: 4262, 54732: 4263, 66798: 4264, 78041: 4265, 82852: 4266, 94466: 4267, 96616: 4268, 103341: 4269, 103883: 4270, 104218: 4271, 116977: 4272, 132157: 4273, 455: 4274, 27790: 4275, 54328: 4276, 84304: 4277, 40414: 4278, 48738: 4279, 58706: 4280, 63062: 4281, 64622: 4282, 174: 4283, 360: 4284, 879: 4285, 1322: 4286, 1330: 4287, 1655: 4288, 1970: 4289, 1971: 4290, 1972: 4291, 1973: 4292, 1985: 4293, 1988: 4294, 2026: 4295, 2069: 4296, 2113: 4297, 2119: 4298, 2149: 4299, 2279: 4300, 2443: 4301, 2445: 4302, 2461: 4303, 2462: 4304, 2465: 4305, 2485: 4306, 2789: 4307, 2868: 4308, 2928: 4309, 3017: 4310, 3024: 4311, 3051: 4312, 3203: 4313, 3660: 4314, 3693: 4315, 3709: 4316, 3764: 4317, 3840: 4318, 3877: 4319, 3918: 4320, 4081: 4321, 4124: 4322, 4140: 4323, 4205: 4324, 4213: 4325, 4222: 4326, 4266: 4327, 4480: 4328, 4490: 4329, 4501: 4330, 4516: 4331, 4520: 4332, 4560: 4333, 4561: 4334, 4636: 4335, 4670: 4336, 4682: 4337, 4949: 4338, 5080: 4339, 5203: 4340, 5292: 4341, 5342: 4342, 5343: 4343, 2208: 4344, 3739: 4345, 6254: 4346, 6273: 4347, 7056: 4348, 7831: 4349, 8094: 4350, 8128: 4351, 8629: 4352, 8765: 4353, 25850: 4354, 25868: 4355, 25947: 4356, 30712: 4357, 32525: 4358, 47202: 4359, 7081: 4360, 7154: 4361, 8522: 4362, 8969: 4363, 25801: 4364, 56949: 4365, 64034: 4366, 148888: 4367, 149830: 4368, 156025: 4369, 1014: 4370, 1083: 4371, 1619: 4372, 1670: 4373, 1937: 4374, 2099: 4375, 2135: 4376, 2436: 4377, 2442: 4378, 2565: 4379, 2801: 4380, 3186: 4381, 26701: 4382, 56921: 4383, 37: 4384, 117: 4385, 417: 4386, 506: 4387, 927: 4388, 973: 4389, 1057: 4390, 1192: 4391, 1273: 4392, 1279: 4393, 1341: 4394, 1384: 4395, 1420: 4396, 1516: 4397, 1535: 4398, 1594: 4399, 1648: 4400, 1734: 4401, 1788: 4402, 1841: 4403, 1856: 4404, 1924: 4405, 1929: 4406, 1939: 4407, 1966: 4408, 1999: 4409, 2043: 4410, 2137: 4411, 2219: 4412, 2227: 4413, 2290: 4414, 2312: 4415, 2345: 4416, 2362: 4417, 2397: 4418, 2453: 4419, 2548: 4420, 2725: 4421, 2747: 4422, 2764: 4423, 2784: 4424, 2820: 4425, 2844: 4426, 2859: 4427, 2866: 4428, 2919: 4429, 2920: 4430, 2922: 4431, 3011: 4432, 3061: 4433, 3093: 4434, 3145: 4435, 3163: 4436, 3223: 4437, 3224: 4438, 3327: 4439, 3329: 4440, 3342: 4441, 3350: 4442, 3469: 4443, 3511: 4444, 3521: 4445, 3544: 4446, 3547: 4447, 3550: 4448, 3565: 4449, 3588: 4450, 3590: 4451, 3591: 4452, 3609: 4453, 3655: 4454, 3675: 4455, 3678: 4456, 3679: 4457, 3680: 4458, 3700: 4459, 3708: 4460, 3729: 4461, 3733: 4462, 71: 4463, 4475: 4464, 5700: 4465, 6996: 4466, 8093: 4467, 5628: 4468, 65682: 4469, 84844: 4470, 129354: 4471, 458: 4472, 1187: 4473, 1392: 4474, 1480: 4475, 1727: 4476, 1801: 4477, 1846: 4478, 3127: 4479, 3271: 4480, 3584: 4481, 3682: 4482, 3946: 4483, 4203: 4484, 4218: 4485, 4234: 4486, 4407: 4487, 4479: 4488, 4572: 4489, 4673: 4490, 4837: 4491, 5003: 4492, 5180: 4493, 5302: 4494, 5447: 4495, 6104: 4496, 6125: 4497, 6344: 4498, 6898: 4499, 6997: 4500, 7005: 4501, 7017: 4502, 7149: 4503, 7193: 4504, 7272: 4505, 7836: 4506, 1992: 4507, 5422: 4508, 7773: 4509, 39408: 4510, 39416: 4511, 44731: 4512, 51086: 4513, 54281: 4514, 59306: 4515, 132: 4516, 257: 4517, 378: 4518, 489: 4519, 542: 4520, 932: 4521, 1460: 4522, 1593: 4523, 1658: 4524, 1688: 4525, 1804: 4526, 1863: 4527, 2330: 4528, 2558: 4529, 2563: 4530, 3270: 4531, 3835: 4532, 4130: 4533, 4219: 4534, 4221: 4535, 4304: 4536, 4357: 4537, 4545: 4538, 4600: 4539, 4677: 4540, 4757: 4541, 5255: 4542, 5438: 4543, 5505: 4544, 5829: 4545, 6183: 4546, 6375: 4547, 6480: 4548, 6638: 4549, 6744: 4550, 6850: 4551, 6974: 4552, 7101: 4553, 7255: 4554, 8709: 4555, 2719: 4556, 43396: 4557, 47148: 4558, 50685: 4559, 89804: 4560, 1683: 4561, 2349: 4562, 2613: 4563, 3200: 4564, 3615: 4565, 3725: 4566, 3732: 4567, 3738: 4568, 3760: 4569, 3769: 4570, 3789: 4571, 3806: 4572, 3810: 4573, 3816: 4574, 443: 4575, 870: 4576, 881: 4577, 943: 4578, 1063: 4579, 1112: 4580, 1317: 4581, 1379: 4582, 1429: 4583, 1518: 4584, 1564: 4585, 1606: 4586, 1613: 4587, 1646: 4588, 1678: 4589, 1702: 4590, 1713: 4591, 1824: 4592, 1833: 4593, 1848: 4594, 1852: 4595, 1866: 4596, 1885: 4597, 1894: 4598, 2053: 4599, 2071: 4600, 2101: 4601, 2104: 4602, 2306: 4603, 2337: 4604, 2365: 4605, 2373: 4606, 2375: 4607, 2425: 4608, 2440: 4609, 2498: 4610, 2587: 4611, 2590: 4612, 2660: 4613, 2828: 4614, 3099: 4615, 3194: 4616, 3330: 4617, 3379: 4618, 3388: 4619, 3414: 4620, 3457: 4621, 3490: 4622, 3563: 4623, 3654: 4624, 3889: 4625, 3895: 4626, 3926: 4627, 3928: 4628, 3929: 4629, 4106: 4630, 4139: 4631, 4179: 4632, 4186: 4633, 4195: 4634, 2416: 4635, 4220: 4636, 7616: 4637, 1976: 4638, 3857: 4639, 4492: 4640, 4493: 4641, 37475: 4642, 66659: 4643, 217: 4644, 313: 4645, 516: 4646, 558: 4647, 1064: 4648, 1487: 4649, 1667: 4650, 2017: 4651, 2162: 4652, 2316: 4653, 2385: 4654, 2540: 4655, 2620: 4656, 2906: 4657, 3299: 4658, 3400: 4659, 3553: 4660, 3594: 4661, 3743: 4662, 3824: 4663, 3953: 4664, 3978: 4665, 4155: 4666, 4699: 4667, 4745: 4668, 4756: 4669, 4814: 4670, 4821: 4671, 4867: 4672, 4977: 4673, 5108: 4674, 5164: 4675, 5312: 4676, 5387: 4677, 5415: 4678, 5612: 4679, 5677: 4680, 3616: 4681, 3691: 4682, 2151: 4683, 2745: 4684, 5016: 4685, 6768: 4686, 6782: 4687, 6791: 4688, 7247: 4689, 8169: 4690, 8580: 4691, 8879: 4692, 40959: 4693, 3991: 4694, 4031: 4695, 1111: 4696, 2843: 4697, 3456: 4698, 4964: 4699, 6211: 4700, 6571: 4701, 7349: 4702, 8012: 4703, 27178: 4704, 27255: 4705, 27727: 4706, 39768: 4707, 41527: 4708, 42935: 4709, 53189: 4710, 55555: 4711, 56274: 4712, 57243: 4713, 57792: 4714, 67267: 4715, 74486: 4716, 6724: 4717, 40870: 4718, 43376: 4719, 63853: 4720, 72395: 4721, 73290: 4722, 80969: 4723, 85612: 4724, 86880: 4725, 102792: 4726, 106441: 4727, 107559: 4728, 116939: 4729, 2492: 4730, 2504: 4731, 4427: 4732, 4833: 4733, 27751: 4734, 53953: 4735, 62049: 4736, 68135: 4737, 74324: 4738, 97757: 4739, 27: 4740, 102: 4741, 754: 4742, 1099: 4743, 6535: 4744, 6663: 4745, 6794: 4746, 34332: 4747, 1537: 4748, 77658: 4749, 89904: 4750, 4290: 4751, 4394: 4752, 4532: 4753, 5360: 4754, 97895: 4755, 103801: 4756, 106540: 4757, 2262: 4758, 4686: 4759, 4784: 4760, 4834: 4761, 39414: 4762, 59945: 4763, 66915: 4764, 71102: 4765, 71460: 4766, 1665: 4767, 5944: 4768, 6170: 4769, 6195: 4770, 6269: 4771, 6561: 4772, 4755: 4773, 7316: 4774, 7380: 4775, 56152: 4776, 61071: 4777, 65193: 4778, 86377: 4779, 90061: 4780, 92535: 4781, 100034: 4782, 103539: 4783, 104069: 4784, 117444: 4785, 544: 4786, 809: 4787, 829: 4788, 1005: 4789, 1668: 4790, 1746: 4791, 2567: 4792, 3452: 4793, 3466: 4794, 3509: 4795, 3975: 4796, 4153: 4797, 4229: 4798, 4265: 4799, 4616: 4800, 4866: 4801, 5081: 4802, 5093: 4803, 6250: 4804, 6265: 4805, 6764: 4806, 7381: 4807, 7439: 4808, 7570: 4809, 8010: 4810, 8614: 4811, 8968: 4812, 27338: 4813, 6300: 4814, 8117: 4815, 47491: 4816, 760: 4817, 1498: 4818, 2562: 4819, 5099: 4820, 5605: 4821, 5841: 4822, 2401: 4823, 1572: 4824, 2363: 4825, 2810: 4826, 30745: 4827, 31364: 4828, 32078: 4829, 32840: 4830, 42632: 4831, 47937: 4832, 55684: 4833, 58376: 4834, 59814: 4835, 61160: 4836, 71304: 4837, 73808: 4838, 76091: 4839, 80350: 4840, 81417: 4841, 82242: 4842, 85179: 4843, 86320: 4844, 86345: 4845, 86892: 4846, 2643: 4847, 4327: 4848, 6786: 4849, 490: 4850, 2736: 4851, 3430: 4852, 3690: 4853, 66544: 4854, 74688: 4855, 82202: 4856, 91077: 4857, 92751: 4858, 104337: 4859, 104925: 4860, 26974: 4861, 470: 4862, 834: 4863, 1430: 4864, 1447: 4865, 1490: 4866, 1532: 4867, 1632: 4868, 1661: 4869, 1739: 4870, 1886: 4871, 2449: 4872, 2799: 4873, 2845: 4874, 2979: 4875, 3046: 4876, 3437: 4877, 3774: 4878, 3914: 4879, 3973: 4880, 4217: 4881, 4630: 4882, 4732: 4883, 4749: 4884, 4750: 4885, 4765: 4886, 4875: 4887, 4968: 4888, 5053: 4889, 5095: 4890, 5323: 4891, 5443: 4892, 5448: 4893, 5501: 4894, 5531: 4895, 5556: 4896, 5562: 4897, 5569: 4898, 5597: 4899, 5609: 4900, 5615: 4901, 5625: 4902, 5765: 4903, 5880: 4904, 5883: 4905, 5901: 4906, 6057: 4907, 6063: 4908, 6204: 4909, 6284: 4910, 6587: 4911, 6827: 4912, 6872: 4913, 6909: 4914, 7189: 4915, 7315: 4916, 7343: 4917, 7899: 4918, 8130: 4919, 8225: 4920, 8534: 4921, 8667: 4922, 8720: 4923, 8832: 4924, 8835: 4925, 8836: 4926, 8839: 4927, 8860: 4928, 8864: 4929, 8870: 4930, 8908: 4931, 8911: 4932, 8937: 4933, 9010: 4934, 9018: 4935, 27869: 4936, 31445: 4937, 31724: 4938, 3404: 4939, 6596: 4940, 6686: 4941, 259: 4942, 358: 4943, 384: 4944, 391: 4945, 505: 4946, 569: 4947, 639: 4948, 274: 4949, 8643: 4950, 8808: 4951, 8982: 4952, 26198: 4953, 36525: 4954, 42732: 4955, 54736: 4956, 61729: 4957, 64249: 4958, 1003: 4959, 1542: 4960, 199: 4961, 2077: 4962, 2084: 4963, 4459: 4964, 5460: 4965, 5839: 4966, 5840: 4967, 6006: 4968, 3054: 4969, 3997: 4970, 27689: 4971, 27815: 4972, 30816: 4973, 36401: 4974, 40597: 4975, 43419: 4976, 44849: 4977, 45880: 4978, 52579: 4979, 54999: 4980, 59333: 4981, 60397: 4982, 63276: 4983, 66317: 4984, 66808: 4985, 69275: 4986, 70183: 4987, 72737: 4988, 73319: 4989, 77201: 4990, 80864: 4991, 82167: 4992, 82463: 4993, 86835: 4994, 89102: 4995, 89761: 4996, 90405: 4997, 93805: 4998, 94480: 4999, 99320: 5000, 66: 5001, 200: 5002, 240: 5003, 422: 5004, 512: 5005, 600: 5006, 691: 5007, 798: 5008, 861: 5009, 882: 5010, 1055: 5011, 1647: 5012, 1750: 5013, 7158: 5014, 7386: 5015, 700: 5016, 13: 5017, 146: 5018, 195: 5019, 201: 5020, 243: 5021, 270: 5022, 271: 5023, 343: 5024, 687: 5025, 835: 5026, 3646: 5027, 418: 5028, 2128: 5029, 4366: 5030, 4655: 5031, 7002: 5032, 705: 5033, 4389: 5034, 5379: 5035, 6040: 5036, 6187: 5037, 6207: 5038, 6493: 5039, 6930: 5040, 7541: 5041, 7624: 5042, 8129: 5043, 8857: 5044, 26116: 5045, 26133: 5046, 26422: 5047, 27674: 5048, 31114: 5049, 33669: 5050, 34164: 5051, 34532: 5052, 40826: 5053, 43177: 5054, 44709: 5055, 49280: 5056, 51174: 5057, 54004: 5058, 56169: 5059, 59418: 5060, 61075: 5061, 61401: 5062, 62437: 5063, 63479: 5064, 867: 5065, 1024: 5066, 1623: 5067, 2147: 5068, 2392: 5069, 2676: 5070, 2771: 5071, 2772: 5072, 2882: 5073, 3001: 5074, 3177: 5075, 3238: 5076, 3326: 5077, 3765: 5078, 3766: 5079, 3771: 5080, 3807: 5081, 2310: 5082, 2434: 5083, 2607: 5084, 2629: 5085, 2630: 5086, 2975: 5087, 3117: 5088, 957: 5089, 722: 5090, 944: 5091, 960: 5092, 1583: 5093, 1938: 5094, 2182: 5095, 2476: 5096, 2870: 5097, 2946: 5098, 2988: 5099, 3076: 5100, 3122: 5101, 3135: 5102, 3341: 5103, 3364: 5104, 3427: 5105, 3432: 5106, 3516: 5107, 3705: 5108, 3754: 5109, 2889: 5110, 3115: 5111, 3118: 5112, 3501: 5113, 3572: 5114, 3579: 5115, 3620: 5116, 3669: 5117, 3689: 5118, 295: 5119, 3470: 5120, 5876: 5121, 1165: 5122, 2913: 5123, 3576: 5124, 4735: 5125, 4887: 5126, 5046: 5127, 6826: 5128, 7048: 5129, 7282: 5130, 8403: 5131, 8654: 5132, 8790: 5133, 26554: 5134, 27005: 5135, 27410: 5136, 27728: 5137, 27922: 5138, 32825: 5139, 33558: 5140, 42197: 5141, 51357: 5142, 52606: 5143, 53207: 5144, 53956: 5145, 54771: 5146, 55363: 5147, 56788: 5148, 58432: 5149, 59590: 5150, 59810: 5151, 60943: 5152, 62792: 5153, 63436: 5154, 63481: 5155, 65133: 5156, 66509: 5157, 67867: 5158, 68194: 5159, 68205: 5160, 68932: 5161, 69278: 5162, 71156: 5163, 72129: 5164, 73211: 5165, 73929: 5166, 74452: 5167, 74532: 5168, 74685: 5169, 75985: 5170, 76210: 5171, 78034: 5172, 78160: 5173, 78218: 5174, 78544: 5175, 79006: 5176, 79134: 5177, 79796: 5178, 80363: 5179, 81535: 5180, 83506: 5181, 84395: 5182, 84601: 5183, 84615: 5184, 85020: 5185, 85022: 5186, 85025: 5187, 85131: 5188, 86290: 5189, 88405: 5190, 88785: 5191, 89753: 5192, 90345: 5193, 103235: 5194, 112112: 5195, 6889: 5196, 7155: 5197, 8369: 5198, 8604: 5199, 26686: 5200, 26999: 5201, 27193: 5202, 27482: 5203, 33499: 5204, 33836: 5205, 36289: 5206, 42015: 5207, 45732: 5208, 57353: 5209, 58103: 5210, 74946: 5211, 78637: 5212, 87975: 5213, 91978: 5214, 136592: 5215, 416: 5216, 8666: 5217, 8827: 5218, 27882: 5219, 1998: 5220, 3401: 5221, 3768: 5222, 4317: 5223, 4466: 5224, 4566: 5225, 4589: 5226, 4767: 5227, 4945: 5228, 5141: 5229, 5910: 5230, 48872: 5231, 4531: 5232, 8751: 5233, 8754: 5234, 8838: 5235, 8899: 5236, 27839: 5237, 32296: 5238, 39715: 5239, 40339: 5240, 43928: 5241, 45501: 5242, 45730: 5243, 51412: 5244, 53993: 5245, 55282: 5246, 62081: 5247, 98491: 5248, 114552: 5249, 117851: 5250, 130073: 5251, 133419: 5252, 779: 5253, 26564: 5254, 45969: 5255, 51372: 5256, 59834: 5257, 70121: 5258, 71876: 5259, 4770: 5260, 37240: 5261, 1993: 5262, 627: 5263, 630: 5264, 685: 5265, 781: 5266, 848: 5267, 991: 5268, 3891: 5269, 3936: 5270, 4207: 5271, 4212: 5272, 5047: 5273, 5134: 5274, 5357: 5275, 5389: 5276, 5421: 5277, 5479: 5278, 5611: 5279, 5941: 5280, 5947: 5281, 5994: 5282, 7009: 5283, 7150: 5284, 7179: 5285, 7303: 5286, 7579: 5287, 7669: 5288, 7714: 5289, 7753: 5290, 8530: 5291, 8661: 5292, 8833: 5293, 8935: 5294, 8943: 5295, 8998: 5296, 25788: 5297, 26680: 5298, 26870: 5299, 31193: 5300, 31694: 5301, 32174: 5302, 33621: 5303, 39234: 5304, 39435: 5305, 40148: 5306, 43908: 5307, 43930: 5308, 44193: 5309, 47254: 5310, 47382: 5311, 49772: 5312, 49822: 5313, 49957: 5314, 51077: 5315, 51834: 5316, 52975: 5317, 54775: 5318, 55110: 5319, 55267: 5320, 55872: 5321, 56715: 5322, 57326: 5323, 58105: 5324, 58154: 5325, 59103: 5326, 59501: 5327, 60471: 5328, 62113: 5329, 70599: 5330, 72407: 5331, 72605: 5332, 72696: 5333, 74508: 5334, 76054: 5335, 2807: 5336, 2835: 5337, 4506: 5338, 4676: 5339, 4876: 5340, 6958: 5341, 6959: 5342, 8607: 5343, 8814: 5344, 26375: 5345, 27837: 5346, 32017: 5347, 32029: 5348, 33681: 5349, 34534: 5350, 37380: 5351, 40851: 5352, 42721: 5353, 43560: 5354, 45062: 5355, 46062: 5356, 47384: 5357, 47952: 5358, 49274: 5359, 50162: 5360, 50802: 5361, 51575: 5362, 51698: 5363, 51925: 5364, 52456: 5365, 52712: 5366, 52950: 5367, 53466: 5368, 54276: 5369, 55259: 5370, 55999: 5371, 56176: 5372, 56915: 5373, 57401: 5374, 57526: 5375, 57951: 5376, 58972: 5377, 59421: 5378, 59594: 5379, 60514: 5380, 60516: 5381, 60937: 5382, 61350: 5383, 61705: 5384, 62376: 5385, 62733: 5386, 64030: 5387, 64116: 5388, 64497: 5389, 65552: 5390, 65567: 5391, 65577: 5392, 65585: 5393, 65685: 5394, 66171: 5395, 68848: 5396, 69253: 5397, 69606: 5398, 69805: 5399, 69951: 5400, 70282: 5401, 70305: 5402, 71252: 5403, 71254: 5404, 71318: 5405, 71530: 5406, 72165: 5407, 72701: 5408, 72919: 5409, 73015: 5410, 73042: 5411, 74154: 5412, 74530: 5413, 74580: 5414, 74698: 5415, 75805: 5416, 78105: 5417, 78264: 5418, 78893: 5419, 79139: 5420, 79224: 5421, 80615: 5422, 81512: 5423, 81784: 5424, 82095: 5425, 83480: 5426, 85056: 5427, 85261: 5428, 86059: 5429, 87876: 5430, 88380: 5431, 88879: 5432, 89087: 5433, 91660: 5434, 91974: 5435, 92264: 5436, 92681: 5437, 95207: 5438, 96417: 5439, 96590: 5440, 97742: 5441, 98296: 5442, 100163: 5443, 100487: 5444, 100498: 5445, 101025: 5446, 103339: 5447, 103655: 5448, 104074: 5449, 104243: 5450, 104312: 5451, 106642: 5452, 108979: 5453, 109864: 5454, 114795: 5455, 118997: 5456, 130520: 5457, 1525: 5458, 2735: 5459, 2984: 5460, 8830: 5461, 6628: 5462, 7027: 5463, 8008: 5464, 30822: 5465, 414: 5466, 1839: 5467, 824: 5468, 1056: 5469, 1601: 5470, 1643: 5471, 1795: 5472, 1844: 5473, 2482: 5474, 2487: 5475, 2569: 5476, 2696: 5477, 2704: 5478, 2893: 5479, 3045: 5480, 3192: 5481, 3240: 5482, 3539: 5483, 3721: 5484, 3795: 5485, 3919: 5486, 4166: 5487, 4740: 5488, 901: 5489, 935: 5490, 938: 5491, 946: 5492, 956: 5493, 1936: 5494, 1940: 5495, 1942: 5496, 2201: 5497, 2612: 5498, 2927: 5499, 3199: 5500, 3540: 5501, 3567: 5502, 3580: 5503, 3656: 5504, 3657: 5505, 3714: 5506, 3716: 5507, 3723: 5508, 113: 5509, 731: 5510, 103: 5511, 347: 5512, 698: 5513, 4994: 5514, 37853: 5515, 50804: 5516, 56156: 5517, 65465: 5518, 2328: 5519, 2339: 5520, 2354: 5521, 2386: 5522, 48560: 5523, 111529: 5524, 473: 5525, 715: 5526, 888: 5527, 936: 5528, 961: 5529, 970: 5530, 984: 5531, 1066: 5532, 1162: 5533, 1401: 5534, 1419: 5535, 1455: 5536, 1703: 5537, 1925: 5538, 2173: 5539, 2238: 5540, 2241: 5541, 2285: 5542, 2370: 5543, 2399: 5544, 2615: 5545, 2732: 5546, 2899: 5547, 2904: 5548, 2938: 5549, 3028: 5550, 3069: 5551, 3090: 5552, 3091: 5553, 3142: 5554, 3143: 5555, 3165: 5556, 3235: 5557, 3260: 5558, 3284: 5559, 3313: 5560, 3347: 5561, 3368: 5562, 3392: 5563, 3425: 5564, 3447: 5565, 3492: 5566, 3520: 5567, 6460: 5568, 1432: 5569, 6780: 5570, 7075: 5571, 7826: 5572, 45928: 5573, 56885: 5574, 3502: 5575, 4563: 5576, 4880: 5577, 2177: 5578, 2200: 5579, 2940: 5580, 3097: 5581, 3306: 5582, 3632: 5583, 3872: 5584, 4273: 5585, 4420: 5586, 4768: 5587, 5009: 5588, 5333: 5589, 5440: 5590, 5498: 5591, 5613: 5592, 6126: 5593, 6609: 5594, 6721: 5595, 6920: 5596, 7209: 5597, 7210: 5598, 7211: 5599, 7215: 5600, 7577: 5601, 7926: 5602, 7943: 5603, 8188: 5604, 8584: 5605, 8670: 5606, 25952: 5607, 33145: 5608, 67788: 5609, 90576: 5610, 95309: 5611, 105246: 5612, 109483: 5613, 148956: 5614, 387: 5615, 433: 5616, 476: 5617, 486: 5618, 656: 5619, 725: 5620, 1431: 5621, 1468: 5622, 1495: 5623, 2040: 5624, 2266: 5625, 2331: 5626, 2473: 5627, 2552: 5628, 2597: 5629, 2774: 5630, 2796: 5631, 3715: 5632, 4089: 5633, 4115: 5634, 4180: 5635, 4293: 5636, 4355: 5637, 2187: 5638, 2935: 5639, 6412: 5640, 6877: 5641, 7061: 5642, 7078: 5643, 7121: 5644, 7437: 5645, 7493: 5646, 554: 5647, 695: 5648, 1404: 5649, 1425: 5650, 2272: 5651, 2415: 5652, 2570: 5653, 3106: 5654, 3109: 5655, 3110: 5656, 3214: 5657, 3259: 5658, 3694: 5659, 4356: 5660, 5433: 5661, 6243: 5662, 6808: 5663, 7809: 5664, 8253: 5665, 8589: 5666, 8596: 5667, 219: 5668, 1008: 5669, 1684: 5670, 3183: 5671, 4371: 5672, 6474: 5673, 1881: 5674, 487: 5675, 533: 5676, 692: 5677, 833: 5678, 1453: 5679, 1744: 5680, 2050: 5681, 2372: 5682, 2458: 5683, 2714: 5684, 3444: 5685, 4338: 5686, 4339: 5687, 4353: 5688, 4473: 5689, 4802: 5690, 4842: 5691, 4923: 5692, 4990: 5693, 5107: 5694, 59725: 5695, 65230: 5696, 150548: 5697, 72356: 5698, 95654: 5699, 37739: 5700, 184: 5701, 846: 5702, 2497: 5703, 2897: 5704, 5076: 5705, 5092: 5706, 6252: 5707, 8254: 5708, 31956: 5709, 38798: 5710, 50954: 5711, 55253: 5712, 55274: 5713, 5300: 5714, 6713: 5715, 7919: 5716, 8484: 5717, 25771: 5718, 26082: 5719, 26840: 5720, 26903: 5721, 30803: 5722, 64695: 5723, 101962: 5724, 2652: 5725, 4224: 5726, 2488: 5727, 2557: 5728, 2783: 5729, 2853: 5730, 2964: 5731, 3075: 5732, 3205: 5733, 3216: 5734, 3294: 5735, 3344: 5736, 3621: 5737, 3658: 5738, 3777: 5739, 3847: 5740, 3875: 5741, 4368: 5742, 4390: 5743, 4403: 5744, 4417: 5745, 4752: 5746, 4754: 5747, 4893: 5748, 4996: 5749, 5034: 5750, 5153: 5751, 5588: 5752, 5600: 5753, 5715: 5754, 5778: 5755, 5891: 5756, 5980: 5757, 6000: 5758, 6256: 5759, 6257: 5760, 6290: 5761, 6367: 5762, 6395: 5763, 6748: 5764, 6940: 5765, 7024: 5766, 7029: 5767, 7065: 5768, 7110: 5769, 7492: 5770, 7650: 5771, 7882: 5772, 7920: 5773, 8194: 5774, 8848: 5775, 25774: 5776, 25807: 5777, 26003: 5778, 26125: 5779, 26171: 5780, 26176: 5781, 26231: 5782, 26241: 5783, 26303: 5784, 26320: 5785, 26631: 5786, 26693: 5787, 27329: 5788, 27648: 5789, 27784: 5790, 27798: 5791, 30783: 5792, 31270: 5793, 31502: 5794, 32211: 5795, 32686: 5796, 32728: 5797, 32898: 5798, 33592: 5799, 33817: 5800, 33896: 5801, 40412: 5802, 40833: 5803, 45662: 5804, 48231: 5805, 48972: 5806, 51207: 5807, 51304: 5808, 52666: 5809, 53435: 5810, 55652: 5811, 57910: 5812, 58964: 5813, 59727: 5814, 60333: 5815, 64153: 5816, 66310: 5817, 69134: 5818, 69720: 5819, 71518: 5820, 71700: 5821, 74370: 5822, 76030: 5823, 76303: 5824, 80736: 5825, 80844: 5826, 81138: 5827, 87205: 5828, 88272: 5829, 89118: 5830, 90357: 5831, 91488: 5832, 92206: 5833, 92494: 5834, 92496: 5835, 92498: 5836, 96490: 5837, 96563: 5838, 96634: 5839, 96815: 5840, 97593: 5841, 98083: 5842, 99296: 5843, 99470: 5844, 99669: 5845, 99912: 5846, 100306: 5847, 104457: 5848, 104662: 5849, 105763: 5850, 106870: 5851, 107057: 5852, 107771: 5853, 108192: 5854, 108447: 5855, 108506: 5856, 110748: 5857, 111486: 5858, 112277: 5859, 112655: 5860, 112689: 5861, 113565: 5862, 113640: 5863, 113780: 5864, 114044: 5865, 114766: 5866, 116503: 5867, 117121: 5868, 117434: 5869, 118260: 5870, 118334: 5871, 118880: 5872, 121113: 5873, 130448: 5874, 131451: 5875, 132146: 5876, 133824: 5877, 136602: 5878, 140523: 5879, 141956: 5880, 151639: 5881, 152173: 5882, 3207: 5883, 4535: 5884, 4972: 5885, 6428: 5886, 6450: 5887, 7376: 5888, 8337: 5889, 26394: 5890, 499: 5891, 1191: 5892, 4593: 5893, 1633: 5894, 2847: 5895, 2969: 5896, 2972: 5897, 3171: 5898, 37384: 5899, 906: 5900, 1934: 5901, 2654: 5902, 4184: 5903, 7073: 5904, 7706: 5905, 8167: 5906, 8492: 5907, 25750: 5908, 27373: 5909, 31156: 5910, 65135: 5911, 83374: 5912, 85316: 5913, 85367: 5914, 85397: 5915, 86014: 5916, 86293: 5917, 86852: 5918, 87529: 5919, 88267: 5920, 89300: 5921, 48501: 5922, 68659: 5923, 73266: 5924, 80241: 5925, 81132: 5926, 95307: 5927, 101285: 5928, 108548: 5929, 111113: 5930, 114707: 5931, 115680: 5932, 117871: 5933, 135532: 5934, 139620: 5935, 147006: 5936, 147010: 5937, 147426: 5938, 148168: 5939, 149572: 5940, 105593: 5941, 107083: 5942, 107516: 5943, 114028: 5944, 116660: 5945, 59273: 5946, 60128: 5947, 74152: 5948, 79318: 5949, 93324: 5950, 95135: 5951, 97057: 5952, 104283: 5953, 133195: 5954, 136016: 5955, 136598: 5956, 141688: 5957, 146309: 5958, 80: 5959, 401: 5960, 615: 5961, 759: 5962, 4117: 5963, 4178: 5964, 5899: 5965, 6986: 5966, 7062: 5967, 7086: 5968, 7087: 5969, 7091: 5970, 7840: 5971, 7944: 5972, 8989: 5973, 4095: 5974, 1087: 5975, 3746: 5976, 4151: 5977, 4384: 5978, 5607: 5979, 6869: 5980, 7177: 5981, 7456: 5982, 7459: 5983, 8951: 5984, 27783: 5985, 32170: 5986, 34198: 5987, 1445: 5988, 1581: 5989, 1626: 5990, 2325: 5991, 3442: 5992, 3463: 5993, 3695: 5994, 3758: 5995, 577: 5996, 1592: 5997, 2525: 5998, 4045: 5999, 2051: 6000, 3287: 6001, 3674: 6002, 4795: 6003, 5480: 6004, 6163: 6005, 7374: 6006, 9001: 6007, 26528: 6008, 42191: 6009, 59392: 6010, 60674: 6011, 67295: 6012, 74282: 6013, 77435: 6014, 82173: 6015, 88345: 6016, 93061: 6017, 93265: 6018, 95313: 6019, 95377: 6020, 105468: 6021, 106011: 6022, 117192: 6023, 117895: 6024, 142997: 6025, 152017: 6026, 161944: 6027, 941: 6028, 7757: 6029, 8158: 6030, 8341: 6031, 3078: 6032, 4587: 6033, 6765: 6034, 31433: 6035, 4143: 6036, 4584: 6037, 5069: 6038, 619: 6039, 907: 6040, 1167: 6041, 1363: 6042, 1489: 6043, 2031: 6044, 2039: 6045, 2045: 6046, 2048: 6047, 2057: 6048, 2168: 6049, 2206: 6050, 2491: 6051, 2500: 6052, 2691: 6053, 2874: 6054, 2876: 6055, 2886: 6056, 2961: 6057, 3166: 6058, 3399: 6059, 3599: 6060, 3604: 6061, 3611: 6062, 3612: 6063, 3673: 6064, 3759: 6065, 3775: 6066, 3901: 6067, 3921: 6068, 3922: 6069, 3924: 6070, 3964: 6071, 4024: 6072, 4061: 6073, 4068: 6074, 4133: 6075, 4141: 6076, 4142: 6077, 4169: 6078, 4177: 6079, 4188: 6080, 4294: 6081, 4387: 6082, 4402: 6083, 4508: 6084, 4511: 6085, 4663: 6086, 4743: 6087, 4774: 6088, 4818: 6089, 4912: 6090, 5012: 6091, 5021: 6092, 5038: 6093, 5048: 6094, 5109: 6095, 5168: 6096, 5305: 6097, 5337: 6098, 5354: 6099, 5361: 6100, 5372: 6101, 5375: 6102, 5538: 6103, 5539: 6104, 5629: 6105, 6060: 6106, 6124: 6107, 6182: 6108, 6245: 6109, 6260: 6110, 6266: 6111, 6355: 6112, 6357: 6113, 6358: 6114, 6387: 6115, 6390: 6116, 6414: 6117, 6423: 6118, 6454: 6119, 6533: 6120, 6536: 6121, 6568: 6122, 6646: 6123, 6665: 6124, 6703: 6125, 6723: 6126, 6785: 6127, 6970: 6128, 6999: 6129, 7000: 6130, 7080: 6131, 7082: 6132, 7102: 6133, 7122: 6134, 7142: 6135, 7151: 6136, 7165: 6137, 7186: 6138, 7228: 6139, 7294: 6140, 7320: 6141, 7362: 6142, 7369: 6143, 7375: 6144, 7584: 6145, 7614: 6146, 7720: 6147, 7790: 6148, 7822: 6149, 7888: 6150, 7916: 6151, 8015: 6152, 8196: 6153, 8263: 6154, 8385: 6155, 8460: 6156, 8482: 6157, 8502: 6158, 8525: 6159, 8574: 6160, 8712: 6161, 8796: 6162, 8916: 6163, 8986: 6164, 8988: 6165, 8999: 6166, 9000: 6167, 25937: 6168, 25971: 6169, 26386: 6170, 31026: 6171, 32381: 6172, 33639: 6173, 44613: 6174, 45028: 6175, 1324: 6176, 7449: 6177, 8884: 6178, 32302: 6179, 6216: 6180, 7843: 6181, 8275: 6182, 78321: 6183, 31660: 6184, 32460: 6185, 62115: 6186, 74727: 6187, 98615: 6188, 102666: 6189, 107412: 6190, 118468: 6191, 121126: 6192, 127052: 6193, 136449: 6194, 158956: 6195, 488: 6196, 1137: 6197, 1652: 6198, 2864: 6199, 3221: 6200, 3459: 6201, 4500: 6202, 4518: 6203, 4612: 6204, 4863: 6205, 5275: 6206, 5473: 6207, 5780: 6208, 6021: 6209, 6114: 6210, 6121: 6211, 6132: 6212, 6465: 6213, 6730: 6214, 7505: 6215, 7764: 6216, 7878: 6217, 7889: 6218, 8126: 6219, 8189: 6220, 8240: 6221, 8800: 6222, 8872: 6223, 8892: 6224, 8893: 6225, 8923: 6226, 8938: 6227, 25744: 6228, 26164: 6229, 26494: 6230, 26524: 6231, 26655: 6232, 26749: 6233, 26809: 6234, 27322: 6235, 27792: 6236, 31682: 6237, 32515: 6238, 32735: 6239, 32797: 6240, 33021: 6241, 33138: 6242, 39659: 6243, 40226: 6244, 42900: 6245, 45521: 6246, 46544: 6247, 47465: 6248, 49902: 6249, 49932: 6250, 50011: 6251, 50912: 6252, 51380: 6253, 52831: 6254, 54785: 6255, 56079: 6256, 56286: 6257, 58520: 6258, 59339: 6259, 60384: 6260, 62764: 6261, 63836: 6262, 67957: 6263, 70994: 6264, 71390: 6265, 71494: 6266, 72109: 6267, 72880: 6268, 73531: 6269, 75349: 6270, 75823: 6271, 77291: 6272, 79203: 6273, 79686: 6274, 80217: 6275, 80553: 6276, 82150: 6277, 83829: 6278, 87884: 6279, 88106: 6280, 92424: 6281, 95113: 6282, 95115: 6283, 95752: 6284, 31284: 6285, 42351: 6286, 65665: 6287, 69849: 6288, 84506: 6289, 7300: 6290, 30846: 6291, 45172: 6292, 58303: 6293, 59731: 6294, 67508: 6295, 93040: 6296, 2943: 6297, 278: 6298, 436: 6299, 453: 6300, 498: 6301, 1184: 6302, 1963: 6303, 2171: 6304, 2254: 6305, 2257: 6306, 2546: 6307, 2618: 6308, 2848: 6309, 2884: 6310, 3094: 6311, 3384: 6312, 3393: 6313, 3436: 6314, 3531: 6315, 3846: 6316, 4424: 6317, 5768: 6318, 7934: 6319, 26513: 6320, 27899: 6321, 31923: 6322, 83: 6323, 155: 6324, 408: 6325, 603: 6326, 937: 6327, 962: 6328, 964: 6329, 972: 6330, 992: 6331, 1004: 6332, 1026: 6333, 1113: 6334, 1397: 6335, 1398: 6336, 1417: 6337, 1600: 6338, 2079: 6339, 4080: 6340, 4277: 6341, 4329: 6342, 4360: 6343, 4462: 6344, 4478: 6345, 4537: 6346, 4585: 6347, 4603: 6348, 4704: 6349, 5267: 6350, 5420: 6351, 5601: 6352, 5644: 6353, 5718: 6354, 5836: 6355, 6092: 6356, 6225: 6357, 6227: 6358, 6231: 6359, 6232: 6360, 6239: 6361, 6276: 6362, 6314: 6363, 6315: 6364, 6356: 6365, 6386: 6366, 6424: 6367, 6429: 6368, 6431: 6369, 6432: 6370, 6446: 6371, 6448: 6372, 6458: 6373, 6466: 6374, 6468: 6375, 6470: 6376, 6477: 6377, 6484: 6378, 6498: 6379, 6521: 6380, 6522: 6381, 6525: 6382, 6527: 6383, 6562: 6384, 6585: 6385, 6613: 6386, 6630: 6387, 6636: 6388, 6658: 6389, 6718: 6390, 6735: 6391, 6788: 6392, 6797: 6393, 6810: 6394, 6813: 6395, 6822: 6396, 6829: 6397, 6832: 6398, 6852: 6399, 6856: 6400, 7059: 6401, 7085: 6402, 7107: 6403, 7178: 6404, 7198: 6405, 7207: 6406, 7250: 6407, 7283: 6408, 7305: 6409, 7311: 6410, 7357: 6411, 7394: 6412, 7702: 6413, 7782: 6414, 7787: 6415, 7791: 6416, 7980: 6417, 8009: 6418, 8039: 6419, 8057: 6420, 8183: 6421, 8187: 6422, 8190: 6423, 8268: 6424, 8451: 6425, 8463: 6426, 8487: 6427, 8524: 6428, 8535: 6429, 8612: 6430, 8616: 6431, 8617: 6432, 8618: 6433, 8657: 6434, 8672: 6435, 8695: 6436, 8718: 6437, 8745: 6438, 8772: 6439, 8819: 6440, 8820: 6441, 8821: 6442, 8850: 6443, 8880: 6444, 8920: 6445, 8921: 6446, 8929: 6447, 9004: 6448, 9005: 6449, 32139: 6450, 45208: 6451, 99: 6452, 187: 6453, 363: 6454, 896: 6455, 1123: 6456, 1875: 6457, 2499: 6458, 6617: 6459, 6927: 6460, 8576: 6461, 8831: 6462, 8963: 6463, 33437: 6464, 45210: 6465, 115210: 6466, 127098: 6467, 5788: 6468, 5879: 6469, 5958: 6470, 6012: 6471, 6013: 6472, 6014: 6473, 6154: 6474, 129428: 6475, 1133: 6476, 26649: 6477, 68099: 6478, 149532: 6479, 5085: 6480, 7395: 6481, 7697: 6482, 301: 6483, 389: 6484, 1428: 6485, 1575: 6486, 5918: 6487, 5985: 6488, 50703: 6489, 74787: 6490, 89045: 6491, 141668: 6492, 6818: 6493, 55417: 6494, 4191: 6495, 4539: 6496, 1328: 6497, 5888: 6498, 74510: 6499, 104441: 6500, 104590: 6501, 121618: 6502, 5527: 6503, 6883: 6504, 36527: 6505, 53: 6506, 268: 6507, 632: 6508, 850: 6509, 981: 6510, 7366: 6511, 8207: 6512, 876: 6513, 1755: 6514, 2625: 6515, 2780: 6516, 2880: 6517, 3627: 6518, 3905: 6519, 4440: 6520, 4442: 6521, 4565: 6522, 4567: 6523, 4687: 6524, 4696: 6525, 4717: 6526, 4952: 6527, 5243: 6528, 5833: 6529, 6095: 6530, 6722: 6531, 8795: 6532, 26865: 6533, 31804: 6534, 1050: 6535, 2438: 6536, 1444: 6537, 4534: 6538, 5325: 6539, 4003: 6540, 32456: 6541, 62336: 6542, 85780: 6543, 98604: 6544, 103659: 6545, 104419: 6546, 115927: 6547, 2516: 6548, 4159: 6549, 4721: 6550, 4826: 6551, 4895: 6552, 5558: 6553, 5672: 6554, 5678: 6555, 5815: 6556, 5819: 6557, 5874: 6558, 6806: 6559, 6880: 6560, 6995: 6561, 7108: 6562, 7257: 6563, 7789: 6564, 7894: 6565, 26555: 6566, 31162: 6567, 31420: 6568, 32019: 6569, 34271: 6570, 34523: 6571, 36397: 6572, 37477: 6573, 40723: 6574, 43904: 6575, 47044: 6576, 50923: 6577, 56336: 6578, 2550: 6579, 5663: 6580, 7586: 6581, 32743: 6582, 8133: 6583, 710: 6584, 1414: 6585, 1526: 6586, 1602: 6587, 1629: 6588, 1642: 6589, 1837: 6590, 1855: 6591, 2095: 6592, 2098: 6593, 2261: 6594, 2265: 6595, 2472: 6596, 2506: 6597, 3042: 6598, 3043: 6599, 3497: 6600, 3600: 6601, 3622: 6602, 1446: 6603, 4296: 6604, 5643: 6605, 5684: 6606, 2446: 6607, 2486: 6608, 2545: 6609, 2626: 6610, 2775: 6611, 2894: 6612, 2939: 6613, 34321: 6614, 109249: 6615, 27251: 6616, 55732: 6617, 3819: 6618, 4305: 6619, 4626: 6620, 4632: 6621, 4664: 6622, 4680: 6623, 4705: 6624, 4706: 6625, 7093: 6626, 8689: 6627, 36509: 6628, 37720: 6629, 40614: 6630, 41716: 6631, 1756: 6632, 4349: 6633, 7379: 6634, 55498: 6635, 56633: 6636, 91690: 6637, 104303: 6638, 105585: 6639, 110352: 6640, 115170: 6641, 122888: 6642, 138208: 6643, 142448: 6644, 1067: 6645, 1922: 6646, 2073: 6647, 2246: 6648, 2589: 6649, 2733: 6650, 4284: 6651, 5324: 6652, 5414: 6653, 44225: 6654, 49647: 6655, 53974: 6656, 6710: 6657, 82931: 6658, 86504: 6659, 95873: 6660, 96373: 6661, 101741: 6662, 104863: 6663, 110645: 6664, 112804: 6665, 114265: 6666, 129653: 6667, 130580: 6668, 134569: 6669, 438: 6670, 1604: 6671, 2681: 6672, 2809: 6673, 2996: 6674, 5523: 6675, 5803: 6676, 8871: 6677, 8931: 6678, 8946: 6679, 26812: 6680, 27912: 6681, 33826: 6682, 34129: 6683, 34338: 6684, 34536: 6685, 38992: 6686, 39398: 6687, 40946: 6688, 48319: 6689, 49284: 6690, 49396: 6691, 51088: 6692, 51091: 6693, 55031: 6694, 55116: 6695, 58156: 6696, 58297: 6697, 58839: 6698, 59037: 6699, 61352: 6700, 62155: 6701, 70565: 6702, 70597: 6703, 71205: 6704, 71668: 6705, 71732: 6706, 72308: 6707, 72489: 6708, 74668: 6709, 75440: 6710, 78467: 6711, 78703: 6712, 79299: 6713, 80166: 6714, 80727: 6715, 80917: 6716, 81516: 6717, 81537: 6718, 82534: 6719, 83910: 6720, 84154: 6721, 84160: 6722, 85213: 6723, 87660: 6724, 88672: 6725, 89047: 6726, 89072: 6727, 90719: 6728, 91094: 6729, 91483: 6730, 91622: 6731, 92234: 6732, 92694: 6733, 93498: 6734, 94799: 6735, 94953: 6736, 95720: 6737, 98369: 6738, 99437: 6739, 100450: 6740, 101612: 6741, 102819: 6742, 111743: 6743, 131724: 6744, 135518: 6745, 135861: 6746, 697: 6747, 2197: 6748, 2364: 6749, 2448: 6750, 4569: 6751, 988: 6752, 2036: 6753, 5102: 6754, 6706: 6755, 8575: 6756, 8866: 6757, 32289: 6758, 34336: 6759, 39307: 6760, 41573: 6761, 42958: 6762, 43917: 6763, 45221: 6764, 46919: 6765, 46967: 6766, 48791: 6767, 51884: 6768, 58889: 6769, 59258: 6770, 61123: 6771, 68269: 6772, 68838: 6773, 78101: 6774, 78316: 6775, 79824: 6776, 80551: 6777, 80839: 6778, 82169: 6779, 89194: 6780, 91886: 6781, 990: 6782, 1497: 6783, 4200: 6784, 4660: 6785, 5915: 6786, 6249: 6787, 6800: 6788, 6835: 6789, 6868: 6790, 7448: 6791, 7767: 6792, 8799: 6793, 27851: 6794, 30848: 6795, 33688: 6796, 34520: 6797, 36533: 6798, 37382: 6799, 39444: 6800, 43932: 6801, 48142: 6802, 48518: 6803, 48596: 6804, 49314: 6805, 50147: 6806, 50189: 6807, 50442: 6808, 52460: 6809, 52644: 6810, 52717: 6811, 53999: 6812, 54787: 6813, 55261: 6814, 55272: 6815, 939: 6816, 1926: 6817, 1933: 6818, 2212: 6819, 2936: 6820, 2981: 6821, 3096: 6822, 3217: 6823, 3423: 6824, 3446: 6825, 3496: 6826, 3522: 6827, 3737: 6828, 3792: 6829, 5866: 6830, 49: 6831, 467: 6832, 787: 6833, 1699: 6834, 2169: 6835, 2250: 6836, 2271: 6837, 2280: 6838, 2314: 6839, 2494: 6840, 2610: 6841, 2885: 6842, 2930: 6843, 3241: 6844, 3902: 6845, 4035: 6846, 4391: 6847, 4737: 6848, 4783: 6849, 4965: 6850, 5315: 6851, 5417: 6852, 5425: 6853, 5808: 6854, 6159: 6855, 6215: 6856, 6337: 6857, 6384: 6858, 6612: 6859, 6760: 6860, 7025: 6861, 8527: 6862, 32298: 6863, 47629: 6864, 49824: 6865, 49961: 6866, 54: 6867, 813: 6868, 1410: 6869, 1463: 6870, 96: 6871, 1180: 6872, 1190: 6873, 1596: 6874, 58107: 6875, 5820: 6876, 5917: 6877, 4350: 6878, 5637: 6879, 5752: 6880, 5850: 6881, 6077: 6882, 6600: 6883, 6644: 6884, 7058: 6885, 7762: 6886, 7833: 6887, 8491: 6888, 8711: 6889, 8777: 6890, 8964: 6891, 25737: 6892, 25826: 6893, 25874: 6894, 25901: 6895, 26009: 6896, 26188: 6897, 26268: 6898, 26342: 6899, 26366: 6900, 26425: 6901, 27351: 6902, 27857: 6903, 27879: 6904, 31921: 6905, 32280: 6906, 32464: 6907, 32844: 6908, 33760: 6909, 42783: 6910, 53038: 6911, 53737: 6912, 54910: 6913, 60137: 6914, 60990: 6915, 66019: 6916, 68884: 6917, 69974: 6918, 70846: 6919, 74327: 6920, 78122: 6921, 84312: 6922, 241: 6923, 70344: 6924, 3934: 6925, 33830: 6926, 40581: 6927, 48520: 6928, 69069: 6929, 70663: 6930, 92509: 6931, 94325: 6932, 99813: 6933, 100527: 6934, 102720: 6935, 112006: 6936, 112767: 6937, 112897: 6938, 115147: 6939, 115664: 6940, 119155: 6941, 128512: 6942, 130087: 6943, 135137: 6944, 144620: 6945, 148652: 6946, 1349: 6947, 4885: 6948, 2207: 6949, 2621: 6950, 3822: 6951, 4806: 6952, 4861: 6953, 4933: 6954, 4947: 6955, 4957: 6956, 5097: 6957, 5383: 6958, 5603: 6959, 5622: 6960, 5651: 6961, 5796: 6962, 5799: 6963, 5801: 6964, 5873: 6965, 6032: 6966, 6078: 6967, 6166: 6968, 6178: 6969, 6219: 6970, 6261: 6971, 6405: 6972, 6426: 6973, 6447: 6974, 6461: 6975, 6518: 6976, 7774: 6977, 7832: 6978, 7834: 6979, 7835: 6980, 8542: 6981, 8610: 6982, 8675: 6983, 5475: 6984, 8933: 6985, 41336: 6986, 49394: 6987, 78903: 6988, 98126: 6989, 103444: 6990, 388: 6991, 1504: 6992, 1730: 6993, 1870: 6994, 2029: 6995, 2304: 6996, 2388: 6997, 2837: 6998, 3158: 6999, 3161: 7000, 3790: 7001, 3903: 7002, 5632: 7003, 6062: 7004, 6268: 7005, 309: 7006, 1051: 7007, 1919: 7008, 264: 7009, 1043: 7010, 439: 7011, 1507: 7012, 4181: 7013, 4527: 7014, 4550: 7015, 4559: 7016, 4578: 7017, 5646: 7018, 5834: 7019, 5969: 7020, 511: 7021, 5428: 7022, 7152: 7023, 8730: 7024, 30883: 7025, 4347: 7026, 31427: 7027, 31903: 7028, 33085: 7029, 5826: 7030, 7924: 7031, 8142: 7032, 25777: 7033, 27397: 7034, 27592: 7035, 48817: 7036, 62378: 7037, 72781: 7038, 77907: 7039, 79136: 7040, 91947: 7041, 94024: 7042, 94939: 7043, 97744: 7044, 99795: 7045, 6990: 7046, 30894: 7047, 33587: 7048, 48159: 7049, 54270: 7050, 57223: 7051, 58306: 7052, 61167: 7053, 64032: 7054, 65601: 7055, 71490: 7056, 71573: 7057, 72043: 7058, 72405: 7059, 72479: 7060, 72762: 7061, 73106: 7062, 73168: 7063, 74115: 7064, 74156: 7065, 74868: 7066, 75341: 7067, 85572: 7068, 1794: 7069, 2165: 7070, 2839: 7071, 3188: 7072, 3289: 7073, 4236: 7074, 4237: 7075, 4252: 7076, 4375: 7077, 4722: 7078, 4766: 7079, 4897: 7080, 5685: 7081, 5875: 7082, 6244: 7083, 6329: 7084, 6592: 7085, 6772: 7086, 6935: 7087, 6945: 7088, 7932: 7089, 8813: 7090, 8979: 7091, 26599: 7092, 30898: 7093, 31689: 7094, 32025: 7095, 33838: 7096, 47950: 7097, 49132: 7098, 51418: 7099, 55069: 7100, 58191: 7101, 61236: 7102, 61357: 7103, 68347: 7104, 69458: 7105, 72386: 7106, 91673: 7107, 103137: 7108, 113275: 7109, 115174: 7110, 4822: 7111, 51127: 7112, 8915: 7113, 1757: 7114, 5828: 7115, 6864: 7116, 7818: 7117, 26509: 7118, 26915: 7119, 42013: 7120, 44840: 7121, 45442: 7122, 48522: 7123, 7079: 7124, 7572: 7125, 30850: 7126, 679: 7127, 816: 7128, 893: 7129, 1609: 7130, 755: 7131, 1669: 7132, 2573: 7133, 2776: 7134, 106766: 7135, 3848: 7136, 3900: 7137, 4043: 7138, 4046: 7139, 4048: 7140, 4529: 7141, 4544: 7142, 4849: 7143, 5675: 7144, 59: 7145, 1759: 7146, 4969: 7147, 5083: 7148, 5365: 7149, 6005: 7150, 6122: 7151, 27873: 7152, 43869: 7153, 46347: 7154, 48741: 7155, 64114: 7156, 4000: 7157, 3202: 7158, 5056: 7159, 5121: 7160, 64660: 7161, 79469: 7162, 80717: 7163, 99030: 7164, 107447: 7165, 107649: 7166, 129313: 7167, 141886: 7168, 148372: 7169, 153584: 7170, 1865: 7171, 2693: 7172, 4067: 7173, 119: 7174, 375: 7175, 460: 7176, 536: 7177, 726: 7178, 1054: 7179, 1169: 7180, 1442: 7181, 1605: 7182, 1767: 7183, 1896: 7184, 2007: 7185, 2237: 7186, 2276: 7187, 2419: 7188, 2682: 7189, 2752: 7190, 2812: 7191, 3103: 7192, 3449: 7193, 3784: 7194, 3813: 7195, 3951: 7196, 4077: 7197, 4109: 7198, 4116: 7199, 4136: 7200, 4162: 7201, 4171: 7202, 4215: 7203, 4216: 7204, 4274: 7205, 4279: 7206, 4300: 7207, 4644: 7208, 4690: 7209, 4703: 7210, 4769: 7211, 4810: 7212, 4836: 7213, 4851: 7214, 4921: 7215, 4925: 7216, 5023: 7217, 5051: 7218, 5186: 7219, 5238: 7220, 5241: 7221, 5246: 7222, 5248: 7223, 5341: 7224, 5353: 7225, 5398: 7226, 5462: 7227, 5619: 7228, 5642: 7229, 5667: 7230, 5787: 7231, 5832: 7232, 5963: 7233, 6335: 7234, 6449: 7235, 6639: 7236, 6751: 7237, 6770: 7238, 6779: 7239, 6840: 7240, 6892: 7241, 6896: 7242, 6950: 7243, 6963: 7244, 7076: 7245, 7095: 7246, 7096: 7247, 7217: 7248, 7334: 7249, 7450: 7250, 7478: 7251, 7619: 7252, 7705: 7253, 8147: 7254, 8332: 7255, 8362: 7256, 8753: 7257, 8987: 7258, 25891: 7259, 26085: 7260, 26178: 7261, 31035: 7262, 31700: 7263, 32369: 7264, 106471: 7265, 106473: 7266, 106762: 7267, 107081: 7268, 390: 7269, 886: 7270, 5002: 7271, 7012: 7272, 7026: 7273, 26726: 7274, 32914: 7275, 56805: 7276, 69784: 7277, 78039: 7278, 82035: 7279, 88954: 7280, 95740: 7281, 102684: 7282, 102686: 7283, 102905: 7284, 103813: 7285, 106236: 7286, 106330: 7287, 108727: 7288, 110110: 7289, 120392: 7290, 126106: 7291, 128520: 7292, 133295: 7293, 145307: 7294, 145775: 7295, 152025: 7296, 1621: 7297, 4792: 7298, 5754: 7299, 6476: 7300, 6983: 7301, 7171: 7302, 8722: 7303, 42728: 7304, 42730: 7305, 4543: 7306, 5265: 7307, 341: 7308, 1236: 7309, 2062: 7310, 2154: 7311, 620: 7312, 963: 7313, 1069: 7314, 1076: 7315, 2035: 7316, 2210: 7317, 2221: 7318, 2727: 7319, 3002: 7320, 3136: 7321, 3140: 7322, 3232: 7323, 3309: 7324, 3314: 7325, 3640: 7326, 4405: 7327, 4515: 7328, 4998: 7329, 5001: 7330, 5059: 7331, 5202: 7332, 5288: 7333, 5404: 7334, 5434: 7335, 5604: 7336, 5914: 7337, 5932: 7338, 6148: 7339, 6198: 7340, 6400: 7341, 6408: 7342, 6513: 7343, 6579: 7344, 6739: 7345, 7043: 7346, 7074: 7347, 7195: 7348, 7196: 7349, 7238: 7350, 7309: 7351, 7407: 7352, 7897: 7353, 7914: 7354, 7939: 7355, 7983: 7356, 8235: 7357, 8257: 7358, 8267: 7359, 8336: 7360, 8423: 7361, 8511: 7362, 8609: 7363, 8684: 7364, 8700: 7365, 8797: 7366, 8840: 7367, 8882: 7368, 25752: 7369, 25755: 7370, 25764: 7371, 25827: 7372, 25839: 7373, 25916: 7374, 25993: 7375, 26122: 7376, 26302: 7377, 26313: 7378, 26391: 7379, 26400: 7380, 26414: 7381, 26850: 7382, 27334: 7383, 27816: 7384, 30723: 7385, 30818: 7386, 30892: 7387, 31547: 7388, 31549: 7389, 31737: 7390, 31770: 7391, 32160: 7392, 32371: 7393, 32853: 7394, 32882: 7395, 33312: 7396, 33380: 7397, 34583: 7398, 36553: 7399, 37785: 7400, 38304: 7401, 41226: 7402, 42163: 7403, 42681: 7404, 44587: 7405, 44671: 7406, 45837: 7407, 46664: 7408, 46850: 7409, 46974: 7410, 47152: 7411, 47287: 7412, 47714: 7413, 48198: 7414, 48301: 7415, 49225: 7416, 50259: 7417, 51044: 7418, 52241: 7419, 52967: 7420, 54419: 7421, 54426: 7422, 55063: 7423, 55071: 7424, 55687: 7425, 57972: 7426, 58879: 7427, 59832: 7428, 59846: 7429, 62383: 7430, 65638: 7431, 67504: 7432, 69241: 7433, 69604: 7434, 70488: 7435, 70927: 7436, 71525: 7437, 71650: 7438, 72176: 7439, 72626: 7440, 72647: 7441, 73276: 7442, 73572: 7443, 77359: 7444, 78517: 7445, 78829: 7446, 80572: 7447, 80599: 7448, 81910: 7449, 82934: 7450, 83096: 7451, 83318: 7452, 83322: 7453, 83359: 7454, 83361: 7455, 83411: 7456, 83603: 7457, 72612: 7458, 7051: 7459, 25763: 7460, 26265: 7461, 2214: 7462, 2514: 7463, 3849: 7464, 5830: 7465, 8404: 7466, 26007: 7467, 26393: 7468, 27075: 7469, 39052: 7470, 43391: 7471, 44301: 7472, 44317: 7473, 66246: 7474, 211: 7475, 449: 7476, 659: 7477, 769: 7478, 1310: 7479, 1413: 7480, 1796: 7481, 1861: 7482, 2554: 7483, 2609: 7484, 2627: 7485, 2697: 7486, 2824: 7487, 3057: 7488, 3133: 7489, 3304: 7490, 3718: 7491, 3913: 7492, 3947: 7493, 4197: 7494, 4562: 7495, 4698: 7496, 4711: 7497, 5018: 7498, 5022: 7499, 5226: 7500, 5256: 7501, 5285: 7502, 5825: 7503, 5965: 7504, 5993: 7505, 6042: 7506, 6185: 7507, 6368: 7508, 26172: 7509, 32582: 7510, 32632: 7511, 45440: 7512, 86548: 7513, 90403: 7514, 90890: 7515, 1903: 7516, 27423: 7517, 33158: 7518, 51939: 7519, 58655: 7520, 76175: 7521, 77206: 7522, 78088: 7523, 89030: 7524, 90524: 7525, 92938: 7526, 93766: 7527, 96691: 7528, 96863: 7529, 102481: 7530, 105755: 7531, 108928: 7532, 112911: 7533, 118900: 7534, 27867: 7535, 33672: 7536, 44511: 7537, 50445: 7538, 62644: 7539, 65088: 7540, 65216: 7541, 74740: 7542, 90888: 7543, 702: 7544, 3560: 7545, 5179: 7546, 5560: 7547, 7071: 7548, 26094: 7549, 26574: 7550, 31973: 7551, 32444: 7552, 42677: 7553, 44717: 7554, 49299: 7555, 50842: 7556, 56869: 7557, 57038: 7558, 59805: 7559, 63179: 7560, 64278: 7561, 68872: 7562, 71433: 7563, 71755: 7564, 72683: 7565, 85394: 7566, 86626: 7567, 88682: 7568, 89000: 7569, 89356: 7570, 90863: 7571, 92163: 7572, 96020: 7573, 96832: 7574, 97230: 7575, 98963: 7576, 100106: 7577, 103210: 7578, 108873: 7579, 111235: 7580, 112062: 7581, 112070: 7582, 129191: 7583, 130980: 7584, 131830: 7585, 138696: 7586, 138698: 7587, 1337: 7588, 1355: 7589, 2633: 7590, 2634: 7591, 2635: 7592, 2636: 7593, 2637: 7594, 2638: 7595, 2647: 7596, 2649: 7597, 2650: 7598, 2651: 7599, 2653: 7600, 2781: 7601, 8823: 7602, 7206: 7603, 7947: 7604, 144976: 7605, 304: 7606, 27186: 7607, 2715: 7608, 2758: 7609, 77: 7610, 559: 7611, 573: 7612, 681: 7613, 690: 7614, 721: 7615, 793: 7616, 820: 7617, 854: 7618, 1174: 7619, 1365: 7620, 1369: 7621, 1406: 7622, 1415: 7623, 1654: 7624, 1733: 7625, 528: 7626, 496: 7627, 4748: 7628, 62718: 7629, 63239: 7630, 63393: 7631, 69945: 7632, 2483: 7633, 25911: 7634, 43267: 7635, 46559: 7636, 59143: 7637, 60649: 7638, 71131: 7639, 74624: 7640, 77798: 7641, 78729: 7642, 80026: 7643, 82037: 7644, 1454: 7645, 1878: 7646, 2190: 7647, 4798: 7648, 6228: 7649, 7050: 7650, 7055: 7651, 7216: 7652, 50160: 7653, 567: 7654, 864: 7655, 889: 7656, 987: 7657, 997: 7658, 1145: 7659, 1482: 7660, 1501: 7661, 1631: 7662, 1660: 7663, 1910: 7664, 2323: 7665, 2437: 7666, 2441: 7667, 2481: 7668, 2511: 7669, 2674: 7670, 3180: 7671, 3302: 7672, 3860: 7673, 3880: 7674, 4761: 7675, 4782: 7676, 4961: 7677, 5258: 7678, 5868: 7679, 6279: 7680, 6306: 7681, 6339: 7682, 8364: 7683, 8927: 7684, 84: 7685, 696: 7686, 845: 7687, 1040: 7688, 2753: 7689, 126548: 7690, 38: 7691, 320: 7692, 69280: 7693, 251: 7694, 87: 7695, 564: 7696, 840: 7697, 885: 7698, 998: 7699, 1331: 7700, 1433: 7701, 1473: 7702, 1812: 7703, 1854: 7704, 1874: 7705, 1902: 7706, 2244: 7707, 2292: 7708, 2464: 7709, 2559: 7710, 2566: 7711, 2751: 7712, 2786: 7713, 2898: 7714, 3029: 7715, 3048: 7716, 3112: 7717, 5101: 7718, 5772: 7719, 7302: 7720, 102217: 7721, 118890: 7722, 120805: 7723, 128846: 7724, 129514: 7725, 130970: 7726, 136445: 7727, 136447: 7728, 140265: 7729, 4073: 7730, 5710: 7731, 26322: 7732, 26732: 7733, 66744: 7734, 81831: 7735, 91628: 7736, 93287: 7737, 95449: 7738, 95949: 7739, 96448: 7740, 97168: 7741, 101531: 7742, 103984: 7743, 4568: 7744, 6506: 7745, 48061: 7746, 59721: 7747, 60857: 7748, 71810: 7749, 651: 7750, 2526: 7751, 2656: 7752, 4911: 7753, 39427: 7754, 8208: 7755, 808: 7756, 2074: 7757, 2493: 7758, 3719: 7759, 4194: 7760, 4298: 7761, 4801: 7762, 4920: 7763, 5142: 7764, 5986: 7765, 6031: 7766, 6247: 7767, 6416: 7768, 6467: 7769, 8016: 7770, 8785: 7771, 25792: 7772, 25825: 7773, 25898: 7774, 26208: 7775, 26324: 7776, 26325: 7777, 26472: 7778, 26788: 7779, 27741: 7780, 31522: 7781, 32234: 7782, 34552: 7783, 46855: 7784, 53024: 7785, 60382: 7786, 112460: 7787, 61361: 7788, 1475: 7789, 2377: 7790, 626: 7791, 1582: 7792, 3064: 7793, 875: 7794, 3945: 7795, 4241: 7796, 31413: 7797, 61013: 7798, 64321: 7799, 64499: 7800, 64501: 7801, 75983: 7802, 108709: 7803, 121491: 7804, 126430: 7805, 2239: 7806, 746: 7807, 1068: 7808, 1152: 7809, 1153: 7810, 1154: 7811, 2049: 7812, 2056: 7813, 2260: 7814, 2283: 7815, 2631: 7816, 2755: 7817, 2878: 7818, 2937: 7819, 3121: 7820, 3211: 7821, 3292: 7822, 3340: 7823, 3343: 7824, 3377: 7825, 3380: 7826, 3731: 7827, 3833: 7828, 4098: 7829, 4108: 7830, 4123: 7831, 4175: 7832, 4183: 7833, 4185: 7834, 4281: 7835, 4332: 7836, 4392: 7837, 4414: 7838, 4426: 7839, 4428: 7840, 4433: 7841, 4523: 7842, 4555: 7843, 4590: 7844, 4606: 7845, 4659: 7846, 4667: 7847, 4674: 7848, 4684: 7849, 4692: 7850, 4716: 7851, 4831: 7852, 4840: 7853, 4859: 7854, 4927: 7855, 4948: 7856, 4999: 7857, 5004: 7858, 5033: 7859, 5087: 7860, 5088: 7861, 5098: 7862, 5119: 7863, 5199: 7864, 5242: 7865, 5384: 7866, 5450: 7867, 5521: 7868, 5638: 7869, 5641: 7870, 5777: 7871, 5795: 7872, 5936: 7873, 5966: 7874, 6047: 7875, 6051: 7876, 6064: 7877, 6100: 7878, 6105: 7879, 6109: 7880, 6133: 7881, 6230: 7882, 6341: 7883, 6410: 7884, 6528: 7885, 6603: 7886, 6629: 7887, 6671: 7888, 6676: 7889, 6684: 7890, 6728: 7891, 6851: 7892, 6906: 7893, 6964: 7894, 6992: 7895, 7020: 7896, 7023: 7897, 7067: 7898, 7083: 7899, 7111: 7900, 7125: 7901, 7126: 7902, 7130: 7903, 7131: 7904, 7180: 7905, 7182: 7906, 7190: 7907, 7219: 7908, 7222: 7909, 7248: 7910, 7266: 7911, 7354: 7912, 7358: 7913, 7415: 7914, 7571: 7915, 7583: 7916, 7585: 7917, 7613: 7918, 7620: 7919, 7636: 7920, 7815: 7921, 7872: 7922, 7881: 7923, 7883: 7924, 7921: 7925, 7922: 7926, 7935: 7927, 7946: 7928, 7948: 7929, 7958: 7930, 7959: 7931, 7995: 7932, 8003: 7933, 8033: 7934, 8044: 7935, 8056: 7936, 8123: 7937, 8137: 7938, 8261: 7939, 8266: 7940, 8331: 7941, 8388: 7942, 8392: 7943, 8410: 7944, 8420: 7945, 8422: 7946, 8459: 7947, 8462: 7948, 8465: 7949, 8571: 7950, 8572: 7951, 8583: 7952, 8625: 7953, 8650: 7954, 8724: 7955, 8725: 7956, 8727: 7957, 8752: 7958, 8761: 7959, 8763: 7960, 8768: 7961, 8828: 7962, 8851: 7963, 8853: 7964, 8903: 7965, 9012: 7966, 25773: 7967, 25795: 7968, 25828: 7969, 25841: 7970, 25842: 7971, 25856: 7972, 25865: 7973, 25882: 7974, 25886: 7975, 25900: 7976, 25904: 7977, 25906: 7978, 25920: 7979, 25929: 7980, 25930: 7981, 25940: 7982, 25941: 7983, 25945: 7984, 25965: 7985, 25972: 7986, 25996: 7987, 25999: 7988, 26010: 7989, 26013: 7990, 26079: 7991, 26086: 7992, 26093: 7993, 26117: 7994, 26147: 7995, 26157: 7996, 26163: 7997, 26180: 7998, 26199: 7999, 26229: 8000, 26251: 8001, 26271: 8002, 26323: 8003, 26338: 8004, 26346: 8005, 26349: 8006, 26350: 8007, 26371: 8008, 26404: 8009, 26430: 8010, 26435: 8011, 26467: 8012, 26485: 8013, 26487: 8014, 26501: 8015, 26505: 8016, 26581: 8017, 26622: 8018, 26689: 8019, 26694: 8020, 26731: 8021, 26737: 8022, 26775: 8023, 26782: 8024, 26784: 8025, 26797: 8026, 26835: 8027, 26838: 8028, 27802: 8029, 27812: 8030, 31104: 8031, 31109: 8032, 31747: 8033, 31963: 8034, 32022: 8035, 32203: 8036, 32349: 8037, 32943: 8038, 33358: 8039, 33912: 8040, 33917: 8041, 34002: 8042, 34018: 8043, 34359: 8044, 34364: 8045, 34608: 8046, 36152: 8047, 37211: 8048, 37277: 8049, 37855: 8050, 38994: 8051, 39419: 8052, 39779: 8053, 39941: 8054, 40817: 8055, 41714: 8056, 42740: 8057, 43333: 8058, 43351: 8059, 43635: 8060, 43708: 8061, 43910: 8062, 44073: 8063, 44421: 8064, 44759: 8065, 44864: 8066, 44911: 8067, 45179: 8068, 45382: 8069, 45679: 8070, 45942: 8071, 45987: 8072, 46561: 8073, 47092: 8074, 47196: 8075, 47261: 8076, 47330: 8077, 47493: 8078, 47606: 8079, 47894: 8080, 47978: 8081, 48262: 8082, 48268: 8083, 49220: 8084, 49910: 8085, 50245: 8086, 51773: 8087, 52378: 8088, 52913: 8089, 53133: 8090, 53887: 8091, 54220: 8092, 54513: 8093, 55078: 8094, 55156: 8095, 55757: 8096, 55851: 8097, 55895: 8098, 57418: 8099, 57430: 8100, 58365: 8101, 58649: 8102, 58904: 8103, 59180: 8104, 59669: 8105, 60135: 8106, 60343: 8107, 61634: 8108, 63629: 8109, 64229: 8110, 64338: 8111, 64990: 8112, 65418: 8113, 66200: 8114, 66686: 8115, 67429: 8116, 68536: 8117, 68614: 8118, 69559: 8119, 69654: 8120, 69821: 8121, 69908: 8122, 70188: 8123, 70201: 8124, 70418: 8125, 70751: 8126, 71404: 8127, 71804: 8128, 72131: 8129, 72169: 8130, 72367: 8131, 73323: 8132, 73469: 8133, 73854: 8134, 74089: 8135, 74630: 8136, 75990: 8137, 76763: 8138, 77421: 8139, 77808: 8140, 78111: 8141, 78116: 8142, 78653: 8143, 78967: 8144, 80346: 8145, 81641: 8146, 81898: 8147, 82378: 8148, 83332: 8149, 84098: 8150, 84847: 8151, 85016: 8152, 86487: 8153, 86864: 8154, 86982: 8155, 87218: 8156, 87383: 8157, 87598: 8158, 88024: 8159, 88235: 8160, 89203: 8161, 89260: 8162, 89321: 8163, 89408: 8164, 89678: 8165, 89881: 8166, 90057: 8167, 90717: 8168, 91134: 8169, 91286: 8170, 91582: 8171, 91610: 8172, 91890: 8173, 92756: 8174, 93432: 8175, 93700: 8176, 94266: 8177, 94931: 8178, 95583: 8179, 96075: 8180, 96314: 8181, 96565: 8182, 96792: 8183, 96849: 8184, 96901: 8185, 97254: 8186, 97395: 8187, 97639: 8188, 97817: 8189, 97936: 8190, 97994: 8191, 98441: 8192, 98458: 8193, 98473: 8194, 98611: 8195, 98795: 8196, 98803: 8197, 99085: 8198, 99089: 8199, 99220: 8200, 99270: 8201, 99273: 8202, 99276: 8203, 99741: 8204, 99839: 8205, 101088: 8206, 101106: 8207, 101850: 8208, 101904: 8209, 102396: 8210, 102588: 8211, 103107: 8212, 103671: 8213, 104119: 8214, 104321: 8215, 104339: 8216, 104595: 8217, 104597: 8218, 104757: 8219, 105211: 8220, 105731: 8221, 106004: 8222, 106397: 8223, 106452: 8224, 107042: 8225, 107382: 8226, 108076: 8227, 109161: 8228, 109205: 8229, 109740: 8230, 110194: 8231, 110453: 8232, 110752: 8233, 110858: 8234, 111384: 8235, 111795: 8236, 112334: 8237, 112399: 8238, 112450: 8239, 112577: 8240, 112582: 8241, 112653: 8242, 112735: 8243, 112850: 8244, 112921: 8245, 113207: 8246, 113220: 8247, 113938: 8248, 114082: 8249, 114122: 8250, 114464: 8251, 114601: 8252, 115231: 8253, 116012: 8254, 116136: 8255, 117456: 8256, 118898: 8257, 118924: 8258, 118985: 8259, 120821: 8260, 127114: 8261, 127158: 8262, 127164: 8263, 127178: 8264, 128606: 8265, 129364: 8266, 130351: 8267, 132074: 8268, 132496: 8269, 132888: 8270, 133645: 8271, 134025: 8272, 134881: 8273, 135508: 8274, 136018: 8275, 138258: 8276, 140247: 8277, 140816: 8278, 141749: 8279, 142192: 8280, 142258: 8281, 143377: 8282, 143657: 8283, 146682: 8284, 147845: 8285, 148238: 8286, 150856: 8287, 151307: 8288, 156387: 8289, 160656: 8290, 160718: 8291, 161084: 8292, 163949: 8293, 336: 8294, 718: 8295, 118105: 8296, 4521: 8297, 114: 8298, 582: 8299, 2152: 8300, 6624: 8301, 59429: 8302, 80748: 8303, 2998: 8304, 3055: 8305, 3116: 8306, 3855: 8307, 4131: 8308, 4201: 8309, 49013: 8310, 62331: 8311, 88932: 8312, 92210: 8313, 92954: 8314, 106873: 8315, 107314: 8316, 109742: 8317, 110873: 8318, 108: 8319, 131: 8320, 137: 8321, 183: 8322, 189: 8323, 244: 8324, 325: 8325, 447: 8326, 526: 8327, 561: 8328, 565: 8329, 571: 8330, 614: 8331, 621: 8332, 775: 8333, 831: 8334, 980: 8335, 1053: 8336, 1151: 8337, 1168: 8338, 1312: 8339, 1325: 8340, 1329: 8341, 1335: 8342, 1458: 8343, 1465: 8344, 1493: 8345, 1531: 8346, 1543: 8347, 1549: 8348, 1550: 8349, 1640: 8350, 1657: 8351, 1696: 8352, 1715: 8353, 1728: 8354, 1731: 8355, 1771: 8356, 1822: 8357, 1891: 8358, 1980: 8359, 1986: 8360, 1989: 8361, 1990: 8362, 2047: 8363, 2055: 8364, 2189: 8365, 2215: 8366, 2256: 8367, 2295: 8368, 2350: 8369, 2479: 8370, 2515: 8371, 2519: 8372, 2534: 8373, 2586: 8374, 2655: 8375, 2754: 8376, 2766: 8377, 2767: 8378, 2800: 8379, 2850: 8380, 2855: 8381, 2945: 8382, 2982: 8383, 2992: 8384, 3021: 8385, 3041: 8386, 3190: 8387, 3239: 8388, 3281: 8389, 3282: 8390, 3325: 8391, 3331: 8392, 3339: 8393, 3351: 8394, 3402: 8395, 3431: 8396, 3465: 8397, 3491: 8398, 3495: 8399, 3518: 8400, 3587: 8401, 3605: 8402, 3619: 8403, 3659: 8404, 3661: 8405, 3662: 8406, 3663: 8407, 3664: 8408, 3665: 8409, 3692: 8410, 3757: 8411, 3805: 8412, 3820: 8413, 3832: 8414, 3837: 8415, 3838: 8416, 3839: 8417, 3851: 8418, 3923: 8419, 3938: 8420, 3939: 8421, 3940: 8422, 3941: 8423, 3942: 8424, 3960: 8425, 3971: 8426, 5649: 8427, 8977: 8428, 34435: 8429, 132952: 8430, 148: 8431, 1555: 8432, 1928: 8433, 2400: 8434, 3025: 8435, 3487: 8436, 3602: 8437, 3870: 8438, 3985: 8439, 4189: 8440, 4319: 8441, 4324: 8442, 4337: 8443, 4401: 8444, 4411: 8445, 4610: 8446, 4804: 8447, 4854: 8448, 5039: 8449, 5057: 8450, 5063: 8451, 5079: 8452, 5167: 8453, 5227: 8454, 5230: 8455, 5231: 8456, 5232: 8457, 5233: 8458, 5234: 8459, 5301: 8460, 4445: 8461, 4453: 8462, 4981: 8463, 5182: 8464, 7355: 8465, 89388: 8466, 55250: 8467, 91104: 8468, 4101: 8469, 4541: 8470, 5041: 8471, 5042: 8472, 6966: 8473, 6991: 8474, 7192: 8475, 7307: 8476, 7738: 8477, 7892: 8478, 7951: 8479, 8138: 8480, 25995: 8481, 26005: 8482, 26012: 8483, 26317: 8484, 26413: 8485, 26702: 8486, 26886: 8487, 27441: 8488, 32395: 8489, 42946: 8490, 43832: 8491, 46772: 8492, 47810: 8493, 50005: 8494, 51709: 8495, 59935: 8496, 60760: 8497, 61026: 8498, 61210: 8499, 66427: 8500, 68486: 8501, 72224: 8502, 72630: 8503, 73488: 8504, 73741: 8505, 74438: 8506, 1311: 8507, 2191: 8508, 3883: 8509, 4753: 8510, 5117: 8511, 5278: 8512, 5413: 8513, 5864: 8514, 7204: 8515, 7312: 8516, 32153: 8517, 46574: 8518, 54768: 8519, 61465: 8520, 6771: 8521, 27724: 8522, 27871: 8523, 32666: 8524, 36931: 8525, 51927: 8526, 59016: 8527, 74450: 8528, 3349: 8529, 2342: 8530, 2708: 8531, 3976: 8532, 4173: 8533, 6035: 8534, 6056: 8535, 6073: 8536, 6828: 8537, 7208: 8538, 7299: 8539, 8121: 8540, 8143: 8541, 8591: 8542, 8779: 8543, 8954: 8544, 25852: 8545, 26663: 8546, 27768: 8547, 32591: 8548, 38384: 8549, 47728: 8550, 2284: 8551, 1671: 8552, 4640: 8553, 7352: 8554, 8070: 8555, 8713: 8556, 27876: 8557, 33124: 8558, 2661: 8559, 2923: 8560, 5223: 8561, 5466: 8562, 5503: 8563, 5516: 8564, 5517: 8565, 5535: 8566, 5575: 8567, 3454: 8568, 6332: 8569, 7453: 8570, 8642: 8571, 33296: 8572, 47122: 8573, 54734: 8574, 55100: 8575, 59985: 8576, 61250: 8577, 70898: 8578, 77414: 8579, 79588: 8580, 80858: 8581, 80860: 8582, 82152: 8583, 82499: 8584, 86817: 8585, 88179: 8586, 95567: 8587, 111913: 8588, 764: 8589, 1044: 8590, 2032: 8591, 3460: 8592, 3890: 8593, 4001: 8594, 27664: 8595, 73860: 8596, 757: 8597, 865: 8598, 1901: 8599, 2832: 8600, 617: 8601, 1164: 8602, 1450: 8603, 1539: 8604, 1563: 8605, 1571: 8606, 1819: 8607, 2008: 8608, 2063: 8609, 2869: 8610, 3003: 8611, 3047: 8612, 3303: 8613, 3338: 8614, 4026: 8615, 4076: 8616, 4208: 8617, 4399: 8618, 4538: 8619, 4591: 8620, 4592: 8621, 4605: 8622, 4796: 8623, 4930: 8624, 4984: 8625, 5224: 8626, 5236: 8627, 5352: 8628, 5395: 8629, 5427: 8630, 6531: 8631, 98000: 8632, 108514: 8633, 149606: 8634, 162542: 8635, 162672: 8636, 2849: 8637, 4469: 8638, 92008: 8639, 95761: 8640, 104881: 8641, 105954: 8642, 111931: 8643, 54780: 8644, 72294: 8645, 78174: 8646, 84637: 8647, 4104: 8648, 6039: 8649, 7340: 8650, 100553: 8651, 27544: 8652, 2887: 8653, 3031: 8654, 3276: 8655, 3596: 8656, 3933: 8657, 4051: 8658, 4053: 8659, 4156: 8660, 4198: 8661, 4233: 8662, 4268: 8663, 4397: 8664, 4471: 8665, 4477: 8666, 4602: 8667, 4634: 8668, 4812: 8669, 5356: 8670, 5573: 8671, 5582: 8672, 5636: 8673, 5779: 8674, 6143: 8675, 6302: 8676, 6348: 8677, 6349: 8678, 6427: 8679, 6514: 8680, 6798: 8681, 6812: 8682, 6814: 8683, 6862: 8684, 7016: 8685, 7245: 8686, 7258: 8687, 7319: 8688, 7372: 8689, 7895: 8690, 8136: 8691, 8290: 8692, 8447: 8693, 8743: 8694, 26409: 8695, 26464: 8696, 26750: 8697, 31000: 8698, 32291: 8699, 43558: 8700, 49688: 8701, 50064: 8702, 50792: 8703, 52730: 8704, 55294: 8705, 61289: 8706, 66785: 8707, 67361: 8708, 69118: 8709, 70545: 8710, 70984: 8711, 71823: 8712, 72694: 8713, 73386: 8714, 75803: 8715, 75816: 8716, 77191: 8717, 79259: 8718, 79590: 8719, 79946: 8720, 80590: 8721, 81949: 8722, 82093: 8723, 83177: 8724, 84696: 8725, 84950: 8726, 85399: 8727, 86028: 8728, 86593: 8729, 87444: 8730, 87483: 8731, 87785: 8732, 89305: 8733, 89427: 8734, 90343: 8735, 90522: 8736, 90738: 8737, 91126: 8738, 91128: 8739, 91273: 8740, 91323: 8741, 91325: 8742, 91470: 8743, 91688: 8744, 91873: 8745, 91935: 8746, 92048: 8747, 92198: 8748, 92439: 8749, 92665: 8750, 93242: 8751, 93563: 8752, 93980: 8753, 93982: 8754, 94011: 8755, 94323: 8756, 94494: 8757, 94672: 8758, 94919: 8759, 95067: 8760, 95201: 8761, 95508: 8762, 95744: 8763, 96114: 8764, 96530: 8765, 96726: 8766, 97328: 8767, 97470: 8768, 97858: 8769, 97870: 8770, 98160: 8771, 98175: 8772, 98230: 8773, 98279: 8774, 98585: 8775, 98836: 8776, 98908: 8777, 99005: 8778, 99106: 8779, 99415: 8780, 99574: 8781, 99846: 8782, 99992: 8783, 100226: 8784, 100304: 8785, 100326: 8786, 100390: 8787, 101283: 8788, 101360: 8789, 101415: 8790, 101529: 8791, 101884: 8792, 102165: 8793, 102278: 8794, 102378: 8795, 103221: 8796, 103502: 8797, 103543: 8798, 103596: 8799, 103755: 8800, 103819: 8801, 103865: 8802, 104076: 8803, 104078: 8804, 104129: 8805, 104245: 8806, 104760: 8807, 104906: 8808, 105037: 8809, 105121: 8810, 105254: 8811, 105351: 8812, 106542: 8813, 106839: 8814, 106883: 8815, 107702: 8816, 107945: 8817, 108601: 8818, 108715: 8819, 108949: 8820, 109042: 8821, 109191: 8822, 109295: 8823, 109317: 8824, 109372: 8825, 109576: 8826, 109853: 8827, 110297: 8828, 110611: 8829, 110826: 8830, 111663: 8831, 111680: 8832, 112303: 8833, 112497: 8834, 112749: 8835, 113186: 8836, 113225: 8837, 113416: 8838, 113532: 8839, 114762: 8840, 114818: 8841, 114925: 8842, 115151: 8843, 116207: 8844, 116413: 8845, 116419: 8846, 116849: 8847, 116887: 8848, 116985: 8849, 117107: 8850, 117511: 8851, 117590: 8852, 118248: 8853, 118326: 8854, 118354: 8855, 118702: 8856, 118814: 8857, 119068: 8858, 119655: 8859, 120635: 8860, 120783: 8861, 122490: 8862, 122932: 8863, 123947: 8864, 124859: 8865, 125916: 8866, 126420: 8867, 127096: 8868, 127194: 8869, 127204: 8870, 127319: 8871, 128592: 8872, 129250: 8873, 129657: 8874, 129659: 8875, 129737: 8876, 130083: 8877, 130450: 8878, 131714: 8879, 132333: 8880, 132462: 8881, 132488: 8882, 132618: 8883, 133281: 8884, 133365: 8885, 133377: 8886, 133545: 8887, 133782: 8888, 133798: 8889, 134158: 8890, 134859: 8891, 135536: 8892, 136305: 8893, 136654: 8894, 136666: 8895, 136800: 8896, 136816: 8897, 138546: 8898, 139415: 8899, 139642: 8900, 139915: 8901, 140237: 8902, 140725: 8903, 141422: 8904, 142536: 8905, 143255: 8906, 143257: 8907, 143410: 8908, 143472: 8909, 144714: 8910, 145150: 8911, 146688: 8912, 149590: 8913, 149612: 8914, 150401: 8915, 157407: 8916, 160440: 8917, 161830: 8918, 161918: 8919, 69529: 8920, 26462: 8921, 638: 8922, 245: 8923, 4741: 8924, 5818: 8925, 5913: 8926, 6022: 8927, 6091: 8928, 6679: 8929, 6690: 8930, 6884: 8931, 7011: 8932, 7990: 8933, 8273: 8934, 8577: 8935, 26947: 8936, 27416: 8937, 27700: 8938, 27875: 8939, 33750: 8940, 41912: 8941, 48032: 8942, 48593: 8943, 48856: 8944, 49265: 8945, 57845: 8946, 58029: 8947, 61646: 8948, 65259: 8949, 71640: 8950, 73101: 8951, 77810: 8952, 81819: 8953, 92004: 8954, 93693: 8955, 98913: 8956, 99675: 8957, 102995: 8958, 128616: 8959, 140152: 8960, 155611: 8961, 3453: 8962, 3575: 8963, 4342: 8964, 4724: 8965, 5229: 8966, 5264: 8967, 5271: 8968, 6033: 8969, 6295: 8970, 6342: 8971, 6369: 8972, 6762: 8973, 6769: 8974, 7260: 8975, 7625: 8976, 7627: 8977, 8256: 8978, 8453: 8979, 8699: 8980, 26791: 8981, 26843: 8982, 26854: 8983, 27826: 8984, 53138: 8985, 54251: 8986, 59549: 8987, 60086: 8988, 68835: 8989, 69495: 8990, 70762: 8991, 72947: 8992, 79163: 8993, 80584: 8994, 82608: 8995, 84414: 8996, 89870: 8997, 92613: 8998, 92966: 8999, 98933: 9000, 99609: 9001, 99615: 9002, 100017: 9003, 103731: 9004, 106417: 9005, 108551: 9006, 108795: 9007, 109183: 9008, 109359: 9009, 110058: 9010, 110781: 9011, 116855: 9012, 127728: 9013, 129009: 9014, 130522: 9015, 130628: 9016, 130960: 9017, 135264: 9018, 135266: 9019, 135268: 9020, 137403: 9021, 140739: 9022, 140741: 9023, 140743: 9024, 140745: 9025, 140747: 9026, 140749: 9027, 140751: 9028, 140753: 9029, 140755: 9030, 140757: 9031, 140759: 9032, 140761: 9033, 140763: 9034, 140880: 9035, 141124: 9036, 142068: 9037, 142240: 9038, 146443: 9039, 146501: 9040, 146604: 9041, 147037: 9042, 2103: 9043, 8504: 9044, 26819: 9045, 42009: 9046, 143859: 9047, 158314: 9048, 1692: 9049, 3845: 9050, 3909: 9051, 167: 9052, 563: 9053, 127124: 9054, 134246: 9055, 134528: 9056, 134783: 9057, 137595: 9058, 138204: 9059, 60832: 9060, 64997: 9061, 72380: 9062, 129: 9063, 4736: 9064, 6425: 9065}\n",
            "encoded angka ke movieId:  {0: 31, 1: 1029, 2: 1061, 3: 1129, 4: 1172, 5: 1263, 6: 1287, 7: 1293, 8: 1339, 9: 1343, 10: 1371, 11: 1405, 12: 1953, 13: 2105, 14: 2150, 15: 2193, 16: 2294, 17: 2455, 18: 2968, 19: 3671, 20: 10, 21: 17, 22: 39, 23: 47, 24: 50, 25: 52, 26: 62, 27: 110, 28: 144, 29: 150, 30: 153, 31: 161, 32: 165, 33: 168, 34: 185, 35: 186, 36: 208, 37: 222, 38: 223, 39: 225, 40: 235, 41: 248, 42: 253, 43: 261, 44: 265, 45: 266, 46: 272, 47: 273, 48: 292, 49: 296, 50: 300, 51: 314, 52: 317, 53: 319, 54: 339, 55: 349, 56: 350, 57: 356, 58: 357, 59: 364, 60: 367, 61: 370, 62: 371, 63: 372, 64: 377, 65: 382, 66: 405, 67: 410, 68: 454, 69: 457, 70: 468, 71: 474, 72: 480, 73: 485, 74: 497, 75: 500, 76: 508, 77: 509, 78: 515, 79: 527, 80: 537, 81: 539, 82: 550, 83: 551, 84: 552, 85: 585, 86: 586, 87: 587, 88: 588, 89: 589, 90: 590, 91: 592, 92: 593, 93: 616, 94: 661, 95: 720, 96: 60, 97: 247, 98: 267, 99: 318, 100: 355, 101: 595, 102: 736, 103: 778, 104: 866, 105: 1197, 106: 1210, 107: 1235, 108: 1271, 109: 1378, 110: 1580, 111: 1721, 112: 1884, 113: 2028, 114: 2318, 115: 2513, 116: 2694, 117: 2702, 118: 2716, 119: 2762, 120: 2841, 121: 2858, 122: 2959, 123: 3243, 124: 3510, 125: 3949, 126: 5349, 127: 5669, 128: 6377, 129: 7153, 130: 7361, 131: 8622, 132: 8636, 133: 27369, 134: 44191, 135: 48783, 136: 50068, 137: 58559, 138: 84236, 139: 34, 140: 112, 141: 141, 142: 173, 143: 260, 144: 289, 145: 329, 146: 380, 147: 431, 148: 434, 149: 435, 150: 440, 151: 442, 152: 464, 153: 541, 154: 594, 155: 596, 156: 610, 157: 858, 158: 903, 159: 910, 160: 913, 161: 919, 162: 1011, 163: 1016, 164: 1022, 165: 1028, 166: 1030, 167: 1031, 168: 1032, 169: 1033, 170: 1036, 171: 1073, 172: 1079, 173: 1089, 174: 1097, 175: 1125, 176: 1127, 177: 1136, 178: 1194, 179: 1196, 180: 1198, 181: 1200, 182: 1206, 183: 1208, 184: 1213, 185: 1214, 186: 1219, 187: 1220, 188: 1222, 189: 1225, 190: 1230, 191: 1240, 192: 1243, 193: 1257, 194: 1258, 195: 1259, 196: 1265, 197: 1270, 198: 1278, 199: 1282, 200: 1285, 201: 1288, 202: 1291, 203: 1298, 204: 1307, 205: 1332, 206: 1334, 207: 1344, 208: 1356, 209: 1372, 210: 1374, 211: 1376, 212: 1377, 213: 1380, 214: 1387, 215: 1388, 216: 1396, 217: 1544, 218: 1663, 219: 1674, 220: 1805, 221: 1858, 222: 1917, 223: 1918, 224: 1954, 225: 1961, 226: 1967, 227: 1968, 228: 1994, 229: 2000, 230: 2002, 231: 2003, 232: 2005, 233: 2014, 234: 2018, 235: 2020, 236: 2021, 237: 2033, 238: 2034, 239: 2046, 240: 2054, 241: 2064, 242: 2078, 243: 2080, 244: 2081, 245: 2085, 246: 2086, 247: 2087, 248: 2091, 249: 2094, 250: 2096, 251: 2100, 252: 2102, 253: 2109, 254: 2110, 255: 2114, 256: 2115, 257: 2124, 258: 2140, 259: 2141, 260: 2143, 261: 2144, 262: 2161, 263: 2174, 264: 2194, 265: 2248, 266: 2263, 267: 2268, 268: 2289, 269: 2348, 270: 2371, 271: 2403, 272: 2406, 273: 2409, 274: 2454, 275: 2467, 276: 2551, 277: 2616, 278: 2628, 279: 2640, 280: 2659, 281: 2683, 282: 2699, 283: 2723, 284: 2734, 285: 2770, 286: 2788, 287: 2791, 288: 2795, 289: 2797, 290: 2804, 291: 2822, 292: 2867, 293: 2872, 294: 2877, 295: 2902, 296: 2903, 297: 2916, 298: 2918, 299: 2986, 300: 2987, 301: 2991, 302: 3016, 303: 3034, 304: 3039, 305: 3040, 306: 3060, 307: 3071, 308: 3101, 309: 3104, 310: 3108, 311: 3169, 312: 3208, 313: 3210, 314: 3251, 315: 3255, 316: 3263, 317: 3265, 318: 4006, 319: 3, 320: 104, 321: 231, 322: 277, 323: 344, 324: 597, 325: 788, 326: 1035, 327: 1193, 328: 1221, 329: 1247, 330: 1393, 331: 1485, 332: 1682, 333: 1777, 334: 1784, 335: 1923, 336: 1997, 337: 2023, 338: 2273, 339: 2355, 340: 2424, 341: 2502, 342: 2706, 343: 2997, 344: 3114, 345: 3176, 346: 3408, 347: 3753, 348: 3897, 349: 3948, 350: 4014, 351: 4018, 352: 4022, 353: 4025, 354: 4306, 355: 4308, 356: 4447, 357: 4718, 358: 4963, 359: 4995, 360: 5266, 361: 5299, 362: 5464, 363: 5679, 364: 5816, 365: 5995, 366: 6218, 367: 6373, 368: 6502, 369: 6711, 370: 6942, 371: 8376, 372: 8464, 373: 8644, 374: 30707, 375: 30749, 376: 30793, 377: 33166, 378: 33679, 379: 34162, 380: 35836, 381: 40819, 382: 41566, 383: 41569, 384: 48385, 385: 111, 386: 158, 387: 293, 388: 1204, 389: 1250, 390: 1276, 391: 1358, 392: 1639, 393: 1687, 394: 1747, 395: 1876, 396: 1909, 397: 2001, 398: 2019, 399: 2072, 400: 2528, 401: 2529, 402: 2571, 403: 2657, 404: 2692, 405: 2761, 406: 2890, 407: 3052, 408: 3300, 409: 3751, 410: 4641, 411: 4975, 412: 5952, 413: 7090, 414: 8368, 415: 8784, 416: 8874, 417: 1, 418: 21, 419: 40, 420: 151, 421: 198, 422: 207, 423: 316, 424: 333, 425: 345, 426: 534, 427: 671, 428: 708, 429: 724, 430: 737, 431: 745, 432: 780, 433: 786, 434: 924, 435: 1080, 436: 1148, 437: 1223, 438: 1231, 439: 1242, 440: 1275, 441: 1302, 442: 1353, 443: 1373, 444: 1375, 445: 1394, 446: 1408, 447: 32, 448: 45, 449: 282, 450: 520, 451: 524, 452: 543, 453: 628, 454: 805, 455: 1500, 456: 1552, 457: 1617, 458: 1625, 459: 1704, 460: 1754, 461: 2139, 462: 2302, 463: 2324, 464: 2329, 465: 2353, 466: 2423, 467: 3147, 468: 3578, 469: 3916, 470: 3996, 471: 4011, 472: 4019, 473: 4034, 474: 4226, 475: 4262, 476: 4448, 477: 4886, 478: 4896, 479: 4973, 480: 4993, 481: 5064, 482: 5378, 483: 5445, 484: 5630, 485: 5650, 486: 5989, 487: 6378, 488: 6870, 489: 6874, 490: 6879, 491: 7143, 492: 7438, 493: 8533, 494: 8873, 495: 32587, 496: 33493, 497: 33794, 498: 40583, 499: 42007, 500: 43556, 501: 43871, 502: 44004, 503: 26, 504: 36, 505: 608, 506: 733, 507: 1059, 508: 1177, 509: 1357, 510: 1411, 511: 1541, 512: 1584, 513: 1680, 514: 2125, 515: 2249, 516: 2278, 517: 2291, 518: 2391, 519: 2396, 520: 2427, 521: 2490, 522: 2501, 523: 2539, 524: 2857, 525: 152, 526: 735, 527: 1101, 528: 1423, 529: 1459, 530: 1499, 531: 1611, 532: 1690, 533: 1719, 534: 1887, 535: 2108, 536: 2344, 537: 2410, 538: 2826, 539: 2827, 540: 2840, 541: 2881, 542: 2907, 543: 2926, 544: 2995, 545: 3005, 546: 3019, 547: 70, 548: 126, 549: 169, 550: 785, 551: 923, 552: 1027, 553: 1201, 554: 2042, 555: 2596, 556: 3424, 557: 6598, 558: 26614, 559: 48516, 560: 51084, 561: 58295, 562: 71211, 563: 77455, 564: 79132, 565: 80489, 566: 80906, 567: 81158, 568: 81562, 569: 88129, 570: 91500, 571: 91529, 572: 91548, 573: 96079, 574: 96861, 575: 97938, 576: 104841, 577: 106487, 578: 529, 579: 538, 580: 673, 581: 1077, 582: 1215, 583: 1295, 584: 1732, 585: 2259, 586: 2460, 587: 2668, 588: 3146, 589: 3148, 590: 3179, 591: 3298, 592: 3324, 593: 3474, 594: 3770, 595: 3773, 596: 3780, 597: 3791, 598: 3793, 599: 3794, 600: 3798, 601: 3799, 602: 3801, 603: 3809, 604: 3825, 605: 3827, 606: 3829, 607: 3831, 608: 3841, 609: 3844, 610: 3861, 611: 3863, 612: 3864, 613: 3865, 614: 3869, 615: 3871, 616: 3873, 617: 3879, 618: 3885, 619: 3886, 620: 6184, 621: 362, 622: 531, 623: 914, 624: 2572, 625: 2908, 626: 3396, 627: 3624, 628: 4310, 629: 4321, 630: 4878, 631: 7502, 632: 54286, 633: 64614, 634: 69757, 635: 78499, 636: 81834, 637: 88125, 638: 93363, 639: 2038, 640: 2394, 641: 2720, 642: 2724, 643: 2861, 644: 3157, 645: 3175, 646: 3354, 647: 3623, 648: 3986, 649: 3988, 650: 2, 651: 5, 652: 6, 653: 11, 654: 14, 655: 16, 656: 19, 657: 22, 658: 25, 659: 44, 660: 82, 661: 94, 662: 95, 663: 101, 664: 107, 665: 123, 666: 125, 667: 145, 668: 149, 669: 157, 670: 160, 671: 162, 672: 163, 673: 164, 674: 170, 675: 172, 676: 175, 677: 176, 678: 180, 679: 193, 680: 196, 681: 214, 682: 215, 683: 216, 684: 230, 685: 232, 686: 233, 687: 237, 688: 246, 689: 252, 690: 288, 691: 306, 692: 307, 693: 308, 694: 322, 695: 335, 696: 342, 697: 353, 698: 373, 699: 429, 700: 441, 701: 466, 702: 471, 703: 481, 704: 483, 705: 494, 706: 535, 707: 540, 708: 549, 709: 555, 710: 556, 711: 562, 712: 574, 713: 647, 714: 648, 715: 663, 716: 665, 717: 674, 718: 680, 719: 748, 720: 750, 721: 762, 722: 784, 723: 799, 724: 800, 725: 802, 726: 803, 727: 804, 728: 832, 729: 836, 730: 851, 731: 899, 732: 904, 733: 908, 734: 909, 735: 911, 736: 912, 737: 916, 738: 920, 739: 922, 740: 926, 741: 931, 742: 953, 743: 994, 744: 1020, 745: 1041, 746: 1047, 747: 1060, 748: 1084, 749: 1088, 750: 1092, 751: 1093, 752: 1094, 753: 1095, 754: 1100, 755: 1120, 756: 1131, 757: 1147, 758: 1171, 759: 1173, 760: 1176, 761: 1178, 762: 1179, 763: 1183, 764: 1186, 765: 1189, 766: 1199, 767: 1203, 768: 1207, 769: 1209, 770: 1211, 771: 1212, 772: 1217, 773: 1218, 774: 1228, 775: 1233, 776: 1234, 777: 1244, 778: 1246, 779: 1248, 780: 1249, 781: 1251, 782: 1252, 783: 1254, 784: 1260, 785: 1262, 786: 1264, 787: 1266, 788: 1267, 789: 1272, 790: 1280, 791: 1281, 792: 1283, 793: 1284, 794: 1289, 795: 1290, 796: 1297, 797: 1303, 798: 1304, 799: 1320, 800: 1333, 801: 1342, 802: 1361, 803: 1370, 804: 1385, 805: 1391, 806: 1407, 807: 1449, 808: 1464, 809: 1466, 810: 1476, 811: 1479, 812: 1483, 813: 1484, 814: 1502, 815: 1503, 816: 1513, 817: 1517, 818: 1527, 819: 1529, 820: 1546, 821: 1556, 822: 1562, 823: 1569, 824: 1573, 825: 1589, 826: 1597, 827: 1608, 828: 1610, 829: 1615, 830: 1616, 831: 1635, 832: 1644, 833: 1645, 834: 1649, 835: 1653, 836: 1673, 837: 1676, 838: 1689, 839: 1694, 840: 1717, 841: 1722, 842: 1729, 843: 1735, 844: 1748, 845: 1752, 846: 1753, 847: 1779, 848: 1792, 849: 1807, 850: 1810, 851: 1816, 852: 1827, 853: 1831, 854: 1834, 855: 1836, 856: 1845, 857: 1859, 858: 1860, 859: 1862, 860: 1882, 861: 1883, 862: 1889, 863: 1895, 864: 1897, 865: 1904, 866: 1912, 867: 1914, 868: 1921, 869: 1945, 870: 1950, 871: 1952, 872: 1955, 873: 1956, 874: 1962, 875: 1964, 876: 2006, 877: 2010, 878: 2011, 879: 2012, 880: 2025, 881: 2041, 882: 2058, 883: 2060, 884: 2076, 885: 2126, 886: 2133, 887: 2134, 888: 2145, 889: 2160, 890: 2167, 891: 2186, 892: 2231, 893: 2232, 894: 2243, 895: 2269, 896: 2282, 897: 2288, 898: 2303, 899: 2311, 900: 2313, 901: 2321, 902: 2333, 903: 2334, 904: 2336, 905: 2340, 906: 2351, 907: 2357, 908: 2360, 909: 2366, 910: 2369, 911: 2378, 912: 2387, 913: 2395, 914: 2405, 915: 2407, 916: 2413, 917: 2428, 918: 2439, 919: 2447, 920: 2478, 921: 2505, 922: 2541, 923: 2542, 924: 2560, 925: 2568, 926: 2574, 927: 2575, 928: 2579, 929: 2580, 930: 2581, 931: 2585, 932: 2594, 933: 2598, 934: 2599, 935: 2600, 936: 2605, 937: 2617, 938: 2624, 939: 2648, 940: 2671, 941: 2678, 942: 2686, 943: 2700, 944: 2701, 945: 2707, 946: 2709, 947: 2710, 948: 2712, 949: 2713, 950: 2717, 951: 2718, 952: 2722, 953: 2726, 954: 2729, 955: 2759, 956: 2763, 957: 2769, 958: 2803, 959: 2819, 960: 2871, 961: 2905, 962: 2912, 963: 2915, 964: 2925, 965: 2947, 966: 2949, 967: 2952, 968: 2973, 969: 2976, 970: 2983, 971: 2985, 972: 2990, 973: 2993, 974: 3000, 975: 3004, 976: 3006, 977: 3007, 978: 3008, 979: 3010, 980: 3020, 981: 3030, 982: 3033, 983: 3044, 984: 3077, 985: 3081, 986: 3082, 987: 3083, 988: 3089, 989: 3107, 990: 3113, 991: 3128, 992: 3129, 993: 3134, 994: 3150, 995: 3152, 996: 3160, 997: 3168, 998: 3173, 999: 3174, 1000: 3181, 1001: 3182, 1002: 3185, 1003: 3219, 1004: 3225, 1005: 3246, 1006: 3250, 1007: 3253, 1008: 3256, 1009: 3261, 1010: 3262, 1011: 3266, 1012: 3267, 1013: 3272, 1014: 3273, 1015: 3275, 1016: 3285, 1017: 3286, 1018: 3301, 1019: 3307, 1020: 3316, 1021: 3317, 1022: 3318, 1023: 3320, 1024: 3328, 1025: 3358, 1026: 3361, 1027: 3362, 1028: 3386, 1029: 3390, 1030: 3409, 1031: 3418, 1032: 3421, 1033: 3429, 1034: 3435, 1035: 3448, 1036: 3461, 1037: 3462, 1038: 3471, 1039: 3476, 1040: 3477, 1041: 3481, 1042: 3484, 1043: 3489, 1044: 3499, 1045: 3504, 1046: 3505, 1047: 3512, 1048: 3527, 1049: 3534, 1050: 3535, 1051: 3536, 1052: 3538, 1053: 3543, 1054: 3552, 1055: 3555, 1056: 3556, 1057: 3566, 1058: 3569, 1059: 3571, 1060: 3577, 1061: 3598, 1062: 3617, 1063: 3618, 1064: 3626, 1065: 3633, 1066: 3634, 1067: 3635, 1068: 3638, 1069: 3639, 1070: 3683, 1071: 3707, 1072: 3717, 1073: 3728, 1074: 3730, 1075: 3735, 1076: 3742, 1077: 3745, 1078: 3747, 1079: 3752, 1080: 3755, 1081: 3763, 1082: 3783, 1083: 3785, 1084: 3786, 1085: 3787, 1086: 3788, 1087: 3800, 1088: 3823, 1089: 3826, 1090: 3852, 1091: 3854, 1092: 3868, 1093: 3882, 1094: 3892, 1095: 3893, 1096: 3896, 1097: 3910, 1098: 3911, 1099: 3915, 1100: 3943, 1101: 3952, 1102: 3956, 1103: 3967, 1104: 3968, 1105: 3969, 1106: 3977, 1107: 3979, 1108: 3981, 1109: 3983, 1110: 3984, 1111: 3987, 1112: 3989, 1113: 3990, 1114: 3993, 1115: 3994, 1116: 3998, 1117: 3999, 1118: 4005, 1119: 4007, 1120: 4010, 1121: 4015, 1122: 4017, 1123: 4020, 1124: 4021, 1125: 4023, 1126: 4027, 1127: 4029, 1128: 4030, 1129: 4033, 1130: 4036, 1131: 4037, 1132: 4052, 1133: 4055, 1134: 4056, 1135: 4066, 1136: 4079, 1137: 4082, 1138: 4085, 1139: 4121, 1140: 4144, 1141: 4148, 1142: 4149, 1143: 4158, 1144: 4161, 1145: 4167, 1146: 4168, 1147: 4210, 1148: 4223, 1149: 4225, 1150: 4232, 1151: 4235, 1152: 4238, 1153: 4239, 1154: 4246, 1155: 4247, 1156: 4270, 1157: 4271, 1158: 4299, 1159: 4302, 1160: 4322, 1161: 4343, 1162: 4344, 1163: 4351, 1164: 4361, 1165: 4367, 1166: 4369, 1167: 4370, 1168: 4372, 1169: 4378, 1170: 4380, 1171: 4381, 1172: 4383, 1173: 4386, 1174: 4388, 1175: 4410, 1176: 4446, 1177: 4450, 1178: 4451, 1179: 4489, 1180: 4546, 1181: 4571, 1182: 4621, 1183: 4623, 1184: 4638, 1185: 4639, 1186: 4642, 1187: 4643, 1188: 4654, 1189: 4658, 1190: 4666, 1191: 4675, 1192: 4678, 1193: 4679, 1194: 4700, 1195: 4701, 1196: 4713, 1197: 4719, 1198: 4720, 1199: 4723, 1200: 4727, 1201: 4728, 1202: 4731, 1203: 4734, 1204: 4738, 1205: 4744, 1206: 4776, 1207: 4816, 1208: 4823, 1209: 4844, 1210: 4848, 1211: 4873, 1212: 4881, 1213: 4888, 1214: 4890, 1215: 4901, 1216: 4902, 1217: 4903, 1218: 4914, 1219: 4958, 1220: 4974, 1221: 4979, 1222: 4992, 1223: 5000, 1224: 5008, 1225: 5010, 1226: 5013, 1227: 5015, 1228: 5026, 1229: 5060, 1230: 5066, 1231: 5071, 1232: 5074, 1233: 5075, 1234: 5110, 1235: 5120, 1236: 5128, 1237: 5135, 1238: 5170, 1239: 5171, 1240: 5218, 1241: 5219, 1242: 5220, 1243: 5222, 1244: 5225, 1245: 5254, 1246: 5269, 1247: 5279, 1248: 5283, 1249: 5291, 1250: 5293, 1251: 5296, 1252: 5298, 1253: 5308, 1254: 5313, 1255: 5319, 1256: 5339, 1257: 5346, 1258: 5363, 1259: 5364, 1260: 5377, 1261: 5388, 1262: 5391, 1263: 5400, 1264: 5410, 1265: 5416, 1266: 5418, 1267: 5419, 1268: 5444, 1269: 5449, 1270: 5458, 1271: 5459, 1272: 5463, 1273: 5477, 1274: 5478, 1275: 5481, 1276: 5500, 1277: 5502, 1278: 5504, 1279: 5507, 1280: 5508, 1281: 5515, 1282: 5524, 1283: 5528, 1284: 5541, 1285: 5553, 1286: 5568, 1287: 5577, 1288: 5617, 1289: 5618, 1290: 5620, 1291: 5662, 1292: 5673, 1293: 5791, 1294: 5792, 1295: 5809, 1296: 5872, 1297: 5878, 1298: 5893, 1299: 5902, 1300: 5903, 1301: 5909, 1302: 5945, 1303: 5954, 1304: 5956, 1305: 5957, 1306: 5959, 1307: 5968, 1308: 5991, 1309: 6003, 1310: 6016, 1311: 6025, 1312: 6037, 1313: 6059, 1314: 6155, 1315: 6157, 1316: 6180, 1317: 6188, 1318: 6203, 1319: 6271, 1320: 6281, 1321: 6283, 1322: 6287, 1323: 6296, 1324: 6299, 1325: 6303, 1326: 6327, 1327: 6331, 1328: 6333, 1329: 6365, 1330: 6380, 1331: 6385, 1332: 6433, 1333: 6440, 1334: 6442, 1335: 6464, 1336: 6503, 1337: 6534, 1338: 6537, 1339: 6539, 1340: 6547, 1341: 6552, 1342: 6586, 1343: 6593, 1344: 6620, 1345: 6641, 1346: 6650, 1347: 6708, 1348: 6754, 1349: 6773, 1350: 6783, 1351: 6787, 1352: 6816, 1353: 6820, 1354: 6863, 1355: 6867, 1356: 6873, 1357: 6875, 1358: 6885, 1359: 6932, 1360: 6934, 1361: 6936, 1362: 6944, 1363: 6947, 1364: 6953, 1365: 6957, 1366: 6961, 1367: 6975, 1368: 6978, 1369: 6979, 1370: 6989, 1371: 7003, 1372: 7004, 1373: 7008, 1374: 7010, 1375: 7028, 1376: 7034, 1377: 7123, 1378: 7132, 1379: 7147, 1380: 7156, 1381: 7162, 1382: 7173, 1383: 7199, 1384: 7254, 1385: 7265, 1386: 7293, 1387: 7317, 1388: 7323, 1389: 7325, 1390: 7327, 1391: 7346, 1392: 7348, 1393: 7371, 1394: 7373, 1395: 7444, 1396: 7445, 1397: 7451, 1398: 7458, 1399: 7484, 1400: 7487, 1401: 7560, 1402: 7569, 1403: 7573, 1404: 7698, 1405: 7792, 1406: 7925, 1407: 8011, 1408: 8264, 1409: 8360, 1410: 8361, 1411: 8366, 1412: 8528, 1413: 8529, 1414: 8531, 1415: 8581, 1416: 8582, 1417: 8623, 1418: 8638, 1419: 8641, 1420: 8645, 1421: 8665, 1422: 8781, 1423: 8798, 1424: 8807, 1425: 8865, 1426: 8910, 1427: 8914, 1428: 8917, 1429: 8930, 1430: 8948, 1431: 8949, 1432: 8950, 1433: 8957, 1434: 8958, 1435: 8961, 1436: 8970, 1437: 8972, 1438: 8974, 1439: 8984, 1440: 26131, 1441: 26152, 1442: 26587, 1443: 26729, 1444: 26810, 1445: 27020, 1446: 27478, 1447: 27660, 1448: 27773, 1449: 27821, 1450: 27846, 1451: 27904, 1452: 30810, 1453: 30812, 1454: 30825, 1455: 31685, 1456: 31696, 1457: 33004, 1458: 33154, 1459: 34048, 1460: 34072, 1461: 34150, 1462: 34319, 1463: 34334, 1464: 34405, 1465: 34542, 1466: 35957, 1467: 36517, 1468: 36529, 1469: 37386, 1470: 37729, 1471: 37741, 1472: 38061, 1473: 38886, 1474: 39292, 1475: 40815, 1476: 41997, 1477: 42718, 1478: 44195, 1479: 44199, 1480: 44555, 1481: 44597, 1482: 44665, 1483: 44761, 1484: 44788, 1485: 45186, 1486: 45447, 1487: 45499, 1488: 45517, 1489: 45666, 1490: 45672, 1491: 45720, 1492: 45722, 1493: 45728, 1494: 45950, 1495: 46530, 1496: 46578, 1497: 46723, 1498: 46970, 1499: 46972, 1500: 46976, 1501: 47610, 1502: 47999, 1503: 48043, 1504: 48082, 1505: 48394, 1506: 48774, 1507: 48780, 1508: 49272, 1509: 49278, 1510: 49286, 1511: 50851, 1512: 50872, 1513: 51080, 1514: 51255, 1515: 51540, 1516: 51662, 1517: 52245, 1518: 52328, 1519: 52604, 1520: 52722, 1521: 52973, 1522: 53322, 1523: 53464, 1524: 53894, 1525: 53972, 1526: 53996, 1527: 54001, 1528: 54272, 1529: 54372, 1530: 54503, 1531: 54881, 1532: 55247, 1533: 55269, 1534: 55276, 1535: 55442, 1536: 55765, 1537: 55820, 1538: 55830, 1539: 56174, 1540: 56367, 1541: 56563, 1542: 56775, 1543: 56782, 1544: 57368, 1545: 57640, 1546: 57669, 1547: 58025, 1548: 58998, 1549: 59126, 1550: 59315, 1551: 59369, 1552: 59519, 1553: 59615, 1554: 59784, 1555: 59900, 1556: 60037, 1557: 60040, 1558: 60069, 1559: 60072, 1560: 60074, 1561: 60126, 1562: 60295, 1563: 60684, 1564: 60766, 1565: 61024, 1566: 61132, 1567: 61323, 1568: 61394, 1569: 62374, 1570: 62434, 1571: 62511, 1572: 63082, 1573: 63113, 1574: 63131, 1575: 63859, 1576: 64620, 1577: 64839, 1578: 64957, 1579: 65642, 1580: 65802, 1581: 66097, 1582: 66130, 1583: 66203, 1584: 66596, 1585: 66665, 1586: 66934, 1587: 67087, 1588: 67193, 1589: 67665, 1590: 67734, 1591: 67997, 1592: 68157, 1593: 68159, 1594: 68237, 1595: 68319, 1596: 68324, 1597: 68358, 1598: 68791, 1599: 68793, 1600: 68954, 1601: 69122, 1602: 69306, 1603: 69406, 1604: 69436, 1605: 69481, 1606: 69524, 1607: 69526, 1608: 70286, 1609: 70293, 1610: 70336, 1611: 70697, 1612: 70862, 1613: 71264, 1614: 71282, 1615: 71462, 1616: 71464, 1617: 71535, 1618: 71838, 1619: 72011, 1620: 72226, 1621: 72378, 1622: 72998, 1623: 73017, 1624: 73344, 1625: 74458, 1626: 74649, 1627: 74795, 1628: 74851, 1629: 76077, 1630: 76093, 1631: 76251, 1632: 76293, 1633: 76738, 1634: 77364, 1635: 77561, 1636: 78209, 1637: 78469, 1638: 78574, 1639: 79057, 1640: 79185, 1641: 79242, 1642: 79293, 1643: 79428, 1644: 79695, 1645: 79702, 1646: 80126, 1647: 80185, 1648: 80463, 1649: 80862, 1650: 81191, 1651: 81229, 1652: 81591, 1653: 81782, 1654: 81845, 1655: 81847, 1656: 81932, 1657: 82461, 1658: 82854, 1659: 83270, 1660: 83293, 1661: 83349, 1662: 83613, 1663: 83827, 1664: 84152, 1665: 84374, 1666: 84392, 1667: 84954, 1668: 85414, 1669: 85774, 1670: 86190, 1671: 86332, 1672: 86644, 1673: 86781, 1674: 86833, 1675: 86882, 1676: 86898, 1677: 86911, 1678: 87222, 1679: 87232, 1680: 87304, 1681: 87306, 1682: 87430, 1683: 87485, 1684: 87520, 1685: 87869, 1686: 87930, 1687: 88140, 1688: 88163, 1689: 88356, 1690: 88744, 1691: 88950, 1692: 89090, 1693: 89337, 1694: 89470, 1695: 89492, 1696: 89745, 1697: 89840, 1698: 90249, 1699: 90266, 1700: 90428, 1701: 90439, 1702: 90531, 1703: 90600, 1704: 90603, 1705: 90647, 1706: 90746, 1707: 90866, 1708: 90870, 1709: 91505, 1710: 91535, 1711: 91542, 1712: 91630, 1713: 91653, 1714: 91658, 1715: 91842, 1716: 91869, 1717: 92420, 1718: 92507, 1719: 93326, 1720: 93510, 1721: 93721, 1722: 93831, 1723: 93840, 1724: 94015, 1725: 94018, 1726: 94478, 1727: 94677, 1728: 94777, 1729: 94780, 1730: 94833, 1731: 94864, 1732: 94959, 1733: 95105, 1734: 95167, 1735: 95199, 1736: 95311, 1737: 95443, 1738: 95510, 1739: 95558, 1740: 95875, 1741: 96150, 1742: 96488, 1743: 96610, 1744: 96667, 1745: 96737, 1746: 97304, 1747: 97393, 1748: 97866, 1749: 97913, 1750: 97923, 1751: 98122, 1752: 98154, 1753: 98809, 1754: 98961, 1755: 99007, 1756: 99112, 1757: 99114, 1758: 99149, 1759: 99468, 1760: 99811, 1761: 100032, 1762: 100083, 1763: 100365, 1764: 100383, 1765: 100517, 1766: 100556, 1767: 100581, 1768: 100714, 1769: 100745, 1770: 101076, 1771: 101112, 1772: 101362, 1773: 101864, 1774: 101895, 1775: 102123, 1776: 102125, 1777: 102445, 1778: 102800, 1779: 102880, 1780: 102903, 1781: 103042, 1782: 103228, 1783: 103249, 1784: 103253, 1785: 103372, 1786: 103810, 1787: 104211, 1788: 104241, 1789: 104272, 1790: 104726, 1791: 104879, 1792: 105504, 1793: 106072, 1794: 106111, 1795: 106332, 1796: 106489, 1797: 106782, 1798: 106916, 1799: 106920, 1800: 107348, 1801: 107406, 1802: 107910, 1803: 108188, 1804: 108190, 1805: 108689, 1806: 108729, 1807: 108932, 1808: 108945, 1809: 109187, 1810: 109374, 1811: 109487, 1812: 109673, 1813: 109687, 1814: 109848, 1815: 110102, 1816: 110127, 1817: 110553, 1818: 110730, 1819: 110771, 1820: 111228, 1821: 111360, 1822: 111362, 1823: 111364, 1824: 111443, 1825: 111622, 1826: 111759, 1827: 111781, 1828: 112138, 1829: 112171, 1830: 112183, 1831: 112370, 1832: 112552, 1833: 112556, 1834: 112623, 1835: 112788, 1836: 112852, 1837: 112940, 1838: 113345, 1839: 113348, 1840: 113378, 1841: 113741, 1842: 114180, 1843: 114635, 1844: 115149, 1845: 115502, 1846: 115569, 1847: 115617, 1848: 115713, 1849: 116161, 1850: 116797, 1851: 116799, 1852: 116823, 1853: 116897, 1854: 117176, 1855: 117529, 1856: 117533, 1857: 118696, 1858: 119141, 1859: 119145, 1860: 120466, 1861: 120799, 1862: 121171, 1863: 121231, 1864: 122882, 1865: 122886, 1866: 122890, 1867: 122892, 1868: 122900, 1869: 122902, 1870: 122904, 1871: 122920, 1872: 122924, 1873: 127136, 1874: 128360, 1875: 129937, 1876: 130452, 1877: 130490, 1878: 130576, 1879: 130634, 1880: 131013, 1881: 132046, 1882: 132480, 1883: 132796, 1884: 132961, 1885: 134130, 1886: 134368, 1887: 134393, 1888: 134853, 1889: 135133, 1890: 135436, 1891: 135567, 1892: 135569, 1893: 136020, 1894: 136562, 1895: 136864, 1896: 137337, 1897: 137857, 1898: 138036, 1899: 139385, 1900: 139644, 1901: 139757, 1902: 139855, 1903: 140110, 1904: 140174, 1905: 140267, 1906: 140711, 1907: 140928, 1908: 142488, 1909: 142507, 1910: 143385, 1911: 145839, 1912: 145935, 1913: 146656, 1914: 148626, 1915: 149352, 1916: 149354, 1917: 149406, 1918: 152057, 1919: 152077, 1920: 152079, 1921: 152081, 1922: 155820, 1923: 156607, 1924: 156609, 1925: 157200, 1926: 157296, 1927: 157667, 1928: 158238, 1929: 158528, 1930: 159093, 1931: 159690, 1932: 159755, 1933: 159858, 1934: 159972, 1935: 160080, 1936: 160271, 1937: 160563, 1938: 160565, 1939: 160567, 1940: 161155, 1941: 337, 1942: 4231, 1943: 4772, 1944: 29, 1945: 194, 1946: 348, 1947: 482, 1948: 492, 1949: 714, 1950: 928, 1951: 930, 1952: 942, 1953: 965, 1954: 1104, 1955: 1175, 1956: 1232, 1957: 1237, 1958: 1241, 1959: 1245, 1960: 1255, 1961: 1348, 1962: 1570, 1963: 1627, 1964: 1809, 1965: 2066, 1966: 2067, 1967: 2117, 1968: 2118, 1969: 2159, 1970: 2204, 1971: 2606, 1972: 2672, 1973: 2677, 1974: 2892, 1975: 3018, 1976: 3503, 1977: 3676, 1978: 4404, 1979: 4437, 1980: 4552, 1981: 4645, 1982: 4725, 1983: 5017, 1984: 5054, 1985: 5062, 1986: 5072, 1987: 5105, 1988: 5137, 1989: 5316, 1990: 5574, 1991: 5608, 1992: 5686, 1993: 5782, 1994: 5853, 1995: 5867, 1996: 5881, 1997: 5949, 1998: 6140, 1999: 6197, 2000: 6214, 2001: 6242, 2002: 6294, 2003: 6322, 2004: 6323, 2005: 6383, 2006: 6530, 2007: 6538, 2008: 6584, 2009: 6643, 2010: 6666, 2011: 6757, 2012: 6774, 2013: 6777, 2014: 6790, 2015: 6858, 2016: 6971, 2017: 6987, 2018: 6993, 2019: 7013, 2020: 7022, 2021: 7044, 2022: 7068, 2023: 7069, 2024: 7084, 2025: 7115, 2026: 7116, 2027: 7135, 2028: 7163, 2029: 7223, 2030: 7587, 2031: 7700, 2032: 7728, 2033: 7771, 2034: 7827, 2035: 7981, 2036: 7982, 2037: 7991, 2038: 8195, 2039: 8228, 2040: 8370, 2041: 8477, 2042: 8600, 2043: 8620, 2044: 8690, 2045: 8783, 2046: 8928, 2047: 8973, 2048: 8983, 2049: 27266, 2050: 27317, 2051: 27604, 2052: 27721, 2053: 27788, 2054: 27834, 2055: 31410, 2056: 31878, 2057: 31952, 2058: 33615, 2059: 33683, 2060: 34437, 2061: 7, 2062: 9, 2063: 18, 2064: 74, 2065: 76, 2066: 79, 2067: 81, 2068: 85, 2069: 86, 2070: 92, 2071: 100, 2072: 140, 2073: 376, 2074: 640, 2075: 653, 2076: 707, 2077: 719, 2078: 743, 2079: 765, 2080: 818, 2081: 849, 2082: 852, 2083: 880, 2084: 4, 2085: 23, 2086: 35, 2087: 42, 2088: 48, 2089: 57, 2090: 58, 2091: 63, 2092: 64, 2093: 89, 2094: 97, 2095: 105, 2096: 122, 2097: 154, 2098: 159, 2099: 166, 2100: 177, 2101: 179, 2102: 202, 2103: 206, 2104: 209, 2105: 229, 2106: 249, 2107: 262, 2108: 269, 2109: 276, 2110: 281, 2111: 283, 2112: 326, 2113: 328, 2114: 332, 2115: 334, 2116: 340, 2117: 346, 2118: 354, 2119: 361, 2120: 365, 2121: 366, 2122: 369, 2123: 379, 2124: 383, 2125: 407, 2126: 412, 2127: 423, 2128: 428, 2129: 445, 2130: 448, 2131: 450, 2132: 451, 2133: 456, 2134: 465, 2135: 475, 2136: 479, 2137: 491, 2138: 493, 2139: 501, 2140: 504, 2141: 507, 2142: 513, 2143: 517, 2144: 519, 2145: 522, 2146: 547, 2147: 580, 2148: 599, 2149: 612, 2150: 662, 2151: 703, 2152: 891, 2153: 898, 2154: 902, 2155: 915, 2156: 917, 2157: 929, 2158: 933, 2159: 940, 2160: 950, 2161: 951, 2162: 954, 2163: 955, 2164: 966, 2165: 968, 2166: 969, 2167: 982, 2168: 1013, 2169: 1019, 2170: 1023, 2171: 1042, 2172: 1082, 2173: 1086, 2174: 1090, 2175: 1091, 2176: 1103, 2177: 1124, 2178: 1126, 2179: 1128, 2180: 1130, 2181: 1161, 2182: 1185, 2183: 1216, 2184: 1227, 2185: 1238, 2186: 1253, 2187: 1261, 2188: 1268, 2189: 1269, 2190: 1274, 2191: 1286, 2192: 1292, 2193: 1299, 2194: 1306, 2195: 1321, 2196: 1327, 2197: 1336, 2198: 1345, 2199: 1347, 2200: 1350, 2201: 1354, 2202: 1381, 2203: 1382, 2204: 1389, 2205: 1441, 2206: 4970, 2207: 905, 2208: 1907, 2209: 1960, 2210: 2013, 2211: 2690, 2212: 3196, 2213: 3406, 2214: 5380, 2215: 5747, 2216: 6201, 2217: 6516, 2218: 6753, 2219: 7212, 2220: 7841, 2221: 8191, 2222: 8493, 2223: 8611, 2224: 26111, 2225: 31116, 2226: 32469, 2227: 38038, 2228: 47721, 2229: 51471, 2230: 54259, 2231: 58047, 2232: 58299, 2233: 64285, 2234: 181, 2235: 393, 2236: 553, 2237: 918, 2238: 921, 2239: 945, 2240: 948, 2241: 952, 2242: 1012, 2243: 1135, 2244: 1224, 2245: 1256, 2246: 1296, 2247: 1301, 2248: 1346, 2249: 1395, 2250: 1427, 2251: 315, 2252: 1641, 2253: 1693, 2254: 1769, 2255: 1799, 2256: 2301, 2257: 2402, 2258: 2431, 2259: 2459, 2260: 2953, 2261: 3213, 2262: 3355, 2263: 3438, 2264: 3697, 2265: 4105, 2266: 6286, 2267: 6541, 2268: 6893, 2269: 7360, 2270: 7454, 2271: 7482, 2272: 8947, 2273: 31184, 2274: 20, 2275: 24, 2276: 224, 2277: 236, 2278: 425, 2279: 532, 2280: 605, 2281: 668, 2282: 670, 2283: 841, 2284: 900, 2285: 949, 2286: 971, 2287: 1078, 2288: 1096, 2289: 1188, 2290: 1202, 2291: 1277, 2292: 1305, 2293: 1438, 2294: 1515, 2295: 1797, 2296: 1835, 2297: 1873, 2298: 1900, 2299: 1927, 2300: 1931, 2301: 1932, 2302: 1935, 2303: 1941, 2304: 1944, 2305: 1946, 2306: 1947, 2307: 1949, 2308: 1951, 2309: 1957, 2310: 1958, 2311: 1959, 2312: 2022, 2313: 2027, 2314: 2068, 2315: 2132, 2316: 2176, 2317: 2178, 2318: 2181, 2319: 2183, 2320: 2203, 2321: 2205, 2322: 2361, 2323: 2474, 2324: 2644, 2325: 2721, 2326: 2728, 2327: 2730, 2328: 2731, 2329: 2739, 2330: 2746, 2331: 2805, 2332: 2932, 2333: 2970, 2334: 3053, 2335: 3067, 2336: 3088, 2337: 3095, 2338: 3100, 2339: 3155, 2340: 3159, 2341: 3201, 2342: 3245, 2343: 3248, 2344: 3252, 2345: 3310, 2346: 3365, 2347: 3371, 2348: 3405, 2349: 3415, 2350: 3468, 2351: 3475, 2352: 3498, 2353: 3546, 2354: 3559, 2355: 3629, 2356: 3668, 2357: 3681, 2358: 3736, 2359: 3741, 2360: 3992, 2361: 4008, 2362: 4103, 2363: 4267, 2364: 4278, 2365: 4282, 2366: 4297, 2367: 4312, 2368: 4359, 2369: 4432, 2370: 4458, 2371: 4564, 2372: 4857, 2373: 4865, 2374: 4967, 2375: 4976, 2376: 4978, 2377: 5014, 2378: 5073, 2379: 5096, 2380: 5114, 2381: 5147, 2382: 5177, 2383: 5304, 2384: 5348, 2385: 5367, 2386: 5373, 2387: 5385, 2388: 5446, 2389: 5470, 2390: 5489, 2391: 5599, 2392: 5633, 2393: 5682, 2394: 5810, 2395: 5882, 2396: 5940, 2397: 5971, 2398: 5992, 2399: 6001, 2400: 6008, 2401: 6162, 2402: 6235, 2403: 6404, 2404: 6415, 2405: 6591, 2406: 6599, 2407: 6611, 2408: 6669, 2409: 6709, 2410: 6796, 2411: 6807, 2412: 6881, 2413: 6890, 2414: 6918, 2415: 6954, 2416: 6981, 2417: 6982, 2418: 6985, 2419: 7038, 2420: 7042, 2421: 7063, 2422: 7070, 2423: 7072, 2424: 7088, 2425: 7104, 2426: 7136, 2427: 7139, 2428: 7160, 2429: 7161, 2430: 7234, 2431: 7347, 2432: 7419, 2433: 7713, 2434: 7748, 2435: 7759, 2436: 7766, 2437: 7942, 2438: 8019, 2439: 8042, 2440: 8125, 2441: 8154, 2442: 8239, 2443: 8338, 2444: 8507, 2445: 8656, 2446: 8955, 2447: 8966, 2448: 25753, 2449: 25769, 2450: 25805, 2451: 26052, 2452: 26242, 2453: 27803, 2454: 30820, 2455: 31101, 2456: 31658, 2457: 32892, 2458: 33162, 2459: 33903, 2460: 34143, 2461: 34326, 2462: 36535, 2463: 37733, 2464: 37736, 2465: 39183, 2466: 39231, 2467: 39869, 2468: 40278, 2469: 40629, 2470: 41285, 2471: 41571, 2472: 41863, 2473: 42004, 2474: 42418, 2475: 42734, 2476: 44204, 2477: 1034, 2478: 78, 2479: 842, 2480: 1409, 2481: 69, 2482: 3744, 2483: 27376, 2484: 27831, 2485: 37731, 2486: 49530, 2487: 52952, 2488: 53129, 2489: 55118, 2490: 55167, 2491: 55280, 2492: 59387, 2493: 62849, 2494: 65514, 2495: 70533, 2496: 73587, 2497: 82459, 2498: 92259, 2499: 73, 2500: 1892, 2501: 2356, 2502: 1300, 2503: 1366, 2504: 2202, 2505: 2300, 2506: 2470, 2507: 2583, 2508: 2662, 2509: 1681, 2510: 2065, 2511: 2367, 2512: 2384, 2513: 2942, 2514: 3720, 2515: 5065, 2516: 27822, 2517: 73268, 2518: 8, 2519: 118, 2520: 203, 2521: 227, 2522: 228, 2523: 254, 2524: 368, 2525: 413, 2526: 419, 2527: 424, 2528: 426, 2529: 432, 2530: 459, 2531: 463, 2532: 472, 2533: 477, 2534: 518, 2535: 523, 2536: 581, 2537: 767, 2538: 782, 2539: 806, 2540: 869, 2541: 947, 2542: 996, 2543: 1006, 2544: 1010, 2545: 1017, 2546: 1018, 2547: 1025, 2548: 1081, 2549: 1114, 2550: 1181, 2551: 1226, 2552: 1352, 2553: 1390, 2554: 1399, 2555: 1422, 2556: 1440, 2557: 1461, 2558: 1488, 2559: 1508, 2560: 1523, 2561: 1566, 2562: 1588, 2563: 1598, 2564: 1614, 2565: 1620, 2566: 1624, 2567: 1672, 2568: 1686, 2569: 1701, 2570: 1711, 2571: 1726, 2572: 1783, 2573: 1785, 2574: 1791, 2575: 1798, 2576: 1864, 2577: 1943, 2578: 1965, 2579: 1982, 2580: 2009, 2581: 2015, 2582: 2024, 2583: 2070, 2584: 2082, 2585: 2083, 2586: 2088, 2587: 2112, 2588: 2116, 2589: 2120, 2590: 2121, 2591: 2122, 2592: 2136, 2593: 2146, 2594: 2148, 2595: 2166, 2596: 2184, 2597: 2188, 2598: 2236, 2599: 2240, 2600: 2245, 2601: 2247, 2602: 2252, 2603: 2253, 2604: 2255, 2605: 2264, 2606: 2267, 2607: 2286, 2608: 2296, 2609: 2307, 2610: 2320, 2611: 2346, 2612: 2347, 2613: 2352, 2614: 2374, 2615: 2376, 2616: 2389, 2617: 2398, 2618: 2411, 2619: 2412, 2620: 2417, 2621: 2418, 2622: 2420, 2623: 2432, 2624: 2433, 2625: 2435, 2626: 2457, 2627: 2463, 2628: 2468, 2629: 2517, 2630: 2518, 2631: 2520, 2632: 2521, 2633: 2523, 2634: 2524, 2635: 2530, 2636: 2531, 2637: 2532, 2638: 2533, 2639: 2535, 2640: 2561, 2641: 2577, 2642: 2611, 2643: 2639, 2644: 2641, 2645: 2642, 2646: 2664, 2647: 2687, 2648: 2688, 2649: 2738, 2650: 2741, 2651: 2749, 2652: 2750, 2653: 2757, 2654: 2782, 2655: 2787, 2656: 2790, 2657: 2793, 2658: 2794, 2659: 2802, 2660: 2829, 2661: 2851, 2662: 2852, 2663: 2856, 2664: 2875, 2665: 2883, 2666: 2917, 2667: 2929, 2668: 2944, 2669: 2950, 2670: 2956, 2671: 2966, 2672: 2967, 2673: 2971, 2674: 2977, 2675: 2989, 2676: 3015, 2677: 3032, 2678: 3035, 2679: 3038, 2680: 3063, 2681: 3068, 2682: 3072, 2683: 3074, 2684: 3087, 2685: 3098, 2686: 3102, 2687: 3105, 2688: 3111, 2689: 3120, 2690: 3130, 2691: 3138, 2692: 3141, 2693: 3144, 2694: 3156, 2695: 3167, 2696: 3197, 2697: 3198, 2698: 3204, 2699: 3206, 2700: 3218, 2701: 3244, 2702: 3247, 2703: 3249, 2704: 3257, 2705: 3258, 2706: 3269, 2707: 3274, 2708: 3296, 2709: 3308, 2710: 3334, 2711: 3359, 2712: 3360, 2713: 3363, 2714: 3370, 2715: 3385, 2716: 3391, 2717: 3394, 2718: 3395, 2719: 3420, 2720: 3426, 2721: 3428, 2722: 3441, 2723: 3445, 2724: 3451, 2725: 3478, 2726: 3483, 2727: 3494, 2728: 3500, 2729: 3506, 2730: 3507, 2731: 3513, 2732: 3524, 2733: 3526, 2734: 3528, 2735: 3529, 2736: 3537, 2737: 3545, 2738: 3548, 2739: 3549, 2740: 3551, 2741: 3557, 2742: 3608, 2743: 3613, 2744: 3614, 2745: 3649, 2746: 3684, 2747: 3685, 2748: 3686, 2749: 3688, 2750: 3701, 2751: 3702, 2752: 3704, 2753: 3712, 2754: 3713, 2755: 3724, 2756: 3734, 2757: 3804, 2758: 3812, 2759: 3834, 2760: 3859, 2761: 3927, 2762: 3957, 2763: 4002, 2764: 4009, 2765: 4012, 2766: 4039, 2767: 4041, 2768: 4060, 2769: 4062, 2770: 4063, 2771: 4086, 2772: 4088, 2773: 4090, 2774: 4102, 2775: 4111, 2776: 4122, 2777: 4126, 2778: 4128, 2779: 4132, 2780: 4146, 2781: 4190, 2782: 4211, 2783: 4214, 2784: 4228, 2785: 4263, 2786: 4276, 2787: 4280, 2788: 4291, 2789: 4292, 2790: 4316, 2791: 4318, 2792: 4326, 2793: 4333, 2794: 4345, 2795: 4352, 2796: 4354, 2797: 4396, 2798: 4406, 2799: 4409, 2800: 4464, 2801: 4465, 2802: 4474, 2803: 4482, 2804: 4486, 2805: 4487, 2806: 4488, 2807: 4491, 2808: 4495, 2809: 4496, 2810: 4498, 2811: 4499, 2812: 4503, 2813: 4522, 2814: 4524, 2815: 4526, 2816: 4528, 2817: 4557, 2818: 4570, 2819: 4573, 2820: 4608, 2821: 4615, 2822: 4617, 2823: 4627, 2824: 4628, 2825: 4629, 2826: 4661, 2827: 4681, 2828: 4709, 2829: 4710, 2830: 4714, 2831: 4733, 2832: 4751, 2833: 4787, 2834: 4803, 2835: 4815, 2836: 4830, 2837: 4832, 2838: 4835, 2839: 4889, 2840: 4898, 2841: 4929, 2842: 4932, 2843: 4941, 2844: 4951, 2845: 4954, 2846: 4960, 2847: 4971, 2848: 5027, 2849: 5043, 2850: 5049, 2851: 5061, 2852: 5111, 2853: 5122, 2854: 5125, 2855: 5127, 2856: 5152, 2857: 5161, 2858: 5172, 2859: 5187, 2860: 5193, 2861: 5198, 2862: 5208, 2863: 5214, 2864: 5237, 2865: 5247, 2866: 5250, 2867: 5276, 2868: 5277, 2869: 5297, 2870: 5303, 2871: 5307, 2872: 5309, 2873: 5334, 2874: 5335, 2875: 5344, 2876: 5359, 2877: 5366, 2878: 5382, 2879: 5452, 2880: 5471, 2881: 5506, 2882: 5534, 2883: 5544, 2884: 5548, 2885: 5561, 2886: 5564, 2887: 5581, 2888: 5655, 2889: 5670, 2890: 5680, 2891: 5689, 2892: 5694, 2893: 5696, 2894: 5699, 2895: 5703, 2896: 5705, 2897: 5707, 2898: 5712, 2899: 5723, 2900: 5729, 2901: 5732, 2902: 5742, 2903: 5745, 2904: 5773, 2905: 5812, 2906: 5843, 2907: 5846, 2908: 5847, 2909: 5854, 2910: 5857, 2911: 5859, 2912: 5869, 2913: 5900, 2914: 5923, 2915: 5926, 2916: 5927, 2917: 5933, 2918: 5938, 2919: 5960, 2920: 5961, 2921: 5962, 2922: 6027, 2923: 6084, 2924: 6096, 2925: 6101, 2926: 6103, 2927: 6115, 2928: 6127, 2929: 6186, 2930: 6212, 2931: 6233, 2932: 6234, 2933: 6237, 2934: 6238, 2935: 6240, 2936: 6263, 2937: 6308, 2938: 6318, 2939: 6345, 2940: 6413, 2941: 6419, 2942: 6422, 2943: 6436, 2944: 6452, 2945: 6473, 2946: 6565, 2947: 1416, 2948: 3698, 2949: 74789, 2950: 204, 2951: 420, 2952: 88, 2953: 1359, 2954: 1760, 2955: 1974, 2956: 1983, 2957: 1984, 2958: 2107, 2959: 2170, 2960: 2507, 2961: 2689, 2962: 2888, 2963: 2891, 2964: 3568, 2965: 3858, 2966: 4016, 2967: 4248, 2968: 4251, 2969: 4340, 2970: 4452, 2971: 4483, 2972: 4502, 2973: 4509, 2974: 4558, 2975: 4622, 2976: 4649, 2977: 4652, 2978: 4662, 2979: 4809, 2980: 4956, 2981: 4988, 2982: 5106, 2983: 5282, 2984: 5483, 2985: 678, 2986: 1340, 2987: 2338, 2988: 2527, 2989: 2553, 2990: 2863, 2991: 2901, 2992: 2921, 2993: 2951, 2994: 3062, 2995: 3066, 2996: 3467, 2997: 3508, 2998: 3703, 2999: 3706, 3000: 3727, 3001: 3811, 3002: 3917, 3003: 838, 3004: 41, 3005: 55, 3006: 68, 3007: 147, 3008: 242, 3009: 256, 3010: 312, 3011: 321, 3012: 381, 3013: 469, 3014: 521, 3015: 1150, 3016: 1367, 3017: 3357, 3018: 3564, 3019: 4054, 3020: 4069, 3021: 2075, 3022: 2092, 3023: 2131, 3024: 3677, 3025: 4114, 3026: 4422, 3027: 4862, 3028: 4936, 3029: 6107, 3030: 7089, 3031: 7396, 3032: 7936, 3033: 7941, 3034: 8197, 3035: 48682, 3036: 59447, 3037: 69761, 3038: 71180, 3039: 76111, 3040: 89759, 3041: 96829, 3042: 97826, 3043: 98587, 3044: 100843, 3045: 101070, 3046: 102753, 3047: 103980, 3048: 105197, 3049: 105355, 3050: 105769, 3051: 107555, 3052: 110586, 3053: 188, 3054: 220, 3055: 285, 3056: 330, 3057: 338, 3058: 606, 3059: 611, 3060: 127202, 3061: 130, 3062: 327, 3063: 986, 3064: 1037, 3065: 1437, 3066: 1545, 3067: 1591, 3068: 1772, 3069: 1880, 3070: 2322, 3071: 2522, 3072: 2536, 3073: 2808, 3074: 3479, 3075: 3593, 3076: 3699, 3077: 3802, 3078: 3937, 3079: 4443, 3080: 4553, 3081: 4625, 3082: 4691, 3083: 4789, 3084: 4811, 3085: 4874, 3086: 5490, 3087: 5518, 3088: 5522, 3089: 5981, 3090: 6116, 3091: 6264, 3092: 6316, 3093: 6645, 3094: 6678, 3095: 6725, 3096: 6951, 3097: 7001, 3098: 7060, 3099: 7164, 3100: 7817, 3101: 8371, 3102: 8499, 3103: 8633, 3104: 8861, 3105: 69844, 3106: 837, 3107: 1457, 3108: 1612, 3109: 1806, 3110: 1821, 3111: 2004, 3112: 2390, 3113: 2496, 3114: 2622, 3115: 2836, 3116: 2879, 3117: 2978, 3118: 3189, 3119: 3254, 3120: 3450, 3121: 3515, 3122: 3525, 3123: 135, 3124: 637, 3125: 7064, 3126: 26151, 3127: 1707, 3128: 2153, 3129: 2379, 3130: 2381, 3131: 2383, 3132: 8387, 3133: 59018, 3134: 98124, 3135: 741, 3136: 5146, 3137: 5570, 3138: 5690, 3139: 6223, 3140: 6291, 3141: 6350, 3142: 6857, 3143: 7099, 3144: 7235, 3145: 7256, 3146: 7382, 3147: 8132, 3148: 8157, 3149: 8906, 3150: 8907, 3151: 8965, 3152: 26662, 3153: 26776, 3154: 27156, 3155: 27523, 3156: 27713, 3157: 27722, 3158: 27731, 3159: 27800, 3160: 27801, 3161: 27838, 3162: 27850, 3163: 27878, 3164: 30867, 3165: 31435, 3166: 32031, 3167: 32554, 3168: 32562, 3169: 34323, 3170: 36276, 3171: 37830, 3172: 41769, 3173: 42723, 3174: 44022, 3175: 44397, 3176: 44633, 3177: 44828, 3178: 44974, 3179: 45431, 3180: 46948, 3181: 47099, 3182: 47124, 3183: 47404, 3184: 48414, 3185: 48982, 3186: 48997, 3187: 50583, 3188: 50601, 3189: 52281, 3190: 52287, 3191: 52319, 3192: 52458, 3193: 53121, 3194: 53326, 3195: 53460, 3196: 53519, 3197: 53883, 3198: 54995, 3199: 55444, 3200: 55768, 3201: 55814, 3202: 55908, 3203: 55995, 3204: 56069, 3205: 56095, 3206: 56145, 3207: 56339, 3208: 56607, 3209: 56757, 3210: 56908, 3211: 57274, 3212: 57453, 3213: 57504, 3214: 57980, 3215: 58347, 3216: 58554, 3217: 59118, 3218: 59141, 3219: 59684, 3220: 60161, 3221: 60291, 3222: 60763, 3223: 61240, 3224: 62203, 3225: 62250, 3226: 62956, 3227: 62999, 3228: 63808, 3229: 64575, 3230: 64716, 3231: 64969, 3232: 64983, 3233: 64993, 3234: 65037, 3235: 65261, 3236: 66371, 3237: 67197, 3238: 67255, 3239: 67408, 3240: 68945, 3241: 69644, 3242: 69712, 3243: 70159, 3244: 70567, 3245: 71033, 3246: 71057, 3247: 71379, 3248: 71468, 3249: 71520, 3250: 71579, 3251: 71899, 3252: 72104, 3253: 72209, 3254: 72393, 3255: 72731, 3256: 72741, 3257: 73321, 3258: 73392, 3259: 73664, 3260: 73881, 3261: 74228, 3262: 74677, 3263: 76173, 3264: 77307, 3265: 77427, 3266: 77837, 3267: 79029, 3268: 79091, 3269: 79357, 3270: 79868, 3271: 80586, 3272: 80831, 3273: 81018, 3274: 81564, 3275: 82667, 3276: 83132, 3277: 83134, 3278: 83803, 3279: 84187, 3280: 84772, 3281: 84944, 3282: 84952, 3283: 85412, 3284: 85510, 3285: 85736, 3286: 85788, 3287: 85796, 3288: 86298, 3289: 86347, 3290: 86721, 3291: 89837, 3292: 90469, 3293: 91414, 3294: 92058, 3295: 93272, 3296: 93838, 3297: 95375, 3298: 95543, 3299: 95858, 3300: 96281, 3301: 96606, 3302: 96821, 3303: 97188, 3304: 97225, 3305: 97752, 3306: 97921, 3307: 97957, 3308: 98056, 3309: 98243, 3310: 99145, 3311: 101142, 3312: 103299, 3313: 103335, 3314: 103688, 3315: 106002, 3316: 106204, 3317: 106696, 3318: 107769, 3319: 107953, 3320: 109578, 3321: 109846, 3322: 109850, 3323: 110501, 3324: 110591, 3325: 110655, 3326: 111659, 3327: 112175, 3328: 112515, 3329: 114935, 3330: 115534, 3331: 115624, 3332: 258, 3333: 303, 3334: 421, 3335: 688, 3336: 897, 3337: 976, 3338: 1085, 3339: 2287, 3340: 2414, 3341: 2430, 3342: 2471, 3343: 2537, 3344: 2669, 3345: 2748, 3346: 2815, 3347: 2816, 3348: 2817, 3349: 2941, 3350: 3412, 3351: 3417, 3352: 3519, 3353: 3628, 3354: 3643, 3355: 3836, 3356: 3959, 3357: 4042, 3358: 4047, 3359: 1636, 3360: 1888, 3361: 1948, 3362: 2670, 3363: 461, 3364: 1969, 3365: 2408, 3366: 2806, 3367: 5525, 3368: 6058, 3369: 6370, 3370: 6776, 3371: 7615, 3372: 8918, 3373: 31408, 3374: 37727, 3375: 43744, 3376: 51094, 3377: 52545, 3378: 55451, 3379: 60950, 3380: 238, 3381: 392, 3382: 484, 3383: 1911, 3384: 1995, 3385: 2093, 3386: 2368, 3387: 3178, 3388: 3434, 3389: 3906, 3390: 4467, 3391: 26160, 3392: 26294, 3393: 44197, 3394: 48660, 3395: 56941, 3396: 58803, 3397: 69640, 3398: 77846, 3399: 91355, 3400: 96655, 3401: 65, 3402: 609, 3403: 761, 3404: 250, 3405: 2052, 3406: 3079, 3407: 3086, 3408: 3268, 3409: 3480, 3410: 3606, 3411: 3653, 3412: 3972, 3413: 4091, 3414: 4771, 3415: 5103, 3416: 5401, 3417: 5785, 3418: 5970, 3419: 6618, 3420: 6732, 3421: 7018, 3422: 7036, 3423: 7263, 3424: 26084, 3425: 26471, 3426: 27253, 3427: 32598, 3428: 33495, 3429: 33660, 3430: 33880, 3431: 34528, 3432: 48322, 3433: 48698, 3434: 50514, 3435: 52435, 3436: 53123, 3437: 53125, 3438: 54256, 3439: 55052, 3440: 55805, 3441: 56333, 3442: 57532, 3443: 60756, 3444: 65188, 3445: 70728, 3446: 71466, 3447: 72171, 3448: 72720, 3449: 73023, 3450: 74275, 3451: 74416, 3452: 74754, 3453: 74916, 3454: 79592, 3455: 79677, 3456: 80549, 3457: 81156, 3458: 83086, 3459: 83976, 3460: 84116, 3461: 85438, 3462: 86000, 3463: 86884, 3464: 87522, 3465: 88810, 3466: 88812, 3467: 90374, 3468: 90376, 3469: 90947, 3470: 91199, 3471: 93270, 3472: 93422, 3473: 93443, 3474: 93512, 3475: 94896, 3476: 95088, 3477: 95441, 3478: 96110, 3479: 96467, 3480: 96728, 3481: 96911, 3482: 97306, 3483: 97836, 3484: 99117, 3485: 99764, 3486: 99917, 3487: 100272, 3488: 101577, 3489: 102993, 3490: 103141, 3491: 103279, 3492: 103624, 3493: 104944, 3494: 105429, 3495: 105715, 3496: 105844, 3497: 106062, 3498: 106100, 3499: 106144, 3500: 106438, 3501: 107141, 3502: 107978, 3503: 108156, 3504: 110461, 3505: 111617, 3506: 112421, 3507: 113064, 3508: 113453, 3509: 113705, 3510: 113829, 3511: 113862, 3512: 114074, 3513: 114342, 3514: 127108, 3515: 127152, 3516: 127198, 3517: 127206, 3518: 128620, 3519: 131168, 3520: 133771, 3521: 134170, 3522: 139116, 3523: 140715, 3524: 141890, 3525: 142422, 3526: 148881, 3527: 155392, 3528: 160590, 3529: 635, 3530: 728, 3531: 1007, 3532: 1009, 3533: 1323, 3534: 1326, 3535: 1587, 3536: 1975, 3537: 1977, 3538: 1978, 3539: 1979, 3540: 1981, 3541: 1987, 3542: 1996, 3543: 2037, 3544: 2044, 3545: 2097, 3546: 2111, 3547: 2130, 3548: 2163, 3549: 415, 3550: 999, 3551: 1021, 3552: 2016, 3553: 2180, 3554: 2475, 3555: 2792, 3556: 2846, 3557: 3070, 3558: 3153, 3559: 3672, 3560: 3710, 3561: 7040, 3562: 26695, 3563: 34153, 3564: 3726, 3565: 7387, 3566: 8981, 3567: 801, 3568: 2123, 3569: 5693, 3570: 6743, 3571: 8544, 3572: 27706, 3573: 55566, 3574: 56030, 3575: 56171, 3576: 101947, 3577: 104374, 3578: 112290, 3579: 114662, 3580: 120637, 3581: 160438, 3582: 1015, 3583: 1105, 3584: 1474, 3585: 2393, 3586: 4846, 3587: 7318, 3588: 2456, 3589: 12, 3590: 28, 3591: 43, 3592: 279, 3593: 280, 3594: 294, 3595: 452, 3596: 613, 3597: 631, 3598: 650, 3599: 664, 3600: 694, 3601: 709, 3602: 711, 3603: 934, 3604: 2469, 3605: 2779, 3606: 4187, 3607: 6297, 3608: 26025, 3609: 26562, 3610: 31374, 3611: 45668, 3612: 374, 3613: 2059, 3614: 3821, 3615: 4254, 3616: 68554, 3617: 61, 3618: 667, 3619: 704, 3620: 810, 3621: 839, 3622: 3125, 3623: 3422, 3624: 3920, 3625: 3925, 3626: 3930, 3627: 3932, 3628: 3963, 3629: 3965, 3630: 3966, 3631: 53000, 3632: 54997, 3633: 15, 3634: 98, 3635: 239, 3636: 352, 3637: 409, 3638: 502, 3639: 510, 3640: 514, 3641: 575, 3642: 742, 3643: 1049, 3644: 1456, 3645: 1590, 3646: 1595, 3647: 1599, 3648: 1603, 3649: 1762, 3650: 1826, 3651: 1840, 3652: 1916, 3653: 1920, 3654: 1991, 3655: 2089, 3656: 2090, 3657: 2138, 3658: 2142, 3659: 2164, 3660: 2195, 3661: 2305, 3662: 2315, 3663: 2327, 3664: 2335, 3665: 2404, 3666: 2421, 3667: 2422, 3668: 2429, 3669: 2451, 3670: 2495, 3671: 2555, 3672: 2582, 3673: 2798, 3674: 2860, 3675: 2862, 3676: 2900, 3677: 2924, 3678: 2948, 3679: 2974, 3680: 3013, 3681: 3036, 3682: 3439, 3683: 3440, 3684: 3554, 3685: 3573, 3686: 3574, 3687: 3581, 3688: 3687, 3689: 3696, 3690: 3740, 3691: 3761, 3692: 3843, 3693: 3950, 3694: 3955, 3695: 3961, 3696: 3962, 3697: 3970, 3698: 4135, 3699: 4255, 3700: 4275, 3701: 4415, 3702: 4438, 3703: 4441, 3704: 4444, 3705: 4454, 3706: 4519, 3707: 4533, 3708: 4577, 3709: 4614, 3710: 4618, 3711: 4619, 3712: 4624, 3713: 4697, 3714: 4775, 3715: 4800, 3716: 4855, 3717: 4899, 3718: 4915, 3719: 4980, 3720: 4987, 3721: 4989, 3722: 5025, 3723: 5040, 3724: 5055, 3725: 5094, 3726: 5139, 3727: 5151, 3728: 5159, 3729: 5165, 3730: 5205, 3731: 5210, 3732: 5244, 3733: 5294, 3734: 5329, 3735: 5540, 3736: 5572, 3737: 5585, 3738: 5621, 3739: 5666, 3740: 5691, 3741: 5734, 3742: 5735, 3743: 5736, 3744: 5737, 3745: 5746, 3746: 5942, 3747: 5943, 3748: 5955, 3749: 6156, 3750: 6213, 3751: 6298, 3752: 6338, 3753: 6379, 3754: 6548, 3755: 6559, 3756: 6564, 3757: 6566, 3758: 6582, 3759: 6595, 3760: 6602, 3761: 6615, 3762: 6659, 3763: 6664, 3764: 6695, 3765: 6707, 3766: 6731, 3767: 6755, 3768: 6803, 3769: 6887, 3770: 6888, 3771: 6902, 3772: 6952, 3773: 6977, 3774: 7007, 3775: 7045, 3776: 7046, 3777: 7117, 3778: 7137, 3779: 7285, 3780: 7308, 3781: 7324, 3782: 7367, 3783: 7411, 3784: 7481, 3785: 7701, 3786: 7743, 3787: 7802, 3788: 7842, 3789: 7844, 3790: 7845, 3791: 7846, 3792: 7915, 3793: 7976, 3794: 7984, 3795: 7987, 3796: 8131, 3797: 8340, 3798: 8363, 3799: 8372, 3800: 8373, 3801: 8526, 3802: 8640, 3803: 8810, 3804: 8811, 3805: 8854, 3806: 8859, 3807: 25962, 3808: 26258, 3809: 26403, 3810: 26480, 3811: 26547, 3812: 26585, 3813: 26603, 3814: 26606, 3815: 26684, 3816: 26704, 3817: 26736, 3818: 26842, 3819: 27002, 3820: 27022, 3821: 27032, 3822: 27109, 3823: 27555, 3824: 27611, 3825: 27646, 3826: 27704, 3827: 27772, 3828: 27778, 3829: 27793, 3830: 27808, 3831: 31150, 3832: 31225, 3833: 31290, 3834: 31422, 3835: 31431, 3836: 32352, 3837: 32387, 3838: 32596, 3839: 33164, 3840: 33171, 3841: 33834, 3842: 34530, 3843: 36519, 3844: 36708, 3845: 39381, 3846: 39446, 3847: 40574, 3848: 40732, 3849: 42011, 3850: 42725, 3851: 43838, 3852: 43919, 3853: 43921, 3854: 43936, 3855: 44245, 3856: 44972, 3857: 45183, 3858: 45506, 3859: 45726, 3860: 46322, 3861: 46335, 3862: 46337, 3863: 46865, 3864: 46965, 3865: 47200, 3866: 47640, 3867: 47815, 3868: 47997, 3869: 48304, 3870: 48591, 3871: 48696, 3872: 48744, 3873: 48877, 3874: 49526, 3875: 49528, 3876: 49649, 3877: 49651, 3878: 49817, 3879: 50641, 3880: 50651, 3881: 50794, 3882: 50798, 3883: 50806, 3884: 51277, 3885: 51931, 3886: 51937, 3887: 52462, 3888: 53318, 3889: 53468, 3890: 53550, 3891: 54190, 3892: 54290, 3893: 54331, 3894: 54648, 3895: 54745, 3896: 55094, 3897: 55207, 3898: 55232, 3899: 55245, 3900: 55290, 3901: 55577, 3902: 55721, 3903: 56003, 3904: 56251, 3905: 56587, 3906: 56801, 3907: 57528, 3908: 58146, 3909: 58293, 3910: 58301, 3911: 58315, 3912: 58351, 3913: 58627, 3914: 58975, 3915: 59014, 3916: 59022, 3917: 59995, 3918: 60293, 3919: 60487, 3920: 60609, 3921: 60753, 3922: 61248, 3923: 61348, 3924: 62394, 3925: 62801, 3926: 62912, 3927: 63072, 3928: 63540, 3929: 63826, 3930: 63876, 3931: 63992, 3932: 64197, 3933: 64508, 3934: 64900, 3935: 65126, 3936: 65310, 3937: 65982, 3938: 66066, 3939: 66090, 3940: 66297, 3941: 66335, 3942: 67252, 3943: 67695, 3944: 67923, 3945: 68073, 3946: 68444, 3947: 68901, 3948: 68952, 3949: 68959, 3950: 68965, 3951: 69685, 3952: 69746, 3953: 70465, 3954: 70946, 3955: 71106, 3956: 71135, 3957: 71248, 3958: 71429, 3959: 71533, 3960: 71745, 3961: 72603, 3962: 72641, 3963: 72733, 3964: 73759, 3965: 74545, 3966: 74944, 3967: 74948, 3968: 75813, 3969: 76060, 3970: 76272, 3971: 77800, 3972: 77866, 3973: 78266, 3974: 78349, 3975: 78772, 3976: 79008, 3977: 79251, 3978: 79274, 3979: 79553, 3980: 79720, 3981: 79879, 3982: 80083, 3983: 80219, 3984: 80693, 3985: 80846, 3986: 81083, 3987: 81660, 3988: 81788, 3989: 82041, 3990: 82527, 3991: 85342, 3992: 85401, 3993: 85881, 3994: 86142, 3995: 87192, 3996: 87234, 3997: 87298, 3998: 88118, 3999: 89039, 4000: 89085, 4001: 89343, 4002: 89774, 4003: 89864, 4004: 90430, 4005: 91485, 4006: 91976, 4007: 92309, 4008: 93320, 4009: 93855, 4010: 94070, 4011: 95147, 4012: 95165, 4013: 95182, 4014: 95473, 4015: 95475, 4016: 95499, 4017: 95780, 4018: 95782, 4019: 95963, 4020: 95965, 4021: 96004, 4022: 96007, 4023: 96432, 4024: 96588, 4025: 96811, 4026: 97860, 4027: 98607, 4028: 98829, 4029: 99728, 4030: 100159, 4031: 101525, 4032: 102033, 4033: 102194, 4034: 102252, 4035: 102407, 4036: 102716, 4037: 103048, 4038: 103384, 4039: 103772, 4040: 104913, 4041: 105213, 4042: 106022, 4043: 106491, 4044: 106918, 4045: 107069, 4046: 107999, 4047: 108090, 4048: 108583, 4049: 108981, 4050: 109074, 4051: 109895, 4052: 110348, 4053: 110882, 4054: 111624, 4055: 111921, 4056: 112818, 4057: 113252, 4058: 113573, 4059: 114060, 4060: 114670, 4061: 115122, 4062: 115216, 4063: 115877, 4064: 115881, 4065: 116397, 4066: 117123, 4067: 118082, 4068: 126006, 4069: 130642, 4070: 130682, 4071: 135887, 4072: 139130, 4073: 141718, 4074: 141866, 4075: 152091, 4076: 152844, 4077: 156726, 4078: 159462, 4079: 161594, 4080: 162376, 4081: 2106, 4082: 2549, 4083: 4799, 4084: 8985, 4085: 42002, 4086: 44694, 4087: 2275, 4088: 2450, 4089: 3264, 4090: 3397, 4091: 3398, 4092: 4040, 4093: 4092, 4094: 6093, 4095: 6305, 4096: 6662, 4097: 6811, 4098: 7236, 4099: 7649, 4100: 7708, 4101: 7810, 4102: 7811, 4103: 7812, 4104: 8537, 4105: 26492, 4106: 26700, 4107: 27685, 4108: 31221, 4109: 37857, 4110: 47423, 4111: 47518, 4112: 1586, 4113: 2297, 4114: 3908, 4115: 5784, 4116: 6793, 4117: 7566, 4118: 26712, 4119: 38499, 4120: 43679, 4121: 50658, 4122: 50740, 4123: 50742, 4124: 51935, 4125: 52767, 4126: 65130, 4127: 70678, 4128: 97673, 4129: 42738, 4130: 45081, 4131: 46, 4132: 93, 4133: 156, 4134: 191, 4135: 783, 4136: 190, 4137: 495, 4138: 872, 4139: 1132, 4140: 1913, 4141: 2673, 4142: 3637, 4143: 3814, 4144: 4334, 4145: 4470, 4146: 4928, 4147: 5028, 4148: 5530, 4149: 5668, 4150: 6123, 4151: 6301, 4152: 6509, 4153: 7172, 4154: 7460, 4155: 7564, 4156: 7574, 4157: 7786, 4158: 7820, 4159: 7938, 4160: 7979, 4161: 8014, 4162: 8199, 4163: 8327, 4164: 8367, 4165: 8485, 4166: 26150, 4167: 26228, 4168: 26318, 4169: 26326, 4170: 26578, 4171: 31437, 4172: 31524, 4173: 31930, 4174: 40491, 4175: 43899, 4176: 45000, 4177: 47274, 4178: 48165, 4179: 52528, 4180: 52617, 4181: 52885, 4182: 53447, 4183: 58425, 4184: 61206, 4185: 64701, 4186: 68137, 4187: 68967, 4188: 69516, 4189: 71108, 4190: 71438, 4191: 78836, 4192: 81054, 4193: 81786, 4194: 205, 4195: 351, 4196: 2155, 4197: 2359, 4198: 3022, 4199: 3037, 4200: 4174, 4201: 4688, 4202: 5602, 4203: 3980, 4204: 33646, 4205: 234, 4206: 255, 4207: 275, 4208: 291, 4209: 437, 4210: 546, 4211: 548, 4212: 30, 4213: 72, 4214: 116, 4215: 121, 4216: 124, 4217: 171, 4218: 178, 4219: 213, 4220: 218, 4221: 263, 4222: 287, 4223: 290, 4224: 299, 4225: 302, 4226: 305, 4227: 324, 4228: 331, 4229: 427, 4230: 444, 4231: 446, 4232: 568, 4233: 633, 4234: 753, 4235: 756, 4236: 766, 4237: 828, 4238: 830, 4239: 844, 4240: 892, 4241: 1046, 4242: 1163, 4243: 2962, 4244: 51705, 4245: 52668, 4246: 62344, 4247: 63515, 4248: 66198, 4249: 67799, 4250: 1351, 4251: 1472, 4252: 1554, 4253: 747, 4254: 2380, 4255: 2382, 4256: 3387, 4257: 4084, 4258: 6482, 4259: 6550, 4260: 6763, 4261: 43836, 4262: 52694, 4263: 54732, 4264: 66798, 4265: 78041, 4266: 82852, 4267: 94466, 4268: 96616, 4269: 103341, 4270: 103883, 4271: 104218, 4272: 116977, 4273: 132157, 4274: 455, 4275: 27790, 4276: 54328, 4277: 84304, 4278: 40414, 4279: 48738, 4280: 58706, 4281: 63062, 4282: 64622, 4283: 174, 4284: 360, 4285: 879, 4286: 1322, 4287: 1330, 4288: 1655, 4289: 1970, 4290: 1971, 4291: 1972, 4292: 1973, 4293: 1985, 4294: 1988, 4295: 2026, 4296: 2069, 4297: 2113, 4298: 2119, 4299: 2149, 4300: 2279, 4301: 2443, 4302: 2445, 4303: 2461, 4304: 2462, 4305: 2465, 4306: 2485, 4307: 2789, 4308: 2868, 4309: 2928, 4310: 3017, 4311: 3024, 4312: 3051, 4313: 3203, 4314: 3660, 4315: 3693, 4316: 3709, 4317: 3764, 4318: 3840, 4319: 3877, 4320: 3918, 4321: 4081, 4322: 4124, 4323: 4140, 4324: 4205, 4325: 4213, 4326: 4222, 4327: 4266, 4328: 4480, 4329: 4490, 4330: 4501, 4331: 4516, 4332: 4520, 4333: 4560, 4334: 4561, 4335: 4636, 4336: 4670, 4337: 4682, 4338: 4949, 4339: 5080, 4340: 5203, 4341: 5292, 4342: 5342, 4343: 5343, 4344: 2208, 4345: 3739, 4346: 6254, 4347: 6273, 4348: 7056, 4349: 7831, 4350: 8094, 4351: 8128, 4352: 8629, 4353: 8765, 4354: 25850, 4355: 25868, 4356: 25947, 4357: 30712, 4358: 32525, 4359: 47202, 4360: 7081, 4361: 7154, 4362: 8522, 4363: 8969, 4364: 25801, 4365: 56949, 4366: 64034, 4367: 148888, 4368: 149830, 4369: 156025, 4370: 1014, 4371: 1083, 4372: 1619, 4373: 1670, 4374: 1937, 4375: 2099, 4376: 2135, 4377: 2436, 4378: 2442, 4379: 2565, 4380: 2801, 4381: 3186, 4382: 26701, 4383: 56921, 4384: 37, 4385: 117, 4386: 417, 4387: 506, 4388: 927, 4389: 973, 4390: 1057, 4391: 1192, 4392: 1273, 4393: 1279, 4394: 1341, 4395: 1384, 4396: 1420, 4397: 1516, 4398: 1535, 4399: 1594, 4400: 1648, 4401: 1734, 4402: 1788, 4403: 1841, 4404: 1856, 4405: 1924, 4406: 1929, 4407: 1939, 4408: 1966, 4409: 1999, 4410: 2043, 4411: 2137, 4412: 2219, 4413: 2227, 4414: 2290, 4415: 2312, 4416: 2345, 4417: 2362, 4418: 2397, 4419: 2453, 4420: 2548, 4421: 2725, 4422: 2747, 4423: 2764, 4424: 2784, 4425: 2820, 4426: 2844, 4427: 2859, 4428: 2866, 4429: 2919, 4430: 2920, 4431: 2922, 4432: 3011, 4433: 3061, 4434: 3093, 4435: 3145, 4436: 3163, 4437: 3223, 4438: 3224, 4439: 3327, 4440: 3329, 4441: 3342, 4442: 3350, 4443: 3469, 4444: 3511, 4445: 3521, 4446: 3544, 4447: 3547, 4448: 3550, 4449: 3565, 4450: 3588, 4451: 3590, 4452: 3591, 4453: 3609, 4454: 3655, 4455: 3675, 4456: 3678, 4457: 3679, 4458: 3680, 4459: 3700, 4460: 3708, 4461: 3729, 4462: 3733, 4463: 71, 4464: 4475, 4465: 5700, 4466: 6996, 4467: 8093, 4468: 5628, 4469: 65682, 4470: 84844, 4471: 129354, 4472: 458, 4473: 1187, 4474: 1392, 4475: 1480, 4476: 1727, 4477: 1801, 4478: 1846, 4479: 3127, 4480: 3271, 4481: 3584, 4482: 3682, 4483: 3946, 4484: 4203, 4485: 4218, 4486: 4234, 4487: 4407, 4488: 4479, 4489: 4572, 4490: 4673, 4491: 4837, 4492: 5003, 4493: 5180, 4494: 5302, 4495: 5447, 4496: 6104, 4497: 6125, 4498: 6344, 4499: 6898, 4500: 6997, 4501: 7005, 4502: 7017, 4503: 7149, 4504: 7193, 4505: 7272, 4506: 7836, 4507: 1992, 4508: 5422, 4509: 7773, 4510: 39408, 4511: 39416, 4512: 44731, 4513: 51086, 4514: 54281, 4515: 59306, 4516: 132, 4517: 257, 4518: 378, 4519: 489, 4520: 542, 4521: 932, 4522: 1460, 4523: 1593, 4524: 1658, 4525: 1688, 4526: 1804, 4527: 1863, 4528: 2330, 4529: 2558, 4530: 2563, 4531: 3270, 4532: 3835, 4533: 4130, 4534: 4219, 4535: 4221, 4536: 4304, 4537: 4357, 4538: 4545, 4539: 4600, 4540: 4677, 4541: 4757, 4542: 5255, 4543: 5438, 4544: 5505, 4545: 5829, 4546: 6183, 4547: 6375, 4548: 6480, 4549: 6638, 4550: 6744, 4551: 6850, 4552: 6974, 4553: 7101, 4554: 7255, 4555: 8709, 4556: 2719, 4557: 43396, 4558: 47148, 4559: 50685, 4560: 89804, 4561: 1683, 4562: 2349, 4563: 2613, 4564: 3200, 4565: 3615, 4566: 3725, 4567: 3732, 4568: 3738, 4569: 3760, 4570: 3769, 4571: 3789, 4572: 3806, 4573: 3810, 4574: 3816, 4575: 443, 4576: 870, 4577: 881, 4578: 943, 4579: 1063, 4580: 1112, 4581: 1317, 4582: 1379, 4583: 1429, 4584: 1518, 4585: 1564, 4586: 1606, 4587: 1613, 4588: 1646, 4589: 1678, 4590: 1702, 4591: 1713, 4592: 1824, 4593: 1833, 4594: 1848, 4595: 1852, 4596: 1866, 4597: 1885, 4598: 1894, 4599: 2053, 4600: 2071, 4601: 2101, 4602: 2104, 4603: 2306, 4604: 2337, 4605: 2365, 4606: 2373, 4607: 2375, 4608: 2425, 4609: 2440, 4610: 2498, 4611: 2587, 4612: 2590, 4613: 2660, 4614: 2828, 4615: 3099, 4616: 3194, 4617: 3330, 4618: 3379, 4619: 3388, 4620: 3414, 4621: 3457, 4622: 3490, 4623: 3563, 4624: 3654, 4625: 3889, 4626: 3895, 4627: 3926, 4628: 3928, 4629: 3929, 4630: 4106, 4631: 4139, 4632: 4179, 4633: 4186, 4634: 4195, 4635: 2416, 4636: 4220, 4637: 7616, 4638: 1976, 4639: 3857, 4640: 4492, 4641: 4493, 4642: 37475, 4643: 66659, 4644: 217, 4645: 313, 4646: 516, 4647: 558, 4648: 1064, 4649: 1487, 4650: 1667, 4651: 2017, 4652: 2162, 4653: 2316, 4654: 2385, 4655: 2540, 4656: 2620, 4657: 2906, 4658: 3299, 4659: 3400, 4660: 3553, 4661: 3594, 4662: 3743, 4663: 3824, 4664: 3953, 4665: 3978, 4666: 4155, 4667: 4699, 4668: 4745, 4669: 4756, 4670: 4814, 4671: 4821, 4672: 4867, 4673: 4977, 4674: 5108, 4675: 5164, 4676: 5312, 4677: 5387, 4678: 5415, 4679: 5612, 4680: 5677, 4681: 3616, 4682: 3691, 4683: 2151, 4684: 2745, 4685: 5016, 4686: 6768, 4687: 6782, 4688: 6791, 4689: 7247, 4690: 8169, 4691: 8580, 4692: 8879, 4693: 40959, 4694: 3991, 4695: 4031, 4696: 1111, 4697: 2843, 4698: 3456, 4699: 4964, 4700: 6211, 4701: 6571, 4702: 7349, 4703: 8012, 4704: 27178, 4705: 27255, 4706: 27727, 4707: 39768, 4708: 41527, 4709: 42935, 4710: 53189, 4711: 55555, 4712: 56274, 4713: 57243, 4714: 57792, 4715: 67267, 4716: 74486, 4717: 6724, 4718: 40870, 4719: 43376, 4720: 63853, 4721: 72395, 4722: 73290, 4723: 80969, 4724: 85612, 4725: 86880, 4726: 102792, 4727: 106441, 4728: 107559, 4729: 116939, 4730: 2492, 4731: 2504, 4732: 4427, 4733: 4833, 4734: 27751, 4735: 53953, 4736: 62049, 4737: 68135, 4738: 74324, 4739: 97757, 4740: 27, 4741: 102, 4742: 754, 4743: 1099, 4744: 6535, 4745: 6663, 4746: 6794, 4747: 34332, 4748: 1537, 4749: 77658, 4750: 89904, 4751: 4290, 4752: 4394, 4753: 4532, 4754: 5360, 4755: 97895, 4756: 103801, 4757: 106540, 4758: 2262, 4759: 4686, 4760: 4784, 4761: 4834, 4762: 39414, 4763: 59945, 4764: 66915, 4765: 71102, 4766: 71460, 4767: 1665, 4768: 5944, 4769: 6170, 4770: 6195, 4771: 6269, 4772: 6561, 4773: 4755, 4774: 7316, 4775: 7380, 4776: 56152, 4777: 61071, 4778: 65193, 4779: 86377, 4780: 90061, 4781: 92535, 4782: 100034, 4783: 103539, 4784: 104069, 4785: 117444, 4786: 544, 4787: 809, 4788: 829, 4789: 1005, 4790: 1668, 4791: 1746, 4792: 2567, 4793: 3452, 4794: 3466, 4795: 3509, 4796: 3975, 4797: 4153, 4798: 4229, 4799: 4265, 4800: 4616, 4801: 4866, 4802: 5081, 4803: 5093, 4804: 6250, 4805: 6265, 4806: 6764, 4807: 7381, 4808: 7439, 4809: 7570, 4810: 8010, 4811: 8614, 4812: 8968, 4813: 27338, 4814: 6300, 4815: 8117, 4816: 47491, 4817: 760, 4818: 1498, 4819: 2562, 4820: 5099, 4821: 5605, 4822: 5841, 4823: 2401, 4824: 1572, 4825: 2363, 4826: 2810, 4827: 30745, 4828: 31364, 4829: 32078, 4830: 32840, 4831: 42632, 4832: 47937, 4833: 55684, 4834: 58376, 4835: 59814, 4836: 61160, 4837: 71304, 4838: 73808, 4839: 76091, 4840: 80350, 4841: 81417, 4842: 82242, 4843: 85179, 4844: 86320, 4845: 86345, 4846: 86892, 4847: 2643, 4848: 4327, 4849: 6786, 4850: 490, 4851: 2736, 4852: 3430, 4853: 3690, 4854: 66544, 4855: 74688, 4856: 82202, 4857: 91077, 4858: 92751, 4859: 104337, 4860: 104925, 4861: 26974, 4862: 470, 4863: 834, 4864: 1430, 4865: 1447, 4866: 1490, 4867: 1532, 4868: 1632, 4869: 1661, 4870: 1739, 4871: 1886, 4872: 2449, 4873: 2799, 4874: 2845, 4875: 2979, 4876: 3046, 4877: 3437, 4878: 3774, 4879: 3914, 4880: 3973, 4881: 4217, 4882: 4630, 4883: 4732, 4884: 4749, 4885: 4750, 4886: 4765, 4887: 4875, 4888: 4968, 4889: 5053, 4890: 5095, 4891: 5323, 4892: 5443, 4893: 5448, 4894: 5501, 4895: 5531, 4896: 5556, 4897: 5562, 4898: 5569, 4899: 5597, 4900: 5609, 4901: 5615, 4902: 5625, 4903: 5765, 4904: 5880, 4905: 5883, 4906: 5901, 4907: 6057, 4908: 6063, 4909: 6204, 4910: 6284, 4911: 6587, 4912: 6827, 4913: 6872, 4914: 6909, 4915: 7189, 4916: 7315, 4917: 7343, 4918: 7899, 4919: 8130, 4920: 8225, 4921: 8534, 4922: 8667, 4923: 8720, 4924: 8832, 4925: 8835, 4926: 8836, 4927: 8839, 4928: 8860, 4929: 8864, 4930: 8870, 4931: 8908, 4932: 8911, 4933: 8937, 4934: 9010, 4935: 9018, 4936: 27869, 4937: 31445, 4938: 31724, 4939: 3404, 4940: 6596, 4941: 6686, 4942: 259, 4943: 358, 4944: 384, 4945: 391, 4946: 505, 4947: 569, 4948: 639, 4949: 274, 4950: 8643, 4951: 8808, 4952: 8982, 4953: 26198, 4954: 36525, 4955: 42732, 4956: 54736, 4957: 61729, 4958: 64249, 4959: 1003, 4960: 1542, 4961: 199, 4962: 2077, 4963: 2084, 4964: 4459, 4965: 5460, 4966: 5839, 4967: 5840, 4968: 6006, 4969: 3054, 4970: 3997, 4971: 27689, 4972: 27815, 4973: 30816, 4974: 36401, 4975: 40597, 4976: 43419, 4977: 44849, 4978: 45880, 4979: 52579, 4980: 54999, 4981: 59333, 4982: 60397, 4983: 63276, 4984: 66317, 4985: 66808, 4986: 69275, 4987: 70183, 4988: 72737, 4989: 73319, 4990: 77201, 4991: 80864, 4992: 82167, 4993: 82463, 4994: 86835, 4995: 89102, 4996: 89761, 4997: 90405, 4998: 93805, 4999: 94480, 5000: 99320, 5001: 66, 5002: 200, 5003: 240, 5004: 422, 5005: 512, 5006: 600, 5007: 691, 5008: 798, 5009: 861, 5010: 882, 5011: 1055, 5012: 1647, 5013: 1750, 5014: 7158, 5015: 7386, 5016: 700, 5017: 13, 5018: 146, 5019: 195, 5020: 201, 5021: 243, 5022: 270, 5023: 271, 5024: 343, 5025: 687, 5026: 835, 5027: 3646, 5028: 418, 5029: 2128, 5030: 4366, 5031: 4655, 5032: 7002, 5033: 705, 5034: 4389, 5035: 5379, 5036: 6040, 5037: 6187, 5038: 6207, 5039: 6493, 5040: 6930, 5041: 7541, 5042: 7624, 5043: 8129, 5044: 8857, 5045: 26116, 5046: 26133, 5047: 26422, 5048: 27674, 5049: 31114, 5050: 33669, 5051: 34164, 5052: 34532, 5053: 40826, 5054: 43177, 5055: 44709, 5056: 49280, 5057: 51174, 5058: 54004, 5059: 56169, 5060: 59418, 5061: 61075, 5062: 61401, 5063: 62437, 5064: 63479, 5065: 867, 5066: 1024, 5067: 1623, 5068: 2147, 5069: 2392, 5070: 2676, 5071: 2771, 5072: 2772, 5073: 2882, 5074: 3001, 5075: 3177, 5076: 3238, 5077: 3326, 5078: 3765, 5079: 3766, 5080: 3771, 5081: 3807, 5082: 2310, 5083: 2434, 5084: 2607, 5085: 2629, 5086: 2630, 5087: 2975, 5088: 3117, 5089: 957, 5090: 722, 5091: 944, 5092: 960, 5093: 1583, 5094: 1938, 5095: 2182, 5096: 2476, 5097: 2870, 5098: 2946, 5099: 2988, 5100: 3076, 5101: 3122, 5102: 3135, 5103: 3341, 5104: 3364, 5105: 3427, 5106: 3432, 5107: 3516, 5108: 3705, 5109: 3754, 5110: 2889, 5111: 3115, 5112: 3118, 5113: 3501, 5114: 3572, 5115: 3579, 5116: 3620, 5117: 3669, 5118: 3689, 5119: 295, 5120: 3470, 5121: 5876, 5122: 1165, 5123: 2913, 5124: 3576, 5125: 4735, 5126: 4887, 5127: 5046, 5128: 6826, 5129: 7048, 5130: 7282, 5131: 8403, 5132: 8654, 5133: 8790, 5134: 26554, 5135: 27005, 5136: 27410, 5137: 27728, 5138: 27922, 5139: 32825, 5140: 33558, 5141: 42197, 5142: 51357, 5143: 52606, 5144: 53207, 5145: 53956, 5146: 54771, 5147: 55363, 5148: 56788, 5149: 58432, 5150: 59590, 5151: 59810, 5152: 60943, 5153: 62792, 5154: 63436, 5155: 63481, 5156: 65133, 5157: 66509, 5158: 67867, 5159: 68194, 5160: 68205, 5161: 68932, 5162: 69278, 5163: 71156, 5164: 72129, 5165: 73211, 5166: 73929, 5167: 74452, 5168: 74532, 5169: 74685, 5170: 75985, 5171: 76210, 5172: 78034, 5173: 78160, 5174: 78218, 5175: 78544, 5176: 79006, 5177: 79134, 5178: 79796, 5179: 80363, 5180: 81535, 5181: 83506, 5182: 84395, 5183: 84601, 5184: 84615, 5185: 85020, 5186: 85022, 5187: 85025, 5188: 85131, 5189: 86290, 5190: 88405, 5191: 88785, 5192: 89753, 5193: 90345, 5194: 103235, 5195: 112112, 5196: 6889, 5197: 7155, 5198: 8369, 5199: 8604, 5200: 26686, 5201: 26999, 5202: 27193, 5203: 27482, 5204: 33499, 5205: 33836, 5206: 36289, 5207: 42015, 5208: 45732, 5209: 57353, 5210: 58103, 5211: 74946, 5212: 78637, 5213: 87975, 5214: 91978, 5215: 136592, 5216: 416, 5217: 8666, 5218: 8827, 5219: 27882, 5220: 1998, 5221: 3401, 5222: 3768, 5223: 4317, 5224: 4466, 5225: 4566, 5226: 4589, 5227: 4767, 5228: 4945, 5229: 5141, 5230: 5910, 5231: 48872, 5232: 4531, 5233: 8751, 5234: 8754, 5235: 8838, 5236: 8899, 5237: 27839, 5238: 32296, 5239: 39715, 5240: 40339, 5241: 43928, 5242: 45501, 5243: 45730, 5244: 51412, 5245: 53993, 5246: 55282, 5247: 62081, 5248: 98491, 5249: 114552, 5250: 117851, 5251: 130073, 5252: 133419, 5253: 779, 5254: 26564, 5255: 45969, 5256: 51372, 5257: 59834, 5258: 70121, 5259: 71876, 5260: 4770, 5261: 37240, 5262: 1993, 5263: 627, 5264: 630, 5265: 685, 5266: 781, 5267: 848, 5268: 991, 5269: 3891, 5270: 3936, 5271: 4207, 5272: 4212, 5273: 5047, 5274: 5134, 5275: 5357, 5276: 5389, 5277: 5421, 5278: 5479, 5279: 5611, 5280: 5941, 5281: 5947, 5282: 5994, 5283: 7009, 5284: 7150, 5285: 7179, 5286: 7303, 5287: 7579, 5288: 7669, 5289: 7714, 5290: 7753, 5291: 8530, 5292: 8661, 5293: 8833, 5294: 8935, 5295: 8943, 5296: 8998, 5297: 25788, 5298: 26680, 5299: 26870, 5300: 31193, 5301: 31694, 5302: 32174, 5303: 33621, 5304: 39234, 5305: 39435, 5306: 40148, 5307: 43908, 5308: 43930, 5309: 44193, 5310: 47254, 5311: 47382, 5312: 49772, 5313: 49822, 5314: 49957, 5315: 51077, 5316: 51834, 5317: 52975, 5318: 54775, 5319: 55110, 5320: 55267, 5321: 55872, 5322: 56715, 5323: 57326, 5324: 58105, 5325: 58154, 5326: 59103, 5327: 59501, 5328: 60471, 5329: 62113, 5330: 70599, 5331: 72407, 5332: 72605, 5333: 72696, 5334: 74508, 5335: 76054, 5336: 2807, 5337: 2835, 5338: 4506, 5339: 4676, 5340: 4876, 5341: 6958, 5342: 6959, 5343: 8607, 5344: 8814, 5345: 26375, 5346: 27837, 5347: 32017, 5348: 32029, 5349: 33681, 5350: 34534, 5351: 37380, 5352: 40851, 5353: 42721, 5354: 43560, 5355: 45062, 5356: 46062, 5357: 47384, 5358: 47952, 5359: 49274, 5360: 50162, 5361: 50802, 5362: 51575, 5363: 51698, 5364: 51925, 5365: 52456, 5366: 52712, 5367: 52950, 5368: 53466, 5369: 54276, 5370: 55259, 5371: 55999, 5372: 56176, 5373: 56915, 5374: 57401, 5375: 57526, 5376: 57951, 5377: 58972, 5378: 59421, 5379: 59594, 5380: 60514, 5381: 60516, 5382: 60937, 5383: 61350, 5384: 61705, 5385: 62376, 5386: 62733, 5387: 64030, 5388: 64116, 5389: 64497, 5390: 65552, 5391: 65567, 5392: 65577, 5393: 65585, 5394: 65685, 5395: 66171, 5396: 68848, 5397: 69253, 5398: 69606, 5399: 69805, 5400: 69951, 5401: 70282, 5402: 70305, 5403: 71252, 5404: 71254, 5405: 71318, 5406: 71530, 5407: 72165, 5408: 72701, 5409: 72919, 5410: 73015, 5411: 73042, 5412: 74154, 5413: 74530, 5414: 74580, 5415: 74698, 5416: 75805, 5417: 78105, 5418: 78264, 5419: 78893, 5420: 79139, 5421: 79224, 5422: 80615, 5423: 81512, 5424: 81784, 5425: 82095, 5426: 83480, 5427: 85056, 5428: 85261, 5429: 86059, 5430: 87876, 5431: 88380, 5432: 88879, 5433: 89087, 5434: 91660, 5435: 91974, 5436: 92264, 5437: 92681, 5438: 95207, 5439: 96417, 5440: 96590, 5441: 97742, 5442: 98296, 5443: 100163, 5444: 100487, 5445: 100498, 5446: 101025, 5447: 103339, 5448: 103655, 5449: 104074, 5450: 104243, 5451: 104312, 5452: 106642, 5453: 108979, 5454: 109864, 5455: 114795, 5456: 118997, 5457: 130520, 5458: 1525, 5459: 2735, 5460: 2984, 5461: 8830, 5462: 6628, 5463: 7027, 5464: 8008, 5465: 30822, 5466: 414, 5467: 1839, 5468: 824, 5469: 1056, 5470: 1601, 5471: 1643, 5472: 1795, 5473: 1844, 5474: 2482, 5475: 2487, 5476: 2569, 5477: 2696, 5478: 2704, 5479: 2893, 5480: 3045, 5481: 3192, 5482: 3240, 5483: 3539, 5484: 3721, 5485: 3795, 5486: 3919, 5487: 4166, 5488: 4740, 5489: 901, 5490: 935, 5491: 938, 5492: 946, 5493: 956, 5494: 1936, 5495: 1940, 5496: 1942, 5497: 2201, 5498: 2612, 5499: 2927, 5500: 3199, 5501: 3540, 5502: 3567, 5503: 3580, 5504: 3656, 5505: 3657, 5506: 3714, 5507: 3716, 5508: 3723, 5509: 113, 5510: 731, 5511: 103, 5512: 347, 5513: 698, 5514: 4994, 5515: 37853, 5516: 50804, 5517: 56156, 5518: 65465, 5519: 2328, 5520: 2339, 5521: 2354, 5522: 2386, 5523: 48560, 5524: 111529, 5525: 473, 5526: 715, 5527: 888, 5528: 936, 5529: 961, 5530: 970, 5531: 984, 5532: 1066, 5533: 1162, 5534: 1401, 5535: 1419, 5536: 1455, 5537: 1703, 5538: 1925, 5539: 2173, 5540: 2238, 5541: 2241, 5542: 2285, 5543: 2370, 5544: 2399, 5545: 2615, 5546: 2732, 5547: 2899, 5548: 2904, 5549: 2938, 5550: 3028, 5551: 3069, 5552: 3090, 5553: 3091, 5554: 3142, 5555: 3143, 5556: 3165, 5557: 3235, 5558: 3260, 5559: 3284, 5560: 3313, 5561: 3347, 5562: 3368, 5563: 3392, 5564: 3425, 5565: 3447, 5566: 3492, 5567: 3520, 5568: 6460, 5569: 1432, 5570: 6780, 5571: 7075, 5572: 7826, 5573: 45928, 5574: 56885, 5575: 3502, 5576: 4563, 5577: 4880, 5578: 2177, 5579: 2200, 5580: 2940, 5581: 3097, 5582: 3306, 5583: 3632, 5584: 3872, 5585: 4273, 5586: 4420, 5587: 4768, 5588: 5009, 5589: 5333, 5590: 5440, 5591: 5498, 5592: 5613, 5593: 6126, 5594: 6609, 5595: 6721, 5596: 6920, 5597: 7209, 5598: 7210, 5599: 7211, 5600: 7215, 5601: 7577, 5602: 7926, 5603: 7943, 5604: 8188, 5605: 8584, 5606: 8670, 5607: 25952, 5608: 33145, 5609: 67788, 5610: 90576, 5611: 95309, 5612: 105246, 5613: 109483, 5614: 148956, 5615: 387, 5616: 433, 5617: 476, 5618: 486, 5619: 656, 5620: 725, 5621: 1431, 5622: 1468, 5623: 1495, 5624: 2040, 5625: 2266, 5626: 2331, 5627: 2473, 5628: 2552, 5629: 2597, 5630: 2774, 5631: 2796, 5632: 3715, 5633: 4089, 5634: 4115, 5635: 4180, 5636: 4293, 5637: 4355, 5638: 2187, 5639: 2935, 5640: 6412, 5641: 6877, 5642: 7061, 5643: 7078, 5644: 7121, 5645: 7437, 5646: 7493, 5647: 554, 5648: 695, 5649: 1404, 5650: 1425, 5651: 2272, 5652: 2415, 5653: 2570, 5654: 3106, 5655: 3109, 5656: 3110, 5657: 3214, 5658: 3259, 5659: 3694, 5660: 4356, 5661: 5433, 5662: 6243, 5663: 6808, 5664: 7809, 5665: 8253, 5666: 8589, 5667: 8596, 5668: 219, 5669: 1008, 5670: 1684, 5671: 3183, 5672: 4371, 5673: 6474, 5674: 1881, 5675: 487, 5676: 533, 5677: 692, 5678: 833, 5679: 1453, 5680: 1744, 5681: 2050, 5682: 2372, 5683: 2458, 5684: 2714, 5685: 3444, 5686: 4338, 5687: 4339, 5688: 4353, 5689: 4473, 5690: 4802, 5691: 4842, 5692: 4923, 5693: 4990, 5694: 5107, 5695: 59725, 5696: 65230, 5697: 150548, 5698: 72356, 5699: 95654, 5700: 37739, 5701: 184, 5702: 846, 5703: 2497, 5704: 2897, 5705: 5076, 5706: 5092, 5707: 6252, 5708: 8254, 5709: 31956, 5710: 38798, 5711: 50954, 5712: 55253, 5713: 55274, 5714: 5300, 5715: 6713, 5716: 7919, 5717: 8484, 5718: 25771, 5719: 26082, 5720: 26840, 5721: 26903, 5722: 30803, 5723: 64695, 5724: 101962, 5725: 2652, 5726: 4224, 5727: 2488, 5728: 2557, 5729: 2783, 5730: 2853, 5731: 2964, 5732: 3075, 5733: 3205, 5734: 3216, 5735: 3294, 5736: 3344, 5737: 3621, 5738: 3658, 5739: 3777, 5740: 3847, 5741: 3875, 5742: 4368, 5743: 4390, 5744: 4403, 5745: 4417, 5746: 4752, 5747: 4754, 5748: 4893, 5749: 4996, 5750: 5034, 5751: 5153, 5752: 5588, 5753: 5600, 5754: 5715, 5755: 5778, 5756: 5891, 5757: 5980, 5758: 6000, 5759: 6256, 5760: 6257, 5761: 6290, 5762: 6367, 5763: 6395, 5764: 6748, 5765: 6940, 5766: 7024, 5767: 7029, 5768: 7065, 5769: 7110, 5770: 7492, 5771: 7650, 5772: 7882, 5773: 7920, 5774: 8194, 5775: 8848, 5776: 25774, 5777: 25807, 5778: 26003, 5779: 26125, 5780: 26171, 5781: 26176, 5782: 26231, 5783: 26241, 5784: 26303, 5785: 26320, 5786: 26631, 5787: 26693, 5788: 27329, 5789: 27648, 5790: 27784, 5791: 27798, 5792: 30783, 5793: 31270, 5794: 31502, 5795: 32211, 5796: 32686, 5797: 32728, 5798: 32898, 5799: 33592, 5800: 33817, 5801: 33896, 5802: 40412, 5803: 40833, 5804: 45662, 5805: 48231, 5806: 48972, 5807: 51207, 5808: 51304, 5809: 52666, 5810: 53435, 5811: 55652, 5812: 57910, 5813: 58964, 5814: 59727, 5815: 60333, 5816: 64153, 5817: 66310, 5818: 69134, 5819: 69720, 5820: 71518, 5821: 71700, 5822: 74370, 5823: 76030, 5824: 76303, 5825: 80736, 5826: 80844, 5827: 81138, 5828: 87205, 5829: 88272, 5830: 89118, 5831: 90357, 5832: 91488, 5833: 92206, 5834: 92494, 5835: 92496, 5836: 92498, 5837: 96490, 5838: 96563, 5839: 96634, 5840: 96815, 5841: 97593, 5842: 98083, 5843: 99296, 5844: 99470, 5845: 99669, 5846: 99912, 5847: 100306, 5848: 104457, 5849: 104662, 5850: 105763, 5851: 106870, 5852: 107057, 5853: 107771, 5854: 108192, 5855: 108447, 5856: 108506, 5857: 110748, 5858: 111486, 5859: 112277, 5860: 112655, 5861: 112689, 5862: 113565, 5863: 113640, 5864: 113780, 5865: 114044, 5866: 114766, 5867: 116503, 5868: 117121, 5869: 117434, 5870: 118260, 5871: 118334, 5872: 118880, 5873: 121113, 5874: 130448, 5875: 131451, 5876: 132146, 5877: 133824, 5878: 136602, 5879: 140523, 5880: 141956, 5881: 151639, 5882: 152173, 5883: 3207, 5884: 4535, 5885: 4972, 5886: 6428, 5887: 6450, 5888: 7376, 5889: 8337, 5890: 26394, 5891: 499, 5892: 1191, 5893: 4593, 5894: 1633, 5895: 2847, 5896: 2969, 5897: 2972, 5898: 3171, 5899: 37384, 5900: 906, 5901: 1934, 5902: 2654, 5903: 4184, 5904: 7073, 5905: 7706, 5906: 8167, 5907: 8492, 5908: 25750, 5909: 27373, 5910: 31156, 5911: 65135, 5912: 83374, 5913: 85316, 5914: 85367, 5915: 85397, 5916: 86014, 5917: 86293, 5918: 86852, 5919: 87529, 5920: 88267, 5921: 89300, 5922: 48501, 5923: 68659, 5924: 73266, 5925: 80241, 5926: 81132, 5927: 95307, 5928: 101285, 5929: 108548, 5930: 111113, 5931: 114707, 5932: 115680, 5933: 117871, 5934: 135532, 5935: 139620, 5936: 147006, 5937: 147010, 5938: 147426, 5939: 148168, 5940: 149572, 5941: 105593, 5942: 107083, 5943: 107516, 5944: 114028, 5945: 116660, 5946: 59273, 5947: 60128, 5948: 74152, 5949: 79318, 5950: 93324, 5951: 95135, 5952: 97057, 5953: 104283, 5954: 133195, 5955: 136016, 5956: 136598, 5957: 141688, 5958: 146309, 5959: 80, 5960: 401, 5961: 615, 5962: 759, 5963: 4117, 5964: 4178, 5965: 5899, 5966: 6986, 5967: 7062, 5968: 7086, 5969: 7087, 5970: 7091, 5971: 7840, 5972: 7944, 5973: 8989, 5974: 4095, 5975: 1087, 5976: 3746, 5977: 4151, 5978: 4384, 5979: 5607, 5980: 6869, 5981: 7177, 5982: 7456, 5983: 7459, 5984: 8951, 5985: 27783, 5986: 32170, 5987: 34198, 5988: 1445, 5989: 1581, 5990: 1626, 5991: 2325, 5992: 3442, 5993: 3463, 5994: 3695, 5995: 3758, 5996: 577, 5997: 1592, 5998: 2525, 5999: 4045, 6000: 2051, 6001: 3287, 6002: 3674, 6003: 4795, 6004: 5480, 6005: 6163, 6006: 7374, 6007: 9001, 6008: 26528, 6009: 42191, 6010: 59392, 6011: 60674, 6012: 67295, 6013: 74282, 6014: 77435, 6015: 82173, 6016: 88345, 6017: 93061, 6018: 93265, 6019: 95313, 6020: 95377, 6021: 105468, 6022: 106011, 6023: 117192, 6024: 117895, 6025: 142997, 6026: 152017, 6027: 161944, 6028: 941, 6029: 7757, 6030: 8158, 6031: 8341, 6032: 3078, 6033: 4587, 6034: 6765, 6035: 31433, 6036: 4143, 6037: 4584, 6038: 5069, 6039: 619, 6040: 907, 6041: 1167, 6042: 1363, 6043: 1489, 6044: 2031, 6045: 2039, 6046: 2045, 6047: 2048, 6048: 2057, 6049: 2168, 6050: 2206, 6051: 2491, 6052: 2500, 6053: 2691, 6054: 2874, 6055: 2876, 6056: 2886, 6057: 2961, 6058: 3166, 6059: 3399, 6060: 3599, 6061: 3604, 6062: 3611, 6063: 3612, 6064: 3673, 6065: 3759, 6066: 3775, 6067: 3901, 6068: 3921, 6069: 3922, 6070: 3924, 6071: 3964, 6072: 4024, 6073: 4061, 6074: 4068, 6075: 4133, 6076: 4141, 6077: 4142, 6078: 4169, 6079: 4177, 6080: 4188, 6081: 4294, 6082: 4387, 6083: 4402, 6084: 4508, 6085: 4511, 6086: 4663, 6087: 4743, 6088: 4774, 6089: 4818, 6090: 4912, 6091: 5012, 6092: 5021, 6093: 5038, 6094: 5048, 6095: 5109, 6096: 5168, 6097: 5305, 6098: 5337, 6099: 5354, 6100: 5361, 6101: 5372, 6102: 5375, 6103: 5538, 6104: 5539, 6105: 5629, 6106: 6060, 6107: 6124, 6108: 6182, 6109: 6245, 6110: 6260, 6111: 6266, 6112: 6355, 6113: 6357, 6114: 6358, 6115: 6387, 6116: 6390, 6117: 6414, 6118: 6423, 6119: 6454, 6120: 6533, 6121: 6536, 6122: 6568, 6123: 6646, 6124: 6665, 6125: 6703, 6126: 6723, 6127: 6785, 6128: 6970, 6129: 6999, 6130: 7000, 6131: 7080, 6132: 7082, 6133: 7102, 6134: 7122, 6135: 7142, 6136: 7151, 6137: 7165, 6138: 7186, 6139: 7228, 6140: 7294, 6141: 7320, 6142: 7362, 6143: 7369, 6144: 7375, 6145: 7584, 6146: 7614, 6147: 7720, 6148: 7790, 6149: 7822, 6150: 7888, 6151: 7916, 6152: 8015, 6153: 8196, 6154: 8263, 6155: 8385, 6156: 8460, 6157: 8482, 6158: 8502, 6159: 8525, 6160: 8574, 6161: 8712, 6162: 8796, 6163: 8916, 6164: 8986, 6165: 8988, 6166: 8999, 6167: 9000, 6168: 25937, 6169: 25971, 6170: 26386, 6171: 31026, 6172: 32381, 6173: 33639, 6174: 44613, 6175: 45028, 6176: 1324, 6177: 7449, 6178: 8884, 6179: 32302, 6180: 6216, 6181: 7843, 6182: 8275, 6183: 78321, 6184: 31660, 6185: 32460, 6186: 62115, 6187: 74727, 6188: 98615, 6189: 102666, 6190: 107412, 6191: 118468, 6192: 121126, 6193: 127052, 6194: 136449, 6195: 158956, 6196: 488, 6197: 1137, 6198: 1652, 6199: 2864, 6200: 3221, 6201: 3459, 6202: 4500, 6203: 4518, 6204: 4612, 6205: 4863, 6206: 5275, 6207: 5473, 6208: 5780, 6209: 6021, 6210: 6114, 6211: 6121, 6212: 6132, 6213: 6465, 6214: 6730, 6215: 7505, 6216: 7764, 6217: 7878, 6218: 7889, 6219: 8126, 6220: 8189, 6221: 8240, 6222: 8800, 6223: 8872, 6224: 8892, 6225: 8893, 6226: 8923, 6227: 8938, 6228: 25744, 6229: 26164, 6230: 26494, 6231: 26524, 6232: 26655, 6233: 26749, 6234: 26809, 6235: 27322, 6236: 27792, 6237: 31682, 6238: 32515, 6239: 32735, 6240: 32797, 6241: 33021, 6242: 33138, 6243: 39659, 6244: 40226, 6245: 42900, 6246: 45521, 6247: 46544, 6248: 47465, 6249: 49902, 6250: 49932, 6251: 50011, 6252: 50912, 6253: 51380, 6254: 52831, 6255: 54785, 6256: 56079, 6257: 56286, 6258: 58520, 6259: 59339, 6260: 60384, 6261: 62764, 6262: 63836, 6263: 67957, 6264: 70994, 6265: 71390, 6266: 71494, 6267: 72109, 6268: 72880, 6269: 73531, 6270: 75349, 6271: 75823, 6272: 77291, 6273: 79203, 6274: 79686, 6275: 80217, 6276: 80553, 6277: 82150, 6278: 83829, 6279: 87884, 6280: 88106, 6281: 92424, 6282: 95113, 6283: 95115, 6284: 95752, 6285: 31284, 6286: 42351, 6287: 65665, 6288: 69849, 6289: 84506, 6290: 7300, 6291: 30846, 6292: 45172, 6293: 58303, 6294: 59731, 6295: 67508, 6296: 93040, 6297: 2943, 6298: 278, 6299: 436, 6300: 453, 6301: 498, 6302: 1184, 6303: 1963, 6304: 2171, 6305: 2254, 6306: 2257, 6307: 2546, 6308: 2618, 6309: 2848, 6310: 2884, 6311: 3094, 6312: 3384, 6313: 3393, 6314: 3436, 6315: 3531, 6316: 3846, 6317: 4424, 6318: 5768, 6319: 7934, 6320: 26513, 6321: 27899, 6322: 31923, 6323: 83, 6324: 155, 6325: 408, 6326: 603, 6327: 937, 6328: 962, 6329: 964, 6330: 972, 6331: 992, 6332: 1004, 6333: 1026, 6334: 1113, 6335: 1397, 6336: 1398, 6337: 1417, 6338: 1600, 6339: 2079, 6340: 4080, 6341: 4277, 6342: 4329, 6343: 4360, 6344: 4462, 6345: 4478, 6346: 4537, 6347: 4585, 6348: 4603, 6349: 4704, 6350: 5267, 6351: 5420, 6352: 5601, 6353: 5644, 6354: 5718, 6355: 5836, 6356: 6092, 6357: 6225, 6358: 6227, 6359: 6231, 6360: 6232, 6361: 6239, 6362: 6276, 6363: 6314, 6364: 6315, 6365: 6356, 6366: 6386, 6367: 6424, 6368: 6429, 6369: 6431, 6370: 6432, 6371: 6446, 6372: 6448, 6373: 6458, 6374: 6466, 6375: 6468, 6376: 6470, 6377: 6477, 6378: 6484, 6379: 6498, 6380: 6521, 6381: 6522, 6382: 6525, 6383: 6527, 6384: 6562, 6385: 6585, 6386: 6613, 6387: 6630, 6388: 6636, 6389: 6658, 6390: 6718, 6391: 6735, 6392: 6788, 6393: 6797, 6394: 6810, 6395: 6813, 6396: 6822, 6397: 6829, 6398: 6832, 6399: 6852, 6400: 6856, 6401: 7059, 6402: 7085, 6403: 7107, 6404: 7178, 6405: 7198, 6406: 7207, 6407: 7250, 6408: 7283, 6409: 7305, 6410: 7311, 6411: 7357, 6412: 7394, 6413: 7702, 6414: 7782, 6415: 7787, 6416: 7791, 6417: 7980, 6418: 8009, 6419: 8039, 6420: 8057, 6421: 8183, 6422: 8187, 6423: 8190, 6424: 8268, 6425: 8451, 6426: 8463, 6427: 8487, 6428: 8524, 6429: 8535, 6430: 8612, 6431: 8616, 6432: 8617, 6433: 8618, 6434: 8657, 6435: 8672, 6436: 8695, 6437: 8718, 6438: 8745, 6439: 8772, 6440: 8819, 6441: 8820, 6442: 8821, 6443: 8850, 6444: 8880, 6445: 8920, 6446: 8921, 6447: 8929, 6448: 9004, 6449: 9005, 6450: 32139, 6451: 45208, 6452: 99, 6453: 187, 6454: 363, 6455: 896, 6456: 1123, 6457: 1875, 6458: 2499, 6459: 6617, 6460: 6927, 6461: 8576, 6462: 8831, 6463: 8963, 6464: 33437, 6465: 45210, 6466: 115210, 6467: 127098, 6468: 5788, 6469: 5879, 6470: 5958, 6471: 6012, 6472: 6013, 6473: 6014, 6474: 6154, 6475: 129428, 6476: 1133, 6477: 26649, 6478: 68099, 6479: 149532, 6480: 5085, 6481: 7395, 6482: 7697, 6483: 301, 6484: 389, 6485: 1428, 6486: 1575, 6487: 5918, 6488: 5985, 6489: 50703, 6490: 74787, 6491: 89045, 6492: 141668, 6493: 6818, 6494: 55417, 6495: 4191, 6496: 4539, 6497: 1328, 6498: 5888, 6499: 74510, 6500: 104441, 6501: 104590, 6502: 121618, 6503: 5527, 6504: 6883, 6505: 36527, 6506: 53, 6507: 268, 6508: 632, 6509: 850, 6510: 981, 6511: 7366, 6512: 8207, 6513: 876, 6514: 1755, 6515: 2625, 6516: 2780, 6517: 2880, 6518: 3627, 6519: 3905, 6520: 4440, 6521: 4442, 6522: 4565, 6523: 4567, 6524: 4687, 6525: 4696, 6526: 4717, 6527: 4952, 6528: 5243, 6529: 5833, 6530: 6095, 6531: 6722, 6532: 8795, 6533: 26865, 6534: 31804, 6535: 1050, 6536: 2438, 6537: 1444, 6538: 4534, 6539: 5325, 6540: 4003, 6541: 32456, 6542: 62336, 6543: 85780, 6544: 98604, 6545: 103659, 6546: 104419, 6547: 115927, 6548: 2516, 6549: 4159, 6550: 4721, 6551: 4826, 6552: 4895, 6553: 5558, 6554: 5672, 6555: 5678, 6556: 5815, 6557: 5819, 6558: 5874, 6559: 6806, 6560: 6880, 6561: 6995, 6562: 7108, 6563: 7257, 6564: 7789, 6565: 7894, 6566: 26555, 6567: 31162, 6568: 31420, 6569: 32019, 6570: 34271, 6571: 34523, 6572: 36397, 6573: 37477, 6574: 40723, 6575: 43904, 6576: 47044, 6577: 50923, 6578: 56336, 6579: 2550, 6580: 5663, 6581: 7586, 6582: 32743, 6583: 8133, 6584: 710, 6585: 1414, 6586: 1526, 6587: 1602, 6588: 1629, 6589: 1642, 6590: 1837, 6591: 1855, 6592: 2095, 6593: 2098, 6594: 2261, 6595: 2265, 6596: 2472, 6597: 2506, 6598: 3042, 6599: 3043, 6600: 3497, 6601: 3600, 6602: 3622, 6603: 1446, 6604: 4296, 6605: 5643, 6606: 5684, 6607: 2446, 6608: 2486, 6609: 2545, 6610: 2626, 6611: 2775, 6612: 2894, 6613: 2939, 6614: 34321, 6615: 109249, 6616: 27251, 6617: 55732, 6618: 3819, 6619: 4305, 6620: 4626, 6621: 4632, 6622: 4664, 6623: 4680, 6624: 4705, 6625: 4706, 6626: 7093, 6627: 8689, 6628: 36509, 6629: 37720, 6630: 40614, 6631: 41716, 6632: 1756, 6633: 4349, 6634: 7379, 6635: 55498, 6636: 56633, 6637: 91690, 6638: 104303, 6639: 105585, 6640: 110352, 6641: 115170, 6642: 122888, 6643: 138208, 6644: 142448, 6645: 1067, 6646: 1922, 6647: 2073, 6648: 2246, 6649: 2589, 6650: 2733, 6651: 4284, 6652: 5324, 6653: 5414, 6654: 44225, 6655: 49647, 6656: 53974, 6657: 6710, 6658: 82931, 6659: 86504, 6660: 95873, 6661: 96373, 6662: 101741, 6663: 104863, 6664: 110645, 6665: 112804, 6666: 114265, 6667: 129653, 6668: 130580, 6669: 134569, 6670: 438, 6671: 1604, 6672: 2681, 6673: 2809, 6674: 2996, 6675: 5523, 6676: 5803, 6677: 8871, 6678: 8931, 6679: 8946, 6680: 26812, 6681: 27912, 6682: 33826, 6683: 34129, 6684: 34338, 6685: 34536, 6686: 38992, 6687: 39398, 6688: 40946, 6689: 48319, 6690: 49284, 6691: 49396, 6692: 51088, 6693: 51091, 6694: 55031, 6695: 55116, 6696: 58156, 6697: 58297, 6698: 58839, 6699: 59037, 6700: 61352, 6701: 62155, 6702: 70565, 6703: 70597, 6704: 71205, 6705: 71668, 6706: 71732, 6707: 72308, 6708: 72489, 6709: 74668, 6710: 75440, 6711: 78467, 6712: 78703, 6713: 79299, 6714: 80166, 6715: 80727, 6716: 80917, 6717: 81516, 6718: 81537, 6719: 82534, 6720: 83910, 6721: 84154, 6722: 84160, 6723: 85213, 6724: 87660, 6725: 88672, 6726: 89047, 6727: 89072, 6728: 90719, 6729: 91094, 6730: 91483, 6731: 91622, 6732: 92234, 6733: 92694, 6734: 93498, 6735: 94799, 6736: 94953, 6737: 95720, 6738: 98369, 6739: 99437, 6740: 100450, 6741: 101612, 6742: 102819, 6743: 111743, 6744: 131724, 6745: 135518, 6746: 135861, 6747: 697, 6748: 2197, 6749: 2364, 6750: 2448, 6751: 4569, 6752: 988, 6753: 2036, 6754: 5102, 6755: 6706, 6756: 8575, 6757: 8866, 6758: 32289, 6759: 34336, 6760: 39307, 6761: 41573, 6762: 42958, 6763: 43917, 6764: 45221, 6765: 46919, 6766: 46967, 6767: 48791, 6768: 51884, 6769: 58889, 6770: 59258, 6771: 61123, 6772: 68269, 6773: 68838, 6774: 78101, 6775: 78316, 6776: 79824, 6777: 80551, 6778: 80839, 6779: 82169, 6780: 89194, 6781: 91886, 6782: 990, 6783: 1497, 6784: 4200, 6785: 4660, 6786: 5915, 6787: 6249, 6788: 6800, 6789: 6835, 6790: 6868, 6791: 7448, 6792: 7767, 6793: 8799, 6794: 27851, 6795: 30848, 6796: 33688, 6797: 34520, 6798: 36533, 6799: 37382, 6800: 39444, 6801: 43932, 6802: 48142, 6803: 48518, 6804: 48596, 6805: 49314, 6806: 50147, 6807: 50189, 6808: 50442, 6809: 52460, 6810: 52644, 6811: 52717, 6812: 53999, 6813: 54787, 6814: 55261, 6815: 55272, 6816: 939, 6817: 1926, 6818: 1933, 6819: 2212, 6820: 2936, 6821: 2981, 6822: 3096, 6823: 3217, 6824: 3423, 6825: 3446, 6826: 3496, 6827: 3522, 6828: 3737, 6829: 3792, 6830: 5866, 6831: 49, 6832: 467, 6833: 787, 6834: 1699, 6835: 2169, 6836: 2250, 6837: 2271, 6838: 2280, 6839: 2314, 6840: 2494, 6841: 2610, 6842: 2885, 6843: 2930, 6844: 3241, 6845: 3902, 6846: 4035, 6847: 4391, 6848: 4737, 6849: 4783, 6850: 4965, 6851: 5315, 6852: 5417, 6853: 5425, 6854: 5808, 6855: 6159, 6856: 6215, 6857: 6337, 6858: 6384, 6859: 6612, 6860: 6760, 6861: 7025, 6862: 8527, 6863: 32298, 6864: 47629, 6865: 49824, 6866: 49961, 6867: 54, 6868: 813, 6869: 1410, 6870: 1463, 6871: 96, 6872: 1180, 6873: 1190, 6874: 1596, 6875: 58107, 6876: 5820, 6877: 5917, 6878: 4350, 6879: 5637, 6880: 5752, 6881: 5850, 6882: 6077, 6883: 6600, 6884: 6644, 6885: 7058, 6886: 7762, 6887: 7833, 6888: 8491, 6889: 8711, 6890: 8777, 6891: 8964, 6892: 25737, 6893: 25826, 6894: 25874, 6895: 25901, 6896: 26009, 6897: 26188, 6898: 26268, 6899: 26342, 6900: 26366, 6901: 26425, 6902: 27351, 6903: 27857, 6904: 27879, 6905: 31921, 6906: 32280, 6907: 32464, 6908: 32844, 6909: 33760, 6910: 42783, 6911: 53038, 6912: 53737, 6913: 54910, 6914: 60137, 6915: 60990, 6916: 66019, 6917: 68884, 6918: 69974, 6919: 70846, 6920: 74327, 6921: 78122, 6922: 84312, 6923: 241, 6924: 70344, 6925: 3934, 6926: 33830, 6927: 40581, 6928: 48520, 6929: 69069, 6930: 70663, 6931: 92509, 6932: 94325, 6933: 99813, 6934: 100527, 6935: 102720, 6936: 112006, 6937: 112767, 6938: 112897, 6939: 115147, 6940: 115664, 6941: 119155, 6942: 128512, 6943: 130087, 6944: 135137, 6945: 144620, 6946: 148652, 6947: 1349, 6948: 4885, 6949: 2207, 6950: 2621, 6951: 3822, 6952: 4806, 6953: 4861, 6954: 4933, 6955: 4947, 6956: 4957, 6957: 5097, 6958: 5383, 6959: 5603, 6960: 5622, 6961: 5651, 6962: 5796, 6963: 5799, 6964: 5801, 6965: 5873, 6966: 6032, 6967: 6078, 6968: 6166, 6969: 6178, 6970: 6219, 6971: 6261, 6972: 6405, 6973: 6426, 6974: 6447, 6975: 6461, 6976: 6518, 6977: 7774, 6978: 7832, 6979: 7834, 6980: 7835, 6981: 8542, 6982: 8610, 6983: 8675, 6984: 5475, 6985: 8933, 6986: 41336, 6987: 49394, 6988: 78903, 6989: 98126, 6990: 103444, 6991: 388, 6992: 1504, 6993: 1730, 6994: 1870, 6995: 2029, 6996: 2304, 6997: 2388, 6998: 2837, 6999: 3158, 7000: 3161, 7001: 3790, 7002: 3903, 7003: 5632, 7004: 6062, 7005: 6268, 7006: 309, 7007: 1051, 7008: 1919, 7009: 264, 7010: 1043, 7011: 439, 7012: 1507, 7013: 4181, 7014: 4527, 7015: 4550, 7016: 4559, 7017: 4578, 7018: 5646, 7019: 5834, 7020: 5969, 7021: 511, 7022: 5428, 7023: 7152, 7024: 8730, 7025: 30883, 7026: 4347, 7027: 31427, 7028: 31903, 7029: 33085, 7030: 5826, 7031: 7924, 7032: 8142, 7033: 25777, 7034: 27397, 7035: 27592, 7036: 48817, 7037: 62378, 7038: 72781, 7039: 77907, 7040: 79136, 7041: 91947, 7042: 94024, 7043: 94939, 7044: 97744, 7045: 99795, 7046: 6990, 7047: 30894, 7048: 33587, 7049: 48159, 7050: 54270, 7051: 57223, 7052: 58306, 7053: 61167, 7054: 64032, 7055: 65601, 7056: 71490, 7057: 71573, 7058: 72043, 7059: 72405, 7060: 72479, 7061: 72762, 7062: 73106, 7063: 73168, 7064: 74115, 7065: 74156, 7066: 74868, 7067: 75341, 7068: 85572, 7069: 1794, 7070: 2165, 7071: 2839, 7072: 3188, 7073: 3289, 7074: 4236, 7075: 4237, 7076: 4252, 7077: 4375, 7078: 4722, 7079: 4766, 7080: 4897, 7081: 5685, 7082: 5875, 7083: 6244, 7084: 6329, 7085: 6592, 7086: 6772, 7087: 6935, 7088: 6945, 7089: 7932, 7090: 8813, 7091: 8979, 7092: 26599, 7093: 30898, 7094: 31689, 7095: 32025, 7096: 33838, 7097: 47950, 7098: 49132, 7099: 51418, 7100: 55069, 7101: 58191, 7102: 61236, 7103: 61357, 7104: 68347, 7105: 69458, 7106: 72386, 7107: 91673, 7108: 103137, 7109: 113275, 7110: 115174, 7111: 4822, 7112: 51127, 7113: 8915, 7114: 1757, 7115: 5828, 7116: 6864, 7117: 7818, 7118: 26509, 7119: 26915, 7120: 42013, 7121: 44840, 7122: 45442, 7123: 48522, 7124: 7079, 7125: 7572, 7126: 30850, 7127: 679, 7128: 816, 7129: 893, 7130: 1609, 7131: 755, 7132: 1669, 7133: 2573, 7134: 2776, 7135: 106766, 7136: 3848, 7137: 3900, 7138: 4043, 7139: 4046, 7140: 4048, 7141: 4529, 7142: 4544, 7143: 4849, 7144: 5675, 7145: 59, 7146: 1759, 7147: 4969, 7148: 5083, 7149: 5365, 7150: 6005, 7151: 6122, 7152: 27873, 7153: 43869, 7154: 46347, 7155: 48741, 7156: 64114, 7157: 4000, 7158: 3202, 7159: 5056, 7160: 5121, 7161: 64660, 7162: 79469, 7163: 80717, 7164: 99030, 7165: 107447, 7166: 107649, 7167: 129313, 7168: 141886, 7169: 148372, 7170: 153584, 7171: 1865, 7172: 2693, 7173: 4067, 7174: 119, 7175: 375, 7176: 460, 7177: 536, 7178: 726, 7179: 1054, 7180: 1169, 7181: 1442, 7182: 1605, 7183: 1767, 7184: 1896, 7185: 2007, 7186: 2237, 7187: 2276, 7188: 2419, 7189: 2682, 7190: 2752, 7191: 2812, 7192: 3103, 7193: 3449, 7194: 3784, 7195: 3813, 7196: 3951, 7197: 4077, 7198: 4109, 7199: 4116, 7200: 4136, 7201: 4162, 7202: 4171, 7203: 4215, 7204: 4216, 7205: 4274, 7206: 4279, 7207: 4300, 7208: 4644, 7209: 4690, 7210: 4703, 7211: 4769, 7212: 4810, 7213: 4836, 7214: 4851, 7215: 4921, 7216: 4925, 7217: 5023, 7218: 5051, 7219: 5186, 7220: 5238, 7221: 5241, 7222: 5246, 7223: 5248, 7224: 5341, 7225: 5353, 7226: 5398, 7227: 5462, 7228: 5619, 7229: 5642, 7230: 5667, 7231: 5787, 7232: 5832, 7233: 5963, 7234: 6335, 7235: 6449, 7236: 6639, 7237: 6751, 7238: 6770, 7239: 6779, 7240: 6840, 7241: 6892, 7242: 6896, 7243: 6950, 7244: 6963, 7245: 7076, 7246: 7095, 7247: 7096, 7248: 7217, 7249: 7334, 7250: 7450, 7251: 7478, 7252: 7619, 7253: 7705, 7254: 8147, 7255: 8332, 7256: 8362, 7257: 8753, 7258: 8987, 7259: 25891, 7260: 26085, 7261: 26178, 7262: 31035, 7263: 31700, 7264: 32369, 7265: 106471, 7266: 106473, 7267: 106762, 7268: 107081, 7269: 390, 7270: 886, 7271: 5002, 7272: 7012, 7273: 7026, 7274: 26726, 7275: 32914, 7276: 56805, 7277: 69784, 7278: 78039, 7279: 82035, 7280: 88954, 7281: 95740, 7282: 102684, 7283: 102686, 7284: 102905, 7285: 103813, 7286: 106236, 7287: 106330, 7288: 108727, 7289: 110110, 7290: 120392, 7291: 126106, 7292: 128520, 7293: 133295, 7294: 145307, 7295: 145775, 7296: 152025, 7297: 1621, 7298: 4792, 7299: 5754, 7300: 6476, 7301: 6983, 7302: 7171, 7303: 8722, 7304: 42728, 7305: 42730, 7306: 4543, 7307: 5265, 7308: 341, 7309: 1236, 7310: 2062, 7311: 2154, 7312: 620, 7313: 963, 7314: 1069, 7315: 1076, 7316: 2035, 7317: 2210, 7318: 2221, 7319: 2727, 7320: 3002, 7321: 3136, 7322: 3140, 7323: 3232, 7324: 3309, 7325: 3314, 7326: 3640, 7327: 4405, 7328: 4515, 7329: 4998, 7330: 5001, 7331: 5059, 7332: 5202, 7333: 5288, 7334: 5404, 7335: 5434, 7336: 5604, 7337: 5914, 7338: 5932, 7339: 6148, 7340: 6198, 7341: 6400, 7342: 6408, 7343: 6513, 7344: 6579, 7345: 6739, 7346: 7043, 7347: 7074, 7348: 7195, 7349: 7196, 7350: 7238, 7351: 7309, 7352: 7407, 7353: 7897, 7354: 7914, 7355: 7939, 7356: 7983, 7357: 8235, 7358: 8257, 7359: 8267, 7360: 8336, 7361: 8423, 7362: 8511, 7363: 8609, 7364: 8684, 7365: 8700, 7366: 8797, 7367: 8840, 7368: 8882, 7369: 25752, 7370: 25755, 7371: 25764, 7372: 25827, 7373: 25839, 7374: 25916, 7375: 25993, 7376: 26122, 7377: 26302, 7378: 26313, 7379: 26391, 7380: 26400, 7381: 26414, 7382: 26850, 7383: 27334, 7384: 27816, 7385: 30723, 7386: 30818, 7387: 30892, 7388: 31547, 7389: 31549, 7390: 31737, 7391: 31770, 7392: 32160, 7393: 32371, 7394: 32853, 7395: 32882, 7396: 33312, 7397: 33380, 7398: 34583, 7399: 36553, 7400: 37785, 7401: 38304, 7402: 41226, 7403: 42163, 7404: 42681, 7405: 44587, 7406: 44671, 7407: 45837, 7408: 46664, 7409: 46850, 7410: 46974, 7411: 47152, 7412: 47287, 7413: 47714, 7414: 48198, 7415: 48301, 7416: 49225, 7417: 50259, 7418: 51044, 7419: 52241, 7420: 52967, 7421: 54419, 7422: 54426, 7423: 55063, 7424: 55071, 7425: 55687, 7426: 57972, 7427: 58879, 7428: 59832, 7429: 59846, 7430: 62383, 7431: 65638, 7432: 67504, 7433: 69241, 7434: 69604, 7435: 70488, 7436: 70927, 7437: 71525, 7438: 71650, 7439: 72176, 7440: 72626, 7441: 72647, 7442: 73276, 7443: 73572, 7444: 77359, 7445: 78517, 7446: 78829, 7447: 80572, 7448: 80599, 7449: 81910, 7450: 82934, 7451: 83096, 7452: 83318, 7453: 83322, 7454: 83359, 7455: 83361, 7456: 83411, 7457: 83603, 7458: 72612, 7459: 7051, 7460: 25763, 7461: 26265, 7462: 2214, 7463: 2514, 7464: 3849, 7465: 5830, 7466: 8404, 7467: 26007, 7468: 26393, 7469: 27075, 7470: 39052, 7471: 43391, 7472: 44301, 7473: 44317, 7474: 66246, 7475: 211, 7476: 449, 7477: 659, 7478: 769, 7479: 1310, 7480: 1413, 7481: 1796, 7482: 1861, 7483: 2554, 7484: 2609, 7485: 2627, 7486: 2697, 7487: 2824, 7488: 3057, 7489: 3133, 7490: 3304, 7491: 3718, 7492: 3913, 7493: 3947, 7494: 4197, 7495: 4562, 7496: 4698, 7497: 4711, 7498: 5018, 7499: 5022, 7500: 5226, 7501: 5256, 7502: 5285, 7503: 5825, 7504: 5965, 7505: 5993, 7506: 6042, 7507: 6185, 7508: 6368, 7509: 26172, 7510: 32582, 7511: 32632, 7512: 45440, 7513: 86548, 7514: 90403, 7515: 90890, 7516: 1903, 7517: 27423, 7518: 33158, 7519: 51939, 7520: 58655, 7521: 76175, 7522: 77206, 7523: 78088, 7524: 89030, 7525: 90524, 7526: 92938, 7527: 93766, 7528: 96691, 7529: 96863, 7530: 102481, 7531: 105755, 7532: 108928, 7533: 112911, 7534: 118900, 7535: 27867, 7536: 33672, 7537: 44511, 7538: 50445, 7539: 62644, 7540: 65088, 7541: 65216, 7542: 74740, 7543: 90888, 7544: 702, 7545: 3560, 7546: 5179, 7547: 5560, 7548: 7071, 7549: 26094, 7550: 26574, 7551: 31973, 7552: 32444, 7553: 42677, 7554: 44717, 7555: 49299, 7556: 50842, 7557: 56869, 7558: 57038, 7559: 59805, 7560: 63179, 7561: 64278, 7562: 68872, 7563: 71433, 7564: 71755, 7565: 72683, 7566: 85394, 7567: 86626, 7568: 88682, 7569: 89000, 7570: 89356, 7571: 90863, 7572: 92163, 7573: 96020, 7574: 96832, 7575: 97230, 7576: 98963, 7577: 100106, 7578: 103210, 7579: 108873, 7580: 111235, 7581: 112062, 7582: 112070, 7583: 129191, 7584: 130980, 7585: 131830, 7586: 138696, 7587: 138698, 7588: 1337, 7589: 1355, 7590: 2633, 7591: 2634, 7592: 2635, 7593: 2636, 7594: 2637, 7595: 2638, 7596: 2647, 7597: 2649, 7598: 2650, 7599: 2651, 7600: 2653, 7601: 2781, 7602: 8823, 7603: 7206, 7604: 7947, 7605: 144976, 7606: 304, 7607: 27186, 7608: 2715, 7609: 2758, 7610: 77, 7611: 559, 7612: 573, 7613: 681, 7614: 690, 7615: 721, 7616: 793, 7617: 820, 7618: 854, 7619: 1174, 7620: 1365, 7621: 1369, 7622: 1406, 7623: 1415, 7624: 1654, 7625: 1733, 7626: 528, 7627: 496, 7628: 4748, 7629: 62718, 7630: 63239, 7631: 63393, 7632: 69945, 7633: 2483, 7634: 25911, 7635: 43267, 7636: 46559, 7637: 59143, 7638: 60649, 7639: 71131, 7640: 74624, 7641: 77798, 7642: 78729, 7643: 80026, 7644: 82037, 7645: 1454, 7646: 1878, 7647: 2190, 7648: 4798, 7649: 6228, 7650: 7050, 7651: 7055, 7652: 7216, 7653: 50160, 7654: 567, 7655: 864, 7656: 889, 7657: 987, 7658: 997, 7659: 1145, 7660: 1482, 7661: 1501, 7662: 1631, 7663: 1660, 7664: 1910, 7665: 2323, 7666: 2437, 7667: 2441, 7668: 2481, 7669: 2511, 7670: 2674, 7671: 3180, 7672: 3302, 7673: 3860, 7674: 3880, 7675: 4761, 7676: 4782, 7677: 4961, 7678: 5258, 7679: 5868, 7680: 6279, 7681: 6306, 7682: 6339, 7683: 8364, 7684: 8927, 7685: 84, 7686: 696, 7687: 845, 7688: 1040, 7689: 2753, 7690: 126548, 7691: 38, 7692: 320, 7693: 69280, 7694: 251, 7695: 87, 7696: 564, 7697: 840, 7698: 885, 7699: 998, 7700: 1331, 7701: 1433, 7702: 1473, 7703: 1812, 7704: 1854, 7705: 1874, 7706: 1902, 7707: 2244, 7708: 2292, 7709: 2464, 7710: 2559, 7711: 2566, 7712: 2751, 7713: 2786, 7714: 2898, 7715: 3029, 7716: 3048, 7717: 3112, 7718: 5101, 7719: 5772, 7720: 7302, 7721: 102217, 7722: 118890, 7723: 120805, 7724: 128846, 7725: 129514, 7726: 130970, 7727: 136445, 7728: 136447, 7729: 140265, 7730: 4073, 7731: 5710, 7732: 26322, 7733: 26732, 7734: 66744, 7735: 81831, 7736: 91628, 7737: 93287, 7738: 95449, 7739: 95949, 7740: 96448, 7741: 97168, 7742: 101531, 7743: 103984, 7744: 4568, 7745: 6506, 7746: 48061, 7747: 59721, 7748: 60857, 7749: 71810, 7750: 651, 7751: 2526, 7752: 2656, 7753: 4911, 7754: 39427, 7755: 8208, 7756: 808, 7757: 2074, 7758: 2493, 7759: 3719, 7760: 4194, 7761: 4298, 7762: 4801, 7763: 4920, 7764: 5142, 7765: 5986, 7766: 6031, 7767: 6247, 7768: 6416, 7769: 6467, 7770: 8016, 7771: 8785, 7772: 25792, 7773: 25825, 7774: 25898, 7775: 26208, 7776: 26324, 7777: 26325, 7778: 26472, 7779: 26788, 7780: 27741, 7781: 31522, 7782: 32234, 7783: 34552, 7784: 46855, 7785: 53024, 7786: 60382, 7787: 112460, 7788: 61361, 7789: 1475, 7790: 2377, 7791: 626, 7792: 1582, 7793: 3064, 7794: 875, 7795: 3945, 7796: 4241, 7797: 31413, 7798: 61013, 7799: 64321, 7800: 64499, 7801: 64501, 7802: 75983, 7803: 108709, 7804: 121491, 7805: 126430, 7806: 2239, 7807: 746, 7808: 1068, 7809: 1152, 7810: 1153, 7811: 1154, 7812: 2049, 7813: 2056, 7814: 2260, 7815: 2283, 7816: 2631, 7817: 2755, 7818: 2878, 7819: 2937, 7820: 3121, 7821: 3211, 7822: 3292, 7823: 3340, 7824: 3343, 7825: 3377, 7826: 3380, 7827: 3731, 7828: 3833, 7829: 4098, 7830: 4108, 7831: 4123, 7832: 4175, 7833: 4183, 7834: 4185, 7835: 4281, 7836: 4332, 7837: 4392, 7838: 4414, 7839: 4426, 7840: 4428, 7841: 4433, 7842: 4523, 7843: 4555, 7844: 4590, 7845: 4606, 7846: 4659, 7847: 4667, 7848: 4674, 7849: 4684, 7850: 4692, 7851: 4716, 7852: 4831, 7853: 4840, 7854: 4859, 7855: 4927, 7856: 4948, 7857: 4999, 7858: 5004, 7859: 5033, 7860: 5087, 7861: 5088, 7862: 5098, 7863: 5119, 7864: 5199, 7865: 5242, 7866: 5384, 7867: 5450, 7868: 5521, 7869: 5638, 7870: 5641, 7871: 5777, 7872: 5795, 7873: 5936, 7874: 5966, 7875: 6047, 7876: 6051, 7877: 6064, 7878: 6100, 7879: 6105, 7880: 6109, 7881: 6133, 7882: 6230, 7883: 6341, 7884: 6410, 7885: 6528, 7886: 6603, 7887: 6629, 7888: 6671, 7889: 6676, 7890: 6684, 7891: 6728, 7892: 6851, 7893: 6906, 7894: 6964, 7895: 6992, 7896: 7020, 7897: 7023, 7898: 7067, 7899: 7083, 7900: 7111, 7901: 7125, 7902: 7126, 7903: 7130, 7904: 7131, 7905: 7180, 7906: 7182, 7907: 7190, 7908: 7219, 7909: 7222, 7910: 7248, 7911: 7266, 7912: 7354, 7913: 7358, 7914: 7415, 7915: 7571, 7916: 7583, 7917: 7585, 7918: 7613, 7919: 7620, 7920: 7636, 7921: 7815, 7922: 7872, 7923: 7881, 7924: 7883, 7925: 7921, 7926: 7922, 7927: 7935, 7928: 7946, 7929: 7948, 7930: 7958, 7931: 7959, 7932: 7995, 7933: 8003, 7934: 8033, 7935: 8044, 7936: 8056, 7937: 8123, 7938: 8137, 7939: 8261, 7940: 8266, 7941: 8331, 7942: 8388, 7943: 8392, 7944: 8410, 7945: 8420, 7946: 8422, 7947: 8459, 7948: 8462, 7949: 8465, 7950: 8571, 7951: 8572, 7952: 8583, 7953: 8625, 7954: 8650, 7955: 8724, 7956: 8725, 7957: 8727, 7958: 8752, 7959: 8761, 7960: 8763, 7961: 8768, 7962: 8828, 7963: 8851, 7964: 8853, 7965: 8903, 7966: 9012, 7967: 25773, 7968: 25795, 7969: 25828, 7970: 25841, 7971: 25842, 7972: 25856, 7973: 25865, 7974: 25882, 7975: 25886, 7976: 25900, 7977: 25904, 7978: 25906, 7979: 25920, 7980: 25929, 7981: 25930, 7982: 25940, 7983: 25941, 7984: 25945, 7985: 25965, 7986: 25972, 7987: 25996, 7988: 25999, 7989: 26010, 7990: 26013, 7991: 26079, 7992: 26086, 7993: 26093, 7994: 26117, 7995: 26147, 7996: 26157, 7997: 26163, 7998: 26180, 7999: 26199, 8000: 26229, 8001: 26251, 8002: 26271, 8003: 26323, 8004: 26338, 8005: 26346, 8006: 26349, 8007: 26350, 8008: 26371, 8009: 26404, 8010: 26430, 8011: 26435, 8012: 26467, 8013: 26485, 8014: 26487, 8015: 26501, 8016: 26505, 8017: 26581, 8018: 26622, 8019: 26689, 8020: 26694, 8021: 26731, 8022: 26737, 8023: 26775, 8024: 26782, 8025: 26784, 8026: 26797, 8027: 26835, 8028: 26838, 8029: 27802, 8030: 27812, 8031: 31104, 8032: 31109, 8033: 31747, 8034: 31963, 8035: 32022, 8036: 32203, 8037: 32349, 8038: 32943, 8039: 33358, 8040: 33912, 8041: 33917, 8042: 34002, 8043: 34018, 8044: 34359, 8045: 34364, 8046: 34608, 8047: 36152, 8048: 37211, 8049: 37277, 8050: 37855, 8051: 38994, 8052: 39419, 8053: 39779, 8054: 39941, 8055: 40817, 8056: 41714, 8057: 42740, 8058: 43333, 8059: 43351, 8060: 43635, 8061: 43708, 8062: 43910, 8063: 44073, 8064: 44421, 8065: 44759, 8066: 44864, 8067: 44911, 8068: 45179, 8069: 45382, 8070: 45679, 8071: 45942, 8072: 45987, 8073: 46561, 8074: 47092, 8075: 47196, 8076: 47261, 8077: 47330, 8078: 47493, 8079: 47606, 8080: 47894, 8081: 47978, 8082: 48262, 8083: 48268, 8084: 49220, 8085: 49910, 8086: 50245, 8087: 51773, 8088: 52378, 8089: 52913, 8090: 53133, 8091: 53887, 8092: 54220, 8093: 54513, 8094: 55078, 8095: 55156, 8096: 55757, 8097: 55851, 8098: 55895, 8099: 57418, 8100: 57430, 8101: 58365, 8102: 58649, 8103: 58904, 8104: 59180, 8105: 59669, 8106: 60135, 8107: 60343, 8108: 61634, 8109: 63629, 8110: 64229, 8111: 64338, 8112: 64990, 8113: 65418, 8114: 66200, 8115: 66686, 8116: 67429, 8117: 68536, 8118: 68614, 8119: 69559, 8120: 69654, 8121: 69821, 8122: 69908, 8123: 70188, 8124: 70201, 8125: 70418, 8126: 70751, 8127: 71404, 8128: 71804, 8129: 72131, 8130: 72169, 8131: 72367, 8132: 73323, 8133: 73469, 8134: 73854, 8135: 74089, 8136: 74630, 8137: 75990, 8138: 76763, 8139: 77421, 8140: 77808, 8141: 78111, 8142: 78116, 8143: 78653, 8144: 78967, 8145: 80346, 8146: 81641, 8147: 81898, 8148: 82378, 8149: 83332, 8150: 84098, 8151: 84847, 8152: 85016, 8153: 86487, 8154: 86864, 8155: 86982, 8156: 87218, 8157: 87383, 8158: 87598, 8159: 88024, 8160: 88235, 8161: 89203, 8162: 89260, 8163: 89321, 8164: 89408, 8165: 89678, 8166: 89881, 8167: 90057, 8168: 90717, 8169: 91134, 8170: 91286, 8171: 91582, 8172: 91610, 8173: 91890, 8174: 92756, 8175: 93432, 8176: 93700, 8177: 94266, 8178: 94931, 8179: 95583, 8180: 96075, 8181: 96314, 8182: 96565, 8183: 96792, 8184: 96849, 8185: 96901, 8186: 97254, 8187: 97395, 8188: 97639, 8189: 97817, 8190: 97936, 8191: 97994, 8192: 98441, 8193: 98458, 8194: 98473, 8195: 98611, 8196: 98795, 8197: 98803, 8198: 99085, 8199: 99089, 8200: 99220, 8201: 99270, 8202: 99273, 8203: 99276, 8204: 99741, 8205: 99839, 8206: 101088, 8207: 101106, 8208: 101850, 8209: 101904, 8210: 102396, 8211: 102588, 8212: 103107, 8213: 103671, 8214: 104119, 8215: 104321, 8216: 104339, 8217: 104595, 8218: 104597, 8219: 104757, 8220: 105211, 8221: 105731, 8222: 106004, 8223: 106397, 8224: 106452, 8225: 107042, 8226: 107382, 8227: 108076, 8228: 109161, 8229: 109205, 8230: 109740, 8231: 110194, 8232: 110453, 8233: 110752, 8234: 110858, 8235: 111384, 8236: 111795, 8237: 112334, 8238: 112399, 8239: 112450, 8240: 112577, 8241: 112582, 8242: 112653, 8243: 112735, 8244: 112850, 8245: 112921, 8246: 113207, 8247: 113220, 8248: 113938, 8249: 114082, 8250: 114122, 8251: 114464, 8252: 114601, 8253: 115231, 8254: 116012, 8255: 116136, 8256: 117456, 8257: 118898, 8258: 118924, 8259: 118985, 8260: 120821, 8261: 127114, 8262: 127158, 8263: 127164, 8264: 127178, 8265: 128606, 8266: 129364, 8267: 130351, 8268: 132074, 8269: 132496, 8270: 132888, 8271: 133645, 8272: 134025, 8273: 134881, 8274: 135508, 8275: 136018, 8276: 138258, 8277: 140247, 8278: 140816, 8279: 141749, 8280: 142192, 8281: 142258, 8282: 143377, 8283: 143657, 8284: 146682, 8285: 147845, 8286: 148238, 8287: 150856, 8288: 151307, 8289: 156387, 8290: 160656, 8291: 160718, 8292: 161084, 8293: 163949, 8294: 336, 8295: 718, 8296: 118105, 8297: 4521, 8298: 114, 8299: 582, 8300: 2152, 8301: 6624, 8302: 59429, 8303: 80748, 8304: 2998, 8305: 3055, 8306: 3116, 8307: 3855, 8308: 4131, 8309: 4201, 8310: 49013, 8311: 62331, 8312: 88932, 8313: 92210, 8314: 92954, 8315: 106873, 8316: 107314, 8317: 109742, 8318: 110873, 8319: 108, 8320: 131, 8321: 137, 8322: 183, 8323: 189, 8324: 244, 8325: 325, 8326: 447, 8327: 526, 8328: 561, 8329: 565, 8330: 571, 8331: 614, 8332: 621, 8333: 775, 8334: 831, 8335: 980, 8336: 1053, 8337: 1151, 8338: 1168, 8339: 1312, 8340: 1325, 8341: 1329, 8342: 1335, 8343: 1458, 8344: 1465, 8345: 1493, 8346: 1531, 8347: 1543, 8348: 1549, 8349: 1550, 8350: 1640, 8351: 1657, 8352: 1696, 8353: 1715, 8354: 1728, 8355: 1731, 8356: 1771, 8357: 1822, 8358: 1891, 8359: 1980, 8360: 1986, 8361: 1989, 8362: 1990, 8363: 2047, 8364: 2055, 8365: 2189, 8366: 2215, 8367: 2256, 8368: 2295, 8369: 2350, 8370: 2479, 8371: 2515, 8372: 2519, 8373: 2534, 8374: 2586, 8375: 2655, 8376: 2754, 8377: 2766, 8378: 2767, 8379: 2800, 8380: 2850, 8381: 2855, 8382: 2945, 8383: 2982, 8384: 2992, 8385: 3021, 8386: 3041, 8387: 3190, 8388: 3239, 8389: 3281, 8390: 3282, 8391: 3325, 8392: 3331, 8393: 3339, 8394: 3351, 8395: 3402, 8396: 3431, 8397: 3465, 8398: 3491, 8399: 3495, 8400: 3518, 8401: 3587, 8402: 3605, 8403: 3619, 8404: 3659, 8405: 3661, 8406: 3662, 8407: 3663, 8408: 3664, 8409: 3665, 8410: 3692, 8411: 3757, 8412: 3805, 8413: 3820, 8414: 3832, 8415: 3837, 8416: 3838, 8417: 3839, 8418: 3851, 8419: 3923, 8420: 3938, 8421: 3939, 8422: 3940, 8423: 3941, 8424: 3942, 8425: 3960, 8426: 3971, 8427: 5649, 8428: 8977, 8429: 34435, 8430: 132952, 8431: 148, 8432: 1555, 8433: 1928, 8434: 2400, 8435: 3025, 8436: 3487, 8437: 3602, 8438: 3870, 8439: 3985, 8440: 4189, 8441: 4319, 8442: 4324, 8443: 4337, 8444: 4401, 8445: 4411, 8446: 4610, 8447: 4804, 8448: 4854, 8449: 5039, 8450: 5057, 8451: 5063, 8452: 5079, 8453: 5167, 8454: 5227, 8455: 5230, 8456: 5231, 8457: 5232, 8458: 5233, 8459: 5234, 8460: 5301, 8461: 4445, 8462: 4453, 8463: 4981, 8464: 5182, 8465: 7355, 8466: 89388, 8467: 55250, 8468: 91104, 8469: 4101, 8470: 4541, 8471: 5041, 8472: 5042, 8473: 6966, 8474: 6991, 8475: 7192, 8476: 7307, 8477: 7738, 8478: 7892, 8479: 7951, 8480: 8138, 8481: 25995, 8482: 26005, 8483: 26012, 8484: 26317, 8485: 26413, 8486: 26702, 8487: 26886, 8488: 27441, 8489: 32395, 8490: 42946, 8491: 43832, 8492: 46772, 8493: 47810, 8494: 50005, 8495: 51709, 8496: 59935, 8497: 60760, 8498: 61026, 8499: 61210, 8500: 66427, 8501: 68486, 8502: 72224, 8503: 72630, 8504: 73488, 8505: 73741, 8506: 74438, 8507: 1311, 8508: 2191, 8509: 3883, 8510: 4753, 8511: 5117, 8512: 5278, 8513: 5413, 8514: 5864, 8515: 7204, 8516: 7312, 8517: 32153, 8518: 46574, 8519: 54768, 8520: 61465, 8521: 6771, 8522: 27724, 8523: 27871, 8524: 32666, 8525: 36931, 8526: 51927, 8527: 59016, 8528: 74450, 8529: 3349, 8530: 2342, 8531: 2708, 8532: 3976, 8533: 4173, 8534: 6035, 8535: 6056, 8536: 6073, 8537: 6828, 8538: 7208, 8539: 7299, 8540: 8121, 8541: 8143, 8542: 8591, 8543: 8779, 8544: 8954, 8545: 25852, 8546: 26663, 8547: 27768, 8548: 32591, 8549: 38384, 8550: 47728, 8551: 2284, 8552: 1671, 8553: 4640, 8554: 7352, 8555: 8070, 8556: 8713, 8557: 27876, 8558: 33124, 8559: 2661, 8560: 2923, 8561: 5223, 8562: 5466, 8563: 5503, 8564: 5516, 8565: 5517, 8566: 5535, 8567: 5575, 8568: 3454, 8569: 6332, 8570: 7453, 8571: 8642, 8572: 33296, 8573: 47122, 8574: 54734, 8575: 55100, 8576: 59985, 8577: 61250, 8578: 70898, 8579: 77414, 8580: 79588, 8581: 80858, 8582: 80860, 8583: 82152, 8584: 82499, 8585: 86817, 8586: 88179, 8587: 95567, 8588: 111913, 8589: 764, 8590: 1044, 8591: 2032, 8592: 3460, 8593: 3890, 8594: 4001, 8595: 27664, 8596: 73860, 8597: 757, 8598: 865, 8599: 1901, 8600: 2832, 8601: 617, 8602: 1164, 8603: 1450, 8604: 1539, 8605: 1563, 8606: 1571, 8607: 1819, 8608: 2008, 8609: 2063, 8610: 2869, 8611: 3003, 8612: 3047, 8613: 3303, 8614: 3338, 8615: 4026, 8616: 4076, 8617: 4208, 8618: 4399, 8619: 4538, 8620: 4591, 8621: 4592, 8622: 4605, 8623: 4796, 8624: 4930, 8625: 4984, 8626: 5224, 8627: 5236, 8628: 5352, 8629: 5395, 8630: 5427, 8631: 6531, 8632: 98000, 8633: 108514, 8634: 149606, 8635: 162542, 8636: 162672, 8637: 2849, 8638: 4469, 8639: 92008, 8640: 95761, 8641: 104881, 8642: 105954, 8643: 111931, 8644: 54780, 8645: 72294, 8646: 78174, 8647: 84637, 8648: 4104, 8649: 6039, 8650: 7340, 8651: 100553, 8652: 27544, 8653: 2887, 8654: 3031, 8655: 3276, 8656: 3596, 8657: 3933, 8658: 4051, 8659: 4053, 8660: 4156, 8661: 4198, 8662: 4233, 8663: 4268, 8664: 4397, 8665: 4471, 8666: 4477, 8667: 4602, 8668: 4634, 8669: 4812, 8670: 5356, 8671: 5573, 8672: 5582, 8673: 5636, 8674: 5779, 8675: 6143, 8676: 6302, 8677: 6348, 8678: 6349, 8679: 6427, 8680: 6514, 8681: 6798, 8682: 6812, 8683: 6814, 8684: 6862, 8685: 7016, 8686: 7245, 8687: 7258, 8688: 7319, 8689: 7372, 8690: 7895, 8691: 8136, 8692: 8290, 8693: 8447, 8694: 8743, 8695: 26409, 8696: 26464, 8697: 26750, 8698: 31000, 8699: 32291, 8700: 43558, 8701: 49688, 8702: 50064, 8703: 50792, 8704: 52730, 8705: 55294, 8706: 61289, 8707: 66785, 8708: 67361, 8709: 69118, 8710: 70545, 8711: 70984, 8712: 71823, 8713: 72694, 8714: 73386, 8715: 75803, 8716: 75816, 8717: 77191, 8718: 79259, 8719: 79590, 8720: 79946, 8721: 80590, 8722: 81949, 8723: 82093, 8724: 83177, 8725: 84696, 8726: 84950, 8727: 85399, 8728: 86028, 8729: 86593, 8730: 87444, 8731: 87483, 8732: 87785, 8733: 89305, 8734: 89427, 8735: 90343, 8736: 90522, 8737: 90738, 8738: 91126, 8739: 91128, 8740: 91273, 8741: 91323, 8742: 91325, 8743: 91470, 8744: 91688, 8745: 91873, 8746: 91935, 8747: 92048, 8748: 92198, 8749: 92439, 8750: 92665, 8751: 93242, 8752: 93563, 8753: 93980, 8754: 93982, 8755: 94011, 8756: 94323, 8757: 94494, 8758: 94672, 8759: 94919, 8760: 95067, 8761: 95201, 8762: 95508, 8763: 95744, 8764: 96114, 8765: 96530, 8766: 96726, 8767: 97328, 8768: 97470, 8769: 97858, 8770: 97870, 8771: 98160, 8772: 98175, 8773: 98230, 8774: 98279, 8775: 98585, 8776: 98836, 8777: 98908, 8778: 99005, 8779: 99106, 8780: 99415, 8781: 99574, 8782: 99846, 8783: 99992, 8784: 100226, 8785: 100304, 8786: 100326, 8787: 100390, 8788: 101283, 8789: 101360, 8790: 101415, 8791: 101529, 8792: 101884, 8793: 102165, 8794: 102278, 8795: 102378, 8796: 103221, 8797: 103502, 8798: 103543, 8799: 103596, 8800: 103755, 8801: 103819, 8802: 103865, 8803: 104076, 8804: 104078, 8805: 104129, 8806: 104245, 8807: 104760, 8808: 104906, 8809: 105037, 8810: 105121, 8811: 105254, 8812: 105351, 8813: 106542, 8814: 106839, 8815: 106883, 8816: 107702, 8817: 107945, 8818: 108601, 8819: 108715, 8820: 108949, 8821: 109042, 8822: 109191, 8823: 109295, 8824: 109317, 8825: 109372, 8826: 109576, 8827: 109853, 8828: 110297, 8829: 110611, 8830: 110826, 8831: 111663, 8832: 111680, 8833: 112303, 8834: 112497, 8835: 112749, 8836: 113186, 8837: 113225, 8838: 113416, 8839: 113532, 8840: 114762, 8841: 114818, 8842: 114925, 8843: 115151, 8844: 116207, 8845: 116413, 8846: 116419, 8847: 116849, 8848: 116887, 8849: 116985, 8850: 117107, 8851: 117511, 8852: 117590, 8853: 118248, 8854: 118326, 8855: 118354, 8856: 118702, 8857: 118814, 8858: 119068, 8859: 119655, 8860: 120635, 8861: 120783, 8862: 122490, 8863: 122932, 8864: 123947, 8865: 124859, 8866: 125916, 8867: 126420, 8868: 127096, 8869: 127194, 8870: 127204, 8871: 127319, 8872: 128592, 8873: 129250, 8874: 129657, 8875: 129659, 8876: 129737, 8877: 130083, 8878: 130450, 8879: 131714, 8880: 132333, 8881: 132462, 8882: 132488, 8883: 132618, 8884: 133281, 8885: 133365, 8886: 133377, 8887: 133545, 8888: 133782, 8889: 133798, 8890: 134158, 8891: 134859, 8892: 135536, 8893: 136305, 8894: 136654, 8895: 136666, 8896: 136800, 8897: 136816, 8898: 138546, 8899: 139415, 8900: 139642, 8901: 139915, 8902: 140237, 8903: 140725, 8904: 141422, 8905: 142536, 8906: 143255, 8907: 143257, 8908: 143410, 8909: 143472, 8910: 144714, 8911: 145150, 8912: 146688, 8913: 149590, 8914: 149612, 8915: 150401, 8916: 157407, 8917: 160440, 8918: 161830, 8919: 161918, 8920: 69529, 8921: 26462, 8922: 638, 8923: 245, 8924: 4741, 8925: 5818, 8926: 5913, 8927: 6022, 8928: 6091, 8929: 6679, 8930: 6690, 8931: 6884, 8932: 7011, 8933: 7990, 8934: 8273, 8935: 8577, 8936: 26947, 8937: 27416, 8938: 27700, 8939: 27875, 8940: 33750, 8941: 41912, 8942: 48032, 8943: 48593, 8944: 48856, 8945: 49265, 8946: 57845, 8947: 58029, 8948: 61646, 8949: 65259, 8950: 71640, 8951: 73101, 8952: 77810, 8953: 81819, 8954: 92004, 8955: 93693, 8956: 98913, 8957: 99675, 8958: 102995, 8959: 128616, 8960: 140152, 8961: 155611, 8962: 3453, 8963: 3575, 8964: 4342, 8965: 4724, 8966: 5229, 8967: 5264, 8968: 5271, 8969: 6033, 8970: 6295, 8971: 6342, 8972: 6369, 8973: 6762, 8974: 6769, 8975: 7260, 8976: 7625, 8977: 7627, 8978: 8256, 8979: 8453, 8980: 8699, 8981: 26791, 8982: 26843, 8983: 26854, 8984: 27826, 8985: 53138, 8986: 54251, 8987: 59549, 8988: 60086, 8989: 68835, 8990: 69495, 8991: 70762, 8992: 72947, 8993: 79163, 8994: 80584, 8995: 82608, 8996: 84414, 8997: 89870, 8998: 92613, 8999: 92966, 9000: 98933, 9001: 99609, 9002: 99615, 9003: 100017, 9004: 103731, 9005: 106417, 9006: 108551, 9007: 108795, 9008: 109183, 9009: 109359, 9010: 110058, 9011: 110781, 9012: 116855, 9013: 127728, 9014: 129009, 9015: 130522, 9016: 130628, 9017: 130960, 9018: 135264, 9019: 135266, 9020: 135268, 9021: 137403, 9022: 140739, 9023: 140741, 9024: 140743, 9025: 140745, 9026: 140747, 9027: 140749, 9028: 140751, 9029: 140753, 9030: 140755, 9031: 140757, 9032: 140759, 9033: 140761, 9034: 140763, 9035: 140880, 9036: 141124, 9037: 142068, 9038: 142240, 9039: 146443, 9040: 146501, 9041: 146604, 9042: 147037, 9043: 2103, 9044: 8504, 9045: 26819, 9046: 42009, 9047: 143859, 9048: 158314, 9049: 1692, 9050: 3845, 9051: 3909, 9052: 167, 9053: 563, 9054: 127124, 9055: 134246, 9056: 134528, 9057: 134783, 9058: 137595, 9059: 138204, 9060: 60832, 9061: 64997, 9062: 72380, 9063: 129, 9064: 4736, 9065: 6425}\n"
          ]
        }
      ]
    },
    {
      "cell_type": "markdown",
      "metadata": {
        "id": "OneBOv9EY5SQ"
      },
      "source": [
        "### Mapping Data\n",
        "\n",
        "---\n",
        "1.   Mapping userID ke dataframe user\n",
        "2.   Mapping movieId ke dataframe movie\n",
        "\n",
        "---\n",
        "\n",
        "\n"
      ]
    },
    {
      "cell_type": "code",
      "metadata": {
        "id": "ala8BBcARObD"
      },
      "source": [
        "data1['user'] = data1['userId'].map(user_to_user_encoded)\n",
        "data1['movie'] = data1['movieId'].map(movie_to_movie_encoded)"
      ],
      "execution_count": 39,
      "outputs": []
    },
    {
      "cell_type": "markdown",
      "metadata": {
        "id": "ZV0eqsJHZhFI"
      },
      "source": [
        "### Melakukan Verifikasi Data\n",
        "\n",
        "---\n",
        "1.   Mendapatkan jumlah user\n",
        "2.   Mendapatkan jumlah movie\n",
        "3.   Mengubah rating menjadi nilai float\n",
        "4.   Nilai minimum rating\n",
        "5.   Nilai maximum rating\n",
        "---\n",
        "\n",
        "\n",
        "\n",
        "\n"
      ]
    },
    {
      "cell_type": "code",
      "metadata": {
        "colab": {
          "base_uri": "https://localhost:8080/"
        },
        "id": "psUv6_SXSs2w",
        "outputId": "de3f790d-8b37-4a00-f04e-c4d423fe2925"
      },
      "source": [
        "num_users = len(user_to_user_encoded)\n",
        "print(num_users)\n",
        "\n",
        "num_movie = len(movie_encoded_to_movie)\n",
        "print(num_movie)\n",
        " \n",
        "data1['rating'] = data1['rating'].values.astype(np.float32)\n",
        "min_rating = min(data1['rating'])\n",
        "max_rating = max(data1['rating'])\n",
        " \n",
        "print('Number of User: {}, Number of Movie: {}, Min Rating: {}, Max Rating: {}'.format(\n",
        "    num_users, num_movie, min_rating, max_rating\n",
        "))"
      ],
      "execution_count": 40,
      "outputs": [
        {
          "output_type": "stream",
          "name": "stdout",
          "text": [
            "671\n",
            "9066\n",
            "Number of User: 671, Number of Movie: 9066, Min Rating: 0.5, Max Rating: 5.0\n"
          ]
        }
      ]
    },
    {
      "cell_type": "markdown",
      "metadata": {
        "id": "Eb0vJOuGaczJ"
      },
      "source": [
        "### Rendom Distribusi Dataset"
      ]
    },
    {
      "cell_type": "code",
      "metadata": {
        "colab": {
          "base_uri": "https://localhost:8080/",
          "height": 419
        },
        "id": "WwKPXy99S7aC",
        "outputId": "200c828d-43ae-4dd3-f35c-1188d709f5a6"
      },
      "source": [
        "df = data1.sample(frac=1, random_state=42)\n",
        "df"
      ],
      "execution_count": 41,
      "outputs": [
        {
          "output_type": "execute_result",
          "data": {
            "text/html": [
              "<div>\n",
              "<style scoped>\n",
              "    .dataframe tbody tr th:only-of-type {\n",
              "        vertical-align: middle;\n",
              "    }\n",
              "\n",
              "    .dataframe tbody tr th {\n",
              "        vertical-align: top;\n",
              "    }\n",
              "\n",
              "    .dataframe thead th {\n",
              "        text-align: right;\n",
              "    }\n",
              "</style>\n",
              "<table border=\"1\" class=\"dataframe\">\n",
              "  <thead>\n",
              "    <tr style=\"text-align: right;\">\n",
              "      <th></th>\n",
              "      <th>userId</th>\n",
              "      <th>movieId</th>\n",
              "      <th>rating</th>\n",
              "      <th>user</th>\n",
              "      <th>movie</th>\n",
              "    </tr>\n",
              "  </thead>\n",
              "  <tbody>\n",
              "    <tr>\n",
              "      <th>19090</th>\n",
              "      <td>128</td>\n",
              "      <td>1028</td>\n",
              "      <td>5.0</td>\n",
              "      <td>127</td>\n",
              "      <td>165</td>\n",
              "    </tr>\n",
              "    <tr>\n",
              "      <th>99678</th>\n",
              "      <td>665</td>\n",
              "      <td>4736</td>\n",
              "      <td>1.0</td>\n",
              "      <td>664</td>\n",
              "      <td>9064</td>\n",
              "    </tr>\n",
              "    <tr>\n",
              "      <th>18455</th>\n",
              "      <td>120</td>\n",
              "      <td>4002</td>\n",
              "      <td>3.0</td>\n",
              "      <td>119</td>\n",
              "      <td>2763</td>\n",
              "    </tr>\n",
              "    <tr>\n",
              "      <th>35755</th>\n",
              "      <td>257</td>\n",
              "      <td>1274</td>\n",
              "      <td>4.0</td>\n",
              "      <td>256</td>\n",
              "      <td>2190</td>\n",
              "    </tr>\n",
              "    <tr>\n",
              "      <th>66536</th>\n",
              "      <td>468</td>\n",
              "      <td>6440</td>\n",
              "      <td>4.0</td>\n",
              "      <td>467</td>\n",
              "      <td>1333</td>\n",
              "    </tr>\n",
              "    <tr>\n",
              "      <th>...</th>\n",
              "      <td>...</td>\n",
              "      <td>...</td>\n",
              "      <td>...</td>\n",
              "      <td>...</td>\n",
              "      <td>...</td>\n",
              "    </tr>\n",
              "    <tr>\n",
              "      <th>6265</th>\n",
              "      <td>33</td>\n",
              "      <td>3911</td>\n",
              "      <td>5.0</td>\n",
              "      <td>32</td>\n",
              "      <td>1098</td>\n",
              "    </tr>\n",
              "    <tr>\n",
              "      <th>54886</th>\n",
              "      <td>394</td>\n",
              "      <td>377</td>\n",
              "      <td>3.0</td>\n",
              "      <td>393</td>\n",
              "      <td>64</td>\n",
              "    </tr>\n",
              "    <tr>\n",
              "      <th>76820</th>\n",
              "      <td>532</td>\n",
              "      <td>1347</td>\n",
              "      <td>3.5</td>\n",
              "      <td>531</td>\n",
              "      <td>2199</td>\n",
              "    </tr>\n",
              "    <tr>\n",
              "      <th>860</th>\n",
              "      <td>12</td>\n",
              "      <td>3408</td>\n",
              "      <td>4.0</td>\n",
              "      <td>11</td>\n",
              "      <td>346</td>\n",
              "    </tr>\n",
              "    <tr>\n",
              "      <th>15795</th>\n",
              "      <td>102</td>\n",
              "      <td>2455</td>\n",
              "      <td>3.0</td>\n",
              "      <td>101</td>\n",
              "      <td>17</td>\n",
              "    </tr>\n",
              "  </tbody>\n",
              "</table>\n",
              "<p>100004 rows × 5 columns</p>\n",
              "</div>"
            ],
            "text/plain": [
              "       userId  movieId  rating  user  movie\n",
              "19090     128     1028     5.0   127    165\n",
              "99678     665     4736     1.0   664   9064\n",
              "18455     120     4002     3.0   119   2763\n",
              "35755     257     1274     4.0   256   2190\n",
              "66536     468     6440     4.0   467   1333\n",
              "...       ...      ...     ...   ...    ...\n",
              "6265       33     3911     5.0    32   1098\n",
              "54886     394      377     3.0   393     64\n",
              "76820     532     1347     3.5   531   2199\n",
              "860        12     3408     4.0    11    346\n",
              "15795     102     2455     3.0   101     17\n",
              "\n",
              "[100004 rows x 5 columns]"
            ]
          },
          "metadata": {},
          "execution_count": 41
        }
      ]
    },
    {
      "cell_type": "markdown",
      "metadata": {
        "id": "5yPlq_UAam2k"
      },
      "source": [
        "## Split Data Manjadi Training 80% dan Validasi 20%\n",
        "\n",
        "\n",
        "---\n",
        "1.   Membuat variabel x untuk mencocokkan data user dan resto menjadi satu value\n",
        "2.   Membuat variabel y untuk membuat rating dari hasil \n",
        "3.   Membagi menjadi 80% data train dan 20% data validasi\n",
        "\n",
        "\n",
        "---\n",
        "\n",
        "\n",
        "\n",
        "\n"
      ]
    },
    {
      "cell_type": "code",
      "metadata": {
        "colab": {
          "base_uri": "https://localhost:8080/"
        },
        "id": "opu9aIGFTJ-m",
        "outputId": "04a06dbb-9ff0-4380-a5c7-24d4a51d592e"
      },
      "source": [
        "x = df[['user', 'movie']].values\n",
        " \n",
        "y = df['rating'].apply(lambda x: (x - min_rating) / (max_rating - min_rating)).values\n",
        " \n",
        "train_indices = int(0.8 * df.shape[0])\n",
        "x_train, x_val, y_train, y_val = (\n",
        "    x[:train_indices],\n",
        "    x[train_indices:],\n",
        "    y[:train_indices],\n",
        "    y[train_indices:]\n",
        ")\n",
        " \n",
        "print(x, y)"
      ],
      "execution_count": 42,
      "outputs": [
        {
          "output_type": "stream",
          "name": "stdout",
          "text": [
            "[[ 127  165]\n",
            " [ 664 9064]\n",
            " [ 119 2763]\n",
            " ...\n",
            " [ 531 2199]\n",
            " [  11  346]\n",
            " [ 101   17]] [1.         0.11111111 0.55555556 ... 0.66666667 0.77777778 0.55555556]\n"
          ]
        }
      ]
    },
    {
      "cell_type": "markdown",
      "metadata": {
        "id": "EafCHJopbbSx"
      },
      "source": [
        "## **Training**"
      ]
    },
    {
      "cell_type": "markdown",
      "metadata": {
        "id": "PY8FzXrIblAf"
      },
      "source": [
        "### Membuat Fungsi Rekomendasi \n"
      ]
    },
    {
      "cell_type": "code",
      "metadata": {
        "id": "igiLy2gPTSoA"
      },
      "source": [
        "class RecommenderNet(tf.keras.Model):\n",
        " \n",
        "  def __init__(self, num_users, num_movie, embedding_size, **kwargs):\n",
        "    super(RecommenderNet, self).__init__(**kwargs)\n",
        "    self.num_users = num_users\n",
        "    self.num_movie = num_movie\n",
        "    self.embedding_size = embedding_size\n",
        "    self.user_embedding = layers.Embedding( \n",
        "        num_users,\n",
        "        embedding_size,\n",
        "        embeddings_initializer = 'he_normal',\n",
        "        embeddings_regularizer = keras.regularizers.l2(1e-6)\n",
        "    )\n",
        "    self.user_bias = layers.Embedding(num_users, 1) \n",
        "    self.resto_embedding = layers.Embedding( \n",
        "        num_movie,\n",
        "        embedding_size,\n",
        "        embeddings_initializer = 'he_normal',\n",
        "        embeddings_regularizer = keras.regularizers.l2(1e-6)\n",
        "    )\n",
        "    self.resto_bias = layers.Embedding(num_movie, 1) \n",
        " \n",
        "  def call(self, inputs):\n",
        "    user_vector = self.user_embedding(inputs[:,0]) \n",
        "    user_bias = self.user_bias(inputs[:, 0])\n",
        "    resto_vector = self.resto_embedding(inputs[:, 1]) \n",
        "    resto_bias = self.resto_bias(inputs[:, 1]) \n",
        " \n",
        "    dot_user_resto = tf.tensordot(user_vector, resto_vector, 2) \n",
        " \n",
        "    x = dot_user_resto + user_bias + resto_bias\n",
        "    \n",
        "    return tf.nn.sigmoid(x) \n"
      ],
      "execution_count": 43,
      "outputs": []
    },
    {
      "cell_type": "markdown",
      "metadata": {
        "id": "N0D_Io40cDx8"
      },
      "source": [
        "### Compile model Dengan Metode BinaryCrossentropy"
      ]
    },
    {
      "cell_type": "code",
      "metadata": {
        "id": "DcNE0z9DTbQW"
      },
      "source": [
        "model = RecommenderNet(num_users, num_movie, 50) \n",
        " \n",
        "model.compile(\n",
        "    loss = tf.keras.losses.BinaryCrossentropy(),\n",
        "    optimizer = keras.optimizers.Adam(learning_rate=0.001),\n",
        "    metrics=[tf.keras.metrics.RootMeanSquaredError()]\n",
        ")"
      ],
      "execution_count": 44,
      "outputs": []
    },
    {
      "cell_type": "markdown",
      "metadata": {
        "id": "0q5L3U5WcUF3"
      },
      "source": [
        "### Melakukan Training Data"
      ]
    },
    {
      "cell_type": "code",
      "metadata": {
        "colab": {
          "base_uri": "https://localhost:8080/"
        },
        "id": "mwPWPN-DTgQy",
        "outputId": "88259afe-c8ec-4904-9da3-720afebd30ec"
      },
      "source": [
        "history = model.fit(\n",
        "    x = x_train,\n",
        "    y = y_train,\n",
        "    batch_size = 20,\n",
        "    epochs = 100,\n",
        "    validation_data = (x_val, y_val)\n",
        ")"
      ],
      "execution_count": 45,
      "outputs": [
        {
          "output_type": "stream",
          "name": "stdout",
          "text": [
            "Epoch 1/100\n",
            "4001/4001 [==============================] - 29s 7ms/step - loss: 0.6266 - root_mean_squared_error: 0.2328 - val_loss: 0.6101 - val_root_mean_squared_error: 0.2154\n",
            "Epoch 2/100\n",
            "4001/4001 [==============================] - 28s 7ms/step - loss: 0.6027 - root_mean_squared_error: 0.2080 - val_loss: 0.6050 - val_root_mean_squared_error: 0.2100\n",
            "Epoch 3/100\n",
            "4001/4001 [==============================] - 29s 7ms/step - loss: 0.5982 - root_mean_squared_error: 0.2031 - val_loss: 0.6027 - val_root_mean_squared_error: 0.2074\n",
            "Epoch 4/100\n",
            "4001/4001 [==============================] - 28s 7ms/step - loss: 0.5956 - root_mean_squared_error: 0.2001 - val_loss: 0.6013 - val_root_mean_squared_error: 0.2058\n",
            "Epoch 5/100\n",
            "4001/4001 [==============================] - 27s 7ms/step - loss: 0.5939 - root_mean_squared_error: 0.1981 - val_loss: 0.6007 - val_root_mean_squared_error: 0.2051\n",
            "Epoch 6/100\n",
            "4001/4001 [==============================] - 28s 7ms/step - loss: 0.5927 - root_mean_squared_error: 0.1965 - val_loss: 0.6002 - val_root_mean_squared_error: 0.2045\n",
            "Epoch 7/100\n",
            "4001/4001 [==============================] - 28s 7ms/step - loss: 0.5922 - root_mean_squared_error: 0.1959 - val_loss: 0.6003 - val_root_mean_squared_error: 0.2045\n",
            "Epoch 8/100\n",
            "4001/4001 [==============================] - 29s 7ms/step - loss: 0.5908 - root_mean_squared_error: 0.1942 - val_loss: 0.6003 - val_root_mean_squared_error: 0.2044\n",
            "Epoch 9/100\n",
            "4001/4001 [==============================] - 28s 7ms/step - loss: 0.5905 - root_mean_squared_error: 0.1937 - val_loss: 0.6004 - val_root_mean_squared_error: 0.2044\n",
            "Epoch 10/100\n",
            "4001/4001 [==============================] - 28s 7ms/step - loss: 0.5902 - root_mean_squared_error: 0.1934 - val_loss: 0.6003 - val_root_mean_squared_error: 0.2040\n",
            "Epoch 11/100\n",
            "4001/4001 [==============================] - 28s 7ms/step - loss: 0.5897 - root_mean_squared_error: 0.1927 - val_loss: 0.5999 - val_root_mean_squared_error: 0.2036\n",
            "Epoch 12/100\n",
            "4001/4001 [==============================] - 28s 7ms/step - loss: 0.5890 - root_mean_squared_error: 0.1918 - val_loss: 0.6012 - val_root_mean_squared_error: 0.2048\n",
            "Epoch 13/100\n",
            "4001/4001 [==============================] - 27s 7ms/step - loss: 0.5892 - root_mean_squared_error: 0.1921 - val_loss: 0.6015 - val_root_mean_squared_error: 0.2052\n",
            "Epoch 14/100\n",
            "4001/4001 [==============================] - 28s 7ms/step - loss: 0.5887 - root_mean_squared_error: 0.1914 - val_loss: 0.6015 - val_root_mean_squared_error: 0.2051\n",
            "Epoch 15/100\n",
            "4001/4001 [==============================] - 27s 7ms/step - loss: 0.5879 - root_mean_squared_error: 0.1906 - val_loss: 0.6009 - val_root_mean_squared_error: 0.2044\n",
            "Epoch 16/100\n",
            "4001/4001 [==============================] - 28s 7ms/step - loss: 0.5882 - root_mean_squared_error: 0.1908 - val_loss: 0.6010 - val_root_mean_squared_error: 0.2045\n",
            "Epoch 17/100\n",
            "4001/4001 [==============================] - 29s 7ms/step - loss: 0.5878 - root_mean_squared_error: 0.1903 - val_loss: 0.6013 - val_root_mean_squared_error: 0.2046\n",
            "Epoch 18/100\n",
            "4001/4001 [==============================] - 28s 7ms/step - loss: 0.5881 - root_mean_squared_error: 0.1906 - val_loss: 0.6003 - val_root_mean_squared_error: 0.2037\n",
            "Epoch 19/100\n",
            "4001/4001 [==============================] - 27s 7ms/step - loss: 0.5871 - root_mean_squared_error: 0.1895 - val_loss: 0.6004 - val_root_mean_squared_error: 0.2039\n",
            "Epoch 20/100\n",
            "4001/4001 [==============================] - 28s 7ms/step - loss: 0.5865 - root_mean_squared_error: 0.1889 - val_loss: 0.6009 - val_root_mean_squared_error: 0.2042\n",
            "Epoch 21/100\n",
            "4001/4001 [==============================] - 28s 7ms/step - loss: 0.5869 - root_mean_squared_error: 0.1891 - val_loss: 0.6015 - val_root_mean_squared_error: 0.2047\n",
            "Epoch 22/100\n",
            "4001/4001 [==============================] - 28s 7ms/step - loss: 0.5866 - root_mean_squared_error: 0.1889 - val_loss: 0.6012 - val_root_mean_squared_error: 0.2044\n",
            "Epoch 23/100\n",
            "4001/4001 [==============================] - 28s 7ms/step - loss: 0.5866 - root_mean_squared_error: 0.1889 - val_loss: 0.6010 - val_root_mean_squared_error: 0.2042\n",
            "Epoch 24/100\n",
            "4001/4001 [==============================] - 28s 7ms/step - loss: 0.5863 - root_mean_squared_error: 0.1886 - val_loss: 0.6012 - val_root_mean_squared_error: 0.2044\n",
            "Epoch 25/100\n",
            "4001/4001 [==============================] - 27s 7ms/step - loss: 0.5860 - root_mean_squared_error: 0.1882 - val_loss: 0.6013 - val_root_mean_squared_error: 0.2044\n",
            "Epoch 26/100\n",
            "4001/4001 [==============================] - 28s 7ms/step - loss: 0.5860 - root_mean_squared_error: 0.1883 - val_loss: 0.6005 - val_root_mean_squared_error: 0.2036\n",
            "Epoch 27/100\n",
            "4001/4001 [==============================] - 28s 7ms/step - loss: 0.5858 - root_mean_squared_error: 0.1881 - val_loss: 0.6009 - val_root_mean_squared_error: 0.2039\n",
            "Epoch 28/100\n",
            "4001/4001 [==============================] - 27s 7ms/step - loss: 0.5856 - root_mean_squared_error: 0.1877 - val_loss: 0.6003 - val_root_mean_squared_error: 0.2034\n",
            "Epoch 29/100\n",
            "4001/4001 [==============================] - 28s 7ms/step - loss: 0.5855 - root_mean_squared_error: 0.1877 - val_loss: 0.6012 - val_root_mean_squared_error: 0.2043\n",
            "Epoch 30/100\n",
            "4001/4001 [==============================] - 29s 7ms/step - loss: 0.5854 - root_mean_squared_error: 0.1876 - val_loss: 0.6011 - val_root_mean_squared_error: 0.2040\n",
            "Epoch 31/100\n",
            "4001/4001 [==============================] - 27s 7ms/step - loss: 0.5854 - root_mean_squared_error: 0.1875 - val_loss: 0.6010 - val_root_mean_squared_error: 0.2039\n",
            "Epoch 32/100\n",
            "4001/4001 [==============================] - 27s 7ms/step - loss: 0.5851 - root_mean_squared_error: 0.1872 - val_loss: 0.6017 - val_root_mean_squared_error: 0.2045\n",
            "Epoch 33/100\n",
            "4001/4001 [==============================] - 27s 7ms/step - loss: 0.5854 - root_mean_squared_error: 0.1875 - val_loss: 0.6019 - val_root_mean_squared_error: 0.2047\n",
            "Epoch 34/100\n",
            "4001/4001 [==============================] - 27s 7ms/step - loss: 0.5854 - root_mean_squared_error: 0.1874 - val_loss: 0.6017 - val_root_mean_squared_error: 0.2045\n",
            "Epoch 35/100\n",
            "4001/4001 [==============================] - 28s 7ms/step - loss: 0.5854 - root_mean_squared_error: 0.1875 - val_loss: 0.6011 - val_root_mean_squared_error: 0.2038\n",
            "Epoch 36/100\n",
            "4001/4001 [==============================] - 27s 7ms/step - loss: 0.5852 - root_mean_squared_error: 0.1873 - val_loss: 0.6011 - val_root_mean_squared_error: 0.2036\n",
            "Epoch 37/100\n",
            "4001/4001 [==============================] - 27s 7ms/step - loss: 0.5849 - root_mean_squared_error: 0.1871 - val_loss: 0.6012 - val_root_mean_squared_error: 0.2038\n",
            "Epoch 38/100\n",
            "4001/4001 [==============================] - 28s 7ms/step - loss: 0.5845 - root_mean_squared_error: 0.1866 - val_loss: 0.6011 - val_root_mean_squared_error: 0.2037\n",
            "Epoch 39/100\n",
            "4001/4001 [==============================] - 28s 7ms/step - loss: 0.5849 - root_mean_squared_error: 0.1869 - val_loss: 0.6013 - val_root_mean_squared_error: 0.2040\n",
            "Epoch 40/100\n",
            "4001/4001 [==============================] - 27s 7ms/step - loss: 0.5852 - root_mean_squared_error: 0.1874 - val_loss: 0.6018 - val_root_mean_squared_error: 0.2043\n",
            "Epoch 41/100\n",
            "4001/4001 [==============================] - 28s 7ms/step - loss: 0.5851 - root_mean_squared_error: 0.1871 - val_loss: 0.6018 - val_root_mean_squared_error: 0.2045\n",
            "Epoch 42/100\n",
            "4001/4001 [==============================] - 28s 7ms/step - loss: 0.5847 - root_mean_squared_error: 0.1867 - val_loss: 0.6022 - val_root_mean_squared_error: 0.2048\n",
            "Epoch 43/100\n",
            "4001/4001 [==============================] - 28s 7ms/step - loss: 0.5846 - root_mean_squared_error: 0.1866 - val_loss: 0.6021 - val_root_mean_squared_error: 0.2046\n",
            "Epoch 44/100\n",
            "4001/4001 [==============================] - 27s 7ms/step - loss: 0.5849 - root_mean_squared_error: 0.1870 - val_loss: 0.6022 - val_root_mean_squared_error: 0.2046\n",
            "Epoch 45/100\n",
            "4001/4001 [==============================] - 28s 7ms/step - loss: 0.5847 - root_mean_squared_error: 0.1868 - val_loss: 0.6023 - val_root_mean_squared_error: 0.2046\n",
            "Epoch 46/100\n",
            "4001/4001 [==============================] - 28s 7ms/step - loss: 0.5848 - root_mean_squared_error: 0.1869 - val_loss: 0.6029 - val_root_mean_squared_error: 0.2052\n",
            "Epoch 47/100\n",
            "4001/4001 [==============================] - 28s 7ms/step - loss: 0.5846 - root_mean_squared_error: 0.1868 - val_loss: 0.6031 - val_root_mean_squared_error: 0.2054\n",
            "Epoch 48/100\n",
            "4001/4001 [==============================] - 28s 7ms/step - loss: 0.5844 - root_mean_squared_error: 0.1864 - val_loss: 0.6028 - val_root_mean_squared_error: 0.2051\n",
            "Epoch 49/100\n",
            "4001/4001 [==============================] - 27s 7ms/step - loss: 0.5853 - root_mean_squared_error: 0.1875 - val_loss: 0.6024 - val_root_mean_squared_error: 0.2047\n",
            "Epoch 50/100\n",
            "4001/4001 [==============================] - 28s 7ms/step - loss: 0.5844 - root_mean_squared_error: 0.1864 - val_loss: 0.6025 - val_root_mean_squared_error: 0.2049\n",
            "Epoch 51/100\n",
            "4001/4001 [==============================] - 28s 7ms/step - loss: 0.5840 - root_mean_squared_error: 0.1862 - val_loss: 0.6028 - val_root_mean_squared_error: 0.2050\n",
            "Epoch 52/100\n",
            "4001/4001 [==============================] - 28s 7ms/step - loss: 0.5846 - root_mean_squared_error: 0.1866 - val_loss: 0.6027 - val_root_mean_squared_error: 0.2050\n",
            "Epoch 53/100\n",
            "4001/4001 [==============================] - 28s 7ms/step - loss: 0.5844 - root_mean_squared_error: 0.1865 - val_loss: 0.6038 - val_root_mean_squared_error: 0.2057\n",
            "Epoch 54/100\n",
            "4001/4001 [==============================] - 28s 7ms/step - loss: 0.5842 - root_mean_squared_error: 0.1861 - val_loss: 0.6034 - val_root_mean_squared_error: 0.2055\n",
            "Epoch 55/100\n",
            "4001/4001 [==============================] - 28s 7ms/step - loss: 0.5843 - root_mean_squared_error: 0.1866 - val_loss: 0.6027 - val_root_mean_squared_error: 0.2048\n",
            "Epoch 56/100\n",
            "4001/4001 [==============================] - 28s 7ms/step - loss: 0.5844 - root_mean_squared_error: 0.1865 - val_loss: 0.6029 - val_root_mean_squared_error: 0.2048\n",
            "Epoch 57/100\n",
            "4001/4001 [==============================] - 28s 7ms/step - loss: 0.5843 - root_mean_squared_error: 0.1864 - val_loss: 0.6030 - val_root_mean_squared_error: 0.2051\n",
            "Epoch 58/100\n",
            "4001/4001 [==============================] - 27s 7ms/step - loss: 0.5839 - root_mean_squared_error: 0.1860 - val_loss: 0.6038 - val_root_mean_squared_error: 0.2058\n",
            "Epoch 59/100\n",
            "4001/4001 [==============================] - 27s 7ms/step - loss: 0.5844 - root_mean_squared_error: 0.1866 - val_loss: 0.6043 - val_root_mean_squared_error: 0.2061\n",
            "Epoch 60/100\n",
            "4001/4001 [==============================] - 27s 7ms/step - loss: 0.5847 - root_mean_squared_error: 0.1868 - val_loss: 0.6042 - val_root_mean_squared_error: 0.2060\n",
            "Epoch 61/100\n",
            "4001/4001 [==============================] - 27s 7ms/step - loss: 0.5840 - root_mean_squared_error: 0.1861 - val_loss: 0.6040 - val_root_mean_squared_error: 0.2058\n",
            "Epoch 62/100\n",
            "4001/4001 [==============================] - 27s 7ms/step - loss: 0.5845 - root_mean_squared_error: 0.1866 - val_loss: 0.6042 - val_root_mean_squared_error: 0.2059\n",
            "Epoch 63/100\n",
            "4001/4001 [==============================] - 28s 7ms/step - loss: 0.5837 - root_mean_squared_error: 0.1859 - val_loss: 0.6043 - val_root_mean_squared_error: 0.2061\n",
            "Epoch 64/100\n",
            "4001/4001 [==============================] - 27s 7ms/step - loss: 0.5842 - root_mean_squared_error: 0.1862 - val_loss: 0.6041 - val_root_mean_squared_error: 0.2060\n",
            "Epoch 65/100\n",
            "4001/4001 [==============================] - 27s 7ms/step - loss: 0.5844 - root_mean_squared_error: 0.1867 - val_loss: 0.6041 - val_root_mean_squared_error: 0.2059\n",
            "Epoch 66/100\n",
            "4001/4001 [==============================] - 28s 7ms/step - loss: 0.5840 - root_mean_squared_error: 0.1862 - val_loss: 0.6044 - val_root_mean_squared_error: 0.2062\n",
            "Epoch 67/100\n",
            "4001/4001 [==============================] - 27s 7ms/step - loss: 0.5840 - root_mean_squared_error: 0.1860 - val_loss: 0.6040 - val_root_mean_squared_error: 0.2059\n",
            "Epoch 68/100\n",
            "4001/4001 [==============================] - 27s 7ms/step - loss: 0.5843 - root_mean_squared_error: 0.1865 - val_loss: 0.6034 - val_root_mean_squared_error: 0.2054\n",
            "Epoch 69/100\n",
            "4001/4001 [==============================] - 28s 7ms/step - loss: 0.5839 - root_mean_squared_error: 0.1862 - val_loss: 0.6037 - val_root_mean_squared_error: 0.2055\n",
            "Epoch 70/100\n",
            "4001/4001 [==============================] - 28s 7ms/step - loss: 0.5839 - root_mean_squared_error: 0.1860 - val_loss: 0.6033 - val_root_mean_squared_error: 0.2052\n",
            "Epoch 71/100\n",
            "4001/4001 [==============================] - 28s 7ms/step - loss: 0.5841 - root_mean_squared_error: 0.1864 - val_loss: 0.6039 - val_root_mean_squared_error: 0.2056\n",
            "Epoch 72/100\n",
            "4001/4001 [==============================] - 28s 7ms/step - loss: 0.5843 - root_mean_squared_error: 0.1865 - val_loss: 0.6035 - val_root_mean_squared_error: 0.2053\n",
            "Epoch 73/100\n",
            "4001/4001 [==============================] - 27s 7ms/step - loss: 0.5839 - root_mean_squared_error: 0.1862 - val_loss: 0.6038 - val_root_mean_squared_error: 0.2055\n",
            "Epoch 74/100\n",
            "4001/4001 [==============================] - 28s 7ms/step - loss: 0.5836 - root_mean_squared_error: 0.1857 - val_loss: 0.6039 - val_root_mean_squared_error: 0.2057\n",
            "Epoch 75/100\n",
            "4001/4001 [==============================] - 27s 7ms/step - loss: 0.5838 - root_mean_squared_error: 0.1859 - val_loss: 0.6043 - val_root_mean_squared_error: 0.2062\n",
            "Epoch 76/100\n",
            "4001/4001 [==============================] - 28s 7ms/step - loss: 0.5837 - root_mean_squared_error: 0.1858 - val_loss: 0.6038 - val_root_mean_squared_error: 0.2056\n",
            "Epoch 77/100\n",
            "4001/4001 [==============================] - 29s 7ms/step - loss: 0.5844 - root_mean_squared_error: 0.1866 - val_loss: 0.6043 - val_root_mean_squared_error: 0.2061\n",
            "Epoch 78/100\n",
            "4001/4001 [==============================] - 29s 7ms/step - loss: 0.5841 - root_mean_squared_error: 0.1863 - val_loss: 0.6042 - val_root_mean_squared_error: 0.2058\n",
            "Epoch 79/100\n",
            "4001/4001 [==============================] - 28s 7ms/step - loss: 0.5841 - root_mean_squared_error: 0.1863 - val_loss: 0.6043 - val_root_mean_squared_error: 0.2058\n",
            "Epoch 80/100\n",
            "4001/4001 [==============================] - 29s 7ms/step - loss: 0.5841 - root_mean_squared_error: 0.1863 - val_loss: 0.6045 - val_root_mean_squared_error: 0.2060\n",
            "Epoch 81/100\n",
            "4001/4001 [==============================] - 28s 7ms/step - loss: 0.5841 - root_mean_squared_error: 0.1863 - val_loss: 0.6045 - val_root_mean_squared_error: 0.2059\n",
            "Epoch 82/100\n",
            "4001/4001 [==============================] - 28s 7ms/step - loss: 0.5843 - root_mean_squared_error: 0.1865 - val_loss: 0.6055 - val_root_mean_squared_error: 0.2068\n",
            "Epoch 83/100\n",
            "4001/4001 [==============================] - 29s 7ms/step - loss: 0.5836 - root_mean_squared_error: 0.1858 - val_loss: 0.6050 - val_root_mean_squared_error: 0.2064\n",
            "Epoch 84/100\n",
            "4001/4001 [==============================] - 28s 7ms/step - loss: 0.5840 - root_mean_squared_error: 0.1862 - val_loss: 0.6052 - val_root_mean_squared_error: 0.2066\n",
            "Epoch 85/100\n",
            "4001/4001 [==============================] - 28s 7ms/step - loss: 0.5839 - root_mean_squared_error: 0.1862 - val_loss: 0.6050 - val_root_mean_squared_error: 0.2064\n",
            "Epoch 86/100\n",
            "4001/4001 [==============================] - 30s 8ms/step - loss: 0.5844 - root_mean_squared_error: 0.1866 - val_loss: 0.6048 - val_root_mean_squared_error: 0.2062\n",
            "Epoch 87/100\n",
            "4001/4001 [==============================] - 28s 7ms/step - loss: 0.5837 - root_mean_squared_error: 0.1859 - val_loss: 0.6049 - val_root_mean_squared_error: 0.2062\n",
            "Epoch 88/100\n",
            "4001/4001 [==============================] - 28s 7ms/step - loss: 0.5838 - root_mean_squared_error: 0.1860 - val_loss: 0.6049 - val_root_mean_squared_error: 0.2062\n",
            "Epoch 89/100\n",
            "4001/4001 [==============================] - 29s 7ms/step - loss: 0.5836 - root_mean_squared_error: 0.1858 - val_loss: 0.6052 - val_root_mean_squared_error: 0.2064\n",
            "Epoch 90/100\n",
            "4001/4001 [==============================] - 28s 7ms/step - loss: 0.5837 - root_mean_squared_error: 0.1860 - val_loss: 0.6046 - val_root_mean_squared_error: 0.2060\n",
            "Epoch 91/100\n",
            "4001/4001 [==============================] - 27s 7ms/step - loss: 0.5844 - root_mean_squared_error: 0.1866 - val_loss: 0.6052 - val_root_mean_squared_error: 0.2066\n",
            "Epoch 92/100\n",
            "4001/4001 [==============================] - 29s 7ms/step - loss: 0.5839 - root_mean_squared_error: 0.1860 - val_loss: 0.6052 - val_root_mean_squared_error: 0.2065\n",
            "Epoch 93/100\n",
            "4001/4001 [==============================] - 28s 7ms/step - loss: 0.5839 - root_mean_squared_error: 0.1861 - val_loss: 0.6055 - val_root_mean_squared_error: 0.2066\n",
            "Epoch 94/100\n",
            "4001/4001 [==============================] - 29s 7ms/step - loss: 0.5837 - root_mean_squared_error: 0.1860 - val_loss: 0.6056 - val_root_mean_squared_error: 0.2067\n",
            "Epoch 95/100\n",
            "4001/4001 [==============================] - 29s 7ms/step - loss: 0.5842 - root_mean_squared_error: 0.1864 - val_loss: 0.6058 - val_root_mean_squared_error: 0.2069\n",
            "Epoch 96/100\n",
            "4001/4001 [==============================] - 28s 7ms/step - loss: 0.5842 - root_mean_squared_error: 0.1863 - val_loss: 0.6056 - val_root_mean_squared_error: 0.2068\n",
            "Epoch 97/100\n",
            "4001/4001 [==============================] - 28s 7ms/step - loss: 0.5840 - root_mean_squared_error: 0.1863 - val_loss: 0.6054 - val_root_mean_squared_error: 0.2064\n",
            "Epoch 98/100\n",
            "4001/4001 [==============================] - 28s 7ms/step - loss: 0.5841 - root_mean_squared_error: 0.1862 - val_loss: 0.6053 - val_root_mean_squared_error: 0.2063\n",
            "Epoch 99/100\n",
            "4001/4001 [==============================] - 29s 7ms/step - loss: 0.5839 - root_mean_squared_error: 0.1860 - val_loss: 0.6061 - val_root_mean_squared_error: 0.2071\n",
            "Epoch 100/100\n",
            "4001/4001 [==============================] - 29s 7ms/step - loss: 0.5838 - root_mean_squared_error: 0.1860 - val_loss: 0.6058 - val_root_mean_squared_error: 0.2067\n"
          ]
        }
      ]
    },
    {
      "cell_type": "markdown",
      "metadata": {
        "id": "BijlG5GQcfYr"
      },
      "source": [
        "## Visualisasi Data Training Model"
      ]
    },
    {
      "cell_type": "code",
      "metadata": {
        "colab": {
          "base_uri": "https://localhost:8080/",
          "height": 295
        },
        "id": "zGeJoC_UgoBa",
        "outputId": "5690ad73-260d-484d-b7fb-ee704d2683c0"
      },
      "source": [
        "plt.plot(history.history['root_mean_squared_error'])\n",
        "plt.plot(history.history['val_root_mean_squared_error'])\n",
        "plt.title('model_metrics')\n",
        "plt.ylabel('root_mean_squared_error')\n",
        "plt.xlabel('epoch')\n",
        "plt.legend(['train', 'test'], loc='upper left')\n",
        "plt.show()"
      ],
      "execution_count": 46,
      "outputs": [
        {
          "output_type": "display_data",
          "data": {
            "image/png": "[encoded data removed]",
            "text/plain": [
              "<Figure size 432x288 with 1 Axes>"
            ]
          },
          "metadata": {
            "needs_background": "light"
          }
        }
      ]
    },
    {
      "cell_type": "markdown",
      "metadata": {
        "id": "iDABDG1A781i"
      },
      "source": [
        "## **Proses Rekomendasi**"
      ]
    },
    {
      "cell_type": "markdown",
      "metadata": {
        "id": "5pOWSWWWcu5V"
      },
      "source": [
        "### Membuat sistem rekomendasi "
      ]
    },
    {
      "cell_type": "code",
      "metadata": {
        "id": "8ZDvVMKZx4aK"
      },
      "source": [
        "movie_df = new_movie\n",
        "df = preparation\n",
        " \n",
        "# Mengambil sample user\n",
        "user_id = df.userId.sample(1).iloc[0]\n",
        "movie_visited_by_user = df[df.userId == user_id]\n",
        " \n",
        "# Operator bitwise (~), bisa diketahui di sini https://docs.python.org/3/reference/expressions.html \n",
        "movie_not_visited = movie_df[~movie_df['id'].isin(movie_visited_by_user.movieId.values)]['id'] \n",
        "movie_not_visited = list(\n",
        "    set(movie_not_visited)\n",
        "    .intersection(set(movie_to_movie_encoded.keys()))\n",
        ")\n",
        " \n",
        "movie_not_visited = [[movie_to_movie_encoded.get(x)] for x in movie_not_visited]\n",
        "user_encoder = user_to_user_encoded.get(user_id)\n",
        "user_movie_array = np.hstack(\n",
        "    ([[user_encoder]] * len(movie_not_visited), movie_not_visited)\n",
        ")\n"
      ],
      "execution_count": 47,
      "outputs": []
    },
    {
      "cell_type": "markdown",
      "metadata": {
        "id": "-us_q_o2dHCT"
      },
      "source": [
        "### Menerapkan Sistem Rekomendasi"
      ]
    },
    {
      "cell_type": "code",
      "metadata": {
        "colab": {
          "base_uri": "https://localhost:8080/"
        },
        "id": "M8up5HtlyWRs",
        "outputId": "f64a6684-4b98-4bec-84c7-64d83db3e389"
      },
      "source": [
        "ratings = model.predict(user_movie_array).flatten()\n",
        " \n",
        "top_ratings_indices = ratings.argsort()[-10:][::-1]\n",
        "recommended_movie_ids = [\n",
        "    movie_encoded_to_movie.get(movie_not_visited[x][0]) for x in top_ratings_indices\n",
        "]\n",
        " \n",
        "print('Showing recommendations for users: {}'.format(user_id))\n",
        "print('----' * 8)\n",
        "print('movie with high ratings from user')\n",
        "print('----' * 8)\n",
        " \n",
        "top_movie_user = (\n",
        "    movie_visited_by_user.sort_values(\n",
        "        by = 'rating',\n",
        "        ascending=False\n",
        "    )\n",
        "    .head(5)\n",
        "    .movieId.values\n",
        ")\n",
        " \n",
        "movie_df_rows = movie_df[movie_df['id'].isin(top_movie_user)]\n",
        "for row in movie_df_rows.itertuples():\n",
        "    print(\"==================================\")\n",
        "    print(\"Movie Recomendation : \", row.title)\n",
        "    print(\"Genre : \", row.genres)\n",
        "    print('==================================')\n",
        " \n",
        "print('----'* 8)\n",
        "print('Top 10 movie recommendation')\n",
        "print('----' * 8)\n",
        " \n",
        "recommended_movie = movie_df[movie_df['id'].isin(recommended_movie_ids)]\n",
        "for row in recommended_movie.itertuples():\n",
        "    print(\"==================================\")\n",
        "    print(\"Movie Recomendation : \", row.title)\n",
        "    print(\"Genre : \", row.genres)\n",
        "    print('==================================')"
      ],
      "execution_count": 48,
      "outputs": [
        {
          "output_type": "stream",
          "name": "stdout",
          "text": [
            "Showing recommendations for users: 7\n",
            "--------------------------------\n",
            "movie with high ratings from user\n",
            "--------------------------------\n",
            "==================================\n",
            "Movie Recomendation :  Super Mario Bros.\n",
            "Genre :  ['Adventure', 'Comedy', 'Family', 'Fantasy']\n",
            "==================================\n",
            "==================================\n",
            "Movie Recomendation :  Paris, France\n",
            "Genre :  ['Drama', 'Comedy']\n",
            "==================================\n",
            "==================================\n",
            "Movie Recomendation :  Cronos\n",
            "Genre :  ['Drama', 'Horror', 'Thriller']\n",
            "==================================\n",
            "==================================\n",
            "Movie Recomendation :  Little Big League\n",
            "Genre :  ['Comedy', 'Family']\n",
            "==================================\n",
            "==================================\n",
            "Movie Recomendation :  Wide Eyed and Legless\n",
            "Genre :  ['TV Movie', 'Drama', 'Romance', 'Comedy']\n",
            "==================================\n",
            "--------------------------------\n",
            "Top 10 movie recommendation\n",
            "--------------------------------\n",
            "==================================\n",
            "Movie Recomendation :  Stonewall\n",
            "Genre :  ['Romance', 'Drama', 'Comedy']\n",
            "==================================\n",
            "==================================\n",
            "Movie Recomendation :  Michael\n",
            "Genre :  ['Comedy', 'Drama', 'Fantasy']\n",
            "==================================\n",
            "==================================\n",
            "Movie Recomendation :  Pennies from Heaven\n",
            "Genre :  ['Drama', 'Music', 'Romance']\n",
            "==================================\n",
            "==================================\n",
            "Movie Recomendation :  Shades of Ray\n",
            "Genre :  ['Comedy', 'Romance']\n",
            "==================================\n",
            "==================================\n",
            "Movie Recomendation :  Smashing Pumpkins: If All Goes Wrong\n",
            "Genre :  ['Documentary', 'Music']\n",
            "==================================\n",
            "==================================\n",
            "Movie Recomendation :  Nothing to Declare\n",
            "Genre :  ['Comedy']\n",
            "==================================\n",
            "==================================\n",
            "Movie Recomendation :  Central Airport\n",
            "Genre :  ['Drama']\n",
            "==================================\n",
            "==================================\n",
            "Movie Recomendation :  Thani Oruvan\n",
            "Genre :  ['Romance', 'Thriller', 'Action']\n",
            "==================================\n",
            "==================================\n",
            "Movie Recomendation :  The Legend of Ben Hall\n",
            "Genre :  ['Action', 'Drama', 'History', 'Western']\n",
            "==================================\n",
            "==================================\n",
            "Movie Recomendation :  The Model Solution\n",
            "Genre :  ['Drama']\n",
            "==================================\n"
          ]
        }
      ]
    },
    {
      "cell_type": "markdown",
      "metadata": {
        "id": "2iJepxc8oovk"
      },
      "source": [
        "### Menampilkan history rating terbaik yang diberikan user"
      ]
    },
    {
      "cell_type": "code",
      "metadata": {
        "colab": {
          "base_uri": "https://localhost:8080/",
          "height": 173
        },
        "id": "Am3rZTP1RAkm",
        "outputId": "ef6f7d93-a48f-4bc1-c75f-396a50039237"
      },
      "source": [
        "preparation[(preparation[\"userId\"] == 7) & (preparation[\"rating\"] == 5.0)]"
      ],
      "execution_count": 50,
      "outputs": [
        {
          "output_type": "execute_result",
          "data": {
            "text/html": [
              "<div>\n",
              "<style scoped>\n",
              "    .dataframe tbody tr th:only-of-type {\n",
              "        vertical-align: middle;\n",
              "    }\n",
              "\n",
              "    .dataframe tbody tr th {\n",
              "        vertical-align: top;\n",
              "    }\n",
              "\n",
              "    .dataframe thead th {\n",
              "        text-align: right;\n",
              "    }\n",
              "</style>\n",
              "<table border=\"1\" class=\"dataframe\">\n",
              "  <thead>\n",
              "    <tr style=\"text-align: right;\">\n",
              "      <th></th>\n",
              "      <th>userId</th>\n",
              "      <th>movieId</th>\n",
              "      <th>rating</th>\n",
              "      <th>title</th>\n",
              "      <th>genres</th>\n",
              "    </tr>\n",
              "  </thead>\n",
              "  <tbody>\n",
              "    <tr>\n",
              "      <th>541</th>\n",
              "      <td>7</td>\n",
              "      <td>745</td>\n",
              "      <td>5.0</td>\n",
              "      <td>Super Mario Bros.</td>\n",
              "      <td>[Adventure, Comedy, Family, Fantasy]</td>\n",
              "    </tr>\n",
              "    <tr>\n",
              "      <th>553</th>\n",
              "      <td>7</td>\n",
              "      <td>1148</td>\n",
              "      <td>5.0</td>\n",
              "      <td>Paris, France</td>\n",
              "      <td>[Drama, Comedy]</td>\n",
              "    </tr>\n",
              "    <tr>\n",
              "      <th>559</th>\n",
              "      <td>7</td>\n",
              "      <td>1223</td>\n",
              "      <td>5.0</td>\n",
              "      <td>Cronos</td>\n",
              "      <td>[Drama, Horror, Thriller]</td>\n",
              "    </tr>\n",
              "    <tr>\n",
              "      <th>563</th>\n",
              "      <td>7</td>\n",
              "      <td>1242</td>\n",
              "      <td>5.0</td>\n",
              "      <td>Little Big League</td>\n",
              "      <td>[Comedy, Family]</td>\n",
              "    </tr>\n",
              "  </tbody>\n",
              "</table>\n",
              "</div>"
            ],
            "text/plain": [
              "     userId  movieId  ...              title                                genres\n",
              "541       7      745  ...  Super Mario Bros.  [Adventure, Comedy, Family, Fantasy]\n",
              "553       7     1148  ...      Paris, France                       [Drama, Comedy]\n",
              "559       7     1223  ...             Cronos             [Drama, Horror, Thriller]\n",
              "563       7     1242  ...  Little Big League                      [Comedy, Family]\n",
              "\n",
              "[4 rows x 5 columns]"
            ]
          },
          "metadata": {},
          "execution_count": 50
        }
      ]
    }
  ]
}